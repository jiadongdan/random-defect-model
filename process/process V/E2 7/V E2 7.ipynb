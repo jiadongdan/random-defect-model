{
 "cells": [
  {
   "cell_type": "code",
   "execution_count": 1,
   "id": "2ecdd696-4a02-4c09-b046-9bcec86c4d76",
   "metadata": {},
   "outputs": [],
   "source": [
    "%matplotlib qt\n",
    "import numpy as np\n",
    "import matplotlib.pyplot as plt\n",
    "\n",
    "import sys\n",
    "sys.path.append('D:\\\\Dropbox\\\\stempy')\n",
    "sys.path.append('D:\\\\Dropbox\\\\stemplot')\n",
    "    \n",
    "from stemplot import *\n",
    "\n",
    "from stempy.io import *\n",
    "from stempy.clustering import *\n",
    "from stempy.plot import *\n",
    "from stempy.denoise import *\n",
    "from stempy.utils import *\n",
    "from stempy.feature import *\n",
    "from stempy.spatial import *\n",
    "from stempy.manifold import *"
   ]
  },
  {
   "cell_type": "code",
   "execution_count": 2,
   "id": "ba524fdf-a596-4248-aed8-227f3af6200d",
   "metadata": {},
   "outputs": [],
   "source": [
    "dp = r'D:\\Dropbox\\data\\Leyi\\Dopant Valency Project\\VWSe2_total 10 datasets\\VWSe2\\VWSe2_20210930_E2'+'\\\\'\n",
    "\n",
    "# must change this\n",
    "num = 7\n",
    "\n",
    "file_name1 = dp + 'ADF1_{}.dm4'.format(num)\n",
    "file_name2 = dp + 'ADF2_{}.dm4'.format(num)\n",
    "\n",
    "\n",
    "# load image and normalize\n",
    "img1 = load_image(file_name1)\n",
    "img1 = normalize_image(img1, 0, 1)\n",
    "\n",
    "img2 = load_image(file_name2)\n",
    "img2 = normalize_image(img2, 0, 1)"
   ]
  },
  {
   "cell_type": "code",
   "execution_count": 3,
   "id": "74a63482-cdcc-4af3-b398-15d9148ffd09",
   "metadata": {},
   "outputs": [],
   "source": [
    "img1 = remove_bg(img1, 7)\n",
    "img2 = remove_bg(img2, 7)\n",
    "\n",
    "img1 = normalize_image(img1, 0, 1)\n",
    "img2 = normalize_image(img2, 0, 1)\n",
    "plot_compare([img1, img2])"
   ]
  },
  {
   "cell_type": "code",
   "execution_count": null,
   "id": "00eca0fe-8e56-406f-9a46-94d744e2fda3",
   "metadata": {},
   "outputs": [],
   "source": []
  },
  {
   "cell_type": "code",
   "execution_count": null,
   "id": "b0c70852-40b9-4e00-b8e0-ba6b18c05f3a",
   "metadata": {},
   "outputs": [],
   "source": []
  },
  {
   "cell_type": "code",
   "execution_count": 4,
   "id": "695b290a-c461-4234-a385-bb26e02e4a6d",
   "metadata": {},
   "outputs": [
    {
     "data": {
      "text/plain": [
       "(16, 16)"
      ]
     },
     "execution_count": 4,
     "metadata": {},
     "output_type": "execute_result"
    }
   ],
   "source": [
    "get_window_size(img1), get_window_size(img2)"
   ]
  },
  {
   "cell_type": "markdown",
   "id": "4395e38d-f694-4006-b814-7e03b7e66e61",
   "metadata": {},
   "source": [
    "## denoising"
   ]
  },
  {
   "cell_type": "code",
   "execution_count": 5,
   "id": "bb7196f3-7aa0-47ea-a732-de541f684262",
   "metadata": {},
   "outputs": [
    {
     "name": "stdout",
     "output_type": "stream",
     "text": [
      "Extracting reference patches...\n",
      "done in 0.74s.\n",
      "Singular value decomposition...\n",
      "done in 9.20s.\n",
      "Reconstructing...\n",
      "done in 4.41s.\n"
     ]
    }
   ],
   "source": [
    "n_components = 32\n",
    "patch_size = 32\n",
    "extraction_step = 2\n",
    "imgf = denoise_svd(img2, n_components, patch_size, extraction_step) "
   ]
  },
  {
   "cell_type": "code",
   "execution_count": 6,
   "id": "e6f133cf-ac68-4553-bb5f-eb212e36f479",
   "metadata": {},
   "outputs": [
    {
     "data": {
      "text/plain": [
       "<matplotlib.image.AxesImage at 0x1fda745fb50>"
      ]
     },
     "execution_count": 6,
     "metadata": {},
     "output_type": "execute_result"
    }
   ],
   "source": [
    "imshow(imgf)"
   ]
  },
  {
   "cell_type": "code",
   "execution_count": 7,
   "id": "cbedaca3-ee25-459d-99ef-f3feffdc39ea",
   "metadata": {},
   "outputs": [],
   "source": [
    "threshold = 0.2\n",
    "pts = local_max(imgf, min_distance=2, threshold=threshold)"
   ]
  },
  {
   "cell_type": "code",
   "execution_count": 8,
   "id": "a89aad43-bd3b-41db-a0d4-e76bf3e3da79",
   "metadata": {},
   "outputs": [],
   "source": [
    "size = 33\n",
    "kp1 = KeyPoints(pts, img1, size)\n",
    "ps1 = kp1.extract_patches(size) \n",
    "\n",
    "kp2 = KeyPoints(pts, img2, size)\n",
    "ps2 = kp2.extract_patches(size) "
   ]
  },
  {
   "cell_type": "code",
   "execution_count": 9,
   "id": "2f05522c-04de-489d-8728-a42bb8f60ffc",
   "metadata": {},
   "outputs": [
    {
     "data": {
      "text/plain": [
       "<stempy.plot.data_slicer1.DataSlicer at 0x1fda814cfa0>"
      ]
     },
     "execution_count": 9,
     "metadata": {},
     "output_type": "execute_result"
    }
   ],
   "source": [
    "imshow(ps2)"
   ]
  },
  {
   "cell_type": "code",
   "execution_count": 10,
   "id": "fd15cfb6-edc3-4188-8322-45e5b6f2843a",
   "metadata": {},
   "outputs": [],
   "source": [
    "zps = ZPs(n_max=12, size=ps1.shape[1])\n",
    "zps.fit(ps1)\n",
    "X1 = zps.moments\n",
    "zps.fit(ps2)\n",
    "X2 = zps.moments\n",
    "\n",
    "X = np.hstack([X1, X2])"
   ]
  },
  {
   "cell_type": "code",
   "execution_count": 11,
   "id": "2fa4fd17-00ab-4d34-ba77-db5403bd84a9",
   "metadata": {},
   "outputs": [],
   "source": [
    "plot_pca(X, 2)"
   ]
  },
  {
   "cell_type": "code",
   "execution_count": 12,
   "id": "675eeb35-e844-4c3d-9b19-5b46be47ef29",
   "metadata": {},
   "outputs": [],
   "source": [
    "lbs = gmm_lbs(X, 2)"
   ]
  },
  {
   "cell_type": "code",
   "execution_count": null,
   "id": "7e9eb4a7-4515-4420-8be0-3fce46c86fd9",
   "metadata": {},
   "outputs": [],
   "source": []
  },
  {
   "cell_type": "code",
   "execution_count": null,
   "id": "37db948d-286a-49fd-820e-9e2e2c414d68",
   "metadata": {},
   "outputs": [],
   "source": []
  },
  {
   "cell_type": "code",
   "execution_count": 13,
   "id": "c10d0df5-8e7b-4e36-8e04-45acc6fc5627",
   "metadata": {},
   "outputs": [],
   "source": [
    "plot_pca(X, 2, lbs=lbs)"
   ]
  },
  {
   "cell_type": "code",
   "execution_count": 14,
   "id": "f0312bfb-0a92-46de-b1d4-f2dfc8f3913b",
   "metadata": {},
   "outputs": [],
   "source": [
    "X11 = X[lbs==0]\n",
    "X22 = X[lbs==1]"
   ]
  },
  {
   "cell_type": "code",
   "execution_count": 15,
   "id": "b88296a9-8fed-4e27-8479-fd76bd50ffb4",
   "metadata": {},
   "outputs": [],
   "source": [
    "plot_pca(X11, 2, s=3)"
   ]
  },
  {
   "cell_type": "code",
   "execution_count": 16,
   "id": "2bfef1c0-ecf8-464d-b167-7eb25fb8b982",
   "metadata": {},
   "outputs": [
    {
     "name": "stdout",
     "output_type": "stream",
     "text": [
      "Construct graph from data...\n",
      "Initialize 2-d embedding using PCA layout...\n"
     ]
    }
   ],
   "source": [
    "lbs_selected = 0\n",
    "if lbs_selected == 0:\n",
    "    fg = ForceGraph8(X = X11,\n",
    "    n_neighbors=10,\n",
    "    init_mode = 'pca',\n",
    "    num_iterations = 100,\n",
    "    num_negative_samples=5,\n",
    "    force_params1=(0, 2, 1, 1),\n",
    "    force_params2=(2, 5, 5, 1),\n",
    "    divide=0.5)\n",
    "    \n",
    "    from time import time\n",
    "    t0 = time()\n",
    "    xy = fg.fit_transform(X11)\n",
    "else:\n",
    "    fg = ForceGraph8(X = X22,\n",
    "    n_neighbors=10,\n",
    "    init_mode = 'pca',\n",
    "    num_iterations = 100,\n",
    "    num_negative_samples=5,\n",
    "    force_params1=(0, 2, 1, 1),\n",
    "    force_params2=(2, 5, 5, 1),\n",
    "    divide=0.5)\n",
    "    \n",
    "    from time import time\n",
    "    t0 = time()\n",
    "    xy = fg.fit_transform(X22)"
   ]
  },
  {
   "cell_type": "code",
   "execution_count": 17,
   "id": "10c4495d-e583-4ba9-9045-4eae9ecad2df",
   "metadata": {},
   "outputs": [
    {
     "name": "stdout",
     "output_type": "stream",
     "text": [
      "One cluster has been selected.\n"
     ]
    }
   ],
   "source": [
    "l= interactive_clusters(xy, img2, kp1.pts[lbs==lbs_selected], ps2[lbs==lbs_selected], clip=False, s=1) "
   ]
  },
  {
   "cell_type": "code",
   "execution_count": 18,
   "id": "2c2c7c6a-4040-401c-b652-1f85b2d85a92",
   "metadata": {},
   "outputs": [
    {
     "data": {
      "text/plain": [
       "80"
      ]
     },
     "execution_count": 18,
     "metadata": {},
     "output_type": "execute_result"
    }
   ],
   "source": [
    "len(l.ind)"
   ]
  },
  {
   "cell_type": "code",
   "execution_count": null,
   "id": "e04d933f-a9a2-4f10-beba-99c178c39234",
   "metadata": {},
   "outputs": [],
   "source": []
  },
  {
   "cell_type": "code",
   "execution_count": 445,
   "id": "82353af6-96fe-489d-bec5-e7f562b506c1",
   "metadata": {},
   "outputs": [],
   "source": [
    "from sklearn.manifold import TSNE\n",
    "Xt = TSNE(n_components=2, n_iter=2000).fit_transform(X22)"
   ]
  },
  {
   "cell_type": "code",
   "execution_count": 531,
   "id": "efe466f6-e4a9-424c-811f-2ebf822f63e6",
   "metadata": {},
   "outputs": [
    {
     "data": {
      "text/plain": [
       "<matplotlib.collections.PathCollection at 0x204a147fe80>"
      ]
     },
     "execution_count": 531,
     "metadata": {},
     "output_type": "execute_result"
    }
   ],
   "source": [
    "fig, ax = plt.subplots(1, 1, figsize=(7.2, 7.2))\n",
    "ax.scatter(Xt[:, 0], Xt[:, 1], s=3)"
   ]
  },
  {
   "cell_type": "code",
   "execution_count": 532,
   "id": "81244e99-6566-4037-b8f5-b7c8606233c8",
   "metadata": {},
   "outputs": [],
   "source": [
    "l= interactive_clusters(Xt, img, kp1.pts[lbs==1], ps2[lbs==1], clip=False, s=1) "
   ]
  },
  {
   "cell_type": "code",
   "execution_count": 450,
   "id": "6b4db408-45a6-429a-9898-6f542b9cc0f5",
   "metadata": {},
   "outputs": [
    {
     "data": {
      "text/plain": [
       "<matplotlib.image.AxesImage at 0x204aa230e50>"
      ]
     },
     "execution_count": 450,
     "metadata": {},
     "output_type": "execute_result"
    }
   ],
   "source": [
    "motif1 = ps1[lbs==1][l.ind].mean(axis=0)\n",
    "motif2 = ps2[lbs==1][l.ind].mean(axis=0)\n",
    "imshow(motif1)"
   ]
  },
  {
   "cell_type": "code",
   "execution_count": 518,
   "id": "2a62deda-9a9c-404e-871a-706658ca2613",
   "metadata": {},
   "outputs": [],
   "source": [
    "from skimage.util import random_noise\n",
    "\n",
    "shape = (X22.shape[0], size, size)\n",
    "ps3 = np.broadcast_to(motif1, shape)\n",
    "ps4 = np.broadcast_to(motif2, shape)\n",
    "ps3 = random_noise(ps3, var=0.01)\n",
    "ps4 = random_noise(ps4, var=0.01)\n",
    "\n",
    "\n",
    "zps.fit(ps3)\n",
    "X3 = zps.moments\n",
    "zps.fit(ps3)\n",
    "X4 = zps.moments\n",
    "\n",
    "X34 = np.hstack([X3, X4])\n",
    "Xnew = np.vstack([X22, X34])"
   ]
  },
  {
   "cell_type": "code",
   "execution_count": 528,
   "id": "395b08c6-e6ab-4fce-8e46-300635ba41e7",
   "metadata": {},
   "outputs": [
    {
     "name": "stderr",
     "output_type": "stream",
     "text": [
      "C:\\Users\\Ted\\anaconda3\\envs\\jiadong\\lib\\site-packages\\sklearn\\cluster\\_kmeans.py:1412: FutureWarning: The default value of `n_init` will change from 10 to 'auto' in 1.4. Set the value of `n_init` explicitly to suppress the warning\n",
      "  super()._check_params_vs_input(X, default_n_init=10)\n"
     ]
    }
   ],
   "source": [
    "lbsnew = kmeans_lbs(Xnew, 2)"
   ]
  },
  {
   "cell_type": "code",
   "execution_count": 529,
   "id": "44d930ba-8103-4a39-a176-2bc8060fc072",
   "metadata": {},
   "outputs": [],
   "source": [
    "plot_pca(Xnew, lbs=lbsnew)"
   ]
  },
  {
   "cell_type": "code",
   "execution_count": 530,
   "id": "7f5a7697-69a4-4df3-941a-bf6a97b11aab",
   "metadata": {},
   "outputs": [
    {
     "data": {
      "text/plain": [
       "<matplotlib.collections.PathCollection at 0x2040f9ce2b0>"
      ]
     },
     "execution_count": 530,
     "metadata": {},
     "output_type": "execute_result"
    }
   ],
   "source": [
    "fig, ax = plt.subplots(1, 1, figsize=(7.2, 7.2))\n",
    "ax.scatter(Xtnew[:, 0], Xtnew[:, 1], s=3, color=colors_from_lbs(lbsnew))"
   ]
  },
  {
   "cell_type": "code",
   "execution_count": null,
   "id": "28163b34-ce7f-443c-9c65-3dd23dfd4f3a",
   "metadata": {},
   "outputs": [],
   "source": []
  },
  {
   "cell_type": "code",
   "execution_count": null,
   "id": "2223e149-93b4-4cd6-8dc4-99b5fed20e07",
   "metadata": {},
   "outputs": [],
   "source": []
  },
  {
   "cell_type": "code",
   "execution_count": 520,
   "id": "23b158d2-ac43-43ff-88a8-96fc098d9ecf",
   "metadata": {},
   "outputs": [
    {
     "data": {
      "text/plain": [
       "<matplotlib.collections.PathCollection at 0x204cd824e20>"
      ]
     },
     "execution_count": 520,
     "metadata": {},
     "output_type": "execute_result"
    }
   ],
   "source": [
    "fig, ax = plt.subplots(1, 1, figsize=(7.2, 7.2))\n",
    "ax.scatter(Xnew[:, 0], Xnew[:, 1], s=3, color=colors_from_lbs(lbsnew))"
   ]
  },
  {
   "cell_type": "code",
   "execution_count": 486,
   "id": "44effd9b-dc87-4207-88fa-d06f83ebfd9e",
   "metadata": {},
   "outputs": [],
   "source": [
    "Xtnew = TSNE(n_components=2, n_iter=2000).fit_transform(Xnew)"
   ]
  },
  {
   "cell_type": "code",
   "execution_count": 509,
   "id": "b6ada0c6-8af2-4c63-a494-3109b2bd0aa8",
   "metadata": {},
   "outputs": [],
   "source": [
    "lbsnew = [0]*(X22.shape[0])+[1]*(X22.shape[0])"
   ]
  },
  {
   "cell_type": "code",
   "execution_count": 521,
   "id": "1dc7090c-9c16-4615-bcc6-0328b0eae1ea",
   "metadata": {},
   "outputs": [],
   "source": [
    "plot_pca(Xnew, lbs=lbsnew)"
   ]
  },
  {
   "cell_type": "code",
   "execution_count": 523,
   "id": "9e07471d-ac28-4f8e-9a6b-5447babbd728",
   "metadata": {},
   "outputs": [
    {
     "data": {
      "text/plain": [
       "<matplotlib.collections.PathCollection at 0x204cd867fa0>"
      ]
     },
     "execution_count": 523,
     "metadata": {},
     "output_type": "execute_result"
    }
   ],
   "source": [
    "fig, ax = plt.subplots(1, 1, figsize=(7.2, 7.2))\n",
    "ax.scatter(Xtnew[:, 0], Xtnew[:, 1], s=3, color=colors_from_lbs(lbsnew))"
   ]
  },
  {
   "cell_type": "code",
   "execution_count": null,
   "id": "9bd88d1c-061b-456a-8871-62d701bd2e26",
   "metadata": {},
   "outputs": [],
   "source": []
  },
  {
   "cell_type": "code",
   "execution_count": null,
   "id": "68dda554-69da-4604-8ce2-ad2dec9b3f3b",
   "metadata": {},
   "outputs": [],
   "source": []
  },
  {
   "cell_type": "code",
   "execution_count": 292,
   "id": "d682a387-125a-44c4-824d-6da26ae3f791",
   "metadata": {},
   "outputs": [],
   "source": [
    "motif1 = X[lbs==1].mean(axis=0)"
   ]
  },
  {
   "cell_type": "code",
   "execution_count": 293,
   "id": "e20adb4c-cbff-4d85-94b5-59dfa00be5b6",
   "metadata": {},
   "outputs": [],
   "source": [
    "from skimage.metrics import structural_similarity\n",
    "from sklearn.metrics.pairwise import cosine_similarity\n",
    "from scipy.spatial.distance import cosine\n",
    "kk = np.array([1-cosine(e, motif1) for e in X[lbs==1]])"
   ]
  },
  {
   "cell_type": "code",
   "execution_count": 294,
   "id": "fe4737e8-570a-41fe-a88d-f7b95c61fa98",
   "metadata": {},
   "outputs": [
    {
     "data": {
      "text/plain": [
       "(array([  1.,   0.,   1.,   0.,   0.,   0.,   0.,   0.,   0.,   1.,   0.,\n",
       "          0.,   0.,   0.,   0.,   0.,   0.,   0.,   1.,   0.,   0.,   0.,\n",
       "          0.,   0.,   0.,   0.,   0.,   0.,   1.,   0.,   0.,   0.,   0.,\n",
       "          0.,   0.,   0.,   0.,   0.,   0.,   0.,   0.,   0.,   0.,   0.,\n",
       "          0.,   0.,   0.,   0.,   0.,   0.,   0.,   0.,   0.,   0.,   0.,\n",
       "          0.,   0.,   0.,   0.,   0.,   1.,   0.,   0.,   0.,   0.,   0.,\n",
       "          0.,   0.,   0.,   0.,   0.,   0.,   0.,   0.,   0.,   0.,   0.,\n",
       "          0.,   0.,   0.,   0.,   0.,   0.,   0.,   0.,   0.,   0.,   0.,\n",
       "          0.,   0.,   0.,   0.,   0.,   0.,   0.,   0.,   0.,   0.,   0.,\n",
       "          0.,   1.,   0.,   1.,   0.,   0.,   1.,   0.,   0.,   1.,   1.,\n",
       "          1.,   0.,   0.,   0.,   1.,   1.,   0.,   2.,   0.,   0.,   2.,\n",
       "          0.,   2.,   1.,   2.,   3.,   1.,   1.,   2.,   3.,   4.,   2.,\n",
       "          1.,   3.,   1.,   2.,   2.,   3.,   3.,   1.,   1.,   3.,   5.,\n",
       "          6.,   6.,   5.,   9.,   7.,  10.,  12.,  10.,  11.,   9.,  11.,\n",
       "         16.,  18.,  15.,  30.,  19.,  25.,  20.,  28.,  42.,  44.,  49.,\n",
       "         52.,  47.,  76.,  83.,  78.,  98., 131., 127., 167., 165., 180.,\n",
       "        189., 219., 215., 252., 254., 259., 278., 267., 262., 265., 272.,\n",
       "        252., 246., 237., 158., 131., 110.,  84.,  50.,  36.,  18.,   8.,\n",
       "          6.,   2.]),\n",
       " array([0.86289734, 0.86352583, 0.86415431, 0.8647828 , 0.86541129,\n",
       "        0.86603977, 0.86666826, 0.86729675, 0.86792523, 0.86855372,\n",
       "        0.86918221, 0.86981069, 0.87043918, 0.87106767, 0.87169615,\n",
       "        0.87232464, 0.87295313, 0.87358161, 0.8742101 , 0.87483858,\n",
       "        0.87546707, 0.87609556, 0.87672404, 0.87735253, 0.87798102,\n",
       "        0.8786095 , 0.87923799, 0.87986648, 0.88049496, 0.88112345,\n",
       "        0.88175194, 0.88238042, 0.88300891, 0.8836374 , 0.88426588,\n",
       "        0.88489437, 0.88552286, 0.88615134, 0.88677983, 0.88740832,\n",
       "        0.8880368 , 0.88866529, 0.88929378, 0.88992226, 0.89055075,\n",
       "        0.89117924, 0.89180772, 0.89243621, 0.8930647 , 0.89369318,\n",
       "        0.89432167, 0.89495016, 0.89557864, 0.89620713, 0.89683562,\n",
       "        0.8974641 , 0.89809259, 0.89872108, 0.89934956, 0.89997805,\n",
       "        0.90060654, 0.90123502, 0.90186351, 0.90249199, 0.90312048,\n",
       "        0.90374897, 0.90437745, 0.90500594, 0.90563443, 0.90626291,\n",
       "        0.9068914 , 0.90751989, 0.90814837, 0.90877686, 0.90940535,\n",
       "        0.91003383, 0.91066232, 0.91129081, 0.91191929, 0.91254778,\n",
       "        0.91317627, 0.91380475, 0.91443324, 0.91506173, 0.91569021,\n",
       "        0.9163187 , 0.91694719, 0.91757567, 0.91820416, 0.91883265,\n",
       "        0.91946113, 0.92008962, 0.92071811, 0.92134659, 0.92197508,\n",
       "        0.92260357, 0.92323205, 0.92386054, 0.92448903, 0.92511751,\n",
       "        0.925746  , 0.92637449, 0.92700297, 0.92763146, 0.92825995,\n",
       "        0.92888843, 0.92951692, 0.93014541, 0.93077389, 0.93140238,\n",
       "        0.93203086, 0.93265935, 0.93328784, 0.93391632, 0.93454481,\n",
       "        0.9351733 , 0.93580178, 0.93643027, 0.93705876, 0.93768724,\n",
       "        0.93831573, 0.93894422, 0.9395727 , 0.94020119, 0.94082968,\n",
       "        0.94145816, 0.94208665, 0.94271514, 0.94334362, 0.94397211,\n",
       "        0.9446006 , 0.94522908, 0.94585757, 0.94648606, 0.94711454,\n",
       "        0.94774303, 0.94837152, 0.949     , 0.94962849, 0.95025698,\n",
       "        0.95088546, 0.95151395, 0.95214244, 0.95277092, 0.95339941,\n",
       "        0.9540279 , 0.95465638, 0.95528487, 0.95591336, 0.95654184,\n",
       "        0.95717033, 0.95779882, 0.9584273 , 0.95905579, 0.95968427,\n",
       "        0.96031276, 0.96094125, 0.96156973, 0.96219822, 0.96282671,\n",
       "        0.96345519, 0.96408368, 0.96471217, 0.96534065, 0.96596914,\n",
       "        0.96659763, 0.96722611, 0.9678546 , 0.96848309, 0.96911157,\n",
       "        0.96974006, 0.97036855, 0.97099703, 0.97162552, 0.97225401,\n",
       "        0.97288249, 0.97351098, 0.97413947, 0.97476795, 0.97539644,\n",
       "        0.97602493, 0.97665341, 0.9772819 , 0.97791039, 0.97853887,\n",
       "        0.97916736, 0.97979585, 0.98042433, 0.98105282, 0.98168131,\n",
       "        0.98230979, 0.98293828, 0.98356677, 0.98419525, 0.98482374,\n",
       "        0.98545223, 0.98608071, 0.9867092 , 0.98733768, 0.98796617,\n",
       "        0.98859466]),\n",
       " <BarContainer object of 200 artists>)"
      ]
     },
     "execution_count": 294,
     "metadata": {},
     "output_type": "execute_result"
    }
   ],
   "source": [
    "plt.hist(kk, bins=200)"
   ]
  },
  {
   "cell_type": "code",
   "execution_count": null,
   "id": "d3620b87-0b5b-428d-bfbe-2442c8925684",
   "metadata": {},
   "outputs": [],
   "source": []
  },
  {
   "cell_type": "code",
   "execution_count": 128,
   "id": "8f894212-3a74-487c-9d51-b335e719e638",
   "metadata": {},
   "outputs": [],
   "source": [
    "hh = ps_[lbs==0][:, 14-1:14+2, 14-1:14+2].mean(axis=(1,2))"
   ]
  },
  {
   "cell_type": "code",
   "execution_count": null,
   "id": "fe1ca4a9-0afd-444f-a462-ad74a301ea1e",
   "metadata": {},
   "outputs": [],
   "source": []
  },
  {
   "cell_type": "code",
   "execution_count": null,
   "id": "a9864b4c-cd6a-4f64-af2e-500ea18857f3",
   "metadata": {},
   "outputs": [],
   "source": []
  },
  {
   "cell_type": "code",
   "execution_count": 129,
   "id": "4a568b82-bcdf-4a58-9de2-0a93196f5866",
   "metadata": {},
   "outputs": [
    {
     "data": {
      "text/plain": [
       "(array([  1.,   0.,   0.,   0.,   0.,   0.,   0.,   0.,   0.,   0.,   0.,\n",
       "          0.,   0.,   0.,   0.,   0.,   0.,   0.,   0.,   0.,   0.,   0.,\n",
       "          3.,   0.,   2.,   0.,   1.,   0.,   0.,   0.,   0.,   0.,   1.,\n",
       "          0.,   0.,   1.,   2.,   1.,   2.,   1.,   4.,   2.,  10.,  13.,\n",
       "         14.,  22.,  25.,  57.,  33.,  76.,  82., 109., 101., 134., 136.,\n",
       "        217., 209., 239., 267., 285., 309., 298., 305., 328., 320., 267.,\n",
       "        291., 245., 235., 184., 194., 132., 114.,  94.,  79.,  63.,  42.,\n",
       "         45.,  35.,  29.,  29.,  14.,  12.,   4.,  10.,   7.,   4.,   0.,\n",
       "          2.,   2.,   3.,   5.,   1.,   0.,   1.,   1.,   1.,   0.,   0.,\n",
       "          1.]),\n",
       " array([0.04777327, 0.05260071, 0.05742816, 0.06225561, 0.06708306,\n",
       "        0.07191051, 0.07673796, 0.0815654 , 0.08639285, 0.0912203 ,\n",
       "        0.09604775, 0.1008752 , 0.10570264, 0.11053009, 0.11535754,\n",
       "        0.12018499, 0.12501244, 0.12983989, 0.13466733, 0.13949478,\n",
       "        0.14432223, 0.14914968, 0.15397713, 0.15880458, 0.16363202,\n",
       "        0.16845947, 0.17328692, 0.17811437, 0.18294182, 0.18776927,\n",
       "        0.19259671, 0.19742416, 0.20225161, 0.20707906, 0.21190651,\n",
       "        0.21673395, 0.2215614 , 0.22638885, 0.2312163 , 0.23604375,\n",
       "        0.2408712 , 0.24569864, 0.25052609, 0.25535354, 0.26018099,\n",
       "        0.26500844, 0.26983589, 0.27466333, 0.27949078, 0.28431823,\n",
       "        0.28914568, 0.29397313, 0.29880058, 0.30362802, 0.30845547,\n",
       "        0.31328292, 0.31811037, 0.32293782, 0.32776526, 0.33259271,\n",
       "        0.33742016, 0.34224761, 0.34707506, 0.35190251, 0.35672995,\n",
       "        0.3615574 , 0.36638485, 0.3712123 , 0.37603975, 0.3808672 ,\n",
       "        0.38569464, 0.39052209, 0.39534954, 0.40017699, 0.40500444,\n",
       "        0.40983189, 0.41465933, 0.41948678, 0.42431423, 0.42914168,\n",
       "        0.43396913, 0.43879657, 0.44362402, 0.44845147, 0.45327892,\n",
       "        0.45810637, 0.46293382, 0.46776126, 0.47258871, 0.47741616,\n",
       "        0.48224361, 0.48707106, 0.49189851, 0.49672595, 0.5015534 ,\n",
       "        0.50638085, 0.5112083 , 0.51603575, 0.5208632 , 0.52569064,\n",
       "        0.53051809]),\n",
       " <BarContainer object of 100 artists>)"
      ]
     },
     "execution_count": 129,
     "metadata": {},
     "output_type": "execute_result"
    }
   ],
   "source": [
    "plt.hist(hh, bins=100)"
   ]
  },
  {
   "cell_type": "code",
   "execution_count": null,
   "id": "cec1d9e0-8f83-41dd-a67b-bee83288befc",
   "metadata": {},
   "outputs": [],
   "source": []
  },
  {
   "cell_type": "code",
   "execution_count": 125,
   "id": "5d2122c0-0468-4273-8823-1fc6026b8260",
   "metadata": {},
   "outputs": [
    {
     "name": "stdout",
     "output_type": "stream",
     "text": [
      "Construct graph from data...\n",
      "Initialize 2-d embedding using PCA layout...\n"
     ]
    }
   ],
   "source": [
    "fg = ForceGraph8(X = X,\n",
    "n_neighbors=10,\n",
    "init_mode = 'pca',\n",
    "num_iterations = 100,\n",
    "num_negative_samples=5,\n",
    "force_params1=(0, 2, 1, 1),\n",
    "force_params2=(2, 5, 5, 1),\n",
    "divide=0.5)\n",
    "\n",
    "from time import time\n",
    "t0 = time()\n",
    "xy = fg.fit_transform(X)"
   ]
  },
  {
   "cell_type": "code",
   "execution_count": 336,
   "id": "f08435b7-d931-4a66-9d4e-b3483ba4a097",
   "metadata": {},
   "outputs": [],
   "source": [
    "l= interactive_clusters(xy, img, kp.pts, ps, clip=False) "
   ]
  },
  {
   "cell_type": "code",
   "execution_count": 15,
   "id": "9be71039-1279-4db5-b5e7-8bb420de5dee",
   "metadata": {},
   "outputs": [
    {
     "data": {
      "text/plain": [
       "array([  24,   95,  133,  157,  194,  250,  310,  447,  597,  612,  626,\n",
       "        671,  690,  851,  877,  882,  913, 1041, 1109, 1112, 1120, 1351,\n",
       "       1365, 1407, 1437, 1470, 1534, 1539, 1697, 1716, 1793, 1822, 2018,\n",
       "       2064, 2167, 2213, 2386, 2407, 2416, 2445, 2499, 2560, 2719, 2829,\n",
       "       2915, 2920, 2930, 2942, 2944, 2957, 3025, 3041, 3100, 3206, 3229,\n",
       "       3243, 3359, 3367, 3375, 3393, 3523, 3531, 3562, 3594, 3676, 3703,\n",
       "       3892, 4037, 4263, 4378, 4391, 4440, 4449, 4478, 4485, 4576, 4586,\n",
       "       4590, 4642, 4665, 4727, 4740, 4761, 4772, 4809, 4854, 4863, 4897,\n",
       "       4910, 4925, 4975, 4982, 5030, 5055, 5077, 5398, 5413, 5415, 5580,\n",
       "       5628, 5690, 5699, 5882, 5883, 5891, 5970, 5972, 6031, 6111, 6154,\n",
       "       6167, 6248, 6264, 6349, 6387, 6428, 6432, 6438, 6541, 6554, 6558,\n",
       "       6562, 6565, 6651, 6674, 6693, 6934, 7006, 7061, 7142, 7144, 7194,\n",
       "       7334, 7348, 7355, 7421, 7452, 7603, 7682, 7697, 7745, 7846],\n",
       "      dtype=int64)"
      ]
     },
     "execution_count": 15,
     "metadata": {},
     "output_type": "execute_result"
    }
   ],
   "source": [
    "l.ind"
   ]
  },
  {
   "cell_type": "code",
   "execution_count": 16,
   "id": "11eda121-50dd-4360-9307-d0181ee9157e",
   "metadata": {},
   "outputs": [
    {
     "data": {
      "text/plain": [
       "array([[ 48,   8],\n",
       "       [ 78,   8],\n",
       "       [121,   8],\n",
       "       ...,\n",
       "       [452, 504],\n",
       "       [461, 504],\n",
       "       [482, 504]], dtype=int64)"
      ]
     },
     "execution_count": 16,
     "metadata": {},
     "output_type": "execute_result"
    }
   ],
   "source": [
    "kp.pts"
   ]
  },
  {
   "cell_type": "code",
   "execution_count": 17,
   "id": "80f0d170-73b1-46bf-91e2-6f75c4d26ac1",
   "metadata": {},
   "outputs": [],
   "source": [
    "np.save('pts_Ti_25.npy', kp.pts)"
   ]
  },
  {
   "cell_type": "code",
   "execution_count": 18,
   "id": "5071eccb-4c82-49f7-9dd1-67737c018806",
   "metadata": {},
   "outputs": [],
   "source": [
    "np.save('ind_Ti_25.npy', l.ind)"
   ]
  },
  {
   "cell_type": "code",
   "execution_count": null,
   "id": "a8424b5a-fa75-4418-b38b-184f24285b17",
   "metadata": {},
   "outputs": [],
   "source": []
  },
  {
   "cell_type": "code",
   "execution_count": null,
   "id": "f42baeff-fba7-4018-bf76-9dd6c4df7f46",
   "metadata": {},
   "outputs": [],
   "source": []
  }
 ],
 "metadata": {
  "kernelspec": {
   "display_name": "Python 3 (ipykernel)",
   "language": "python",
   "name": "python3"
  },
  "language_info": {
   "codemirror_mode": {
    "name": "ipython",
    "version": 3
   },
   "file_extension": ".py",
   "mimetype": "text/x-python",
   "name": "python",
   "nbconvert_exporter": "python",
   "pygments_lexer": "ipython3",
   "version": "3.9.18"
  }
 },
 "nbformat": 4,
 "nbformat_minor": 5
}
