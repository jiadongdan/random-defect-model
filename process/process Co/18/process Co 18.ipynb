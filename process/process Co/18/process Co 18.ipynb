{
 "cells": [
  {
   "cell_type": "code",
   "execution_count": 1,
   "id": "2ecdd696-4a02-4c09-b046-9bcec86c4d76",
   "metadata": {},
   "outputs": [],
   "source": [
    "%matplotlib qt\n",
    "import numpy as np\n",
    "import matplotlib.pyplot as plt\n",
    "\n",
    "import sys\n",
    "sys.path.append('D:\\\\Dropbox\\\\stempy')\n",
    "sys.path.append('D:\\\\Dropbox\\\\stemplot')\n",
    "    \n",
    "from stemplot import *\n",
    "\n",
    "from stempy.io import *\n",
    "from stempy.clustering import *\n",
    "from stempy.plot import *\n",
    "from stempy.denoise import *\n",
    "from stempy.utils import *\n",
    "from stempy.feature import *\n",
    "from stempy.spatial import *\n",
    "from stempy.manifold import *"
   ]
  },
  {
   "cell_type": "markdown",
   "id": "632fbcf8-0ed3-4344-82b3-79f634b631cd",
   "metadata": {},
   "source": [
    "## Find points from HAADF"
   ]
  },
  {
   "cell_type": "code",
   "execution_count": 2,
   "id": "ba524fdf-a596-4248-aed8-227f3af6200d",
   "metadata": {},
   "outputs": [],
   "source": [
    "dp = r'D:\\Dropbox\\data\\Leyi\\Dopant Valency Project\\CoWSe2_total 9 datasets\\CoWSe2_20211124'+'\\\\'\n",
    "\n",
    "num = 18\n",
    "\n",
    "file_name1 = dp + 'ADF1_{}.dm4'.format(num)\n",
    "\n",
    "# load image\n",
    "img = load_image(file_name1)\n",
    "\n",
    "img = normalize_image(img, 0, 1)"
   ]
  },
  {
   "cell_type": "code",
   "execution_count": 3,
   "id": "74a63482-cdcc-4af3-b398-15d9148ffd09",
   "metadata": {},
   "outputs": [
    {
     "data": {
      "text/plain": [
       "<matplotlib.image.AxesImage at 0x29acc75bf70>"
      ]
     },
     "execution_count": 3,
     "metadata": {},
     "output_type": "execute_result"
    }
   ],
   "source": [
    "img1 = remove_bg(img, 11)\n",
    "\n",
    "imshow(img1)"
   ]
  },
  {
   "cell_type": "code",
   "execution_count": null,
   "id": "7fbd2738-4a74-4b3f-b5c7-2b0c10bd2a0c",
   "metadata": {},
   "outputs": [],
   "source": []
  },
  {
   "cell_type": "code",
   "execution_count": null,
   "id": "75fe7848-d90f-42ca-8239-a264fb7fd79b",
   "metadata": {},
   "outputs": [],
   "source": []
  },
  {
   "cell_type": "code",
   "execution_count": null,
   "id": "b61f8b4c-fe65-48d8-a6a5-c26ecc23e7b7",
   "metadata": {},
   "outputs": [],
   "source": []
  },
  {
   "cell_type": "code",
   "execution_count": 4,
   "id": "695b290a-c461-4234-a385-bb26e02e4a6d",
   "metadata": {},
   "outputs": [
    {
     "data": {
      "text/plain": [
       "13"
      ]
     },
     "execution_count": 4,
     "metadata": {},
     "output_type": "execute_result"
    }
   ],
   "source": [
    "get_window_size(img)"
   ]
  },
  {
   "cell_type": "markdown",
   "id": "4395e38d-f694-4006-b814-7e03b7e66e61",
   "metadata": {},
   "source": [
    "## denoising"
   ]
  },
  {
   "cell_type": "code",
   "execution_count": 5,
   "id": "bb7196f3-7aa0-47ea-a732-de541f684262",
   "metadata": {},
   "outputs": [
    {
     "name": "stdout",
     "output_type": "stream",
     "text": [
      "Extracting reference patches...\n",
      "done in 0.27s.\n",
      "Singular value decomposition...\n",
      "done in 2.12s.\n",
      "Reconstructing...\n",
      "done in 1.20s.\n"
     ]
    }
   ],
   "source": [
    "n_components = 32\n",
    "patch_size = 32\n",
    "extraction_step = 4\n",
    "imgf = denoise_svd(img1, n_components, patch_size, extraction_step) "
   ]
  },
  {
   "cell_type": "code",
   "execution_count": 6,
   "id": "e6f133cf-ac68-4553-bb5f-eb212e36f479",
   "metadata": {},
   "outputs": [
    {
     "data": {
      "text/plain": [
       "<matplotlib.image.AxesImage at 0x29accb2adc0>"
      ]
     },
     "execution_count": 6,
     "metadata": {},
     "output_type": "execute_result"
    }
   ],
   "source": [
    "imshow(imgf)"
   ]
  },
  {
   "cell_type": "code",
   "execution_count": 7,
   "id": "cbedaca3-ee25-459d-99ef-f3feffdc39ea",
   "metadata": {},
   "outputs": [],
   "source": [
    "threshold = 0.3\n",
    "pts = local_max(imgf, min_distance=1, threshold=threshold)"
   ]
  },
  {
   "cell_type": "code",
   "execution_count": null,
   "id": "9f998923-e687-44c5-94bd-e7dc58d54d10",
   "metadata": {},
   "outputs": [],
   "source": []
  },
  {
   "cell_type": "markdown",
   "id": "6daf565e-c6a3-4528-97aa-d6a66721b224",
   "metadata": {},
   "source": [
    "## Clustering using MAADF"
   ]
  },
  {
   "cell_type": "code",
   "execution_count": 8,
   "id": "868b1389-b0e2-4d24-af5f-ed05d36ffe50",
   "metadata": {},
   "outputs": [],
   "source": [
    "file_name2 = dp + 'ADF2_{}.dm4'.format(num)\n",
    "\n",
    "# load image\n",
    "img = load_image(file_name2)\n",
    "\n",
    "img = normalize_image(img, 0, 1)\n",
    "\n",
    "img2 = remove_bg(img, 11)"
   ]
  },
  {
   "cell_type": "code",
   "execution_count": 9,
   "id": "abfeeb35-1dc3-4352-9075-e02cd298b1a4",
   "metadata": {},
   "outputs": [
    {
     "data": {
      "text/plain": [
       "<matplotlib.image.AxesImage at 0x29acc981730>"
      ]
     },
     "execution_count": 9,
     "metadata": {},
     "output_type": "execute_result"
    }
   ],
   "source": [
    "imshow(img2)"
   ]
  },
  {
   "cell_type": "code",
   "execution_count": 10,
   "id": "a89aad43-bd3b-41db-a0d4-e76bf3e3da79",
   "metadata": {},
   "outputs": [],
   "source": [
    "size = 26\n",
    "kp = KeyPoints(pts, img2, size)\n",
    "ps = kp.extract_patches(size) "
   ]
  },
  {
   "cell_type": "code",
   "execution_count": 11,
   "id": "2f05522c-04de-489d-8728-a42bb8f60ffc",
   "metadata": {},
   "outputs": [
    {
     "data": {
      "text/plain": [
       "<stempy.plot.data_slicer1.DataSlicer at 0x29acde1b5e0>"
      ]
     },
     "execution_count": 11,
     "metadata": {},
     "output_type": "execute_result"
    }
   ],
   "source": [
    "imshow(ps)"
   ]
  },
  {
   "cell_type": "code",
   "execution_count": 12,
   "id": "fd15cfb6-edc3-4188-8322-45e5b6f2843a",
   "metadata": {},
   "outputs": [],
   "source": [
    "zps = ZPs(n_max=10, size=ps.shape[1])\n",
    "zps.fit(ps)\n",
    "X = zps.moments\n",
    "X_rot = X.rotinv() "
   ]
  },
  {
   "cell_type": "code",
   "execution_count": 13,
   "id": "2fa4fd17-00ab-4d34-ba77-db5403bd84a9",
   "metadata": {},
   "outputs": [],
   "source": [
    "plot_pca(X, 2)"
   ]
  },
  {
   "cell_type": "code",
   "execution_count": null,
   "id": "cec1d9e0-8f83-41dd-a67b-bee83288befc",
   "metadata": {},
   "outputs": [],
   "source": []
  },
  {
   "cell_type": "code",
   "execution_count": 14,
   "id": "5d2122c0-0468-4273-8823-1fc6026b8260",
   "metadata": {},
   "outputs": [
    {
     "name": "stdout",
     "output_type": "stream",
     "text": [
      "Construct graph from data...\n",
      "Initialize 2-d embedding using PCA layout...\n"
     ]
    }
   ],
   "source": [
    "fg = ForceGraph8(X = X,\n",
    "n_neighbors=10,\n",
    "init_mode = 'pca',\n",
    "num_iterations = 100,\n",
    "num_negative_samples=10,\n",
    "force_params1=(0, 2, 1, 1),\n",
    "force_params2=(2, 5, 5, 1),\n",
    "divide=0.5)\n",
    "\n",
    "from time import time\n",
    "t0 = time()\n",
    "xy = fg.fit_transform(X)"
   ]
  },
  {
   "cell_type": "code",
   "execution_count": 15,
   "id": "f08435b7-d931-4a66-9d4e-b3483ba4a097",
   "metadata": {},
   "outputs": [
    {
     "name": "stdout",
     "output_type": "stream",
     "text": [
      "One cluster has been selected.\n"
     ]
    }
   ],
   "source": [
    "l= interactive_clusters(xy, img, kp.pts, ps, clip=False, s=1) "
   ]
  },
  {
   "cell_type": "code",
   "execution_count": 16,
   "id": "9be71039-1279-4db5-b5e7-8bb420de5dee",
   "metadata": {},
   "outputs": [
    {
     "data": {
      "text/plain": [
       "(62,\n",
       " array([   49,   376,   411,   891,   964,  1129,  1385,  1397,  1499,\n",
       "         1666,  1713,  1727,  1828,  2152,  2321,  2805,  2850,  2905,\n",
       "         2946,  3064,  3181,  3481,  3717,  3878,  3981,  4259,  4306,\n",
       "         4422,  4948,  5115,  5176,  5233,  5323,  5492,  6082,  6288,\n",
       "         6780,  7094,  7326,  7472,  7475,  7545,  7602,  7700,  7755,\n",
       "         7867,  8284,  8774,  8828,  9164,  9259,  9693, 10006, 10029,\n",
       "        10113, 10333, 10566, 10833, 10924, 10978, 11202, 11298],\n",
       "       dtype=int64))"
      ]
     },
     "execution_count": 16,
     "metadata": {},
     "output_type": "execute_result"
    }
   ],
   "source": [
    "len(l.ind), l.ind"
   ]
  },
  {
   "cell_type": "code",
   "execution_count": 16,
   "id": "11eda121-50dd-4360-9307-d0181ee9157e",
   "metadata": {},
   "outputs": [
    {
     "data": {
      "text/plain": [
       "array([[ 48,   8],\n",
       "       [ 78,   8],\n",
       "       [121,   8],\n",
       "       ...,\n",
       "       [452, 504],\n",
       "       [461, 504],\n",
       "       [482, 504]], dtype=int64)"
      ]
     },
     "execution_count": 16,
     "metadata": {},
     "output_type": "execute_result"
    }
   ],
   "source": [
    "kp.pts"
   ]
  },
  {
   "cell_type": "code",
   "execution_count": 17,
   "id": "80f0d170-73b1-46bf-91e2-6f75c4d26ac1",
   "metadata": {},
   "outputs": [],
   "source": [
    "np.save('pts_Ti_25.npy', kp.pts)"
   ]
  },
  {
   "cell_type": "code",
   "execution_count": 18,
   "id": "5071eccb-4c82-49f7-9dd1-67737c018806",
   "metadata": {},
   "outputs": [],
   "source": [
    "np.save('ind_Ti_25.npy', l.ind)"
   ]
  },
  {
   "cell_type": "code",
   "execution_count": null,
   "id": "a8424b5a-fa75-4418-b38b-184f24285b17",
   "metadata": {},
   "outputs": [],
   "source": []
  },
  {
   "cell_type": "code",
   "execution_count": null,
   "id": "f42baeff-fba7-4018-bf76-9dd6c4df7f46",
   "metadata": {},
   "outputs": [],
   "source": []
  }
 ],
 "metadata": {
  "kernelspec": {
   "display_name": "Python 3 (ipykernel)",
   "language": "python",
   "name": "python3"
  },
  "language_info": {
   "codemirror_mode": {
    "name": "ipython",
    "version": 3
   },
   "file_extension": ".py",
   "mimetype": "text/x-python",
   "name": "python",
   "nbconvert_exporter": "python",
   "pygments_lexer": "ipython3",
   "version": "3.9.18"
  }
 },
 "nbformat": 4,
 "nbformat_minor": 5
}
