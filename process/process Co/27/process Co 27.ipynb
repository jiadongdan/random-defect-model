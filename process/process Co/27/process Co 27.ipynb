{
 "cells": [
  {
   "cell_type": "code",
   "execution_count": 1,
   "id": "2ecdd696-4a02-4c09-b046-9bcec86c4d76",
   "metadata": {},
   "outputs": [],
   "source": [
    "%matplotlib qt\n",
    "import numpy as np\n",
    "import matplotlib.pyplot as plt\n",
    "\n",
    "import sys\n",
    "sys.path.append('D:\\\\Dropbox\\\\stempy')\n",
    "sys.path.append('D:\\\\Dropbox\\\\stemplot')\n",
    "    \n",
    "from stemplot import *\n",
    "\n",
    "from stempy.io import *\n",
    "from stempy.clustering import *\n",
    "from stempy.plot import *\n",
    "from stempy.denoise import *\n",
    "from stempy.utils import *\n",
    "from stempy.feature import *\n",
    "from stempy.spatial import *\n",
    "from stempy.manifold import *"
   ]
  },
  {
   "cell_type": "markdown",
   "id": "632fbcf8-0ed3-4344-82b3-79f634b631cd",
   "metadata": {},
   "source": [
    "## Find points from HAADF"
   ]
  },
  {
   "cell_type": "code",
   "execution_count": 3,
   "id": "ba524fdf-a596-4248-aed8-227f3af6200d",
   "metadata": {},
   "outputs": [],
   "source": [
    "dp = r'D:\\Dropbox\\data\\Leyi\\Dopant Valency Project\\CoWSe2_total 9 datasets\\CoWSe2_20211124'+'\\\\'\n",
    "\n",
    "num = 27\n",
    "\n",
    "file_name1 = dp + 'ADF1_{}.dm4'.format(num)\n",
    "\n",
    "# load image\n",
    "img = load_image(file_name1)\n",
    "\n",
    "img = normalize_image(img, 0, 1)"
   ]
  },
  {
   "cell_type": "code",
   "execution_count": 4,
   "id": "74a63482-cdcc-4af3-b398-15d9148ffd09",
   "metadata": {},
   "outputs": [
    {
     "data": {
      "text/plain": [
       "<matplotlib.image.AxesImage at 0x263be2ecf70>"
      ]
     },
     "execution_count": 4,
     "metadata": {},
     "output_type": "execute_result"
    }
   ],
   "source": [
    "img1 = remove_bg(img, 11)\n",
    "\n",
    "imshow(img1)"
   ]
  },
  {
   "cell_type": "code",
   "execution_count": null,
   "id": "7fbd2738-4a74-4b3f-b5c7-2b0c10bd2a0c",
   "metadata": {},
   "outputs": [],
   "source": []
  },
  {
   "cell_type": "code",
   "execution_count": null,
   "id": "75fe7848-d90f-42ca-8239-a264fb7fd79b",
   "metadata": {},
   "outputs": [],
   "source": []
  },
  {
   "cell_type": "code",
   "execution_count": null,
   "id": "b61f8b4c-fe65-48d8-a6a5-c26ecc23e7b7",
   "metadata": {},
   "outputs": [],
   "source": []
  },
  {
   "cell_type": "code",
   "execution_count": 5,
   "id": "695b290a-c461-4234-a385-bb26e02e4a6d",
   "metadata": {},
   "outputs": [
    {
     "data": {
      "text/plain": [
       "15"
      ]
     },
     "execution_count": 5,
     "metadata": {},
     "output_type": "execute_result"
    }
   ],
   "source": [
    "get_window_size(img)"
   ]
  },
  {
   "cell_type": "markdown",
   "id": "4395e38d-f694-4006-b814-7e03b7e66e61",
   "metadata": {},
   "source": [
    "## denoising"
   ]
  },
  {
   "cell_type": "code",
   "execution_count": 6,
   "id": "bb7196f3-7aa0-47ea-a732-de541f684262",
   "metadata": {},
   "outputs": [
    {
     "name": "stdout",
     "output_type": "stream",
     "text": [
      "Extracting reference patches...\n",
      "done in 0.19s.\n",
      "Singular value decomposition...\n",
      "done in 2.03s.\n",
      "Reconstructing...\n",
      "done in 1.12s.\n"
     ]
    }
   ],
   "source": [
    "n_components = 32\n",
    "patch_size = 32\n",
    "extraction_step = 4\n",
    "imgf = denoise_svd(img1, n_components, patch_size, extraction_step) "
   ]
  },
  {
   "cell_type": "code",
   "execution_count": 7,
   "id": "e6f133cf-ac68-4553-bb5f-eb212e36f479",
   "metadata": {},
   "outputs": [
    {
     "data": {
      "text/plain": [
       "<matplotlib.image.AxesImage at 0x263be099dc0>"
      ]
     },
     "execution_count": 7,
     "metadata": {},
     "output_type": "execute_result"
    }
   ],
   "source": [
    "imshow(imgf)"
   ]
  },
  {
   "cell_type": "code",
   "execution_count": 8,
   "id": "cbedaca3-ee25-459d-99ef-f3feffdc39ea",
   "metadata": {},
   "outputs": [],
   "source": [
    "threshold = 0.3\n",
    "pts = local_max(imgf, min_distance=1, threshold=threshold)"
   ]
  },
  {
   "cell_type": "code",
   "execution_count": null,
   "id": "9f998923-e687-44c5-94bd-e7dc58d54d10",
   "metadata": {},
   "outputs": [],
   "source": []
  },
  {
   "cell_type": "markdown",
   "id": "6daf565e-c6a3-4528-97aa-d6a66721b224",
   "metadata": {},
   "source": [
    "## Clustering using MAADF"
   ]
  },
  {
   "cell_type": "code",
   "execution_count": 9,
   "id": "868b1389-b0e2-4d24-af5f-ed05d36ffe50",
   "metadata": {},
   "outputs": [],
   "source": [
    "file_name2 = dp + 'ADF2_{}.dm4'.format(num)\n",
    "\n",
    "# load image\n",
    "img = load_image(file_name2)\n",
    "\n",
    "img = normalize_image(img, 0, 1)\n",
    "\n",
    "img2 = remove_bg(img, 11)"
   ]
  },
  {
   "cell_type": "code",
   "execution_count": 10,
   "id": "abfeeb35-1dc3-4352-9075-e02cd298b1a4",
   "metadata": {},
   "outputs": [
    {
     "data": {
      "text/plain": [
       "<matplotlib.image.AxesImage at 0x263bdf06760>"
      ]
     },
     "execution_count": 10,
     "metadata": {},
     "output_type": "execute_result"
    }
   ],
   "source": [
    "imshow(img2)"
   ]
  },
  {
   "cell_type": "code",
   "execution_count": 11,
   "id": "a89aad43-bd3b-41db-a0d4-e76bf3e3da79",
   "metadata": {},
   "outputs": [],
   "source": [
    "size = 26\n",
    "kp = KeyPoints(pts, img2, size)\n",
    "ps = kp.extract_patches(size) "
   ]
  },
  {
   "cell_type": "code",
   "execution_count": 12,
   "id": "2f05522c-04de-489d-8728-a42bb8f60ffc",
   "metadata": {},
   "outputs": [
    {
     "data": {
      "text/plain": [
       "<stempy.plot.data_slicer1.DataSlicer at 0x263bdfb9610>"
      ]
     },
     "execution_count": 12,
     "metadata": {},
     "output_type": "execute_result"
    }
   ],
   "source": [
    "imshow(ps)"
   ]
  },
  {
   "cell_type": "code",
   "execution_count": 13,
   "id": "fd15cfb6-edc3-4188-8322-45e5b6f2843a",
   "metadata": {},
   "outputs": [],
   "source": [
    "zps = ZPs(n_max=10, size=ps.shape[1])\n",
    "zps.fit(ps)\n",
    "X = zps.moments\n",
    "X_rot = X.rotinv() "
   ]
  },
  {
   "cell_type": "code",
   "execution_count": 14,
   "id": "2fa4fd17-00ab-4d34-ba77-db5403bd84a9",
   "metadata": {},
   "outputs": [],
   "source": [
    "plot_pca(X, 2)"
   ]
  },
  {
   "cell_type": "code",
   "execution_count": null,
   "id": "cec1d9e0-8f83-41dd-a67b-bee83288befc",
   "metadata": {},
   "outputs": [],
   "source": []
  },
  {
   "cell_type": "code",
   "execution_count": 21,
   "id": "5d2122c0-0468-4273-8823-1fc6026b8260",
   "metadata": {},
   "outputs": [
    {
     "name": "stdout",
     "output_type": "stream",
     "text": [
      "Construct graph from data...\n",
      "Initialize 2-d embedding using PCA layout...\n"
     ]
    }
   ],
   "source": [
    "fg = ForceGraph8(X = X,\n",
    "n_neighbors=10,\n",
    "init_mode = 'pca',\n",
    "num_iterations = 100,\n",
    "num_negative_samples=10,\n",
    "force_params1=(0, 2, 1, 1),\n",
    "force_params2=(2, 5, 5, 1),\n",
    "divide=0.5)\n",
    "\n",
    "from time import time\n",
    "t0 = time()\n",
    "xy = fg.fit_transform(X)"
   ]
  },
  {
   "cell_type": "code",
   "execution_count": null,
   "id": "27ffadc1-10de-452b-bac5-2f2152e20e8a",
   "metadata": {},
   "outputs": [],
   "source": []
  },
  {
   "cell_type": "code",
   "execution_count": 24,
   "id": "c6ee3c50-aa00-4818-be49-96dc607dcfdb",
   "metadata": {},
   "outputs": [],
   "source": [
    "lbs = seg_lbs(xy)"
   ]
  },
  {
   "cell_type": "code",
   "execution_count": 26,
   "id": "30e94e48-1eab-44f7-92e9-87834c2d1066",
   "metadata": {},
   "outputs": [
    {
     "data": {
      "text/plain": [
       "<matplotlib.collections.PathCollection at 0x263c02cca90>"
      ]
     },
     "execution_count": 26,
     "metadata": {},
     "output_type": "execute_result"
    }
   ],
   "source": [
    "fig, ax = plt.subplots(1, 1, figsize=(7.2, 7.2))\n",
    "ax.imshow(img, cmap='gray')\n",
    "ax.scatter(kp.pts[:, 0], kp.pts[:, 1], color=colors_from_lbs(lbs)) "
   ]
  },
  {
   "cell_type": "code",
   "execution_count": 30,
   "id": "117ed486-f653-4b0a-9572-01ac8879dbce",
   "metadata": {},
   "outputs": [
    {
     "data": {
      "text/plain": [
       "(-72.18617016015472, 73.00159317458859, -17.68136293135505, 21.07749119415184)"
      ]
     },
     "execution_count": 30,
     "metadata": {},
     "output_type": "execute_result"
    }
   ],
   "source": [
    "fig, ax = plt.subplots(1, 1, figsize=(7.2, 7.2))\n",
    "ax.scatter(xy[:, 0], xy[:, 1], color=colors_from_lbs(lbs), s=4)\n",
    "ax.axis('equal') "
   ]
  },
  {
   "cell_type": "code",
   "execution_count": null,
   "id": "b5d6436c-7251-4bee-ad9b-e8af3d753fac",
   "metadata": {},
   "outputs": [],
   "source": []
  },
  {
   "cell_type": "code",
   "execution_count": 22,
   "id": "f08435b7-d931-4a66-9d4e-b3483ba4a097",
   "metadata": {},
   "outputs": [],
   "source": [
    "l= interactive_clusters(xy, img, kp.pts, ps, clip=False, s=1) "
   ]
  },
  {
   "cell_type": "code",
   "execution_count": 17,
   "id": "9be71039-1279-4db5-b5e7-8bb420de5dee",
   "metadata": {},
   "outputs": [
    {
     "data": {
      "text/plain": [
       "(78,\n",
       " array([   9,   40,  160,  163,  336,  349,  384,  406,  684,  957, 1009,\n",
       "        1011, 1042, 1170, 1290, 1423, 1467, 1633, 1678, 1724, 1772, 1783,\n",
       "        2077, 2116, 2456, 2514, 2678, 2847, 2850, 3197, 3241, 3286, 3318,\n",
       "        3362, 3413, 3493, 3755, 3757, 3808, 3878, 3885, 4008, 4221, 4275,\n",
       "        4332, 4624, 4794, 4835, 5127, 5195, 5264, 5350, 5402, 5620, 5653,\n",
       "        5664, 5674, 5781, 5827, 5992, 6102, 6179, 6211, 6269, 6442, 6517,\n",
       "        6525, 6599, 6650, 6863, 6989, 7079, 7643, 8109, 8150, 8288, 8375,\n",
       "        8423], dtype=int64))"
      ]
     },
     "execution_count": 17,
     "metadata": {},
     "output_type": "execute_result"
    }
   ],
   "source": [
    "len(l.ind), l.ind"
   ]
  },
  {
   "cell_type": "code",
   "execution_count": 16,
   "id": "11eda121-50dd-4360-9307-d0181ee9157e",
   "metadata": {},
   "outputs": [
    {
     "data": {
      "text/plain": [
       "array([[ 48,   8],\n",
       "       [ 78,   8],\n",
       "       [121,   8],\n",
       "       ...,\n",
       "       [452, 504],\n",
       "       [461, 504],\n",
       "       [482, 504]], dtype=int64)"
      ]
     },
     "execution_count": 16,
     "metadata": {},
     "output_type": "execute_result"
    }
   ],
   "source": [
    "kp.pts"
   ]
  },
  {
   "cell_type": "code",
   "execution_count": 17,
   "id": "80f0d170-73b1-46bf-91e2-6f75c4d26ac1",
   "metadata": {},
   "outputs": [],
   "source": [
    "np.save('pts_Ti_25.npy', kp.pts)"
   ]
  },
  {
   "cell_type": "code",
   "execution_count": 18,
   "id": "5071eccb-4c82-49f7-9dd1-67737c018806",
   "metadata": {},
   "outputs": [],
   "source": [
    "np.save('ind_Ti_25.npy', l.ind)"
   ]
  },
  {
   "cell_type": "code",
   "execution_count": null,
   "id": "a8424b5a-fa75-4418-b38b-184f24285b17",
   "metadata": {},
   "outputs": [],
   "source": []
  },
  {
   "cell_type": "code",
   "execution_count": null,
   "id": "f42baeff-fba7-4018-bf76-9dd6c4df7f46",
   "metadata": {},
   "outputs": [],
   "source": []
  }
 ],
 "metadata": {
  "kernelspec": {
   "display_name": "Python 3 (ipykernel)",
   "language": "python",
   "name": "python3"
  },
  "language_info": {
   "codemirror_mode": {
    "name": "ipython",
    "version": 3
   },
   "file_extension": ".py",
   "mimetype": "text/x-python",
   "name": "python",
   "nbconvert_exporter": "python",
   "pygments_lexer": "ipython3",
   "version": "3.9.18"
  }
 },
 "nbformat": 4,
 "nbformat_minor": 5
}
