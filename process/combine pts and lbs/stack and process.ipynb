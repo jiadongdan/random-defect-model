{
 "cells": [
  {
   "cell_type": "code",
   "id": "initial_id",
   "metadata": {
    "collapsed": true,
    "ExecuteTime": {
     "end_time": "2024-08-09T14:25:32.139853Z",
     "start_time": "2024-08-09T14:25:32.118594Z"
    }
   },
   "source": [
    "import numpy as np\n",
    "import matplotlib.pyplot as plt\n",
    "%matplotlib qt\n",
    "from mtflearn.io import load_image\n",
    "from stemplot import imshow, colors_from_lbs\n",
    "from mtflearn.features import ZPs, get_characteristic_length, local_max, KeyPoints\n",
    "import re\n",
    "from skimage.transform import resize"
   ],
   "outputs": [],
   "execution_count": 45
  },
  {
   "metadata": {},
   "cell_type": "markdown",
   "source": "Load images, pts and lbs",
   "id": "b8355f375fdd735d"
  },
  {
   "metadata": {
    "ExecuteTime": {
     "end_time": "2024-08-09T14:30:19.113610Z",
     "start_time": "2024-08-09T14:30:19.093675Z"
    }
   },
   "cell_type": "code",
   "source": [
    "size_dict = {\n",
    "            'Ti':{'1028_ADF1_2':9,'1028_ADF1_11':8,'1028_ADF1_25':9,'0106_ADF1_1':17,'0106_ADF1_6':17,'0106_ADF1_8':18,'0106_ADF1_10':18,'0106_ADF1_11':21,'0106_ADF1_12':21},\n",
    "            'V':{'E1_ADF1_3':14,'E1_ADF1_8':18,'E2_ADF1_3':19,'E2_ADF1_4':18,'E2_ADF1_5':14,'E2_ADF1_6':17,'E2_ADF1_7':17,'E2_ADF1_8':18,'E2_ADF1_14':26},\n",
    "            'Mn':{'ADF1_2':22,'ADF1_4':18,'ADF1_7':18,'ADF1_12':22,'ADF1_18':21},\n",
    "            'Co':{'ADF1_5':18,'ADF1_8':15,'ADF1_9':15,'ADF1_18':14,'ADF1_27':17,'ADF1_10':18,'ADF1_11':18}\n",
    "            }"
   ],
   "id": "c80734460b1c52b2",
   "outputs": [],
   "execution_count": 56
  },
  {
   "metadata": {
    "ExecuteTime": {
     "end_time": "2024-08-09T13:55:01.119815Z",
     "start_time": "2024-08-09T13:55:01.103131Z"
    }
   },
   "cell_type": "code",
   "source": [
    "pattern = r'^\\d{4}$|^[Ee]\\d$'\n",
    "\n",
    "# 使用 re.match 来尝试匹配字符串\n",
    "if re.match(pattern, 'V5'):\n",
    "    print(1)"
   ],
   "id": "9836d1abf974071",
   "outputs": [],
   "execution_count": 10
  },
  {
   "metadata": {
    "ExecuteTime": {
     "end_time": "2024-08-09T14:20:55.576582Z",
     "start_time": "2024-08-09T14:20:55.552545Z"
    }
   },
   "cell_type": "code",
   "source": [
    "import glob\n",
    "def find_imgs(element):\n",
    "    dm4_files = glob.glob(f\"{element}/*.dm4\")\n",
    "    adf1_files = []\n",
    "    adf2_files = []\n",
    "    for file in dm4_files:\n",
    "        if \"ADF1\" in file and \"ADF2\" not in file:\n",
    "            adf1_files.append(file)\n",
    "        elif \"ADF2\" in file and \"ADF1\" not in file:\n",
    "            adf2_files.append(file)\n",
    "    return adf1_files, adf2_files\n",
    "\n",
    "def find_pts_and_lbs(element):\n",
    "    folder_path = f\"{element} pts and lbs\"\n",
    "    npy_files = glob.glob(f\"{folder_path}/*.npy\")\n",
    "    pts_files = []\n",
    "    lbs_files = []\n",
    "    for file in npy_files:\n",
    "        file_name = file.split(\"\\\\\")[-1]\n",
    "        if \"pts\" in file_name and \"lbs\" not in file_name:\n",
    "            pts_files.append(file)\n",
    "        elif \"lbs\" in file_name and \"pts\" not in file_name:\n",
    "            lbs_files.append(file)\n",
    "    return pts_files, lbs_files\n",
    "                    \n",
    "def find_matching_images(lbs_filenames,pts_filenames, adf1_filenames,adf2_filenames):\n",
    "    matching_images = []\n",
    "\n",
    "    for idx,lbs_file in enumerate(lbs_filenames):\n",
    "        files = []\n",
    "        files.append(lbs_file)\n",
    "        files.append(pts_filenames[idx])\n",
    "        file_name = lbs_file.split('\\\\')[-1]\n",
    "        if re.match(r'^[0-9E]', file_name):\n",
    "            base_name = file_name.split('_')[0]\n",
    "            if base_name[0] == 'E':\n",
    "                base_name = base_name.split(' ')[0]\n",
    "        else:\n",
    "            base_name = ''\n",
    "        match = re.search(r'(Ti|V|Mn|Co)(\\d+)', file_name)\n",
    "        if match:\n",
    "            element = match.group(1)\n",
    "            number = match.group(2)\n",
    "            number = number+'.dm4'\n",
    "            for idx2,img_file in enumerate(adf1_filenames):\n",
    "                if base_name and (base_name in img_file and number in img_file):\n",
    "                    files.append(img_file)\n",
    "                    files.append(adf2_filenames[idx2])\n",
    "                    file_name = (img_file.split('\\\\')[1]).split('.')[0]\n",
    "                    files.append(size_dict[element][file_name])\n",
    "                    break\n",
    "                elif not base_name and number in img_file:\n",
    "                    files.append(img_file)\n",
    "                    files.append(adf2_filenames[idx2])\n",
    "                    file_name = (img_file.split('\\\\')[1]).split('.')[0]\n",
    "                    files.append(size_dict[element][file_name])\n",
    "                    break\n",
    "        matching_images.append(files)\n",
    "    return matching_images"
   ],
   "id": "74a7270984f2d8ab",
   "outputs": [],
   "execution_count": 37
  },
  {
   "metadata": {
    "ExecuteTime": {
     "end_time": "2024-08-09T14:28:25.285771Z",
     "start_time": "2024-08-09T14:28:25.270820Z"
    }
   },
   "cell_type": "code",
   "source": [
    "Ti_adf1,Ti_adf2 = find_imgs('Ti')\n",
    "Ti_pts,Ti_lbs = find_pts_and_lbs('Ti')\n",
    "Ti_pair_files = find_matching_images(Ti_lbs,Ti_pts,Ti_adf1,Ti_adf2)"
   ],
   "id": "2e7c619ecc51a16",
   "outputs": [],
   "execution_count": 52
  },
  {
   "metadata": {
    "ExecuteTime": {
     "end_time": "2024-08-09T14:28:35.372794Z",
     "start_time": "2024-08-09T14:28:25.829094Z"
    }
   },
   "cell_type": "code",
   "source": [
    "for info in Ti_pair_files:\n",
    "    _,_,img1_file,img2_file,size = info\n",
    "    img1 = load_image(img1_file)\n",
    "    img2 = load_image(img2_file)\n",
    "    file_name = (img1_file.split('\\\\')[1]).split('.')[0]\n",
    "    if img1.shape[0] == 2048:\n",
    "        img1 = resize(img1, (1024, 1024))\n",
    "        img2 = resize(img2, (1024, 1024))\n",
    "    print(file_name,get_characteristic_length(img1),get_characteristic_length(img2),size)"
   ],
   "id": "a9274bd9fdef84da",
   "outputs": [
    {
     "name": "stdout",
     "output_type": "stream",
     "text": [
      "0106_ADF1_10 18 18 18\n",
      "0106_ADF1_11 21 21 21\n",
      "0106_ADF1_12 21 21 21\n",
      "0106_ADF1_1 17 17 17\n",
      "0106_ADF1_6 17 17 17\n",
      "0106_ADF1_8 18 18 18\n",
      "1028_ADF1_11 8 8 8\n",
      "1028_ADF1_25 9 8 9\n",
      "1028_ADF1_2 9 9 9\n"
     ]
    }
   ],
   "execution_count": 53
  },
  {
   "metadata": {
    "ExecuteTime": {
     "end_time": "2024-08-09T14:30:22.499872Z",
     "start_time": "2024-08-09T14:30:22.479156Z"
    }
   },
   "cell_type": "code",
   "source": [
    "V_adf1,V_adf2 = find_imgs('V')\n",
    "V_pts,V_lbs = find_pts_and_lbs('V')\n",
    "V_pair_files = find_matching_images(V_lbs,V_pts,V_adf1,V_adf2)"
   ],
   "id": "20db778e3b6869e5",
   "outputs": [],
   "execution_count": 57
  },
  {
   "metadata": {
    "ExecuteTime": {
     "end_time": "2024-08-09T14:30:29.659404Z",
     "start_time": "2024-08-09T14:30:22.631163Z"
    }
   },
   "cell_type": "code",
   "source": [
    "for info in V_pair_files:\n",
    "    _,_,img1_file,img2_file,size = info\n",
    "    img1 = load_image(img1_file)\n",
    "    img2 = load_image(img2_file)\n",
    "    file_name = (img1_file.split('\\\\')[1]).split('.')[0]\n",
    "    if img1.shape[0] == 2048:\n",
    "        img1 = resize(img1, (1024, 1024))\n",
    "        img2 = resize(img2, (1024, 1024))\n",
    "    print(file_name,get_characteristic_length(img1),get_characteristic_length(img2),size)"
   ],
   "id": "cb07da25310b78b5",
   "outputs": [
    {
     "name": "stdout",
     "output_type": "stream",
     "text": [
      "E1_ADF1_3 14 14 14\n",
      "E1_ADF1_8 18 18 18\n",
      "E2_ADF1_14 26 26 26\n",
      "E2_ADF1_3 18 18 19\n",
      "E2_ADF1_14 26 26 26\n",
      "E2_ADF1_5 14 14 14\n",
      "E2_ADF1_6 17 17 17\n",
      "E2_ADF1_7 17 17 17\n",
      "E2_ADF1_8 17 17 18\n"
     ]
    }
   ],
   "execution_count": 58
  },
  {
   "metadata": {
    "ExecuteTime": {
     "end_time": "2024-08-09T14:21:42.841956Z",
     "start_time": "2024-08-09T14:21:42.830987Z"
    }
   },
   "cell_type": "code",
   "source": [
    "Mn_adf1,Mn_adf2 = find_imgs('Mn')\n",
    "Mn_pts,Mn_lbs = find_pts_and_lbs('Mn')\n",
    "Mn_pair_files = find_matching_images(Mn_lbs,Mn_pts,Mn_adf1,Mn_adf2)"
   ],
   "id": "90a177f1406052b8",
   "outputs": [],
   "execution_count": 41
  },
  {
   "metadata": {
    "ExecuteTime": {
     "end_time": "2024-08-09T14:30:59.596874Z",
     "start_time": "2024-08-09T14:30:55.590363Z"
    }
   },
   "cell_type": "code",
   "source": [
    "for info in Mn_pair_files:\n",
    "    _,_,img1_file,img2_file,size = info\n",
    "    img1 = load_image(img1_file)\n",
    "    img2 = load_image(img2_file)\n",
    "    file_name = (img1_file.split('\\\\')[1]).split('.')[0]\n",
    "    if img1.shape[0] == 2048:\n",
    "        img1 = resize(img1, (1024, 1024))\n",
    "        img2 = resize(img2, (1024, 1024))\n",
    "    print(file_name,get_characteristic_length(img1),get_characteristic_length(img2),size)"
   ],
   "id": "4a746f0af3844d34",
   "outputs": [
    {
     "name": "stdout",
     "output_type": "stream",
     "text": [
      "ADF1_12 21 21 22\n",
      "ADF1_18 21 21 21\n",
      "ADF1_12 21 21 22\n",
      "ADF1_4 17 17 18\n",
      "ADF1_7 17 17 18\n"
     ]
    }
   ],
   "execution_count": 59
  },
  {
   "metadata": {
    "ExecuteTime": {
     "end_time": "2024-08-09T14:21:43.194807Z",
     "start_time": "2024-08-09T14:21:43.186834Z"
    }
   },
   "cell_type": "code",
   "source": [
    "Co_adf1,Co_adf2 = find_imgs('Co')\n",
    "Co_pts,Co_lbs = find_pts_and_lbs('Co')\n",
    "Co_pair_files = find_matching_images(Co_lbs,Co_pts,Co_adf1,Co_adf2)"
   ],
   "id": "99f70dcb486bb04c",
   "outputs": [],
   "execution_count": 42
  },
  {
   "metadata": {
    "ExecuteTime": {
     "end_time": "2024-08-09T14:31:20.412227Z",
     "start_time": "2024-08-09T14:31:13.663919Z"
    }
   },
   "cell_type": "code",
   "source": [
    "for info in Co_pair_files:\n",
    "    _,_,img1_file,img2_file,size = info\n",
    "    img1 = load_image(img1_file)\n",
    "    img2 = load_image(img2_file)\n",
    "    file_name = (img1_file.split('\\\\')[1]).split('.')[0]\n",
    "    if img1.shape[0] == 2048:\n",
    "        img1 = resize(img1, (1024, 1024))\n",
    "        img2 = resize(img2, (1024, 1024))\n",
    "    print(file_name,get_characteristic_length(img1),get_characteristic_length(img2),size)"
   ],
   "id": "1725f085b08ffc29",
   "outputs": [
    {
     "name": "stdout",
     "output_type": "stream",
     "text": [
      "ADF1_10 18 18 18\n",
      "ADF1_11 18 18 18\n",
      "ADF1_18 14 14 14\n",
      "ADF1_27 17 17 17\n",
      "ADF1_5 18 18 18\n",
      "ADF1_18 14 14 14\n",
      "ADF1_9 15 15 15\n"
     ]
    }
   ],
   "execution_count": 60
  },
  {
   "metadata": {},
   "cell_type": "code",
   "outputs": [],
   "execution_count": null,
   "source": "",
   "id": "52006d2b26c2efe2"
  }
 ],
 "metadata": {
  "kernelspec": {
   "display_name": "Python 3",
   "language": "python",
   "name": "python3"
  },
  "language_info": {
   "codemirror_mode": {
    "name": "ipython",
    "version": 2
   },
   "file_extension": ".py",
   "mimetype": "text/x-python",
   "name": "python",
   "nbconvert_exporter": "python",
   "pygments_lexer": "ipython2",
   "version": "2.7.6"
  }
 },
 "nbformat": 4,
 "nbformat_minor": 5
}
