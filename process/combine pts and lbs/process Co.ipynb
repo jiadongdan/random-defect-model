{
 "cells": [
  {
   "cell_type": "code",
   "id": "initial_id",
   "metadata": {
    "collapsed": true,
    "ExecuteTime": {
     "end_time": "2024-08-13T06:11:07.505609Z",
     "start_time": "2024-08-13T06:11:03.721636Z"
    }
   },
   "source": [
    "%matplotlib qt\n",
    "import numpy as np\n",
    "import matplotlib.pyplot as plt "
   ],
   "outputs": [],
   "execution_count": 1
  },
  {
   "metadata": {
    "ExecuteTime": {
     "end_time": "2024-08-13T06:11:23.200532Z",
     "start_time": "2024-08-13T06:11:10.886235Z"
    }
   },
   "cell_type": "code",
   "source": [
    "from mtflearn.io import load_image\n",
    "from stemplot import imshow, colors_from_lbs\n",
    "from mtflearn.features import ZPs, get_characteristic_length, local_max, KeyPoints, pca\n",
    "from mtflearn.utils import normalize_image, remove_bg\n",
    "from mtflearn.manifold import ForceGraph8\n",
    "from mtflearn.denoise import denoise_svd\n",
    "\n",
    "import re\n",
    "from skimage.transform import resize\n",
    "from stemplot.utils import plot_pca\n",
    "from stemplot.interactive import interactive_clusters\n"
   ],
   "id": "ce0c22a36c9074ec",
   "outputs": [],
   "execution_count": 2
  },
  {
   "metadata": {
    "ExecuteTime": {
     "end_time": "2024-08-13T06:11:24.290661Z",
     "start_time": "2024-08-13T06:11:24.252654Z"
    }
   },
   "cell_type": "code",
   "source": [
    "import glob\n",
    "\n",
    "size_dict = {\n",
    "    'Ti':{'1028_ADF1_2':9,'1028_ADF1_11':8,'1028_ADF1_25':9,'0106_ADF1_1':17,'0106_ADF1_6':17,'0106_ADF1_8':18,'0106_ADF1_10':18,'0106_ADF1_11':21,'0106_ADF1_12':21},\n",
    "    'V':{'E1_ADF1_3':14,'E1_ADF1_8':18,'E2_ADF1_3':19,'E2_ADF1_4':18,'E2_ADF1_5':14,'E2_ADF1_6':17,'E2_ADF1_7':17,'E2_ADF1_8':18,'E2_ADF1_14':26},\n",
    "    'Mn':{'ADF1_2':22,'ADF1_4':18,'ADF1_7':18,'ADF1_12':22,'ADF1_18':21},\n",
    "    'Co':{'ADF1_5':18,'ADF1_8':15,'ADF1_9':15,'ADF1_18':14,'ADF1_27':17,'ADF1_10':18,'ADF1_11':18}\n",
    "}\n",
    "\n",
    "def find_imgs(element):\n",
    "    '''\n",
    "    Given an element, this function is to find all images in folder\n",
    "    :param element: \n",
    "    :return: \n",
    "    '''\n",
    "    dm4_files = glob.glob(f\"{element}/*.dm4\")\n",
    "    adf1_files = []\n",
    "    adf2_files = []\n",
    "    for file in dm4_files:\n",
    "        if \"ADF1\" in file and \"ADF2\" not in file:\n",
    "            adf1_files.append(file)\n",
    "        elif \"ADF2\" in file and \"ADF1\" not in file:\n",
    "            adf2_files.append(file)\n",
    "    return adf1_files, adf2_files\n",
    "\n",
    "def find_pts_and_lbs(element):\n",
    "    folder_path = f\"{element} pts and lbs\"\n",
    "    npy_files = glob.glob(f\"{folder_path}/*.npy\")\n",
    "    pts_files = []\n",
    "    lbs_files = []\n",
    "    for file in npy_files:\n",
    "        file_name = file.split(\"\\\\\")[-1]\n",
    "        if \"pts\" in file_name and \"lbs\" not in file_name:\n",
    "            pts_files.append(file)\n",
    "        elif \"lbs\" in file_name and \"pts\" not in file_name:\n",
    "            lbs_files.append(file)\n",
    "    return pts_files, lbs_files\n",
    "\n",
    "def find_matching_images(lbs_filenames,pts_filenames, adf1_filenames,adf2_filenames):\n",
    "    matching_images = []\n",
    "\n",
    "    for idx,lbs_file in enumerate(lbs_filenames):\n",
    "        files = []\n",
    "        files.append(lbs_file)\n",
    "        files.append(pts_filenames[idx])\n",
    "        file_name = lbs_file.split('\\\\')[-1]\n",
    "        if re.match(r'^[0-9E]', file_name):\n",
    "            base_name = file_name.split('_')[0]\n",
    "            if base_name[0] == 'E':\n",
    "                base_name = base_name.split(' ')[0]\n",
    "        else:\n",
    "            base_name = ''\n",
    "        match = re.search(r'(Ti|V|Mn|Co)(\\d+)', file_name)\n",
    "        if match:\n",
    "            element = match.group(1)\n",
    "            number = match.group(2)\n",
    "            number = number+'.dm4'\n",
    "            for idx2,img_file in enumerate(adf1_filenames):\n",
    "                if base_name and (base_name in img_file and number in img_file):\n",
    "                    files.append(img_file)\n",
    "                    files.append(adf2_filenames[idx2])\n",
    "                    file_name = (img_file.split('\\\\')[1]).split('.')[0]\n",
    "                    files.append(size_dict[element][file_name])\n",
    "                    break\n",
    "                elif not base_name and number in img_file:\n",
    "                    files.append(img_file)\n",
    "                    files.append(adf2_filenames[idx2])\n",
    "                    file_name = (img_file.split('\\\\')[1]).split('.')[0]\n",
    "                    files.append(size_dict[element][file_name])\n",
    "                    break\n",
    "        matching_images.append(files)\n",
    "    return matching_images"
   ],
   "id": "389fd5b23012ac6e",
   "outputs": [],
   "execution_count": 3
  },
  {
   "metadata": {},
   "cell_type": "markdown",
   "source": "## process filenames",
   "id": "693d45d36464ba52"
  },
  {
   "metadata": {
    "ExecuteTime": {
     "end_time": "2024-08-13T06:11:25.239084Z",
     "start_time": "2024-08-13T06:11:25.218085Z"
    }
   },
   "cell_type": "code",
   "source": [
    "element = 'Ti'\n",
    "img1_filenames, img2_filenames = find_imgs(element)\n",
    "pts_filenames, lbs_filenames = find_pts_and_lbs(element)\n",
    "matched_filenames = find_matching_images(lbs_filenames,pts_filenames, img1_filenames,img2_filenames)"
   ],
   "id": "39753a462c489e66",
   "outputs": [],
   "execution_count": 4
  },
  {
   "metadata": {
    "ExecuteTime": {
     "end_time": "2024-08-13T08:09:02.880870Z",
     "start_time": "2024-08-13T08:09:01.543396Z"
    }
   },
   "cell_type": "code",
   "source": [
    "file_idx = 5\n",
    "lbs_filename, pts_filename, img1_filename, img2_filename, size = matched_filenames[file_idx]\n",
    "img1 = load_image(img1_filename)\n",
    "img2 = load_image(img2_filename)\n",
    "file_name = (img1_filename.split('\\\\')[1]).split('.')[0]\n",
    "if img1.shape[0] == 2048:\n",
    "    img1 = resize(img1, (1024, 1024), order=0)\n",
    "    img2 = resize(img2, (1024, 1024), order=0)\n",
    "        \n",
    "# normalize \n",
    "img1 = normalize_image(img1)\n",
    "img2 = normalize_image(img2)\n",
    "\n",
    "# dopants\n",
    "#img1 = remove_bg(img1, 5)\n",
    "#img2 = remove_bg(img2, 5)\n",
    "\n",
    "#img1 = normalize_image(img1)\n",
    "#img2 = normalize_image(img2)\n",
    "\n",
    "# denoise, do NOT enter this\n",
    "if False:\n",
    "    n_components = 32\n",
    "    patch_size = 32\n",
    "    extraction_step = 4\n",
    "    imgf1 = denoise_svd(img1, n_components, patch_size, extraction_step)\n",
    "    imgf2 = denoise_svd(img2, n_components, patch_size, extraction_step)\n",
    "    \n",
    "    imgf1 = normalize_image(imgf1)\n",
    "    imgf2 = normalize_image(imgf2)\n",
    "\n",
    "# pts\n",
    "pts = np.load(pts_filename)\n",
    "lbs = np.load(lbs_filename)\n",
    "\n",
    "mask1 = np.logical_or(lbs==0, lbs==1)\n",
    "mask2 = np.logical_or(lbs==2, lbs==3)\n",
    "\n",
    "size = int(size * np.sqrt(3))\n",
    "#size = int(size) - 7"
   ],
   "id": "e49e131170d1fa8b",
   "outputs": [],
   "execution_count": 51
  },
  {
   "metadata": {
    "ExecuteTime": {
     "end_time": "2024-08-13T08:09:04.235627Z",
     "start_time": "2024-08-13T08:09:04.224647Z"
    }
   },
   "cell_type": "code",
   "source": "",
   "id": "99eaff864c48a931",
   "outputs": [],
   "execution_count": 51
  },
  {
   "metadata": {
    "ExecuteTime": {
     "end_time": "2024-08-13T08:09:04.531621Z",
     "start_time": "2024-08-13T08:09:04.446623Z"
    }
   },
   "cell_type": "code",
   "source": [
    "kp = KeyPoints(pts, img2, size)\n",
    "ps = kp.extract_patches(size)"
   ],
   "id": "3f9568744209557e",
   "outputs": [],
   "execution_count": 52
  },
  {
   "metadata": {
    "ExecuteTime": {
     "end_time": "2024-08-13T08:27:09.073155Z",
     "start_time": "2024-08-13T08:27:08.987159Z"
    }
   },
   "cell_type": "code",
   "source": [
    "zps = ZPs(n_max=12, size=ps.shape[1])\n",
    "moments = zps.fit_transform(ps)\n",
    "X = moments.select([0]).data\n",
    "#X1 = X[mask1]\n",
    "X1 = X[mask1][:, 1:]\n",
    "X2 = X[mask2][:, 1:]\n",
    "lbs1 = lbs[mask1].astype(int)\n",
    "lbs2 = lbs[mask2].astype(int)"
   ],
   "id": "d343b75706af42e1",
   "outputs": [],
   "execution_count": 72
  },
  {
   "metadata": {
    "ExecuteTime": {
     "end_time": "2024-08-13T08:27:09.822134Z",
     "start_time": "2024-08-13T08:27:09.709157Z"
    }
   },
   "cell_type": "code",
   "source": "imshow(ps)",
   "id": "dbeca77a66939d0e",
   "outputs": [
    {
     "data": {
      "text/plain": [
       "<stemplot.interactive._data_slicer.DataSlicer at 0x24e98a4c970>"
      ]
     },
     "execution_count": 73,
     "metadata": {},
     "output_type": "execute_result"
    }
   ],
   "execution_count": 73
  },
  {
   "metadata": {
    "ExecuteTime": {
     "end_time": "2024-08-13T08:27:10.941039Z",
     "start_time": "2024-08-13T08:27:10.920514Z"
    }
   },
   "cell_type": "code",
   "source": "",
   "id": "29454e6cd82e33b1",
   "outputs": [],
   "execution_count": 73
  },
  {
   "metadata": {},
   "cell_type": "markdown",
   "source": "## try FR",
   "id": "f3aba6a0dc74f6f5"
  },
  {
   "metadata": {
    "ExecuteTime": {
     "end_time": "2024-08-13T08:51:44.407916Z",
     "start_time": "2024-08-13T08:51:44.248921Z"
    }
   },
   "cell_type": "code",
   "source": "plot_pca(X1, lbs=lbs1)",
   "id": "f4b082f6027f496",
   "outputs": [],
   "execution_count": 82
  },
  {
   "metadata": {
    "ExecuteTime": {
     "end_time": "2024-08-23T06:32:42.395891Z",
     "start_time": "2024-08-23T06:32:16.044362Z"
    }
   },
   "cell_type": "code",
   "source": [
    "fg = ForceGraph8(X = X1,\n",
    "                 n_neighbors=5,\n",
    "                 init_mode = 'pca',\n",
    "                 num_iterations = 100,\n",
    "                 num_negative_samples=5,\n",
    "                 force_params1=(0, 2, 1, 1),\n",
    "                 force_params2=(2, 5, 5, 1),\n",
    "                 divide=0.99)\n",
    "\n",
    "from time import time\n",
    "t0 = time()\n",
    "xy1 = fg.fit_transform(X1)\n",
    "\n",
    "#app1 = interactive_clusters(pca(X1), img2, pts[mask1], ps[mask1], lbs=lbs1, s=1, max_samples=10000) \n",
    "app1 = interactive_clusters(xy1, img2, pts[mask1], ps[mask1], lbs=lbs1, s=1, max_samples=10000)"
   ],
   "id": "8eb2dc962c81f402",
   "outputs": [
    {
     "name": "stdout",
     "output_type": "stream",
     "text": [
      "Construct graph from data...\n",
      "Initialize 2-d embedding using PCA layout...\n"
     ]
    }
   ],
   "execution_count": 84
  },
  {
   "metadata": {
    "ExecuteTime": {
     "end_time": "2024-08-13T08:51:59.783283Z",
     "start_time": "2024-08-13T08:51:59.773265Z"
    }
   },
   "cell_type": "code",
   "source": "",
   "id": "f814373030aa8a85",
   "outputs": [],
   "execution_count": 82
  },
  {
   "metadata": {
    "ExecuteTime": {
     "end_time": "2024-08-13T08:12:31.968248Z",
     "start_time": "2024-08-13T08:12:31.821250Z"
    }
   },
   "cell_type": "code",
   "source": "plot_pca(X2, lbs=lbs2)",
   "id": "f74001c73f77b728",
   "outputs": [],
   "execution_count": 59
  },
  {
   "metadata": {
    "ExecuteTime": {
     "end_time": "2024-08-13T08:52:12.538980Z",
     "start_time": "2024-08-13T08:52:10.615337Z"
    }
   },
   "cell_type": "code",
   "source": [
    "fg = ForceGraph8(X = X2,\n",
    "                 n_neighbors=5,\n",
    "                 init_mode = 'pca',\n",
    "                 num_iterations = 100,\n",
    "                 num_negative_samples=5,\n",
    "                 force_params1=(0, 2, 1, 1),\n",
    "                 force_params2=(2, 5, 5, 1),\n",
    "                 divide=0.99)\n",
    "\n",
    "from time import time\n",
    "t0 = time()\n",
    "xy2 = fg.fit_transform(X2)\n",
    "\n",
    "app2 = interactive_clusters(pca(X2), img2, pts[mask2], ps[mask2], lbs=lbs2, s=1)\n",
    "#app2 = interactive_clusters(xy2, img2, pts[mask2], ps[mask2], lbs=lbs2, s=1)"
   ],
   "id": "b1bf705f4ac41403",
   "outputs": [
    {
     "name": "stdout",
     "output_type": "stream",
     "text": [
      "Construct graph from data...\n",
      "Initialize 2-d embedding using PCA layout...\n"
     ]
    }
   ],
   "execution_count": 83
  },
  {
   "metadata": {
    "ExecuteTime": {
     "end_time": "2024-08-13T03:44:43.095616Z",
     "start_time": "2024-08-13T03:44:43.071597Z"
    }
   },
   "cell_type": "code",
   "source": "",
   "id": "feca5da16485fc09",
   "outputs": [],
   "execution_count": 255
  },
  {
   "metadata": {
    "ExecuteTime": {
     "end_time": "2024-08-13T08:50:28.506035Z",
     "start_time": "2024-08-13T08:50:28.486017Z"
    }
   },
   "cell_type": "code",
   "source": "",
   "id": "2244626881e91f0e",
   "outputs": [],
   "execution_count": 78
  },
  {
   "metadata": {
    "ExecuteTime": {
     "end_time": "2024-08-13T08:50:29.358422Z",
     "start_time": "2024-08-13T08:50:29.230425Z"
    }
   },
   "cell_type": "code",
   "source": [
    "fig, ax = plt.subplots(1, 1, figsize=(7.2, 7.2))\n",
    "ax.imshow(img2, cmap='gray')\n",
    "ax.scatter(pts[:, 0], pts[:, 1], color='r', s=10) "
   ],
   "id": "a8e83429e141a755",
   "outputs": [
    {
     "data": {
      "text/plain": [
       "<matplotlib.collections.PathCollection at 0x24e9069a620>"
      ]
     },
     "execution_count": 79,
     "metadata": {},
     "output_type": "execute_result"
    }
   ],
   "execution_count": 79
  },
  {
   "metadata": {
    "ExecuteTime": {
     "end_time": "2024-08-12T06:41:45.880303Z",
     "start_time": "2024-08-12T06:41:45.870284Z"
    }
   },
   "cell_type": "code",
   "source": "",
   "id": "6788dc40a9aaa5a0",
   "outputs": [],
   "execution_count": 50
  },
  {
   "metadata": {},
   "cell_type": "code",
   "outputs": [],
   "execution_count": null,
   "source": "",
   "id": "72dc943adf0910b8"
  }
 ],
 "metadata": {
  "kernelspec": {
   "display_name": "Python 3",
   "language": "python",
   "name": "python3"
  },
  "language_info": {
   "codemirror_mode": {
    "name": "ipython",
    "version": 2
   },
   "file_extension": ".py",
   "mimetype": "text/x-python",
   "name": "python",
   "nbconvert_exporter": "python",
   "pygments_lexer": "ipython2",
   "version": "2.7.6"
  }
 },
 "nbformat": 4,
 "nbformat_minor": 5
}
