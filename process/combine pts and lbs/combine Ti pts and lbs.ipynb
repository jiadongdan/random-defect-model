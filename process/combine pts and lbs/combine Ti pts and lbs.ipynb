{
 "cells": [
  {
   "cell_type": "code",
   "execution_count": null,
   "id": "initial_id",
   "metadata": {
    "collapsed": true
   },
   "outputs": [],
   "source": [
    "%matplotlib qt\n",
    "import numpy as np\n",
    "import matplotlib.pyplot as plt"
   ]
  },
  {
   "metadata": {},
   "cell_type": "markdown",
   "source": [
    "## Load images, pts and lbs\n",
    "\n",
    "* a function to get filenames of images related to Ti, adf1 or adf2\n",
    "* a function to get corresponding filenames of pts\n",
    "* a function to get corresponding filenames of lbs\n",
    "\n",
    "* `img_haadf_filenames`\n",
    "* `img_maadf_filenames`\n",
    "* `pts_filenames`\n",
    "* `lbs_filenames`"
   ],
   "id": "128ee1a333fbe115"
  },
  {
   "metadata": {},
   "cell_type": "code",
   "outputs": [],
   "execution_count": null,
   "source": [
    "for img1_filename, img2_filename, pts_filename, lbs_filename in zip(img_haadf_filenames, img_maadf_filenames, pts_filenames, lbs_filenames):\n",
    "    img1 = \n",
    "    img2 = \n",
    "    pts = \n",
    "    lbs = \n",
    "    \n",
    "    # get features and stack"
   ],
   "id": "17400ad66b8cf5fd"
  },
  {
   "metadata": {},
   "cell_type": "code",
   "outputs": [],
   "execution_count": null,
   "source": "",
   "id": "2335629f66ea02ed"
  }
 ],
 "metadata": {
  "kernelspec": {
   "display_name": "Python 3",
   "language": "python",
   "name": "python3"
  },
  "language_info": {
   "codemirror_mode": {
    "name": "ipython",
    "version": 2
   },
   "file_extension": ".py",
   "mimetype": "text/x-python",
   "name": "python",
   "nbconvert_exporter": "python",
   "pygments_lexer": "ipython2",
   "version": "2.7.6"
  }
 },
 "nbformat": 4,
 "nbformat_minor": 5
}
