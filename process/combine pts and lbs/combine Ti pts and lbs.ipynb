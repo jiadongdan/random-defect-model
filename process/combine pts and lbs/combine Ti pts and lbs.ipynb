{
 "cells": [
  {
   "cell_type": "code",
   "execution_count": null,
   "id": "initial_id",
   "metadata": {
    "collapsed": true
   },
   "outputs": [],
   "source": [
    "%matplotlib qt\n",
    "import numpy as np\n",
    "import matplotlib.pyplot as plt"
   ]
  },
  {
   "metadata": {},
   "cell_type": "markdown",
   "source": [
    "## Load images, pts and lbs\n",
    "\n",
    "* a function to get filenames of images related to Ti, adf1 or adf2\n",
    "* a function to get corresponding filenames of pts\n",
    "* a function to get corresponding filenames of lbs\n",
    "\n",
    "* `img_haadf_filenames`\n",
    "* `img_maadf_filenames`\n",
    "* `pts_filenames`\n",
    "* `lbs_filenames`"
   ],
   "id": "128ee1a333fbe115"
  },
  {
   "metadata": {
    "ExecuteTime": {
     "end_time": "2024-08-08T12:53:12.792029Z",
     "start_time": "2024-08-08T12:53:12.778029Z"
    }
   },
   "cell_type": "code",
   "source": "",
   "id": "34f0768ce74e112d",
   "outputs": [],
   "execution_count": null
  },
  {
   "metadata": {
    "ExecuteTime": {
     "end_time": "2024-08-08T12:53:29.029060Z",
     "start_time": "2024-08-08T12:53:29.019060Z"
    }
   },
   "cell_type": "code",
   "source": "",
   "id": "c8b387ad42b0655e",
   "outputs": [],
   "execution_count": null
  },
  {
   "metadata": {},
   "cell_type": "code",
   "outputs": [],
   "execution_count": null,
   "source": [
    "for img1_filename, img2_filename, pts_filename, lbs_filename in zip(img_haadf_filenames, img_maadf_filenames, pts_filenames, lbs_filenames):\n",
    "    img1 = \n",
    "    img2 = \n",
    "    pts = \n",
    "    lbs = \n",
    "    \n",
    "    # get features and stack\n",
    "\n",
    "    \n",
    "    kp = KeyPoints(pts, img, size)\n",
    "    ps = kp.extract_patches(size)\n",
    "\n",
    "    zps = ZPs(n_max=10, size=ps.shape[1])\n",
    "    zps.fit(ps)\n",
    "    X = zps.moments\n",
    "    X_rot = X.rotinv() \n",
    "        \n",
    "    X1 \n",
    "    #X1 = process_func(X1)\n",
    "    \n",
    "    \n"
   ],
   "id": "17400ad66b8cf5fd"
  },
  {
   "metadata": {
    "ExecuteTime": {
     "end_time": "2024-08-08T12:54:07.908455Z",
     "start_time": "2024-08-08T12:54:07.890454Z"
    }
   },
   "cell_type": "code",
   "source": "# this cell is for ",
   "id": "2335629f66ea02ed",
   "outputs": [],
   "execution_count": null
  },
  {
   "metadata": {},
   "cell_type": "code",
   "outputs": [],
   "execution_count": null,
   "source": "",
   "id": "c957db4b0c10bfbb"
  }
 ],
 "metadata": {
  "kernelspec": {
   "display_name": "Python 3",
   "language": "python",
   "name": "python3"
  },
  "language_info": {
   "codemirror_mode": {
    "name": "ipython",
    "version": 2
   },
   "file_extension": ".py",
   "mimetype": "text/x-python",
   "name": "python",
   "nbconvert_exporter": "python",
   "pygments_lexer": "ipython2",
   "version": "2.7.6"
  }
 },
 "nbformat": 4,
 "nbformat_minor": 5
}
