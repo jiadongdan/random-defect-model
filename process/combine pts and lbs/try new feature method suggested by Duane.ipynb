{
 "cells": [
  {
   "cell_type": "code",
   "id": "initial_id",
   "metadata": {
    "collapsed": true,
    "ExecuteTime": {
     "end_time": "2024-08-14T02:26:40.636923Z",
     "start_time": "2024-08-14T02:26:40.615903Z"
    }
   },
   "source": [
    "%matplotlib qt\n",
    "import numpy as np\n",
    "import matplotlib.pyplot as plt "
   ],
   "outputs": [],
   "execution_count": 78
  },
  {
   "metadata": {
    "ExecuteTime": {
     "end_time": "2024-08-14T02:26:41.107376Z",
     "start_time": "2024-08-14T02:26:41.091377Z"
    }
   },
   "cell_type": "code",
   "source": [
    "from mtflearn.io import load_image\n",
    "from stemplot import imshow, colors_from_lbs\n",
    "from mtflearn.features import ZPs, get_characteristic_length, local_max, KeyPoints, pca\n",
    "from mtflearn.utils import normalize_image, remove_bg\n",
    "from mtflearn.manifold import ForceGraph8\n",
    "from mtflearn.denoise import denoise_svd\n",
    "\n",
    "import re\n",
    "from skimage.transform import resize\n",
    "from stemplot.utils import plot_pca\n",
    "from stemplot.interactive import interactive_clusters"
   ],
   "id": "e73f82ff32d1f11c",
   "outputs": [],
   "execution_count": 79
  },
  {
   "metadata": {
    "ExecuteTime": {
     "end_time": "2024-08-14T02:26:41.577428Z",
     "start_time": "2024-08-14T02:26:41.539426Z"
    }
   },
   "cell_type": "code",
   "source": [
    "import glob\n",
    "\n",
    "size_dict = {\n",
    "    'Ti':{'1028_ADF1_2':9,'1028_ADF1_11':8,'1028_ADF1_25':9,'0106_ADF1_1':17,'0106_ADF1_6':17,'0106_ADF1_8':18,'0106_ADF1_10':18,'0106_ADF1_11':21,'0106_ADF1_12':21},\n",
    "    'V':{'E1_ADF1_3':14,'E1_ADF1_8':18,'E2_ADF1_3':19,'E2_ADF1_4':18,'E2_ADF1_5':14,'E2_ADF1_6':17,'E2_ADF1_7':17,'E2_ADF1_8':18,'E2_ADF1_14':26},\n",
    "    'Mn':{'ADF1_2':22,'ADF1_4':18,'ADF1_7':18,'ADF1_12':22,'ADF1_18':21},\n",
    "    'Co':{'ADF1_5':18,'ADF1_8':15,'ADF1_9':15,'ADF1_18':14,'ADF1_27':17,'ADF1_10':18,'ADF1_11':18}\n",
    "}\n",
    "\n",
    "def find_imgs(element):\n",
    "    '''\n",
    "    Given an element, this function is to find all images in folder\n",
    "    :param element: \n",
    "    :return: \n",
    "    '''\n",
    "    dm4_files = glob.glob(f\"{element}/*.dm4\")\n",
    "    adf1_files = []\n",
    "    adf2_files = []\n",
    "    for file in dm4_files:\n",
    "        if \"ADF1\" in file and \"ADF2\" not in file:\n",
    "            adf1_files.append(file)\n",
    "        elif \"ADF2\" in file and \"ADF1\" not in file:\n",
    "            adf2_files.append(file)\n",
    "    return adf1_files, adf2_files\n",
    "\n",
    "def find_pts_and_lbs(element):\n",
    "    folder_path = f\"{element} pts and lbs\"\n",
    "    npy_files = glob.glob(f\"{folder_path}/*.npy\")\n",
    "    pts_files = []\n",
    "    lbs_files = []\n",
    "    for file in npy_files:\n",
    "        file_name = file.split(\"\\\\\")[-1]\n",
    "        if \"pts\" in file_name and \"lbs\" not in file_name:\n",
    "            pts_files.append(file)\n",
    "        elif \"lbs\" in file_name and \"pts\" not in file_name:\n",
    "            lbs_files.append(file)\n",
    "    return pts_files, lbs_files\n",
    "\n",
    "def find_matching_images(lbs_filenames,pts_filenames, adf1_filenames,adf2_filenames):\n",
    "    matching_images = []\n",
    "\n",
    "    for idx,lbs_file in enumerate(lbs_filenames):\n",
    "        files = []\n",
    "        files.append(lbs_file)\n",
    "        files.append(pts_filenames[idx])\n",
    "        file_name = lbs_file.split('\\\\')[-1]\n",
    "        if re.match(r'^[0-9E]', file_name):\n",
    "            base_name = file_name.split('_')[0]\n",
    "            if base_name[0] == 'E':\n",
    "                base_name = base_name.split(' ')[0]\n",
    "        else:\n",
    "            base_name = ''\n",
    "        match = re.search(r'(Ti|V|Mn|Co)(\\d+)', file_name)\n",
    "        if match:\n",
    "            element = match.group(1)\n",
    "            number = match.group(2)\n",
    "            number = number+'.dm4'\n",
    "            for idx2,img_file in enumerate(adf1_filenames):\n",
    "                if base_name and (base_name in img_file and number in img_file):\n",
    "                    files.append(img_file)\n",
    "                    files.append(adf2_filenames[idx2])\n",
    "                    file_name = (img_file.split('\\\\')[1]).split('.')[0]\n",
    "                    files.append(size_dict[element][file_name])\n",
    "                    break\n",
    "                elif not base_name and number in img_file:\n",
    "                    files.append(img_file)\n",
    "                    files.append(adf2_filenames[idx2])\n",
    "                    file_name = (img_file.split('\\\\')[1]).split('.')[0]\n",
    "                    files.append(size_dict[element][file_name])\n",
    "                    break\n",
    "        matching_images.append(files)\n",
    "    return matching_images"
   ],
   "id": "4c8e42c441c1a89f",
   "outputs": [],
   "execution_count": 80
  },
  {
   "metadata": {
    "ExecuteTime": {
     "end_time": "2024-08-14T02:26:42.062630Z",
     "start_time": "2024-08-14T02:26:42.050629Z"
    }
   },
   "cell_type": "code",
   "source": [
    "element = 'Ti'\n",
    "img1_filenames, img2_filenames = find_imgs(element)\n",
    "pts_filenames, lbs_filenames = find_pts_and_lbs(element)\n",
    "matched_filenames = find_matching_images(lbs_filenames,pts_filenames, img1_filenames,img2_filenames)"
   ],
   "id": "25b588be40987619",
   "outputs": [],
   "execution_count": 81
  },
  {
   "metadata": {
    "ExecuteTime": {
     "end_time": "2024-08-14T02:26:43.974933Z",
     "start_time": "2024-08-14T02:26:42.817359Z"
    }
   },
   "cell_type": "code",
   "source": [
    "file_idx = 5\n",
    "lbs_filename, pts_filename, img1_filename, img2_filename, size = matched_filenames[file_idx]\n",
    "img1 = load_image(img1_filename)\n",
    "img2 = load_image(img2_filename)\n",
    "file_name = (img1_filename.split('\\\\')[1]).split('.')[0]\n",
    "if img1.shape[0] == 2048:\n",
    "    img1 = resize(img1, (1024, 1024), order=0)\n",
    "    img2 = resize(img2, (1024, 1024), order=0)\n",
    "\n",
    "# normalize \n",
    "img1 = normalize_image(img1)\n",
    "img2 = normalize_image(img2)\n",
    "\n",
    "# pts\n",
    "pts = np.load(pts_filename)\n",
    "lbs = np.load(lbs_filename)\n",
    "\n",
    "mask1 = np.logical_or(lbs==0, lbs==1)\n",
    "mask2 = np.logical_or(lbs==2, lbs==3)\n",
    "\n",
    "size = int(size * np.sqrt(3))\n",
    "#size = int(size) - 7"
   ],
   "id": "316a37f57066e054",
   "outputs": [],
   "execution_count": 82
  },
  {
   "metadata": {
    "ExecuteTime": {
     "end_time": "2024-08-14T02:26:45.595745Z",
     "start_time": "2024-08-14T02:26:45.516583Z"
    }
   },
   "cell_type": "code",
   "source": [
    "kp = KeyPoints(pts, img2, size)\n",
    "ps = kp.extract_patches(size)"
   ],
   "id": "ae0d8939d028c80b",
   "outputs": [],
   "execution_count": 83
  },
  {
   "metadata": {
    "ExecuteTime": {
     "end_time": "2024-08-14T02:26:48.372271Z",
     "start_time": "2024-08-14T02:26:48.280830Z"
    }
   },
   "cell_type": "code",
   "source": [
    "zps = ZPs(n_max=12, size=ps.shape[1])\n",
    "moments = zps.fit_transform(ps)\n",
    "X = moments.select([0]).data[:, 1:]\n",
    "X1 = X[mask1]\n",
    "X2 = X[mask2]\n",
    "lbs1 = lbs[mask1].astype(int)\n",
    "lbs2 = lbs[mask2].astype(int)\n",
    "\n",
    "pts1 = pts[mask1]\n",
    "pts2 = pts[mask2]"
   ],
   "id": "8a370fde934fa38c",
   "outputs": [],
   "execution_count": 84
  },
  {
   "metadata": {
    "ExecuteTime": {
     "end_time": "2024-08-14T02:26:48.776613Z",
     "start_time": "2024-08-14T02:26:48.644617Z"
    }
   },
   "cell_type": "code",
   "source": "plot_pca(X1, 2, lbs=lbs1)",
   "id": "33e60e14318e26ec",
   "outputs": [],
   "execution_count": 85
  },
  {
   "metadata": {
    "ExecuteTime": {
     "end_time": "2024-08-14T02:26:50.045214Z",
     "start_time": "2024-08-14T02:26:49.924216Z"
    }
   },
   "cell_type": "code",
   "source": "plot_pca(X2, 2, lbs=lbs2)",
   "id": "57ee886233e14ef2",
   "outputs": [],
   "execution_count": 86
  },
  {
   "metadata": {
    "ExecuteTime": {
     "end_time": "2024-08-14T02:26:59.119155Z",
     "start_time": "2024-08-14T02:26:59.095156Z"
    }
   },
   "cell_type": "code",
   "source": [
    "from skimage.filters import gaussian\n",
    "\n",
    "def process_Duane_feature(img, pts, X):\n",
    "    aa = []\n",
    "    for i in range(X.shape[1]):\n",
    "        a = np.zeros_like(img)\n",
    "        for (x, y), row in zip(pts, X):\n",
    "            a[y, x] = row[i]\n",
    "        aa.append(a)\n",
    "    return np.array(aa)\n",
    "\n",
    "def process_Duane_feature1(img, pts, X, size):\n",
    "    aa = []\n",
    "    for i in range(X.shape[1]):\n",
    "        a = np.zeros_like(img)\n",
    "        for (x, y), row in zip(pts, X):\n",
    "            a[y, x] = row[i]\n",
    "        a = gaussian(a, sigma=2)\n",
    "\n",
    "        kp = KeyPoints(pts, a, size)\n",
    "        ps = kp.extract_patches(size)\n",
    "        zps = ZPs(n_max=12, size=ps.shape[1])\n",
    "        moments = zps.fit_transform(ps)\n",
    "        X = moments.select([0]).data[:, 1:]\n",
    "        aa.append(X)\n",
    "    return np.hstack(aa)"
   ],
   "id": "b857a7cf38b8deaf",
   "outputs": [],
   "execution_count": 87
  },
  {
   "metadata": {},
   "cell_type": "code",
   "outputs": [],
   "execution_count": null,
   "source": [
    "# aa = process_Duane_feature(img2, pts1, X1)\n",
    "# imshow(aa)"
   ],
   "id": "4fbf149436084ffa"
  },
  {
   "metadata": {
    "ExecuteTime": {
     "end_time": "2024-08-20T06:24:49.119400Z",
     "start_time": "2024-08-20T06:24:48.021897Z"
    }
   },
   "cell_type": "code",
   "source": "aa = process_Duane_feature1(img2, pts1, X1, size)",
   "id": "6d541549b96718ce",
   "outputs": [],
   "execution_count": 115
  },
  {
   "metadata": {
    "ExecuteTime": {
     "end_time": "2024-08-20T06:27:30.262303Z",
     "start_time": "2024-08-20T06:27:30.094313Z"
    }
   },
   "cell_type": "code",
   "source": "plt.imshow(img1)",
   "id": "747c8906b3936ab8",
   "outputs": [
    {
     "data": {
      "text/plain": [
       "<matplotlib.image.AxesImage at 0x1413b9aba00>"
      ]
     },
     "execution_count": 121,
     "metadata": {},
     "output_type": "execute_result"
    }
   ],
   "execution_count": 121
  },
  {
   "metadata": {
    "ExecuteTime": {
     "end_time": "2024-08-20T06:24:50.706671Z",
     "start_time": "2024-08-20T06:24:50.312374Z"
    }
   },
   "cell_type": "code",
   "source": "plot_pca(aa, 2, lbs=lbs1)",
   "id": "213cbdadf66c99cd",
   "outputs": [],
   "execution_count": 116
  },
  {
   "metadata": {
    "ExecuteTime": {
     "end_time": "2024-08-20T06:32:07.616597Z",
     "start_time": "2024-08-20T06:32:04.729543Z"
    }
   },
   "cell_type": "code",
   "source": [
    "fg = ForceGraph8(X = X1,\n",
    "                 n_neighbors=10,\n",
    "                 init_mode = 'pca',\n",
    "                 num_iterations = 100,\n",
    "                 num_negative_samples=5,\n",
    "                 force_params1=(0, 2, 1, 1),\n",
    "                 force_params2=(2, 5, 5, 1),\n",
    "                 divide=0.1)\n",
    "\n",
    "from time import time\n",
    "t0 = time()\n",
    "xy = fg.fit_transform(X1)"
   ],
   "id": "e09d235fa9fca265",
   "outputs": [
    {
     "name": "stdout",
     "output_type": "stream",
     "text": [
      "Construct graph from data...\n",
      "Initialize 2-d embedding using PCA layout...\n"
     ]
    }
   ],
   "execution_count": 123
  },
  {
   "metadata": {
    "ExecuteTime": {
     "end_time": "2024-08-20T06:25:50.743804Z",
     "start_time": "2024-08-20T06:25:47.521331Z"
    }
   },
   "cell_type": "code",
   "source": [
    "fg = ForceGraph8(X = aa,\n",
    "                 n_neighbors=10,\n",
    "                 init_mode = 'pca',\n",
    "                 num_iterations = 100,\n",
    "                 num_negative_samples=5,\n",
    "                 force_params1=(0, 2, 1, 1),\n",
    "                 force_params2=(2, 5, 5, 1),\n",
    "                 divide=0.1)\n",
    "\n",
    "from time import time\n",
    "t0 = time()\n",
    "xy = fg.fit_transform(aa)"
   ],
   "id": "1f3609c57567942d",
   "outputs": [
    {
     "name": "stdout",
     "output_type": "stream",
     "text": [
      "Construct graph from data...\n",
      "Initialize 2-d embedding using PCA layout...\n"
     ]
    }
   ],
   "execution_count": 118
  },
  {
   "metadata": {},
   "cell_type": "code",
   "outputs": [],
   "execution_count": null,
   "source": "",
   "id": "82b410a77570325f"
  },
  {
   "metadata": {
    "ExecuteTime": {
     "end_time": "2024-08-20T06:32:15.519573Z",
     "start_time": "2024-08-20T06:32:13.279349Z"
    }
   },
   "cell_type": "code",
   "source": "app1 = interactive_clusters(xy, img2, pts[mask1], ps[mask1], lbs=lbs1, s=1, max_samples=10000)",
   "id": "b15dfd0ad45222e1",
   "outputs": [],
   "execution_count": 124
  },
  {
   "metadata": {},
   "cell_type": "code",
   "outputs": [],
   "execution_count": null,
   "source": "",
   "id": "e09a10796893d758"
  }
 ],
 "metadata": {
  "kernelspec": {
   "display_name": "Python 3",
   "language": "python",
   "name": "python3"
  },
  "language_info": {
   "codemirror_mode": {
    "name": "ipython",
    "version": 2
   },
   "file_extension": ".py",
   "mimetype": "text/x-python",
   "name": "python",
   "nbconvert_exporter": "python",
   "pygments_lexer": "ipython2",
   "version": "2.7.6"
  }
 },
 "nbformat": 4,
 "nbformat_minor": 5
}
