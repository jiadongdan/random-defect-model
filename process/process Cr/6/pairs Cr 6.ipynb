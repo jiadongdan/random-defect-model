{
 "cells": [
  {
   "cell_type": "code",
   "execution_count": 1,
   "id": "8456881b-fe5a-4c30-ac6b-8610a0ea9d11",
   "metadata": {},
   "outputs": [],
   "source": [
    "%matplotlib qt\n",
    "import numpy as np\n",
    "import matplotlib.pyplot as plt\n",
    "\n",
    "import sys\n",
    "sys.path.append('D:\\\\Dropbox\\\\stempy')\n",
    "sys.path.append('D:\\\\Dropbox\\\\stemplot')\n",
    "    \n",
    "from stemplot import *"
   ]
  },
  {
   "cell_type": "code",
   "execution_count": 2,
   "id": "dfdd1b12-3aaa-4359-9b3f-4ebcd4df38d0",
   "metadata": {},
   "outputs": [
    {
     "data": {
      "text/plain": [
       "9.499650947256926"
      ]
     },
     "execution_count": 2,
     "metadata": {},
     "output_type": "execute_result"
    }
   ],
   "source": [
    "pts = np.load('pts_vac.npy')\n",
    "\n",
    "dx = 0.0332328*10\n",
    "\n",
    "3.157/dx"
   ]
  },
  {
   "cell_type": "code",
   "execution_count": 3,
   "id": "e90fb191-d394-459b-8d3b-c83aa0bac474",
   "metadata": {},
   "outputs": [],
   "source": [
    "from sklearn.neighbors import NearestNeighbors\n",
    "nbrs = NearestNeighbors(n_neighbors=2, algorithm='ball_tree').fit(pts)\n",
    "d, ind = nbrs.kneighbors(pts)  \n",
    "d = d[:, 1:]\n",
    "d = d.ravel()"
   ]
  },
  {
   "cell_type": "code",
   "execution_count": 4,
   "id": "431338d2-f110-4da7-a814-2b263b6dc5b4",
   "metadata": {},
   "outputs": [
    {
     "data": {
      "text/plain": [
       "(array([6., 0., 0., 0., 4., 4., 2., 2., 0., 0., 6., 4., 0., 9., 2., 0., 2.,\n",
       "        6., 2., 0., 2., 0., 4., 8., 5., 0., 0., 1., 2., 1.]),\n",
       " array([10.04987562, 11.58422309, 13.11857055, 14.65291802, 16.18726548,\n",
       "        17.72161295, 19.25596041, 20.79030788, 22.32465534, 23.85900281,\n",
       "        25.39335027, 26.92769774, 28.4620452 , 29.99639267, 31.53074013,\n",
       "        33.0650876 , 34.59943506, 36.13378253, 37.66812999, 39.20247746,\n",
       "        40.73682492, 42.27117239, 43.80551985, 45.33986732, 46.87421478,\n",
       "        48.40856225, 49.94290971, 51.47725718, 53.01160464, 54.54595211,\n",
       "        56.08029957]),\n",
       " <BarContainer object of 30 artists>)"
      ]
     },
     "execution_count": 4,
     "metadata": {},
     "output_type": "execute_result"
    }
   ],
   "source": [
    "plt.hist(d, bins=30)"
   ]
  },
  {
   "cell_type": "code",
   "execution_count": 5,
   "id": "0fa9427b-49d8-4668-8d1e-60a38a524375",
   "metadata": {},
   "outputs": [
    {
     "data": {
      "text/plain": [
       "[<matplotlib.lines.Line2D at 0x1c5d5c84cd0>]"
      ]
     },
     "execution_count": 5,
     "metadata": {},
     "output_type": "execute_result"
    }
   ],
   "source": [
    "plt.plot(np.sort(d), 'x')"
   ]
  },
  {
   "cell_type": "code",
   "execution_count": 39,
   "id": "0a86dcfe-8af5-4334-87f5-36c7a9ce914b",
   "metadata": {},
   "outputs": [],
   "source": [
    "y = np.sort(d)\n",
    "dy = np.diff(y)"
   ]
  },
  {
   "cell_type": "code",
   "execution_count": 44,
   "id": "862747a1-3a00-48ed-a298-6c4ae21284b3",
   "metadata": {},
   "outputs": [
    {
     "data": {
      "text/plain": [
       "[<matplotlib.lines.Line2D at 0x1f2d50b7c10>]"
      ]
     },
     "execution_count": 44,
     "metadata": {},
     "output_type": "execute_result"
    }
   ],
   "source": [
    "plt.plot(dy)"
   ]
  },
  {
   "cell_type": "code",
   "execution_count": null,
   "id": "905e2dee-436d-4d6a-b8ec-6982bdc34c9f",
   "metadata": {},
   "outputs": [],
   "source": [
    "model: 0.001187760291293903\n"
   ]
  },
  {
   "cell_type": "code",
   "execution_count": 6,
   "id": "3b61a500-91c7-4a28-91f5-ae0c453ef980",
   "metadata": {},
   "outputs": [
    {
     "data": {
      "text/plain": [
       "0.0002072418500583801"
      ]
     },
     "execution_count": 6,
     "metadata": {},
     "output_type": "execute_result"
    }
   ],
   "source": [
    "6/((dx*512)**2)"
   ]
  },
  {
   "cell_type": "code",
   "execution_count": null,
   "id": "d082ea51-1af4-41a3-a96d-9594915535e3",
   "metadata": {},
   "outputs": [],
   "source": []
  },
  {
   "cell_type": "code",
   "execution_count": 32,
   "id": "0f54c1a4-f6eb-452e-a14b-95d3be16ace3",
   "metadata": {},
   "outputs": [
    {
     "data": {
      "text/plain": [
       "20.784609690826528"
      ]
     },
     "execution_count": 32,
     "metadata": {},
     "output_type": "execute_result"
    }
   ],
   "source": [
    "12*np.sqrt(3)"
   ]
  },
  {
   "cell_type": "code",
   "execution_count": 33,
   "id": "0674b54d-5e9b-4f6c-bee5-246943d09d39",
   "metadata": {},
   "outputs": [
    {
     "data": {
      "text/plain": [
       "24.0"
      ]
     },
     "execution_count": 33,
     "metadata": {},
     "output_type": "execute_result"
    }
   ],
   "source": [
    "12*np.sqrt(4)"
   ]
  },
  {
   "cell_type": "code",
   "execution_count": 36,
   "id": "e46e7405-8adb-402d-a414-954a9c898a3d",
   "metadata": {},
   "outputs": [],
   "source": [
    "def find_first_step(y_values, threshold=0.1):\n",
    "    \"\"\"\n",
    "    Find the index of the first step in a stepwise curve.\n",
    "\n",
    "    :param y_values: A list or numpy array of y-values representing the curve.\n",
    "    :param threshold: The minimum change in y-value to be considered a step.\n",
    "    :return: The index before the step change occurs.\n",
    "    \"\"\"\n",
    "    # Compute the difference between successive y-values\n",
    "    differences = np.diff(y_values)\n",
    "\n",
    "    # Find where the difference exceeds the threshold\n",
    "    steps = np.where(np.abs(differences) >= threshold)[0]\n",
    "\n",
    "    if len(steps) > 0:\n",
    "        # Return the index of the first step\n",
    "        return steps[0]\n",
    "    else:\n",
    "        # If no steps are found above the threshold, return None\n",
    "        return None"
   ]
  },
  {
   "cell_type": "code",
   "execution_count": 37,
   "id": "0377bf12-007e-46ab-a8e1-1ea69677a52a",
   "metadata": {},
   "outputs": [
    {
     "data": {
      "text/plain": [
       "6"
      ]
     },
     "execution_count": 37,
     "metadata": {},
     "output_type": "execute_result"
    }
   ],
   "source": [
    "find_first_step(np.sort(d))"
   ]
  },
  {
   "cell_type": "code",
   "execution_count": null,
   "id": "671ae2d8-bed4-440c-aeec-617f1687d92f",
   "metadata": {},
   "outputs": [],
   "source": []
  }
 ],
 "metadata": {
  "kernelspec": {
   "display_name": "Python 3 (ipykernel)",
   "language": "python",
   "name": "python3"
  },
  "language_info": {
   "codemirror_mode": {
    "name": "ipython",
    "version": 3
   },
   "file_extension": ".py",
   "mimetype": "text/x-python",
   "name": "python",
   "nbconvert_exporter": "python",
   "pygments_lexer": "ipython3",
   "version": "3.9.18"
  }
 },
 "nbformat": 4,
 "nbformat_minor": 5
}
