{
 "cells": [
  {
   "cell_type": "code",
   "execution_count": 63,
   "id": "ce9e6ecb-321e-4af5-ba72-a5eee9d161b6",
   "metadata": {},
   "outputs": [],
   "source": [
    "%matplotlib qt\n",
    "import numpy as np\n",
    "import matplotlib.pyplot as plt\n",
    "\n",
    "import sys\n",
    "sys.path.append('D:\\\\Dropbox\\\\stempy')\n",
    "sys.path.append('D:\\\\Dropbox\\\\stemplot')\n",
    "    \n",
    "from stemplot import *\n",
    "\n",
    "from stempy.io import *\n",
    "from stempy.clustering import *\n",
    "from stempy.plot import *\n",
    "from stempy.denoise import *\n",
    "from stempy.utils import *\n",
    "from stempy.feature import *\n",
    "from stempy.spatial import *\n",
    "from stempy.manifold import *"
   ]
  },
  {
   "cell_type": "code",
   "execution_count": 92,
   "id": "1e6e500d-e0d3-4b9a-a2ea-a1056432ff66",
   "metadata": {},
   "outputs": [],
   "source": [
    "def get_X_test(file_name, idx=0):\n",
    "    m = np.load('m.npy')\n",
    "    n = np.load('n.npy')\n",
    "    X_test = np.load(file_name)[:, 0:66]\n",
    "    lbs = kmeans_lbs(X_test, 2)\n",
    "    return zmarray(X_test[lbs==idx], n, m).rotinv().select(0)"
   ]
  },
  {
   "cell_type": "code",
   "execution_count": 126,
   "id": "6b3ff8d1-4fb0-4648-8783-de9c030ef0c9",
   "metadata": {},
   "outputs": [],
   "source": [
    "from sklearn.ensemble import GradientBoostingClassifier, HistGradientBoostingClassifier, VotingClassifier"
   ]
  },
  {
   "cell_type": "code",
   "execution_count": null,
   "id": "74d9f096-9b43-416f-9bba-7a675491c7d7",
   "metadata": {},
   "outputs": [],
   "source": []
  },
  {
   "cell_type": "code",
   "execution_count": 127,
   "id": "871d3f88-367a-4943-9233-79fc51ac605f",
   "metadata": {},
   "outputs": [],
   "source": [
    "X_train = np.load('X1_train.npy')[:, 0:66]\n",
    "y = np.load('y1_train.npy')\n",
    "m = np.load('m.npy')\n",
    "n = np.load('n.npy')\n",
    "X = zmarray(X_train, n, m).rotinv().select(0)"
   ]
  },
  {
   "cell_type": "code",
   "execution_count": 115,
   "id": "b21a2e59-d98d-44bd-b33d-34f10782aed8",
   "metadata": {},
   "outputs": [
    {
     "name": "stderr",
     "output_type": "stream",
     "text": [
      "C:\\Users\\Ted\\miniconda3\\envs\\jiadong\\lib\\site-packages\\sklearn\\cluster\\_kmeans.py:1416: FutureWarning: The default value of `n_init` will change from 10 to 'auto' in 1.4. Set the value of `n_init` explicitly to suppress the warning\n",
      "  super()._check_params_vs_input(X, default_n_init=10)\n"
     ]
    }
   ],
   "source": [
    "file_name = 'X5.npy'\n",
    "X_test = get_X_test(file_name, idx=0)"
   ]
  },
  {
   "cell_type": "code",
   "execution_count": 116,
   "id": "bff67f24-b726-4951-b5c7-c12e2f8f7f90",
   "metadata": {},
   "outputs": [],
   "source": [
    "clf1 = GradientBoostingClassifier(n_estimators=100, learning_rate=1, max_depth=5, random_state=0).fit(X, y)\n",
    "clf2 = HistGradientBoostingClassifier().fit(X, y)"
   ]
  },
  {
   "cell_type": "code",
   "execution_count": null,
   "id": "adfde3bf-6301-4d31-ba1e-50b228369e0e",
   "metadata": {},
   "outputs": [],
   "source": []
  },
  {
   "cell_type": "code",
   "execution_count": 124,
   "id": "b3422e37-6664-4367-b5a0-82266a35fab7",
   "metadata": {},
   "outputs": [],
   "source": [
    "lbs = clf.predict(X_test)"
   ]
  },
  {
   "cell_type": "code",
   "execution_count": null,
   "id": "2ff77e67-aa02-4d5c-ac08-a30e678e244c",
   "metadata": {},
   "outputs": [],
   "source": []
  },
  {
   "cell_type": "code",
   "execution_count": 125,
   "id": "c527516b-ba92-4a55-b286-a561685bb952",
   "metadata": {},
   "outputs": [],
   "source": [
    "plot_pca(pca(X_test), 2, lbs=lbs)"
   ]
  },
  {
   "cell_type": "code",
   "execution_count": null,
   "id": "0384303b-e6de-4000-964b-587be447e468",
   "metadata": {},
   "outputs": [],
   "source": []
  },
  {
   "cell_type": "code",
   "execution_count": null,
   "id": "1d176b46-25e2-4069-94ad-16b65ec191dd",
   "metadata": {},
   "outputs": [],
   "source": []
  }
 ],
 "metadata": {
  "kernelspec": {
   "display_name": "Python 3 (ipykernel)",
   "language": "python",
   "name": "python3"
  },
  "language_info": {
   "codemirror_mode": {
    "name": "ipython",
    "version": 3
   },
   "file_extension": ".py",
   "mimetype": "text/x-python",
   "name": "python",
   "nbconvert_exporter": "python",
   "pygments_lexer": "ipython3",
   "version": "3.9.18"
  }
 },
 "nbformat": 4,
 "nbformat_minor": 5
}
