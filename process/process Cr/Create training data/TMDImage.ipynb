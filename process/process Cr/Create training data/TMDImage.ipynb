{
 "cells": [
  {
   "cell_type": "code",
   "execution_count": 1,
   "id": "503b9a4f-1e70-40ab-be30-dc991b1e2ac8",
   "metadata": {},
   "outputs": [],
   "source": [
    "%matplotlib qt\n",
    "import numpy as np\n",
    "import matplotlib.pyplot as plt\n",
    "\n",
    "import sys\n",
    "sys.path.append('D:\\\\Dropbox\\\\stempy')\n",
    "sys.path.append('D:\\\\Dropbox\\\\stemplot')\n",
    "    \n",
    "from stemplot import *\n",
    "\n",
    "from stempy.io import *\n",
    "from stempy.clustering import *\n",
    "from stempy.plot import *\n",
    "from stempy.denoise import *\n",
    "from stempy.utils import *\n",
    "from stempy.feature import *\n",
    "from stempy.spatial import *\n",
    "from stempy.manifold import *"
   ]
  },
  {
   "cell_type": "code",
   "execution_count": 2,
   "id": "7c7d55ca-4a37-4dcb-b926-a775b137e3ec",
   "metadata": {},
   "outputs": [],
   "source": [
    "imgs1 = np.load('all_adf1.npy')\n",
    "imgs2 = np.load('all_adf2.npy')"
   ]
  },
  {
   "cell_type": "code",
   "execution_count": 4,
   "id": "17b76bd3-db08-47cf-acf5-b1cb58d1c63c",
   "metadata": {},
   "outputs": [],
   "source": [
    "from skimage.transform import warp_polar\n",
    "from scipy.ndimage import uniform_filter1d\n",
    "\n",
    "def baseline_correction(y,niter=10):\n",
    "    n = len(y)\n",
    "    y_ = np.log(np.log(np.sqrt(y +1)+1)+1)\n",
    "    yy = np.zeros_like(y)\n",
    "\n",
    "    for pp in np.arange(1,niter+1):\n",
    "        r1 = y_[pp:n-pp]\n",
    "        r2 = (np.roll(y_,-pp)[pp:n-pp] + np.roll(y_,pp)[pp:n-pp])/2\n",
    "        yy = np.minimum(r1,r2)\n",
    "        y_[pp:n-pp] = yy\n",
    "\n",
    "    baseline = (np.exp(np.exp(y_)-1)-1)**2 -1\n",
    "    return baseline\n",
    "\n",
    "def get_fft_line(img, niter=10, size=9, use_log=True, debug=True):\n",
    "    fft_abs = np.abs(np.fft.fftshift(np.fft.fft2(img)))\n",
    "    if use_log:\n",
    "        fft_log = np.log(fft_abs + 1)\n",
    "    else:\n",
    "        fft_log = fft_abs\n",
    "    i ,j = np.unravel_index(np.argmax(fft_log), shape=img.shape)\n",
    "    y = warp_polar(fft_log, center=(i, j)).mean(axis=0)[0:i]\n",
    "    bg = baseline_correction(y, niter=niter)\n",
    "    y1 = y - bg\n",
    "    y2 = uniform_filter1d(y1,size=size)\n",
    "    return y2\n",
    "\n",
    "class TMDImage:\n",
    "\n",
    "    def __init__(self, img):\n",
    "        self.img = img\n",
    "        self.fft_line = get_fft_line(self.img, debug=False)\n",
    "        ind = np.argmax(self.fft_line)\n",
    "        self.size = np.round(self.img.shape[0]/ind).astype(int)\n",
    "        self.patch_size = 2*self.size + 1\n",
    "\n",
    "        self.img_clean = img1 = remove_bg(self.img, self.size)\n",
    "\n",
    "        n_components = self.patch_size\n",
    "        extraction_step = 2\n",
    "        self.imgf = denoise_svd(self.img_clean, n_components, self.patch_size, extraction_step)\n",
    "        "
   ]
  },
  {
   "cell_type": "code",
   "execution_count": 5,
   "id": "2f94d50e-77da-4751-8a12-bb5d246137bf",
   "metadata": {},
   "outputs": [
    {
     "name": "stdout",
     "output_type": "stream",
     "text": [
      "Extracting reference patches...\n",
      "done in 0.10s.\n",
      "Singular value decomposition...\n",
      "done in 1.08s.\n",
      "Reconstructing...\n",
      "done in 0.69s.\n"
     ]
    }
   ],
   "source": [
    "aa = TMDImage(imgs2[1])"
   ]
  },
  {
   "cell_type": "code",
   "execution_count": null,
   "id": "e6141917-f63e-47a1-a7f0-f3fc1b01029e",
   "metadata": {},
   "outputs": [],
   "source": []
  },
  {
   "cell_type": "code",
   "execution_count": null,
   "id": "9dfc4a60-4555-49b3-8b67-8bddb8ee660e",
   "metadata": {},
   "outputs": [],
   "source": []
  },
  {
   "cell_type": "code",
   "execution_count": null,
   "id": "2ebc3bae-5f6a-4d5b-8491-b14cafefb095",
   "metadata": {},
   "outputs": [],
   "source": []
  },
  {
   "cell_type": "code",
   "execution_count": null,
   "id": "ceee9c70-fb28-462e-8d66-4f46b9aebb55",
   "metadata": {},
   "outputs": [],
   "source": []
  },
  {
   "cell_type": "code",
   "execution_count": null,
   "id": "6a9549f9-3f5e-4037-b9b3-61943e7d5916",
   "metadata": {},
   "outputs": [],
   "source": []
  },
  {
   "cell_type": "code",
   "execution_count": null,
   "id": "cd2dea93-a127-4bc0-a0fd-62f48fa64ac7",
   "metadata": {},
   "outputs": [],
   "source": []
  },
  {
   "cell_type": "code",
   "execution_count": 37,
   "id": "eb36f6e0-29b4-4384-9cfa-47a29a00dce2",
   "metadata": {},
   "outputs": [],
   "source": [
    "from tqdm import tqdm\n",
    "def get_feature_X(num=6, threshold = 0.3, min_distance=1):\n",
    "    dp = r'D:\\Dropbox\\data\\Leyi\\Dopant Valency Project\\CrWSe2_total 8 datasets\\CrWSe2_20211028'+'\\\\'\n",
    "\n",
    "    # load images\n",
    "    file_name1 = dp + 'ADF1_{}.dm4'.format(num)\n",
    "    file_name2 = dp + 'ADF2_{}.dm4'.format(num)\n",
    "    \n",
    "    # load image and normalize\n",
    "    img1 = load_image(file_name1)\n",
    "    img1 = normalize_image(img1, 0, 1)\n",
    "    \n",
    "    img2 = load_image(file_name2)\n",
    "    img2 = normalize_image(img2, 0, 1)\n",
    "\n",
    "    # clean images\n",
    "    img1 = remove_bg(img1, 7)\n",
    "    img2 = remove_bg(img2, 7)\n",
    "    \n",
    "    img1 = normalize_image(img1, 0, 1)\n",
    "    img2 = normalize_image(img2, 0, 1)\n",
    "\n",
    "    # denoise img2\n",
    "    n_components = 32\n",
    "    patch_size = 32\n",
    "    extraction_step = 2\n",
    "    imgf = denoise_svd(img2, n_components, patch_size, extraction_step, verbose=False) \n",
    "\n",
    "    # find points\n",
    "    pts = local_max(imgf, min_distance=min_distance, threshold=threshold, plot=False)\n",
    "\n",
    "    size = 2*get_patch_size(img1, debug=False)+1\n",
    "    kp1 = KeyPoints(pts, img1, size)\n",
    "    ps1 = kp1.extract_patches(size) \n",
    "    \n",
    "    kp2 = KeyPoints(pts, img2, size)\n",
    "    ps2 = kp2.extract_patches(size)\n",
    "\n",
    "    zps = ZPs(n_max=10, size=ps1.shape[1])\n",
    "    zps.fit(ps1)\n",
    "    X1 = zps.moments\n",
    "    zps.fit(ps2)\n",
    "    X2 = zps.moments\n",
    "    X = X1.hstack(X2)\n",
    "    return X\n",
    "\n",
    "def vstack_zmarrays(a):\n",
    "    a0 = a[0]\n",
    "    for e in a[1:]:\n",
    "        a0 = a0.vstack(e)\n",
    "    return a0"
   ]
  },
  {
   "cell_type": "code",
   "execution_count": 38,
   "id": "49d6558d-4716-4a0e-af7d-d50b89ddeafa",
   "metadata": {},
   "outputs": [],
   "source": [
    "nums = [6, 7, 9, 13, 14, 15, 17]\n",
    "thresholds = [0.3, 0.3, 0.3, 0.1, 0.1, 0.1, 0.1]\n",
    "min_dists = [1, 1, 3, 1, 1, 1, 1]"
   ]
  },
  {
   "cell_type": "code",
   "execution_count": 39,
   "id": "bbebdbaa-285c-42e6-a75c-8c83867c0b3c",
   "metadata": {},
   "outputs": [
    {
     "name": "stderr",
     "output_type": "stream",
     "text": [
      "100%|████████████████████████████████████████████████████████████████████████████████████| 7/7 [00:25<00:00,  3.65s/it]\n"
     ]
    }
   ],
   "source": [
    "ll = []\n",
    "lbs_ = []\n",
    "ii = 0\n",
    "for num, threshold, min_distance in tqdm(zip(nums, thresholds, min_dists ), total=7):\n",
    "    X = get_feature_X(num, threshold, min_distance)\n",
    "    ll.append(X)\n",
    "    np.save('X{}.npy'.format(ii), X)\n",
    "    ii = ii + 1\n",
    "#    lbs_.append([ii]*len(X))\n",
    "#    ii = ii + 1\n",
    "#lbs_ = np.hstack(lbs_)"
   ]
  },
  {
   "cell_type": "code",
   "execution_count": 13,
   "id": "43119978-f67a-4cb3-9433-a6579069365d",
   "metadata": {},
   "outputs": [],
   "source": [
    "X= vstack_zmarrays(ll)"
   ]
  },
  {
   "cell_type": "code",
   "execution_count": 14,
   "id": "a6866b32-e02e-4a50-84b6-2c42522d9218",
   "metadata": {},
   "outputs": [],
   "source": [
    "X1 = X[:, 0:66]\n",
    "X2 = X[:, 66:]"
   ]
  },
  {
   "cell_type": "code",
   "execution_count": 21,
   "id": "1fc36dbf-7132-4f58-955e-771e96917fd4",
   "metadata": {},
   "outputs": [],
   "source": [
    "lbs = gmm_lbs(X, 2, n_init=1)"
   ]
  },
  {
   "cell_type": "code",
   "execution_count": 32,
   "id": "ebcc771f-4846-4920-93ed-8c8296700cd0",
   "metadata": {},
   "outputs": [],
   "source": [
    "plot_pca(X, 2, lbs=lbs)"
   ]
  },
  {
   "cell_type": "code",
   "execution_count": null,
   "id": "b147eaf4-2525-4466-8368-f3faf2734c36",
   "metadata": {},
   "outputs": [],
   "source": []
  },
  {
   "cell_type": "code",
   "execution_count": null,
   "id": "40a25abb-90d2-4231-9a8c-1e4b5486f03a",
   "metadata": {},
   "outputs": [],
   "source": []
  },
  {
   "cell_type": "markdown",
   "id": "a9947c69-8f50-41fd-9ee0-06249f6bbe3c",
   "metadata": {},
   "source": [
    "## create traning data from X1 or X2\n",
    "* split into two classes\n",
    "* "
   ]
  },
  {
   "cell_type": "code",
   "execution_count": 45,
   "id": "40b0c20e-b6ee-4212-9b85-dfc5f7d19fed",
   "metadata": {},
   "outputs": [],
   "source": [
    "import numpy as np\n",
    "import matplotlib.pyplot as plt\n",
    "from sklearn.decomposition import PCA\n",
    "from matplotlib.widgets import LassoSelector\n",
    "from matplotlib.path import Path\n",
    "\n",
    "def pca(X, n_components=2):\n",
    "    pca_model = PCA(n_components=n_components)\n",
    "    X_pca = pca_model.fit_transform(X)\n",
    "    return X_pca\n",
    "\n",
    "class InteractiveAnnotation:\n",
    "\n",
    "    def __init__(self, fig, X, lbs, **kwargs):\n",
    "        self.fig = fig\n",
    "        self.ax1 = fig.axes[0]\n",
    "        self.ax2 = fig.axes[1]\n",
    "\n",
    "        self.X = X\n",
    "        self.lbs = lbs\n",
    "        self.X1 = self.X[self.lbs == 0]\n",
    "        self.X2 = self.X[self.lbs == 1]\n",
    "        self.lbs1 = self.lbs[self.lbs == 0]\n",
    "        self.lbs2 = self.lbs[self.lbs == 1]\n",
    "\n",
    "\n",
    "        self.xy1 = pca(self.X1.rotinv().select(0))\n",
    "        self.xy2 = pca(self.X2.rotinv().select(0))\n",
    "\n",
    "        self.colors1 = colors_from_lbs(self.lbs1)\n",
    "        self.colors2 = colors_from_lbs(self.lbs2)\n",
    "\n",
    "        self.path_collection1 = self.ax1.scatter(self.xy1[:, 0], self.xy1[:, 1], c=self.colors1, **kwargs)\n",
    "        self.path_collection2 = self.ax2.scatter(self.xy2[:, 0], self.xy2[:, 1], c=self.colors2, **kwargs)\n",
    "        self.ax1.axis('equal')\n",
    "        self.ax2.axis('equal')\n",
    "\n",
    "        self.ind1 = None\n",
    "        self.ind2 = None\n",
    "\n",
    "        self.X1_selected = None\n",
    "        self.X2_selected = None\n",
    "\n",
    "        self.lasso1_active = False\n",
    "        self.lasso2_active = False\n",
    "\n",
    "        self.lasso1 = LassoSelector(self.ax1, onselect=self.onselect1)\n",
    "        self.lasso2 = LassoSelector(self.ax2, onselect=self.onselect2)\n",
    "\n",
    "        self.press = self.fig.canvas.mpl_connect(\"key_press_event\", self.press_key)\n",
    "\n",
    "        self.X1_train = []\n",
    "        self.X2_train = []\n",
    "        self.y1_train = []\n",
    "        self.y2_train = []\n",
    "\n",
    "        self.num_clusters1 = 0\n",
    "        self.num_clusters2 = 0\n",
    "\n",
    "\n",
    "    def onselect1(self, event):\n",
    "        path = Path(event)\n",
    "        self.ind1 = np.nonzero(path.contains_points(self.xy1))[0]\n",
    "        if self.ind1.size != 0:\n",
    "            self.lasso1_active = True\n",
    "            self.lasso2_active = False\n",
    "            self.X1_selected = self.X1[self.ind1]\n",
    "\n",
    "    def onselect2(self, event):\n",
    "        path = Path(event)\n",
    "        self.ind2 = np.nonzero(path.contains_points(self.xy2))[0]\n",
    "        if self.ind2.size != 0:\n",
    "            self.lasso1_active = False\n",
    "            self.lasso2_active = True\n",
    "            self.X2_selected = self.X2[self.ind2]\n",
    "\n",
    "    def press_key(self, event):\n",
    "        if event.key == \"enter\":\n",
    "            if self.lasso1_active:\n",
    "                self.X1_train.append(self.X1_selected)\n",
    "                self.y1_train.append(np.array([self.num_clusters1]*len(self.X1_selected)))\n",
    "                self.num_clusters1 += 1\n",
    "                print(\"One cluster has been created.\")\n",
    "            if self.lasso2_active:\n",
    "                self.X2_train.append(self.X2_selected)\n",
    "                self.y2_train.append(np.array([self.num_clusters2] * len(self.X2_selected)))\n",
    "                self.num_clusters2 += 1\n",
    "                print(\"One cluster has been created.\")\n",
    "            else:\n",
    "                pass\n",
    "        if event.key == 'shift':\n",
    "            X1_train = np.vstack(self.X1_train)\n",
    "            X2_train = np.vstack(self.X2_train)\n",
    "            y1_train = np.hstack(self.y1_train)\n",
    "            y2_train = np.hstack(self.y2_train)\n",
    "            np.save('X1_train.npy', X1_train)\n",
    "            np.save('X2_train.npy', X2_train)\n",
    "            np.save('y1_train.npy', y1_train)\n",
    "            np.save('y2_train.npy', y2_train)\n",
    "            print(\"Created training datasets have beed saved.\")\n",
    "\n",
    "def interactive_annotation(X, lbs, **kwargs):\n",
    "    fig, ax = plt.subplots(1, 2, figsize=(12, 6))\n",
    "    app = InteractiveAnnotation(fig, X, lbs, **kwargs)\n",
    "    return app"
   ]
  },
  {
   "cell_type": "code",
   "execution_count": 47,
   "id": "61bb2af5-a35c-43a4-915d-35b16a4b4c67",
   "metadata": {},
   "outputs": [],
   "source": [
    "X = get_feature_X(num=6, threshold = 0.3, min_distance=1)\n",
    "lbs = gmm_lbs(X, 2, n_init=1)"
   ]
  },
  {
   "cell_type": "code",
   "execution_count": 48,
   "id": "69342264-6cdc-431f-bcbf-3852e2e7e4da",
   "metadata": {},
   "outputs": [
    {
     "name": "stdout",
     "output_type": "stream",
     "text": [
      "One cluster has been created.\n",
      "One cluster has been created.\n",
      "One cluster has been created.\n",
      "One cluster has been created.\n",
      "Created training datasets have beed saved.\n"
     ]
    }
   ],
   "source": [
    "app = interactive_annotation(X, lbs, s=1)"
   ]
  },
  {
   "cell_type": "code",
   "execution_count": null,
   "id": "2c82cbd2-fa21-4065-901a-2f793fae522f",
   "metadata": {},
   "outputs": [],
   "source": []
  },
  {
   "cell_type": "code",
   "execution_count": null,
   "id": "92c13d67-0d61-4667-add7-31b9b8e4af63",
   "metadata": {},
   "outputs": [],
   "source": []
  }
 ],
 "metadata": {
  "kernelspec": {
   "display_name": "Python 3 (ipykernel)",
   "language": "python",
   "name": "python3"
  },
  "language_info": {
   "codemirror_mode": {
    "name": "ipython",
    "version": 3
   },
   "file_extension": ".py",
   "mimetype": "text/x-python",
   "name": "python",
   "nbconvert_exporter": "python",
   "pygments_lexer": "ipython3",
   "version": "3.9.18"
  }
 },
 "nbformat": 4,
 "nbformat_minor": 5
}
