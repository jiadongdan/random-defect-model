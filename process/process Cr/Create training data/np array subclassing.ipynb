{
 "cells": [
  {
   "cell_type": "code",
   "execution_count": null,
   "id": "ec623a15-4d20-4571-8a0e-cb4d7a815627",
   "metadata": {},
   "outputs": [],
   "source": []
  },
  {
   "cell_type": "code",
   "execution_count": 111,
   "id": "3b76b532-d87c-42f9-9780-eae4bbe62679",
   "metadata": {},
   "outputs": [],
   "source": [
    "import numpy as np\n",
    "class zmarray(np.ndarray):\n",
    "\n",
    "    def __new__(cls, input_array, n=None, m=None, alpha=None):\n",
    "        # Input array is an already formed ndarray instance\n",
    "        # We first cast to be our class type\n",
    "        obj = np.asarray(input_array).view(cls)\n",
    "        obj.N = obj.shape[1]\n",
    "        obj.alpha = alpha\n",
    "        if n is None:\n",
    "            obj.n = j2nm(range(obj.N), obj.alpha)[:, 0]\n",
    "        else:\n",
    "            obj.n = n\n",
    "        if m is None:\n",
    "            obj.m = j2nm(range(obj.N), obj.alpha)[:, 1]\n",
    "        else:\n",
    "            obj.m = m\n",
    "        return obj\n",
    "\n",
    "    def __getitem__(self, index):\n",
    "        # Handling slicing\n",
    "        result = super(zmarray, self).__getitem__(index)\n",
    "        \n",
    "        # If the result is not a scalar (i.e., still an array)\n",
    "        if isinstance(result, np.ndarray):\n",
    "            # Update n and m for column slicing\n",
    "            if isinstance(index, tuple) and len(index) > 1:\n",
    "                col_index = index[1]\n",
    "                if isinstance(col_index, slice):\n",
    "                    result.n = self.n[col_index]\n",
    "                    result.m = self.m[col_index]\n",
    "                    result.N = len(self.n[col_index])\n",
    "                elif isinstance(col_index, int):\n",
    "                    result.n = self.n[col_index:col_index+1]\n",
    "                    result.m = self.m[col_index:col_index+1]\n",
    "                    result.N = 1\n",
    "            # For row slicing or single dimension slicing, n and m remain the same\n",
    "            else:\n",
    "                result.n = self.n\n",
    "                result.m = self.m\n",
    "\n",
    "        return result\n",
    "            \n",
    "            \n",
    "    def __array_finalize__(self, obj):\n",
    "        if obj is None: return\n",
    "        self.n = getattr(obj, 'n', None)\n",
    "        self.m = getattr(obj, 'm', None)\n",
    "        self.alpha = getattr(obj, 'alpha', None)\n",
    "        self.N = getattr(obj, 'N', None)"
   ]
  },
  {
   "cell_type": "code",
   "execution_count": 112,
   "id": "c8b62ff9-7947-441f-987b-000677c8a68f",
   "metadata": {},
   "outputs": [],
   "source": [
    "a = np.random.random((20, 10))\n",
    "m = np.arange(10)\n",
    "n = -np.arange(10)\n",
    "aa = zmarray(a, n=n, m=m)"
   ]
  },
  {
   "cell_type": "code",
   "execution_count": 115,
   "id": "01794646-9e8d-4c00-89a6-5c2d1a04bddb",
   "metadata": {},
   "outputs": [],
   "source": [
    "bb = aa[:, 5]"
   ]
  },
  {
   "cell_type": "code",
   "execution_count": null,
   "id": "e72f1116-0daf-4a9d-b006-b62054d9358d",
   "metadata": {},
   "outputs": [],
   "source": []
  },
  {
   "cell_type": "code",
   "execution_count": null,
   "id": "2de65b20-20bd-47fa-b3dd-2fa1370a9020",
   "metadata": {},
   "outputs": [],
   "source": []
  },
  {
   "cell_type": "code",
   "execution_count": 75,
   "id": "ac6dcadd-fa98-47c0-9c42-351b4b9c80e5",
   "metadata": {},
   "outputs": [],
   "source": [
    "class myarray(np.ndarray):\n",
    "\n",
    "    def __new__(cls, input_array):\n",
    "        # Input array is an already formed ndarray instance\n",
    "        # We first cast to be our class type\n",
    "        obj = np.asarray(input_array).view(cls)\n",
    "        obj.col_inds = np.arange(input_array.shape[1])\n",
    "        return obj\n",
    "        \n",
    "\n",
    "    def __array_finalize__(self, obj):\n",
    "        if obj is None: return\n",
    "        self.col_inds = getattr(obj, 'col_inds', None)"
   ]
  },
  {
   "cell_type": "code",
   "execution_count": 79,
   "id": "7aea802c-c039-471e-baab-d11f13cf7ff8",
   "metadata": {},
   "outputs": [
    {
     "name": "stdout",
     "output_type": "stream",
     "text": [
      "[0 1 2 3 4 5 6 7 8 9]\n"
     ]
    }
   ],
   "source": [
    "a = np.random.random((100, 10))\n",
    "aa = myarray(a)\n",
    "\n",
    "bb = aa[:, 0:3]\n",
    "print(bb.col_inds)"
   ]
  },
  {
   "cell_type": "code",
   "execution_count": null,
   "id": "16bc6311-0c22-4e9d-9e1b-6bb9bb84e776",
   "metadata": {},
   "outputs": [],
   "source": []
  },
  {
   "cell_type": "code",
   "execution_count": 77,
   "id": "b48d86bd-90f4-4797-94d9-65dc57f46000",
   "metadata": {},
   "outputs": [
    {
     "name": "stdout",
     "output_type": "stream",
     "text": [
      "[0 1 2 3 4 5 6 7 8 9]\n"
     ]
    }
   ],
   "source": [
    "bb = aa[:, 0:3]\n",
    "print(bb.col_inds)"
   ]
  },
  {
   "cell_type": "code",
   "execution_count": 78,
   "id": "20d72980-294c-4002-9231-15b5f195f361",
   "metadata": {},
   "outputs": [
    {
     "data": {
      "text/plain": [
       "array([0, 1, 2, 3, 4, 5, 6, 7, 8, 9])"
      ]
     },
     "execution_count": 78,
     "metadata": {},
     "output_type": "execute_result"
    }
   ],
   "source": [
    "bb.col_inds"
   ]
  },
  {
   "cell_type": "code",
   "execution_count": null,
   "id": "e9218c2f-c235-4d86-a142-9b04ee5fded5",
   "metadata": {},
   "outputs": [],
   "source": []
  }
 ],
 "metadata": {
  "kernelspec": {
   "display_name": "Python 3 (ipykernel)",
   "language": "python",
   "name": "python3"
  },
  "language_info": {
   "codemirror_mode": {
    "name": "ipython",
    "version": 3
   },
   "file_extension": ".py",
   "mimetype": "text/x-python",
   "name": "python",
   "nbconvert_exporter": "python",
   "pygments_lexer": "ipython3",
   "version": "3.9.18"
  }
 },
 "nbformat": 4,
 "nbformat_minor": 5
}
