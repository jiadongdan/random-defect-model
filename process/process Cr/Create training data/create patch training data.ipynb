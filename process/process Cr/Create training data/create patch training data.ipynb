{
 "cells": [
  {
   "cell_type": "code",
   "execution_count": 1,
   "id": "e80ac9ea-d91c-4d8a-bc1a-97d860e835c7",
   "metadata": {},
   "outputs": [],
   "source": [
    "%matplotlib qt\n",
    "import numpy as np\n",
    "import matplotlib.pyplot as plt\n",
    "\n",
    "import sys\n",
    "sys.path.append('D:\\\\Dropbox\\\\stempy')\n",
    "sys.path.append('D:\\\\Dropbox\\\\stemplot')\n",
    "    \n",
    "from stemplot import *"
   ]
  },
  {
   "cell_type": "code",
   "execution_count": null,
   "id": "5258bf65-9c44-48d7-8080-b464dbb8cd4a",
   "metadata": {},
   "outputs": [],
   "source": []
  },
  {
   "cell_type": "code",
   "execution_count": 26,
   "id": "a75729df-ad53-46cd-bc40-7a48ff2fb0a9",
   "metadata": {},
   "outputs": [],
   "source": [
    "from skimage.filters import gaussian\n",
    "from skimage.transform import rescale\n",
    "\n",
    "def generate_tmd_motif(w=173*4, sigma1=None, sigma2=None, scale=0.5):\n",
    "    h = np.round(w*np.sqrt(3)).astype(int)\n",
    "    a = np.round(w/np.sqrt(3)).astype(int)\n",
    "    y1 = np.round(w/np.sqrt(3)*0.5).astype(int)\n",
    "    y2 = a\n",
    "    y3 = 2*a\n",
    "    y4 = np.round(w/np.sqrt(3)*2.5).astype(int)\n",
    "    x1 = w//4\n",
    "    x2 = w//4*3\n",
    "    shape = (h, w)\n",
    "    pts1 = [(x1, y1), (x2, y3)]\n",
    "    pts2 = [(x2, y2), (x1, y4)]\n",
    "    img1 = np.zeros(shape)\n",
    "    img2 = np.zeros(shape)\n",
    "    for (x, y) in pts1:\n",
    "        img1[y, x] = 1\n",
    "    for (x, y) in pts2:\n",
    "        img2[y, x] = 1\n",
    "\n",
    "    if sigma1 is None:\n",
    "        sigma1 = a//8\n",
    "    if sigma2 is None:\n",
    "        sigma2 = a//8\n",
    "    img1 = gaussian(img1, sigma=sigma1)\n",
    "    img2 = gaussian(img2, sigma=sigma2)\n",
    "    img1 = img1/img1.max()\n",
    "    img2 = img2/img2.max()\n",
    "    img = img1+img2*scale\n",
    "    # normalize img\n",
    "    img = img/img.max()\n",
    "    return img\n",
    "\n",
    "class TMDImage:\n",
    "\n",
    "    def __init__(self, a=10, sigma1=None, sigma2=None, A=0.5, angle=0):\n",
    "        a = 10\n",
    "        w = np.sqrt(3)*a\n",
    "        s = w/(173*4)\n",
    "        \n",
    "        motif_large = generate_tmd_motif(sigma1=sigma1, sigma2=sigma2, scale=A)\n",
    "        self.motif = rescale(motif_large, scale=s)"
   ]
  },
  {
   "cell_type": "code",
   "execution_count": 31,
   "id": "862fd65a-37b5-49eb-9362-febbc8accec5",
   "metadata": {},
   "outputs": [],
   "source": [
    "aa = TMDImage()\n",
    "bb = np.tile(aa.motif,(2,4))"
   ]
  },
  {
   "cell_type": "code",
   "execution_count": 34,
   "id": "33b8010b-4be1-4e32-93f1-a12b705db802",
   "metadata": {},
   "outputs": [
    {
     "data": {
      "text/plain": [
       "<matplotlib.image.AxesImage at 0x179b7490b50>"
      ]
     },
     "execution_count": 34,
     "metadata": {},
     "output_type": "execute_result"
    }
   ],
   "source": [
    "imshow(bb)"
   ]
  },
  {
   "cell_type": "code",
   "execution_count": 16,
   "id": "a623b63f-589e-4bca-a62d-ef061c192514",
   "metadata": {},
   "outputs": [],
   "source": [
    "from skimage.filters import gaussian\n",
    "from skimage.transform import rescale\n",
    "def generate_tmd_motif(w=173*4, sigma1=None, sigma2=None, scale=0.5):\n",
    "    h = np.round(w*np.sqrt(3)).astype(int)\n",
    "    a = np.round(w/np.sqrt(3)).astype(int)\n",
    "    print(a)\n",
    "    y1 = np.round(w/np.sqrt(3)*0.5).astype(int)\n",
    "    y2 = a\n",
    "    y3 = 2*a\n",
    "    y4 = np.round(w/np.sqrt(3)*2.5).astype(int)\n",
    "    x1 = w//4\n",
    "    x2 = w//4*3\n",
    "    shape = (h, w)\n",
    "    pts1 = [(x1, y1), (x2, y3)]\n",
    "    pts2 = [(x2, y2), (x1, y4)]\n",
    "    img1 = np.zeros(shape)\n",
    "    img2 = np.zeros(shape)\n",
    "    for (x, y) in pts1:\n",
    "        img1[y, x] = 1\n",
    "    for (x, y) in pts2:\n",
    "        img2[y, x] = 1\n",
    "\n",
    "    if sigma1 is None:\n",
    "        sigma1 = a//8\n",
    "    if sigma2 is None:\n",
    "        sigma2 = a//8\n",
    "    img1 = gaussian(img1, sigma=sigma1)\n",
    "    img2 = gaussian(img2, sigma=sigma2)\n",
    "    img1 = img1/img1.max()\n",
    "    img2 = img2/img2.max()\n",
    "    img = img1+img2*scale\n",
    "    # normalize img\n",
    "    img = img/img.max()\n",
    "    return img"
   ]
  },
  {
   "cell_type": "code",
   "execution_count": 18,
   "id": "60eda9ea-5cdf-49e4-b6ca-2a2b69272108",
   "metadata": {},
   "outputs": [
    {
     "name": "stdout",
     "output_type": "stream",
     "text": [
      "400\n"
     ]
    }
   ],
   "source": [
    "basic = generate_tmd_motif(scale=0.5)\n",
    "basic_small = rescale(basic, 0.1)"
   ]
  },
  {
   "cell_type": "code",
   "execution_count": 9,
   "id": "f23cd823-3b8a-460e-a7d2-182554cf4097",
   "metadata": {},
   "outputs": [
    {
     "data": {
      "text/plain": [
       "<matplotlib.image.AxesImage at 0x179b53eda90>"
      ]
     },
     "execution_count": 9,
     "metadata": {},
     "output_type": "execute_result"
    }
   ],
   "source": [
    "imshow(basic_small)"
   ]
  },
  {
   "cell_type": "code",
   "execution_count": null,
   "id": "d1eba1d8-ef59-4221-87a3-08da1c696137",
   "metadata": {},
   "outputs": [],
   "source": []
  },
  {
   "cell_type": "code",
   "execution_count": null,
   "id": "ababc380-bcea-42ae-8657-33826b2a8856",
   "metadata": {},
   "outputs": [],
   "source": []
  }
 ],
 "metadata": {
  "kernelspec": {
   "display_name": "Python 3 (ipykernel)",
   "language": "python",
   "name": "python3"
  },
  "language_info": {
   "codemirror_mode": {
    "name": "ipython",
    "version": 3
   },
   "file_extension": ".py",
   "mimetype": "text/x-python",
   "name": "python",
   "nbconvert_exporter": "python",
   "pygments_lexer": "ipython3",
   "version": "3.9.18"
  }
 },
 "nbformat": 4,
 "nbformat_minor": 5
}
