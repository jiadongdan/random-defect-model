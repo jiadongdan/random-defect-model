{
 "cells": [
  {
   "cell_type": "code",
   "execution_count": 10,
   "id": "f644d572-4ad1-4dbf-86b2-b5d99fda247f",
   "metadata": {},
   "outputs": [],
   "source": [
    "%matplotlib qt\n",
    "import numpy as np\n",
    "import matplotlib.pyplot as plt\n",
    "\n",
    "import sys\n",
    "sys.path.append('D:\\\\Dropbox\\\\stempy')\n",
    "sys.path.append('D:\\\\Dropbox\\\\stemplot')\n",
    "    \n",
    "from stemplot import *\n",
    "\n",
    "from stempy.io import *\n",
    "from stempy.clustering import *\n",
    "from stempy.plot import *\n",
    "from stempy.denoise import *\n",
    "from stempy.utils import *\n",
    "from stempy.feature import *\n",
    "from stempy.spatial import *\n",
    "from stempy.manifold import *"
   ]
  },
  {
   "cell_type": "code",
   "execution_count": 124,
   "id": "eb7d8e6b-ab9f-4deb-b18a-47da4c5fd165",
   "metadata": {},
   "outputs": [],
   "source": [
    "from tqdm import tqdm\n",
    "def load_all_adf1():\n",
    "    dp = r'D:\\Dropbox\\data\\Leyi\\Dopant Valency Project\\CrWSe2_total 8 datasets\\CrWSe2_20211028'+'\\\\'\n",
    "\n",
    "    nums = [6, 7, 9, 13, 14, 15, 17]\n",
    "\n",
    "    imgs1 = []\n",
    "    for num in tqdm(nums):\n",
    "        # load images\n",
    "        file_name1 = dp + 'ADF1_{}.dm4'.format(num)\n",
    "        file_name2 = dp + 'ADF2_{}.dm4'.format(num)\n",
    "        \n",
    "        # load image and normalize\n",
    "        img1 = load_image(file_name1)\n",
    "        img1 = normalize_image(img1, 0, 1)\n",
    "\n",
    "        imgs1.append(img1)\n",
    "    return np.array(imgs1)\n",
    "\n",
    "def load_all_adf2():\n",
    "    dp = r'D:\\Dropbox\\data\\Leyi\\Dopant Valency Project\\CrWSe2_total 8 datasets\\CrWSe2_20211028'+'\\\\'\n",
    "\n",
    "    nums = [6, 7, 9, 13, 14, 15, 17]\n",
    "\n",
    "    imgs1 = []\n",
    "    for num in tqdm(nums):\n",
    "        # load images\n",
    "        file_name1 = dp + 'ADF1_{}.dm4'.format(num)\n",
    "        file_name2 = dp + 'ADF2_{}.dm4'.format(num)\n",
    "        \n",
    "        # load image and normalize\n",
    "        img1 = load_image(file_name2)\n",
    "        img1 = normalize_image(img1, 0, 1)\n",
    "\n",
    "        imgs1.append(img1)\n",
    "    return np.array(imgs1)"
   ]
  },
  {
   "cell_type": "code",
   "execution_count": 123,
   "id": "d9757290-f464-403d-90a8-a92ba4a3b1ed",
   "metadata": {},
   "outputs": [
    {
     "name": "stderr",
     "output_type": "stream",
     "text": [
      "100%|████████████████████████████████████████████████████████████████████████████████████| 7/7 [00:00<00:00, 23.89it/s]\n"
     ]
    }
   ],
   "source": [
    "imgs1 = load_all_adf1()\n",
    "np.save('all_adf1.np', imgs1)"
   ]
  },
  {
   "cell_type": "code",
   "execution_count": 125,
   "id": "1b46b09c-106b-43e8-9d99-da3bb53026fa",
   "metadata": {},
   "outputs": [
    {
     "name": "stderr",
     "output_type": "stream",
     "text": [
      "100%|████████████████████████████████████████████████████████████████████████████████████| 7/7 [00:00<00:00, 22.28it/s]\n"
     ]
    }
   ],
   "source": [
    "imgs2 = load_all_adf2()\n",
    "np.save('all_adf2.np', imgs2)"
   ]
  },
  {
   "cell_type": "code",
   "execution_count": 126,
   "id": "9e50ecbf-9a81-4b5e-88cb-4001bd5dafae",
   "metadata": {},
   "outputs": [
    {
     "data": {
      "text/plain": [
       "<stempy.plot.data_slicer1.DataSlicer at 0x1ba0387b7f0>"
      ]
     },
     "execution_count": 126,
     "metadata": {},
     "output_type": "execute_result"
    }
   ],
   "source": [
    "imshow(imgs1)"
   ]
  },
  {
   "cell_type": "code",
   "execution_count": null,
   "id": "a25864c8-7da6-490a-b431-2b2534763a59",
   "metadata": {},
   "outputs": [],
   "source": []
  },
  {
   "cell_type": "code",
   "execution_count": null,
   "id": "22520a00-9389-4b4e-ad97-7dfa66d0fcba",
   "metadata": {},
   "outputs": [],
   "source": []
  },
  {
   "cell_type": "code",
   "execution_count": null,
   "id": "919e7cd2-f9e3-47d4-9c42-61ba47f7a4ae",
   "metadata": {},
   "outputs": [],
   "source": []
  },
  {
   "cell_type": "code",
   "execution_count": null,
   "id": "4c61adfe-c710-48e8-a331-43bb77687b1f",
   "metadata": {},
   "outputs": [],
   "source": []
  },
  {
   "cell_type": "markdown",
   "id": "2890c453-80c4-4f0b-b561-563cd113aad0",
   "metadata": {},
   "source": [
    "## stop here"
   ]
  },
  {
   "cell_type": "code",
   "execution_count": null,
   "id": "328b7598-dd5c-4484-9cb5-28ea13c457ae",
   "metadata": {},
   "outputs": [],
   "source": []
  },
  {
   "cell_type": "code",
   "execution_count": null,
   "id": "958d47d4-e421-4041-83bf-e34eb57f7038",
   "metadata": {},
   "outputs": [],
   "source": []
  },
  {
   "cell_type": "code",
   "execution_count": 115,
   "id": "1e476325-715d-4997-b607-5ac2245552d8",
   "metadata": {},
   "outputs": [],
   "source": [
    "from skimage.transform import warp_polar\n",
    "from scipy.ndimage import uniform_filter1d\n",
    "\n",
    "def baseline_correction(y,niter=10):\n",
    "    n = len(y)\n",
    "    y_ = np.log(np.log(np.sqrt(y +1)+1)+1)\n",
    "    yy = np.zeros_like(y)\n",
    "\n",
    "    for pp in np.arange(1,niter+1):\n",
    "        r1 = y_[pp:n-pp]\n",
    "        r2 = (np.roll(y_,-pp)[pp:n-pp] + np.roll(y_,pp)[pp:n-pp])/2\n",
    "        yy = np.minimum(r1,r2)\n",
    "        y_[pp:n-pp] = yy\n",
    "\n",
    "    baseline = (np.exp(np.exp(y_)-1)-1)**2 -1\n",
    "    return baseline\n",
    "\n",
    "def get_fft_line(img, niter=10, size=9, use_log=True, debug=True):\n",
    "    fft_abs = np.abs(np.fft.fftshift(np.fft.fft2(img)))\n",
    "    if use_log:\n",
    "        fft_log = np.log(fft_abs + 1)\n",
    "    else:\n",
    "        fft_log = fft_abs\n",
    "    i ,j = np.unravel_index(np.argmax(fft_log), shape=img.shape)\n",
    "    y = warp_polar(fft_log, center=(i, j)).mean(axis=0)[0:i]\n",
    "    bg = baseline_correction(y, niter=niter)\n",
    "    y1 = y - bg\n",
    "    y2 = uniform_filter1d(y1,size=size)\n",
    "    return y2\n",
    "\n",
    "class TMDImage:\n",
    "\n",
    "    def __init__(self, img):\n",
    "        self.img = img\n",
    "        self.fft_line = get_fft_line(self.img, debug=False)\n",
    "        ind = np.argmax(self.fft_line)\n",
    "        size = np.round(self.img.shape[0]/ind).astype(int)\n",
    "        self.patch_size = 2*size + 1\n",
    "\n",
    "    "
   ]
  },
  {
   "cell_type": "code",
   "execution_count": 34,
   "id": "dbdcd83c-a01c-47fa-be6c-54c7f7bc8d8e",
   "metadata": {},
   "outputs": [],
   "source": [
    "from tqdm import tqdm\n",
    "def load_all_adf1():\n",
    "    dp = r'D:\\Dropbox\\data\\Leyi\\Dopant Valency Project\\CrWSe2_total 8 datasets\\CrWSe2_20211028'+'\\\\'\n",
    "\n",
    "    nums = [6, 7, 9, 13, 14, 15, 17]\n",
    "\n",
    "    lines = []\n",
    "    for num in tqdm(nums):\n",
    "        # load images\n",
    "        file_name1 = dp + 'ADF1_{}.dm4'.format(num)\n",
    "        file_name2 = dp + 'ADF2_{}.dm4'.format(num)\n",
    "        \n",
    "        # load image and normalize\n",
    "        img1 = load_image(file_name1)\n",
    "        img1 = normalize_image(img1, 0, 1)\n",
    "\n",
    "        img1 = remove_bg(img1, 7)\n",
    "\n",
    "        line = get_fft_line(img1)\n",
    "        lines.append(line)\n",
    "\n",
    "        print(2*get_patch_size(img1, debug=False)+3)\n",
    "    return lines."
   ]
  },
  {
   "cell_type": "code",
   "execution_count": 35,
   "id": "20262b78-66d8-435b-95ab-50e815467c21",
   "metadata": {},
   "outputs": [
    {
     "name": "stderr",
     "output_type": "stream",
     "text": [
      " 14%|████████████                                                                        | 1/7 [00:00<00:01,  3.42it/s]"
     ]
    },
    {
     "name": "stdout",
     "output_type": "stream",
     "text": [
      "21\n"
     ]
    },
    {
     "name": "stderr",
     "output_type": "stream",
     "text": [
      " 29%|████████████████████████                                                            | 2/7 [00:00<00:01,  3.43it/s]"
     ]
    },
    {
     "name": "stdout",
     "output_type": "stream",
     "text": [
      "19\n"
     ]
    },
    {
     "name": "stderr",
     "output_type": "stream",
     "text": [
      " 43%|████████████████████████████████████                                                | 3/7 [00:00<00:01,  3.41it/s]"
     ]
    },
    {
     "name": "stdout",
     "output_type": "stream",
     "text": [
      "25\n"
     ]
    },
    {
     "name": "stderr",
     "output_type": "stream",
     "text": [
      " 57%|████████████████████████████████████████████████                                    | 4/7 [00:01<00:00,  3.43it/s]"
     ]
    },
    {
     "name": "stdout",
     "output_type": "stream",
     "text": [
      "21\n"
     ]
    },
    {
     "name": "stderr",
     "output_type": "stream",
     "text": [
      " 71%|████████████████████████████████████████████████████████████                        | 5/7 [00:01<00:00,  3.45it/s]"
     ]
    },
    {
     "name": "stdout",
     "output_type": "stream",
     "text": [
      "17\n"
     ]
    },
    {
     "name": "stderr",
     "output_type": "stream",
     "text": [
      " 86%|████████████████████████████████████████████████████████████████████████            | 6/7 [00:01<00:00,  3.44it/s]"
     ]
    },
    {
     "name": "stdout",
     "output_type": "stream",
     "text": [
      "21\n"
     ]
    },
    {
     "name": "stderr",
     "output_type": "stream",
     "text": [
      "100%|████████████████████████████████████████████████████████████████████████████████████| 7/7 [00:02<00:00,  3.41it/s]"
     ]
    },
    {
     "name": "stdout",
     "output_type": "stream",
     "text": [
      "21\n"
     ]
    },
    {
     "name": "stderr",
     "output_type": "stream",
     "text": [
      "\n"
     ]
    }
   ],
   "source": [
    "lines = load_all_adf1()"
   ]
  },
  {
   "cell_type": "code",
   "execution_count": 75,
   "id": "0017708d-4bbe-481a-8506-1efd75f841fe",
   "metadata": {},
   "outputs": [],
   "source": [
    "for ii, line in enumerate(lines):\n",
    "    plt.plot(line+ii*0.3)"
   ]
  },
  {
   "cell_type": "code",
   "execution_count": null,
   "id": "a7339c0e-e41b-49ac-9252-9fb077497704",
   "metadata": {},
   "outputs": [],
   "source": []
  },
  {
   "cell_type": "code",
   "execution_count": null,
   "id": "d33dc955-1fd4-45f9-9ccb-0b66aaad92df",
   "metadata": {},
   "outputs": [],
   "source": []
  },
  {
   "cell_type": "code",
   "execution_count": null,
   "id": "17905589-06ee-4a03-a898-e40134612a03",
   "metadata": {},
   "outputs": [],
   "source": []
  },
  {
   "cell_type": "code",
   "execution_count": 49,
   "id": "b5d3b73b-b94d-4e31-bbfd-a743867f55c3",
   "metadata": {},
   "outputs": [],
   "source": [
    "def get_feature_X(num=6, threshold = 0.3, min_distance=1):\n",
    "    dp = r'D:\\Dropbox\\data\\Leyi\\Dopant Valency Project\\CrWSe2_total 8 datasets\\CrWSe2_20211028'+'\\\\'\n",
    "\n",
    "    # load images\n",
    "    file_name1 = dp + 'ADF1_{}.dm4'.format(num)\n",
    "    file_name2 = dp + 'ADF2_{}.dm4'.format(num)\n",
    "    \n",
    "    # load image and normalize\n",
    "    img1 = load_image(file_name1)\n",
    "    img1 = normalize_image(img1, 0, 1)\n",
    "    \n",
    "    img2 = load_image(file_name2)\n",
    "    img2 = normalize_image(img2, 0, 1)\n",
    "\n",
    "    # clean images\n",
    "    img1 = remove_bg(img1, 7)\n",
    "    img2 = remove_bg(img2, 7)\n",
    "    \n",
    "    img1 = normalize_image(img1, 0, 1)\n",
    "    img2 = normalize_image(img2, 0, 1)\n",
    "\n",
    "    # denoise img2\n",
    "    n_components = 32\n",
    "    patch_size = 32\n",
    "    extraction_step = 2\n",
    "    imgf = denoise_svd(img2, n_components, patch_size, extraction_step, verbose=False) \n",
    "\n",
    "    # find points\n",
    "    pts = local_max(imgf, min_distance=min_distance, threshold=threshold, plot=False)\n",
    "\n",
    "    size = 2*get_patch_size(img1, debug=False)+3\n",
    "    kp1 = KeyPoints(pts, img1, size)\n",
    "    ps1 = kp1.extract_patches(size) \n",
    "    \n",
    "    kp2 = KeyPoints(pts, img2, size)\n",
    "    ps2 = kp2.extract_patches(size)\n",
    "\n",
    "    zps = ZPs(n_max=10, size=ps1.shape[1])\n",
    "    zps.fit(ps1)\n",
    "    X1 = zps.moments\n",
    "    zps.fit(ps2)\n",
    "    X2 = zps.moments\n",
    "    X = X1.hstack(X2)\n",
    "    return X"
   ]
  },
  {
   "cell_type": "code",
   "execution_count": 78,
   "id": "b2314165-7c3e-464e-925a-5b37a9277aa3",
   "metadata": {},
   "outputs": [],
   "source": [
    "def vstack_zmarrays(a):\n",
    "    a0 = a[0]\n",
    "    for e in a[1:]:\n",
    "        a0 = a0.vstack(e)\n",
    "    return a0"
   ]
  },
  {
   "cell_type": "code",
   "execution_count": 52,
   "id": "22946cb1-d284-4818-ab46-75eec5c5fa13",
   "metadata": {},
   "outputs": [],
   "source": [
    "nums = [6, 7, 9, 13, 14, 15, 17]\n",
    "thresholds = [0.3, 0.3, 0.3, 0.1, 0.1, 0.1, 0.1]\n",
    "min_dists = [1, 1, 3, 1, 1, 1, 1]"
   ]
  },
  {
   "cell_type": "code",
   "execution_count": 67,
   "id": "feaeddab-d446-47a6-885a-20c1e1a670f4",
   "metadata": {},
   "outputs": [
    {
     "name": "stderr",
     "output_type": "stream",
     "text": [
      "100%|████████████████████████████████████████████████████████████████████████████████████| 7/7 [00:25<00:00,  3.69s/it]\n"
     ]
    }
   ],
   "source": [
    "ll = []\n",
    "lbs_ = []\n",
    "ii = 0\n",
    "for num, threshold, min_distance in tqdm(zip(nums, thresholds, min_dists ), total=7):\n",
    "    X = get_feature_X(num, threshold, min_distance)\n",
    "    ll.append(X)\n",
    "    lbs_.append([ii]*len(X))\n",
    "    ii = ii + 1\n",
    "lbs_ = np.hstack(lbs_)"
   ]
  },
  {
   "cell_type": "code",
   "execution_count": 83,
   "id": "4bca704d-41da-4768-8e25-0d1e88fd206c",
   "metadata": {},
   "outputs": [],
   "source": [
    "X = vstack_zmarrays(ll)"
   ]
  },
  {
   "cell_type": "code",
   "execution_count": 84,
   "id": "05260a80-7fa1-4af4-a9c4-4dfb109b9b1b",
   "metadata": {},
   "outputs": [],
   "source": [
    "lbs = gmm_lbs(X, 2, n_init=1)"
   ]
  },
  {
   "cell_type": "code",
   "execution_count": 88,
   "id": "69815d61-2635-4a21-ab69-5e091630facf",
   "metadata": {},
   "outputs": [],
   "source": [
    "X1 = X[lbs==0]\n",
    "X2 = X[lbs==1]\n",
    "lbs1 = lbs_[lbs==0]\n",
    "lbs2 = lbs_[lbs==1]"
   ]
  },
  {
   "cell_type": "code",
   "execution_count": 111,
   "id": "de5f4839-ba10-41b5-a418-d3403d287271",
   "metadata": {},
   "outputs": [],
   "source": [
    "#X11 = np.hstack([X1, X1.rotinv().select(0)])\n",
    "#X22 = np.hstack([X2, X2.rotinv().select(0)])"
   ]
  },
  {
   "cell_type": "code",
   "execution_count": 112,
   "id": "52acb017-408c-433b-8644-e7c1c8e31880",
   "metadata": {},
   "outputs": [],
   "source": [
    "plot_pca(X1.rotinv().select(0), s=1, lbs=lbs1)"
   ]
  },
  {
   "cell_type": "code",
   "execution_count": 113,
   "id": "64c2f969-6bad-47f8-b24e-aa13b7c75369",
   "metadata": {},
   "outputs": [],
   "source": [
    "plot_pca(X2.rotinv().select(0), s=1, lbs=lbs2)"
   ]
  },
  {
   "cell_type": "code",
   "execution_count": null,
   "id": "667f905b-cafa-4466-92c0-a59154e19dc7",
   "metadata": {},
   "outputs": [],
   "source": []
  },
  {
   "cell_type": "code",
   "execution_count": null,
   "id": "ddd217e5-a6a1-4ece-8f61-d2b1570be6db",
   "metadata": {},
   "outputs": [],
   "source": []
  },
  {
   "cell_type": "code",
   "execution_count": null,
   "id": "51677409-6251-491a-bf9f-b0e99d037491",
   "metadata": {},
   "outputs": [],
   "source": []
  },
  {
   "cell_type": "code",
   "execution_count": null,
   "id": "e5a33b9e-98ee-43af-9077-e45d470efb91",
   "metadata": {},
   "outputs": [],
   "source": []
  }
 ],
 "metadata": {
  "kernelspec": {
   "display_name": "Python 3 (ipykernel)",
   "language": "python",
   "name": "python3"
  },
  "language_info": {
   "codemirror_mode": {
    "name": "ipython",
    "version": 3
   },
   "file_extension": ".py",
   "mimetype": "text/x-python",
   "name": "python",
   "nbconvert_exporter": "python",
   "pygments_lexer": "ipython3",
   "version": "3.9.18"
  }
 },
 "nbformat": 4,
 "nbformat_minor": 5
}
