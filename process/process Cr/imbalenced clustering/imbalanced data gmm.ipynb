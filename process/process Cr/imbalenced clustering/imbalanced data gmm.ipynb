{
 "cells": [
  {
   "cell_type": "code",
   "execution_count": 1,
   "id": "338abb15-71b3-43ff-94b7-4ee9bdb35d19",
   "metadata": {},
   "outputs": [],
   "source": [
    "%matplotlib qt\n",
    "import numpy as np\n",
    "import matplotlib.pyplot as plt\n",
    "\n",
    "import sys\n",
    "import platform\n",
    "if platform.system() == 'Darwin':\n",
    "\tsys.path.append('/Users/jiadongdan/Dropbox/stempy')\n",
    "else:\n",
    "\tsys.path.append('D:\\\\Dropbox\\\\stempy')\n",
    "    \n",
    "from stempy.io import *\n",
    "from stempy.denoise import *\n",
    "from stempy.datasets import *\n",
    "from stempy.utils import *\n",
    "from stempy.plot import *\n",
    "from stempy.feature import *\n",
    "from stempy.manifold import *\n",
    "from stempy.clustering import *\n",
    "from stempy.spatial import * \n",
    "from stempy.graph import *"
   ]
  },
  {
   "cell_type": "code",
   "execution_count": 181,
   "id": "c96b5b4d-58e0-4303-ab21-d5b889ffa938",
   "metadata": {},
   "outputs": [],
   "source": [
    "X = np.load('X.npy')\n",
    "ps = np.load('ps.npy')"
   ]
  },
  {
   "cell_type": "code",
   "execution_count": null,
   "id": "9a96aa9e-a2e4-44cb-a50d-de3c64754ec2",
   "metadata": {},
   "outputs": [],
   "source": []
  },
  {
   "cell_type": "code",
   "execution_count": 210,
   "id": "a064bba6-e2f0-4f01-97f4-d768dba9ca07",
   "metadata": {},
   "outputs": [],
   "source": [
    "from sklearn.mixture import GaussianMixture\n",
    "from sklearn.metrics import davies_bouldin_score, calinski_harabasz_score, silhouette_score\n",
    "def get_lbs(X, n=2, n_init=20, **kwargs):\n",
    "    aic_list = []\n",
    "    bic_list = []\n",
    "    lbs_list = []\n",
    "    lb = []\n",
    "    db = []\n",
    "    # covariance_type and n_init have huge effects\n",
    "    covariance_types = ['full', 'spherical', 'tied', 'diag']\n",
    "    #reg_covars = [1e-6, 1e-5, 1e-4, 1e-3]\n",
    "    reg_covars = [1e-6, 1e-5, 1e-4, 1e-3]\n",
    "    for reg_covar in reg_covars:\n",
    "        for type in covariance_types:\n",
    "            model = GaussianMixture(n, covariance_type=type, n_init=n_init, random_state=0, reg_covar=reg_covar,\n",
    "                                    **kwargs).fit(X)\n",
    "            lbs_ = model.predict(X)\n",
    "            lbs_list.append(lbs_)\n",
    "            aic_list.append(model.aic(X))\n",
    "            bic_list.append(model.bic(X))\n",
    "            lb.append(model.lower_bound_)\n",
    "            print(model.predict(X), reg_covar, type)\n",
    "            if np.unique(lbs_).shape[0] >= 2:\n",
    "                db.append(silhouette_score(X, lbs_))\n",
    "            else:\n",
    "                db.append(-1)\n",
    "    aic_bic = np.array(aic_list) + np.array(bic_list)\n",
    "    ind = np.argmin(lb)\n",
    "    ind = np.argmax(db)\n",
    "    print(ind)\n",
    "    lbs = lbs_list[ind]\n",
    "    #plt.plot(aic_list)\n",
    "    #plt.plot(bic_list)\n",
    "    fig, (ax1, ax2) = plt.subplots(1, 2, figsize=(7.2, 3.6))\n",
    "    ax1.plot(db)\n",
    "    ax2.plot(lb)\n",
    "    return lbs"
   ]
  },
  {
   "cell_type": "code",
   "execution_count": 211,
   "id": "6c12a501-5e6b-4a0b-bb8e-7f589743c6b0",
   "metadata": {},
   "outputs": [
    {
     "name": "stdout",
     "output_type": "stream",
     "text": [
      "[0 0 0 ... 0 1 1] 1e-06 full\n",
      "[0 0 1 ... 0 0 0] 1e-06 spherical\n",
      "[0 0 0 ... 0 0 0] 1e-06 tied\n",
      "[1 1 0 ... 1 0 0] 1e-06 diag\n",
      "[0 0 0 ... 0 0 0] 1e-05 full\n",
      "[0 0 1 ... 0 0 0] 1e-05 spherical\n",
      "[1 1 0 ... 1 1 1] 1e-05 tied\n",
      "[0 0 1 ... 0 1 1] 1e-05 diag\n",
      "[1 1 1 ... 1 1 1] 0.0001 full\n",
      "[0 0 1 ... 0 0 0] 0.0001 spherical\n",
      "[1 1 0 ... 1 1 1] 0.0001 tied\n",
      "[0 1 1 ... 0 1 1] 0.0001 diag\n",
      "[0 0 0 ... 0 0 0] 0.001 full\n",
      "[1 1 1 ... 1 1 1] 0.001 spherical\n",
      "[1 1 1 ... 1 1 1] 0.001 tied\n",
      "[1 1 1 ... 1 1 1] 0.001 diag\n",
      "2\n"
     ]
    }
   ],
   "source": [
    "lbs = get_lbs(X, 2)"
   ]
  },
  {
   "cell_type": "code",
   "execution_count": 213,
   "id": "afa55626-9793-4852-a37a-52174649beeb",
   "metadata": {},
   "outputs": [
    {
     "data": {
      "text/plain": [
       "<matplotlib.collections.PathCollection at 0x1c2bf578dc0>"
      ]
     },
     "execution_count": 213,
     "metadata": {},
     "output_type": "execute_result"
    }
   ],
   "source": [
    "fig, ax = plt.subplots(1, 1, figsize=(7.2, 7.2))\n",
    "ax.scatter(pca(X)[:, 0], pca(X)[:, 1], color=colors_from_lbs(lbs), s=10) "
   ]
  },
  {
   "cell_type": "code",
   "execution_count": 156,
   "id": "69840943-6f78-4635-bee3-47ece8c853eb",
   "metadata": {},
   "outputs": [],
   "source": [
    "plot_pca(X, 3, lbs=lbs)c"
   ]
  },
  {
   "cell_type": "code",
   "execution_count": 201,
   "id": "d21e7b48-fecf-4cd7-bea6-9e82c5c6a523",
   "metadata": {},
   "outputs": [
    {
     "data": {
      "text/plain": [
       "0.2598545955382636"
      ]
     },
     "execution_count": 201,
     "metadata": {},
     "output_type": "execute_result"
    }
   ],
   "source": [
    "silhouette_score(pca(X), lbs)"
   ]
  },
  {
   "cell_type": "code",
   "execution_count": null,
   "id": "a8e01ed3-3d66-4208-8df6-7cb75fcc2668",
   "metadata": {},
   "outputs": [],
   "source": []
  }
 ],
 "metadata": {
  "kernelspec": {
   "display_name": "Python 3 (ipykernel)",
   "language": "python",
   "name": "python3"
  },
  "language_info": {
   "codemirror_mode": {
    "name": "ipython",
    "version": 3
   },
   "file_extension": ".py",
   "mimetype": "text/x-python",
   "name": "python",
   "nbconvert_exporter": "python",
   "pygments_lexer": "ipython3",
   "version": "3.9.18"
  }
 },
 "nbformat": 4,
 "nbformat_minor": 5
}
