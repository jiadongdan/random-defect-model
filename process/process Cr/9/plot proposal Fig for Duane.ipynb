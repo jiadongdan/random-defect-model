{
 "cells": [
  {
   "cell_type": "code",
   "execution_count": 1,
   "id": "9d828f33-be69-41c4-8ebb-7b2e41f09022",
   "metadata": {},
   "outputs": [],
   "source": [
    "%matplotlib qt\n",
    "import numpy as np\n",
    "import matplotlib.pyplot as plt\n",
    "\n",
    "import sys\n",
    "sys.path.append('D:\\\\Dropbox\\\\stempy')\n",
    "sys.path.append('D:\\\\Dropbox\\\\stemplot')\n",
    "    \n",
    "from stemplot import *\n",
    "from stempy.io import *\n",
    "from stempy.utils import *"
   ]
  },
  {
   "cell_type": "code",
   "execution_count": 2,
   "id": "96c3889e-7921-471f-8bdb-40fbb22deb26",
   "metadata": {},
   "outputs": [],
   "source": [
    "ps1 = np.load('ADF1_W.npy') \n",
    "ps2 = np.load('ADF1_Se.npy')\n",
    "ps3 = np.load('ADF1_Vse.npy') \n",
    "ps4 = np.load('ADF1_Cr.npy')\n",
    "ps5 = np.load('ADF1_pair.npy')\n",
    "\n",
    "ps6 = np.load('ADF2_W.npy') \n",
    "ps7 = np.load('ADF2_Se.npy')\n",
    "ps8 = np.load('ADF2_Vse.npy') \n",
    "ps9 = np.load('ADF2_Cr.npy')\n",
    "ps10 = np.load('ADF2_pair.npy')\n",
    "\n",
    "pss1 = [ps1, ps2, ps3, ps4, ps5]"
   ]
  },
  {
   "cell_type": "code",
   "execution_count": 83,
   "id": "0a3f2456-1a0d-4f84-98f4-e7679310db19",
   "metadata": {},
   "outputs": [],
   "source": [
    "def process_lbs(lbs):\n",
    "    rgba = colors_from_lbs(lbs)\n",
    "    mask1 = (lbs == 0)\n",
    "    mask2 = (lbs == 1)\n",
    "    rgba[mask1, 3] = 0\n",
    "    rgba[mask2, 3] = 0\n",
    "    return rgba\n",
    "    \n",
    "lbs1 = np.load('lbs_Cr_9.npy')\n",
    "colors1 = process_lbs(lbs1)\n",
    "pts1 = np.load('pts_Cr_9.npy')\n",
    "\n",
    "lbs2 = np.load('lbs_Cr_15.npy')\n",
    "colors2 = process_lbs(lbs2)\n",
    "pts2 = np.load('pts_Cr_15.npy')\n",
    "\n",
    "lbs3 = np.load('lbs_Cr_17.npy')\n",
    "colors3 = process_lbs(lbs3)\n",
    "pts3 = np.load('pts_Cr_17.npy')"
   ]
  },
  {
   "cell_type": "code",
   "execution_count": null,
   "id": "ef58a2bf-256f-4191-9223-bdaaa5e5ca74",
   "metadata": {},
   "outputs": [],
   "source": []
  },
  {
   "cell_type": "code",
   "execution_count": 3,
   "id": "c9fbfd02-7729-4712-988a-06ef7191f73d",
   "metadata": {},
   "outputs": [],
   "source": [
    "dp = r'D:\\Dropbox\\data\\Leyi\\Dopant Valency Project\\CrWSe2_total 8 datasets\\CrWSe2_20211028'+'\\\\'\n",
    "\n",
    "# must change this\n",
    "num = 9\n",
    "\n",
    "file_name1 = dp + 'ADF1_{}.dm4'.format(num)\n",
    "file_name2 = dp + 'ADF2_{}.dm4'.format(num)\n",
    "\n",
    "# load image and normalize\n",
    "img1 = load_image(file_name1)\n",
    "img1 = normalize_image(img1, 0, 1)\n",
    "\n",
    "img2 = load_image(file_name2)\n",
    "img2 = normalize_image(img2, 0, 1)"
   ]
  },
  {
   "cell_type": "code",
   "execution_count": 4,
   "id": "fc619459-c5d0-4ece-a5ae-dca42ad14dea",
   "metadata": {},
   "outputs": [],
   "source": [
    "dp = r'D:\\Dropbox\\data\\Leyi\\Dopant Valency Project\\CrWSe2_total 8 datasets\\CrWSe2_20211028'+'\\\\'\n",
    "\n",
    "# must change this\n",
    "num = 15\n",
    "\n",
    "file_name1 = dp + 'ADF1_{}.dm4'.format(num)\n",
    "file_name2 = dp + 'ADF2_{}.dm4'.format(num)\n",
    "\n",
    "# load image and normalize\n",
    "img3 = load_image(file_name1)\n",
    "img3 = normalize_image(img3, 0, 1)\n",
    "\n",
    "img4 = load_image(file_name2)\n",
    "img4 = normalize_image(img4, 0, 1) "
   ]
  },
  {
   "cell_type": "code",
   "execution_count": 5,
   "id": "b67a322f-1b15-4e94-a04c-fc09b4e38fe4",
   "metadata": {},
   "outputs": [],
   "source": [
    "dp = r'D:\\Dropbox\\data\\Leyi\\Dopant Valency Project\\CrWSe2_total 8 datasets\\CrWSe2_20211028'+'\\\\'\n",
    "\n",
    "# must change this\n",
    "num = 17\n",
    "\n",
    "file_name1 = dp + 'ADF1_{}.dm4'.format(num)\n",
    "file_name2 = dp + 'ADF2_{}.dm4'.format(num)\n",
    "\n",
    "# load image and normalize\n",
    "img5 = load_image(file_name1)\n",
    "img5 = normalize_image(img5, 0, 1)\n",
    "\n",
    "img6 = load_image(file_name2)\n",
    "img6 = normalize_image(img6, 0, 1) "
   ]
  },
  {
   "cell_type": "markdown",
   "id": "d278cfa2-cd98-4c9b-a1da-6ad64e657fa3",
   "metadata": {},
   "source": [
    "## load points"
   ]
  },
  {
   "cell_type": "code",
   "execution_count": 52,
   "id": "d5c43873-c759-4768-8d62-e1b3730f8140",
   "metadata": {},
   "outputs": [],
   "source": [
    "from sklearn.neighbors import NearestNeighbors\n",
    "\n",
    "dp1 = r\"D:\\Dropbox\\0_notebook_by_projects\\Leyi vacancies\\process Cr\\Duane proposal\"+'\\\\'\n",
    "\n",
    "pts1 = np.load(dp1+'pts1_Cr9.npy')\n",
    "pts2 = np.load(dp1+'pts2_Cr9.npy')\n",
    "pts3 = np.load(dp1+'pts1_Cr15.npy')\n",
    "pts4 = np.load(dp1+'pts2_Cr15.npy')\n",
    "pts5 = np.load(dp1+'pts1_Cr17.npy')\n",
    "pts6 = np.load(dp1+'pts2_Cr17.npy')\n",
    "\n",
    "def plot_purple(ax, pts1, pts2, r=10):\n",
    "    nbrs = NearestNeighbors(n_neighbors=1, algorithm='ball_tree').fit(pts1)\n",
    "    d, ind = nbrs.kneighbors(pts2)\n",
    "    ind = ind.ravel()\n",
    "    mask = d.ravel() < r\n",
    "    pts = (pts2[mask] + pts1[ind][mask])/2\n",
    "    print(len(pts))\n",
    "    for xy in pts:\n",
    "        circle = plt.Circle(xy, radius=10, ls='--', ec='C4', fc='none', lw=1)\n",
    "        ax.add_patch(circle)"
   ]
  },
  {
   "cell_type": "code",
   "execution_count": 73,
   "id": "3860073f-06c7-4a4a-ae91-8b19cc3fa55c",
   "metadata": {},
   "outputs": [
    {
     "name": "stdout",
     "output_type": "stream",
     "text": [
      "11\n",
      "18\n",
      "19\n"
     ]
    },
    {
     "data": {
      "text/plain": [
       "Text(0.5, -0.02, '0.34%')"
      ]
     },
     "execution_count": 73,
     "metadata": {},
     "output_type": "execute_result"
    }
   ],
   "source": [
    "fig = plt.figure(figsize=(7.2, 7.2))\n",
    "axes1 = h_axes(fig, n=3, top=0.95, left=1/15, right=1/30, wspace=0.25, ratios=1)\n",
    "\n",
    "ax1, ax2, ax3 = axes1\n",
    "plot_image(ax1, img1, cmap='gray')\n",
    "plot_image(ax2, img3, cmap='gray')\n",
    "plot_image(ax3, img5, cmap='gray')\n",
    "\n",
    "top = get_top_from_axes(axes1)\n",
    "axes2 = h_axes(fig, n=5, top=top, left=1/15, right=1/30, wspace=0.25, ratios=1)\n",
    "\n",
    "for ii, ax in enumerate(axes2):\n",
    "    plot_image(ax, pss1[ii], cmap=color_palette('C{}'.format(ii)), vmin=0)\n",
    "\n",
    "s = 2\n",
    "ax1.scatter(pts1[:, 0], pts1[:, 1], color='C3', s=s)\n",
    "ax1.scatter(pts2[:, 0], pts2[:, 1], color='C2', s=s)\n",
    "\n",
    "ax2.scatter(pts3[:, 0], pts3[:, 1], color='C2', s=s)\n",
    "ax2.scatter(pts4[:, 0], pts4[:, 1], color='C3', s=s) \n",
    "\n",
    "ax3.scatter(pts5[:, 0], pts5[:, 1], color='C2', s=s)\n",
    "ax3.scatter(pts6[:, 0], pts6[:, 1], color='C3', s=s) \n",
    "\n",
    "plot_purple(ax1, pts1, pts2, r=10)\n",
    "plot_purple(ax2, pts3, pts4, r=10)\n",
    "plot_purple(ax3, pts5, pts6, r=10)\n",
    "\n",
    "cnt1 = 1739 + 2585 + 2647\n",
    "cnt2 = 1739 + 2584 + 2640\n",
    "cnt3 = len(pts2)+len(pts3)+len(pts5)\n",
    "cnt4 = len(pts1)+len(pts4)+len(pts6)\n",
    "cnt5 = 11+18+19\n",
    "\n",
    "axes2[0].text(0.5, -0.02, '{:.2%}'.format((cnt1-cnt3)/(cnt1+cnt2)), transform=axes2[0].transAxes, ha='center', va='top')\n",
    "axes2[1].text(0.5, -0.02, '{:.2%}'.format((cnt2-cnt4)/(cnt1+cnt2)), transform=axes2[1].transAxes, ha='center', va='top')\n",
    "axes2[2].text(0.5, -0.02, '{:.2%}'.format((cnt3)/(cnt1+cnt2)), transform=axes2[2].transAxes, ha='center', va='top')\n",
    "axes2[3].text(0.5, -0.02, '{:.2%}'.format((cnt4)/(cnt1+cnt2)), transform=axes2[3].transAxes, ha='center', va='top')\n",
    "axes2[4].text(0.5, -0.02, '{:.2%}'.format((cnt5)/(cnt1+cnt2)), transform=axes2[4].transAxes, ha='center', va='top')"
   ]
  },
  {
   "cell_type": "code",
   "execution_count": null,
   "id": "4c16c33c-d4a3-44a8-8d91-888844d0a89e",
   "metadata": {},
   "outputs": [],
   "source": []
  },
  {
   "cell_type": "code",
   "execution_count": 74,
   "id": "356b8382-42f7-456f-82f7-e3a4b436fe5a",
   "metadata": {},
   "outputs": [],
   "source": [
    "fig.savefig('test.png', dpi=500, transparent=False) "
   ]
  },
  {
   "cell_type": "code",
   "execution_count": 46,
   "id": "db783e0c-5e82-4ddb-aba3-8ff3d459f058",
   "metadata": {},
   "outputs": [
    {
     "data": {
      "text/plain": [
       "<matplotlib.image.AxesImage at 0x297d6955640>"
      ]
     },
     "execution_count": 46,
     "metadata": {},
     "output_type": "execute_result"
    }
   ],
   "source": [
    "imshow(img3)"
   ]
  },
  {
   "cell_type": "code",
   "execution_count": null,
   "id": "f656fd68-338f-4a8b-9394-41ac01ede3d1",
   "metadata": {},
   "outputs": [],
   "source": [
    "(1739, 1739)\n",
    "(2585, 2584)\n",
    "(2647, 2640)\n"
   ]
  },
  {
   "cell_type": "code",
   "execution_count": 57,
   "id": "51c81122-84e9-4431-9113-2e5ee5f90d31",
   "metadata": {},
   "outputs": [],
   "source": [
    "cnt1 = 1739 + 2585 + 2647\n",
    "cnt2 = 1739 + 2584 + 2640\n",
    "cnt3 = len(pts2)+len(pts3)+len(pts5)\n",
    "cnt4 = len(pts1)+len(pts4)+len(pts6)\n",
    "cnt5 = 11+18+19"
   ]
  },
  {
   "cell_type": "code",
   "execution_count": null,
   "id": "4883426f-0337-497b-a647-36eea3fc707e",
   "metadata": {},
   "outputs": [],
   "source": []
  }
 ],
 "metadata": {
  "kernelspec": {
   "display_name": "Python 3 (ipykernel)",
   "language": "python",
   "name": "python3"
  },
  "language_info": {
   "codemirror_mode": {
    "name": "ipython",
    "version": 3
   },
   "file_extension": ".py",
   "mimetype": "text/x-python",
   "name": "python",
   "nbconvert_exporter": "python",
   "pygments_lexer": "ipython3",
   "version": "3.9.18"
  }
 },
 "nbformat": 4,
 "nbformat_minor": 5
}
