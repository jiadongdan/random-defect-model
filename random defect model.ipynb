{
 "cells": [
  {
   "cell_type": "code",
   "id": "initial_id",
   "metadata": {
    "collapsed": true,
    "ExecuteTime": {
     "end_time": "2024-07-17T05:59:16.864531Z",
     "start_time": "2024-07-17T05:59:12.630401Z"
    }
   },
   "source": [
    "%matplotlib qt\n",
    "import numpy as np\n",
    "import matplotlib.pyplot as plt "
   ],
   "outputs": [],
   "execution_count": 1
  },
  {
   "metadata": {
    "ExecuteTime": {
     "end_time": "2024-07-17T05:59:31.868007Z",
     "start_time": "2024-07-17T05:59:23.987086Z"
    }
   },
   "cell_type": "code",
   "source": [
    "from ase.build import mx2\n",
    "from sklearn.neighbors import NearestNeighbors\n",
    "\n",
    "class VacRandomModel:\n",
    "\n",
    "    def __init__(self, a=3.57, size=100, density=1e13, dopant_scale=2.12):\n",
    "        self.a = a\n",
    "        self.area = 0.5*np.sqrt(3)*(size*a)**2\n",
    "        self.num_vac = np.round(self.area*density/(1e8)/(1e8)).astype(int)\n",
    "\n",
    "        # ase mx2 to build\n",
    "        atoms = mx2(a=a, size=(size,size,1))\n",
    "        pts = atoms.get_positions()\n",
    "        mask1 = pts[:, 2] > 0\n",
    "        mask2 = pts[:, 2] == 0\n",
    "        atoms1 = atoms[mask1]\n",
    "        atoms2 = atoms[mask2]\n",
    "        pts1 = atoms1.get_positions()\n",
    "        pts2 = atoms2.get_positions()\n",
    "\n",
    "        # random select to generate vac\n",
    "        ind = np.random.choice(pts1.shape[0], self.num_vac, replace=False)\n",
    "        mask = np.zeros(len(pts1)).astype(bool)\n",
    "        mask[ind] = True\n",
    "        self.vac = pts1[mask]\n",
    "        self.x = pts1[~mask]\n",
    "\n",
    "        # random select to generate dopant\n",
    "        self.num_dopant = np.ceil(self.num_vac/dopant_scale).astype(int)\n",
    "        ind = np.random.choice(pts2.shape[0], self.num_dopant, replace=False)\n",
    "        mask = np.zeros(len(pts2)).astype(bool)\n",
    "        mask[ind] = True\n",
    "        self.dopant = pts2[mask]\n",
    "        self.m = pts2[~mask]\n",
    "\n",
    "    def get_knn_d(self):\n",
    "        pts =self.vac\n",
    "        nbrs = NearestNeighbors(n_neighbors=2, algorithm='ball_tree').fit(pts)\n",
    "        d, ind = nbrs.kneighbors(pts, return_distance=True)\n",
    "        d = d[:, 1]\n",
    "        d = np.round(d, 4)\n",
    "        dist, cnts = np.unique(d, return_counts=True)\n",
    "        return cnts[0:3]\n",
    "\n",
    "    def count_dopant_vac_pairs(self):\n",
    "        nbrs = NearestNeighbors(radius=1.5*self.a, algorithm='ball_tree').fit(self.dopant)\n",
    "        d, ind = nbrs.radius_neighbors(self.vac)\n",
    "        pair_counts = np.sum([len(e) for e in d])\n",
    "        return (pair_counts, len(self.dopant))\n",
    "\n",
    "    def plot(self, ax=None):\n",
    "        if ax is None:\n",
    "            fig, ax = plt.subplots(1, 1, figsize=(7.2, 7.2))\n",
    "        s = 3\n",
    "        ax.scatter(self.m[:, 0], self.m[:, 1], color='r', s=s)\n",
    "        ax.scatter(self.x[:, 0], self.x[:, 1], color='b', s=s)\n",
    "        ax.scatter(self.vac[:, 0], self.vac[:, 1], color='g', s=50)\n",
    "        ax.scatter(self.dopant[:, 0], self.dopant[:, 1], color='k', s=50)\n",
    "        ax.axis('equal')"
   ],
   "id": "5cd51bf35a0ec1b3",
   "outputs": [],
   "execution_count": 2
  },
  {
   "metadata": {
    "ExecuteTime": {
     "end_time": "2024-07-17T05:59:40.325709Z",
     "start_time": "2024-07-17T05:59:38.676755Z"
    }
   },
   "cell_type": "code",
   "source": [
    "fig, ax = plt.subplots(1, 1, figsize=(7.2, 7.2))\n",
    "\n",
    "density = 4.5*1e13\n",
    "dopant_scale = 2\n",
    "a = 3.157\n",
    "size = 200\n",
    "model = VacRandomModel(a=a, size=size, density=density)\n",
    "model.plot(ax)\n",
    "model.count_dopant_vac_pairs()"
   ],
   "id": "2eb5f07e9c8f1dec",
   "outputs": [
    {
     "data": {
      "text/plain": [
       "(169, 734)"
      ]
     },
     "execution_count": 3,
     "metadata": {},
     "output_type": "execute_result"
    }
   ],
   "execution_count": 3
  },
  {
   "metadata": {},
   "cell_type": "code",
   "outputs": [],
   "execution_count": null,
   "source": "",
   "id": "d87840b440d847f"
  }
 ],
 "metadata": {
  "kernelspec": {
   "display_name": "Python 3",
   "language": "python",
   "name": "python3"
  },
  "language_info": {
   "codemirror_mode": {
    "name": "ipython",
    "version": 2
   },
   "file_extension": ".py",
   "mimetype": "text/x-python",
   "name": "python",
   "nbconvert_exporter": "python",
   "pygments_lexer": "ipython2",
   "version": "2.7.6"
  }
 },
 "nbformat": 4,
 "nbformat_minor": 5
}
