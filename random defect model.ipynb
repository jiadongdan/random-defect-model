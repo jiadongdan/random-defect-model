{
 "cells": [
  {
   "cell_type": "code",
   "id": "initial_id",
   "metadata": {
    "collapsed": true,
    "ExecuteTime": {
     "end_time": "2024-07-17T05:59:16.864531Z",
     "start_time": "2024-07-17T05:59:12.630401Z"
    }
   },
   "source": [
    "%matplotlib qt\n",
    "import numpy as np\n",
    "import matplotlib.pyplot as plt "
   ],
   "outputs": [],
   "execution_count": 1
  },
  {
   "metadata": {
    "ExecuteTime": {
     "end_time": "2024-07-17T07:45:35.854293Z",
     "start_time": "2024-07-17T07:45:35.826280Z"
    }
   },
   "cell_type": "code",
   "source": [
    "from ase.build import mx2\n",
    "from sklearn.neighbors import NearestNeighbors\n",
    "\n",
    "class VacRandomModel:\n",
    "\n",
    "    def __init__(self, a=3.57, size=100, density=1e13, dopant_scale=2.12):\n",
    "        self.a = a\n",
    "        self.area = 0.5*np.sqrt(3)*(size*a)**2\n",
    "        self.num_vac = np.round(self.area*density/(1e8)/(1e8)).astype(int)\n",
    "\n",
    "        # ase mx2 to build\n",
    "        atoms = mx2(a=a, size=(size,size,1))\n",
    "        pts = atoms.get_positions()\n",
    "        mask1 = pts[:, 2] > 0\n",
    "        mask2 = pts[:, 2] == 0\n",
    "        atoms1 = atoms[mask1]\n",
    "        atoms2 = atoms[mask2]\n",
    "        pts1 = atoms1.get_positions()\n",
    "        pts2 = atoms2.get_positions()\n",
    "\n",
    "        # random select to generate vac\n",
    "        ind = np.random.choice(pts1.shape[0], self.num_vac, replace=False)\n",
    "        mask = np.zeros(len(pts1)).astype(bool)\n",
    "        mask[ind] = True\n",
    "        self.vac = pts1[mask]\n",
    "        self.x = pts1[~mask]\n",
    "\n",
    "        # random select to generate dopant\n",
    "        self.num_dopant = np.ceil(self.num_vac/dopant_scale).astype(int)\n",
    "        ind = np.random.choice(pts2.shape[0], self.num_dopant, replace=False)\n",
    "        mask = np.zeros(len(pts2)).astype(bool)\n",
    "        mask[ind] = True\n",
    "        self.dopant = pts2[mask]\n",
    "        self.m = pts2[~mask]\n",
    "\n",
    "    def get_knn_d(self):\n",
    "        pts =self.vac\n",
    "        nbrs = NearestNeighbors(n_neighbors=2, algorithm='ball_tree').fit(pts)\n",
    "        d, ind = nbrs.kneighbors(pts, return_distance=True)\n",
    "        d = d[:, 1]\n",
    "        d = np.round(d, 4)\n",
    "        dist, cnts = np.unique(d, return_counts=True)\n",
    "        return cnts[0:3]\n",
    "\n",
    "    def count_dopant_vac_pairs(self):\n",
    "        nbrs = NearestNeighbors(radius=1.5*self.a, algorithm='ball_tree').fit(self.dopant)\n",
    "        d, ind = nbrs.radius_neighbors(self.vac)\n",
    "        pair_counts = np.sum([len(e) for e in d])\n",
    "        return (pair_counts, len(self.dopant))\n",
    "\n",
    "    def plot(self, ax=None, **kwargs):\n",
    "        if ax is None:\n",
    "            fig, ax = plt.subplots(1, 1, figsize=(7.2, 7.2))\n",
    "        s = 3\n",
    "        ax.scatter(self.m[:, 0], self.m[:, 1], color='r', s=s)\n",
    "        ax.scatter(self.x[:, 0], self.x[:, 1], color='b', s=s)\n",
    "        ax.scatter(self.vac[:, 0], self.vac[:, 1], color='g', s=50)\n",
    "        ax.scatter(self.dopant[:, 0], self.dopant[:, 1], color='k', s=50)\n",
    "        ax.axis('equal')"
   ],
   "id": "5cd51bf35a0ec1b3",
   "outputs": [],
   "execution_count": 4
  },
  {
   "metadata": {
    "ExecuteTime": {
     "end_time": "2024-07-19T06:27:29.432378Z",
     "start_time": "2024-07-19T06:27:29.388380Z"
    }
   },
   "cell_type": "code",
   "source": [
    "from typing import Tuple, List\n",
    "import numpy as np\n",
    "from ase.build import mx2\n",
    "from ase import Atoms\n",
    "from sklearn.neighbors import NearestNeighbors\n",
    "import matplotlib.pyplot as plt\n",
    "\n",
    "\n",
    "def crop_atoms(atoms, L):\n",
    "    pts = atoms.positions\n",
    "    x, y, z = pts.T\n",
    "    l = L\n",
    "    mask1 = np.logical_and(x > 0, x < l)\n",
    "    mask2 = np.logical_and(y > 0, y < l)\n",
    "    mask = mask1 * mask2\n",
    "    pts_ = pts[mask]\n",
    "    numbers_ = atoms.numbers[mask]\n",
    "    return Atoms(numbers=numbers_, positions=pts_, cell=atoms.cell)\n",
    "\n",
    "class VacRandomModel:\n",
    "    \"\"\"\n",
    "    A model to generate and analyze random vacancies and dopants in a 2D material.\n",
    "\n",
    "    Attributes:\n",
    "        a (float): Lattice constant.\n",
    "        area (float): Total area of the 2D material.\n",
    "        num_vac (int): Number of vacancies.\n",
    "        vac (np.ndarray): Coordinates of the vacancies.\n",
    "        x (np.ndarray): Coordinates of the remaining atoms after removing vacancies.\n",
    "        num_dopant (int): Number of dopants.\n",
    "        dopant (np.ndarray): Coordinates of the dopants.\n",
    "        m (np.ndarray): Coordinates of the remaining atoms after removing dopants.\n",
    "    \"\"\"\n",
    "\n",
    "    def __init__(self, a: float = 3.57, size: int = 100, density: float = 1e13, dopant_scale: float = 2.12, crop = False) -> None:\n",
    "        \"\"\"\n",
    "        Initializes the VacRandomModel with the given parameters.\n",
    "\n",
    "        Args:\n",
    "            a (float): Lattice constant. Default is 3.57.\n",
    "            size (int): Size of the 2D material. Default is 100.\n",
    "            density (float): Vacancy density. Default is 1e13.\n",
    "            dopant_scale (float): Scale factor for dopants. Default is 2.12.\n",
    "        \"\"\"\n",
    "        self.a = a\n",
    "        self.area = 0.5 * np.sqrt(3) * (size * a) ** 2\n",
    "        self.num_vac = np.round(self.area * density / (1e8) / (1e8)).astype(int)\n",
    "\n",
    "        # ase mx2 to build\n",
    "        atoms = mx2(a=a, size=(size, size, 1))\n",
    "        if crop:\n",
    "            atoms = crop_atoms(atoms, L = a * size * 0.5)\n",
    "            self.area = (0.5 * size * a) ** 2\n",
    "        else:\n",
    "            self.area = 0.5 * np.sqrt(3) * (size * a) ** 2\n",
    "        self.num_vac = np.round(self.area * density / (1e8) / (1e8)).astype(int)\n",
    "\n",
    "        pts = atoms.get_positions()\n",
    "        mask1 = pts[:, 2] > 0\n",
    "        mask2 = pts[:, 2] == 0\n",
    "        atoms1 = atoms[mask1]\n",
    "        atoms2 = atoms[mask2]\n",
    "        # pts1 are x2 sites, pts2 are m sites\n",
    "        pts1 = atoms1.get_positions()\n",
    "        pts2 = atoms2.get_positions()\n",
    "\n",
    "        # Random select to generate vac\n",
    "        ind = np.random.choice(pts1.shape[0], self.num_vac, replace=False)\n",
    "        mask = np.zeros(len(pts1)).astype(bool)\n",
    "        mask[ind] = True\n",
    "        self.vac = pts1[mask]\n",
    "        self.x = pts1[~mask]\n",
    "\n",
    "        # Random select to generate dopant\n",
    "        self.num_dopant = np.ceil(self.num_vac / dopant_scale).astype(int)\n",
    "        ind = np.random.choice(pts2.shape[0], self.num_dopant, replace=False)\n",
    "        mask = np.zeros(len(pts2)).astype(bool)\n",
    "        mask[ind] = True\n",
    "        self.dopant = pts2[mask]\n",
    "        self.m = pts2[~mask]\n",
    "\n",
    "    def get_knn_d(self) -> np.ndarray:\n",
    "        \"\"\"\n",
    "        Computes the nearest neighbor distances among vacancies.\n",
    "\n",
    "        Returns:\n",
    "            np.ndarray: Counts of unique distances between vacancies, focusing on the first three counts.\n",
    "        \"\"\"\n",
    "        pts = self.vac\n",
    "        nbrs = NearestNeighbors(n_neighbors=2, algorithm='ball_tree').fit(pts)\n",
    "        d, ind = nbrs.kneighbors(pts, return_distance=True)\n",
    "        d = d[:, 1]\n",
    "        d = np.round(d, 4)\n",
    "        dist, cnts = np.unique(d, return_counts=True)\n",
    "        return cnts[0:3]\n",
    "\n",
    "    def count_dopant_vac_pairs(self) -> Tuple[int, int]:\n",
    "        \"\"\"\n",
    "        Counts the number of dopant-vacancy pairs within a specified radius.\n",
    "\n",
    "        Returns:\n",
    "            Tuple[int, int]: Total number of dopant-vacancy pairs and the total number of dopants.\n",
    "        \"\"\"\n",
    "        nbrs = NearestNeighbors(radius=1.5 * self.a, algorithm='ball_tree').fit(self.dopant)\n",
    "        d, ind = nbrs.radius_neighbors(self.vac)\n",
    "        pair_counts = np.sum([len(e) for e in d])\n",
    "        return pair_counts, len(self.dopant)\n",
    "\n",
    "    def plot(self, ax: plt.Axes = None, **kwargs) -> None:\n",
    "        \"\"\"\n",
    "        Plots the positions of vacancies, dopants, and remaining atoms.\n",
    "\n",
    "        Args:\n",
    "            ax (plt.Axes, optional): Matplotlib axes object. Default is None.\n",
    "            **kwargs: Additional keyword arguments for plotting.\n",
    "        \"\"\"\n",
    "        if ax is None:\n",
    "            fig, ax = plt.subplots(1, 1, figsize=(7.2, 7.2))\n",
    "        s = 3\n",
    "        ax.scatter(self.m[:, 0], self.m[:, 1], color='r', s=s)\n",
    "        ax.scatter(self.x[:, 0], self.x[:, 1], color='b', s=s)\n",
    "        ax.scatter(self.vac[:, 0], self.vac[:, 1], color='g', s=50)\n",
    "        ax.scatter(self.dopant[:, 0], self.dopant[:, 1], color='k', s=50)\n",
    "        ax.axis('equal')\n"
   ],
   "id": "823df61e2804799d",
   "outputs": [],
   "execution_count": 18
  },
  {
   "metadata": {
    "ExecuteTime": {
     "end_time": "2024-07-19T06:27:38.269011Z",
     "start_time": "2024-07-19T06:27:36.740025Z"
    }
   },
   "cell_type": "code",
   "source": [
    "fig, ax = plt.subplots(1, 1, figsize=(7.2, 7.2))\n",
    "\n",
    "density = 4.5*1e13\n",
    "dopant_scale = 2\n",
    "a = 3.157\n",
    "size = 300\n",
    "model = VacRandomModel(a=a, size=size, density=density, crop=True)\n",
    "model.plot(ax)\n",
    "model.count_dopant_vac_pairs()"
   ],
   "id": "2eb5f07e9c8f1dec",
   "outputs": [
    {
     "data": {
      "text/plain": [
       "(119, 476)"
      ]
     },
     "execution_count": 20,
     "metadata": {},
     "output_type": "execute_result"
    }
   ],
   "execution_count": 20
  },
  {
   "metadata": {
    "ExecuteTime": {
     "end_time": "2024-07-19T06:27:50.429869Z",
     "start_time": "2024-07-19T06:27:50.410870Z"
    }
   },
   "cell_type": "code",
   "source": "",
   "id": "d87840b440d847f",
   "outputs": [],
   "execution_count": 20
  },
  {
   "metadata": {},
   "cell_type": "code",
   "outputs": [],
   "execution_count": null,
   "source": "",
   "id": "b4f14262dec4e3a2"
  }
 ],
 "metadata": {
  "kernelspec": {
   "display_name": "Python 3",
   "language": "python",
   "name": "python3"
  },
  "language_info": {
   "codemirror_mode": {
    "name": "ipython",
    "version": 2
   },
   "file_extension": ".py",
   "mimetype": "text/x-python",
   "name": "python",
   "nbconvert_exporter": "python",
   "pygments_lexer": "ipython2",
   "version": "2.7.6"
  }
 },
 "nbformat": 4,
 "nbformat_minor": 5
}
