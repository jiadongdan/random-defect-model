{
 "cells": [
  {
   "cell_type": "code",
   "id": "initial_id",
   "metadata": {
    "collapsed": true,
    "ExecuteTime": {
     "end_time": "2024-10-19T06:54:47.357087Z",
     "start_time": "2024-10-19T06:54:46.974681Z"
    }
   },
   "source": [
    "import numpy as np\n",
    "import matplotlib.pyplot as plt\n",
    "%matplotlib qt"
   ],
   "outputs": [],
   "execution_count": 1
  },
  {
   "metadata": {
    "ExecuteTime": {
     "end_time": "2024-10-19T06:54:47.373033Z",
     "start_time": "2024-10-19T06:54:47.359073Z"
    }
   },
   "cell_type": "code",
   "source": [
    "Ti_vac_density = np.array([3.38,6.24,4.22,2.43,6.34,4.36,6.71,4.12])\n",
    "V_vac_density = np.array([3.39,7.57,3.13,1.48,3.66,2.48,2.21,1.55,3.90])\n",
    "Mn_vac_density = np.array([2.45,3.53,2.38,4.51,1.77])\n",
    "Co_vac_density = np.array([1.93,1.41,2.04,1.35,2.16,3.26,3.33])"
   ],
   "id": "3b914cb2fbd1693e",
   "outputs": [],
   "execution_count": 2
  },
  {
   "metadata": {
    "ExecuteTime": {
     "end_time": "2024-10-19T06:54:47.389126Z",
     "start_time": "2024-10-19T06:54:47.374023Z"
    }
   },
   "cell_type": "code",
   "source": [
    "ratio_mean = [np.mean(Ti_vac_density),np.mean(V_vac_density),np.mean(Mn_vac_density),np.mean(Co_vac_density)]\n",
    "ratio_std = [np.std(Ti_vac_density),np.std(V_vac_density),np.std(Mn_vac_density),np.std(Co_vac_density)]"
   ],
   "id": "3820a801261dfa9f",
   "outputs": [],
   "execution_count": 3
  },
  {
   "metadata": {
    "ExecuteTime": {
     "end_time": "2024-10-19T06:55:19.206505Z",
     "start_time": "2024-10-19T06:55:19.195542Z"
    }
   },
   "cell_type": "code",
   "source": [
    "mats = ['Ti','V','Mn','Co']\n",
    "x_positions = np.arange(len(mats))"
   ],
   "id": "61bce0be650548f1",
   "outputs": [],
   "execution_count": 5
  },
  {
   "metadata": {
    "ExecuteTime": {
     "end_time": "2024-09-18T07:38:38.582277Z",
     "start_time": "2024-09-18T07:38:38.055979Z"
    }
   },
   "cell_type": "code",
   "source": [
    "fig, ax = plt.subplots()\n",
    "ax.errorbar(x_positions, ratio_mean, yerr=ratio_std, fmt='o-', capsize=5)\n",
    "ax.set_xticks(x_positions)\n",
    "ax.set_xticklabels(mats)\n",
    "ax.set_ylim(0, 8)\n",
    "ax.set_title('Average Density of Vacancy Trend')\n",
    "ax.set_xlabel('Dopant')\n",
    "ax.set_ylabel(r'Vac density * $10^{13}$ (cm$^{-2}$)')\n",
    "plt.savefig('figure 3d new Average Desntiy of Vacancy Trend.png',dpi = 700,transparent=True)"
   ],
   "id": "7ac476b7d1dbbe27",
   "execution_count": 22,
   "outputs": []
  }
 ],
 "metadata": {
  "kernelspec": {
   "display_name": "Python 3",
   "language": "python",
   "name": "python3"
  },
  "language_info": {
   "codemirror_mode": {
    "name": "ipython",
    "version": 2
   },
   "file_extension": ".py",
   "mimetype": "text/x-python",
   "name": "python",
   "nbconvert_exporter": "python",
   "pygments_lexer": "ipython2",
   "version": "2.7.6"
  }
 },
 "nbformat": 4,
 "nbformat_minor": 5
}
