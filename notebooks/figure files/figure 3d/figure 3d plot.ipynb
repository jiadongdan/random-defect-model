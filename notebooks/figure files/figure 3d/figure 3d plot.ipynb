{
 "cells": [
  {
   "cell_type": "code",
   "id": "initial_id",
   "metadata": {
    "collapsed": true,
    "ExecuteTime": {
     "end_time": "2024-09-01T16:22:58.961914Z",
     "start_time": "2024-09-01T16:22:58.615810Z"
    }
   },
   "source": [
    "import numpy as np\n",
    "import matplotlib.pyplot as plt\n",
    "%matplotlib qt"
   ],
   "execution_count": 1,
   "outputs": []
  },
  {
   "metadata": {
    "ExecuteTime": {
     "end_time": "2024-09-01T16:22:58.977830Z",
     "start_time": "2024-09-01T16:22:58.962903Z"
    }
   },
   "cell_type": "code",
   "source": [
    "Vacanxy_mean_ratio = np.load('Vacanxy_mean_ratio.npy')\n",
    "std_dev = np.load('Vacanxy_std_dev.npy')\n",
    "mats = ['Ti','V','Mn','Co']\n",
    "x_positions = np.arange(len(mats))"
   ],
   "id": "61bce0be650548f1",
   "execution_count": 2,
   "outputs": []
  },
  {
   "metadata": {
    "ExecuteTime": {
     "end_time": "2024-09-01T16:22:59.711723Z",
     "start_time": "2024-09-01T16:22:58.997279Z"
    }
   },
   "cell_type": "code",
   "source": [
    "fig, ax = plt.subplots()\n",
    "ax.errorbar(x_positions, Vacanxy_mean_ratio, yerr=std_dev, fmt='o-', capsize=5)\n",
    "ax.set_xticks(x_positions)\n",
    "ax.set_xticklabels(mats)\n",
    "ax.set_ylim(0, 8)\n",
    "ax.set_title('Average Density of Vacancy Trend')\n",
    "ax.set_xlabel('Dopant')\n",
    "ax.set_ylabel(r'Vac density * $10^{13}$ (cm$^{-2}$)')\n",
    "plt.savefig('figure 3d new Average Desntiy of Vacancy Trend.png',dpi = 700,transparent=True)"
   ],
   "id": "7ac476b7d1dbbe27",
   "execution_count": 3,
   "outputs": []
  },
  {
   "metadata": {},
   "cell_type": "code",
   "execution_count": null,
   "source": "",
   "id": "f913a8f6ebbf2d68",
   "outputs": []
  }
 ],
 "metadata": {
  "kernelspec": {
   "display_name": "Python 3",
   "language": "python",
   "name": "python3"
  },
  "language_info": {
   "codemirror_mode": {
    "name": "ipython",
    "version": 2
   },
   "file_extension": ".py",
   "mimetype": "text/x-python",
   "name": "python",
   "nbconvert_exporter": "python",
   "pygments_lexer": "ipython2",
   "version": "2.7.6"
  }
 },
 "nbformat": 4,
 "nbformat_minor": 5
}
