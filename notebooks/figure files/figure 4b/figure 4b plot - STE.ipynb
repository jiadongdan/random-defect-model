{
 "cells": [
  {
   "cell_type": "code",
   "id": "initial_id",
   "metadata": {
    "collapsed": true,
    "ExecuteTime": {
     "end_time": "2024-10-19T07:29:23.685102Z",
     "start_time": "2024-10-19T07:29:23.284981Z"
    }
   },
   "source": [
    "import numpy as np\n",
    "import matplotlib.pyplot as plt\n",
    "%matplotlib qt"
   ],
   "outputs": [],
   "execution_count": 1
  },
  {
   "metadata": {
    "ExecuteTime": {
     "end_time": "2024-10-19T07:29:23.715486Z",
     "start_time": "2024-10-19T07:29:23.686077Z"
    }
   },
   "cell_type": "code",
   "source": [
    "Ti_dist_Data = np.load('Ti_dist_Data.npy')\n",
    "V_dist_Data = np.load('V_dist_Data.npy')\n",
    "Mn_dist_Data = np.load('Mn_dist_Data.npy')\n",
    "Co_dist_Data = np.load('Co_dist_Data.npy')"
   ],
   "id": "6b13fc5624804c7a",
   "outputs": [],
   "execution_count": 2
  },
  {
   "metadata": {
    "ExecuteTime": {
     "end_time": "2024-10-19T07:29:29.420629Z",
     "start_time": "2024-10-19T07:29:29.409659Z"
    }
   },
   "cell_type": "code",
   "source": [
    "exp_mean_dist = [np.mean(Ti_dist_Data),np.mean(V_dist_Data),np.mean(Mn_dist_Data),np.mean(Co_dist_Data)]\n",
    "exp_std_dist = [np.std(Ti_dist_Data),np.std(V_dist_Data),np.std(Mn_dist_Data),np.std(Co_dist_Data)]\n",
    "rdm_mean_dist = np.load('4b rdm mean dist.npy')"
   ],
   "id": "adab7896b1a49824",
   "outputs": [],
   "execution_count": 3
  },
  {
   "metadata": {
    "ExecuteTime": {
     "end_time": "2024-10-19T07:30:15.678125Z",
     "start_time": "2024-10-19T07:30:15.666155Z"
    }
   },
   "cell_type": "code",
   "source": [
    "exp_ste_dist = [\n",
    "    np.std(Ti_dist_Data)/np.sqrt(len(Ti_dist_Data)),\n",
    "    np.std(V_dist_Data)/np.sqrt(len(V_dist_Data)),\n",
    "    np.std(Mn_dist_Data)/np.sqrt(len(Mn_dist_Data)),\n",
    "    np.std(Co_dist_Data)/np.sqrt(len(Co_dist_Data))\n",
    "]"
   ],
   "id": "284f66d1b37e2f25",
   "outputs": [],
   "execution_count": 4
  },
  {
   "metadata": {
    "ExecuteTime": {
     "end_time": "2024-10-19T07:30:40.474811Z",
     "start_time": "2024-10-19T07:30:39.857570Z"
    }
   },
   "cell_type": "code",
   "source": [
    "fig, ax = plt.subplots()\n",
    "ax.errorbar([1,2,3,4], exp_mean_dist, yerr=exp_ste_dist, fmt='o', capsize=5,label= 'exp')\n",
    "ax.plot([1,2,3,4],rdm_mean_dist,'o-',color = 'orange',label = 'rdm')\n",
    "ax.legend().set_zorder(100)\n",
    "ax.legend().get_frame().set_alpha(0.0)\n",
    "ax.set_xticks([1,2,3,4])\n",
    "ax.set_xticklabels(['Ti','V','Mn','Co'])\n",
    "ax.set_ylim(1.2, 2.7)\n",
    "ax.set_xlabel('Dopant')\n",
    "ax.set_ylabel('Average distance of Vac-dopant pairs (nm)')\n",
    "ax.set_title('Average Distance of Vac-dopant pairs')\n",
    "plt.savefig('fig 4b New Average Distance with STE.png',dpi = 700,transparent=True)"
   ],
   "id": "7ac476b7d1dbbe27",
   "outputs": [],
   "execution_count": 6
  },
  {
   "metadata": {},
   "cell_type": "code",
   "execution_count": null,
   "source": "",
   "id": "f913a8f6ebbf2d68",
   "outputs": []
  }
 ],
 "metadata": {
  "kernelspec": {
   "display_name": "Python 3",
   "language": "python",
   "name": "python3"
  },
  "language_info": {
   "codemirror_mode": {
    "name": "ipython",
    "version": 2
   },
   "file_extension": ".py",
   "mimetype": "text/x-python",
   "name": "python",
   "nbconvert_exporter": "python",
   "pygments_lexer": "ipython2",
   "version": "2.7.6"
  }
 },
 "nbformat": 4,
 "nbformat_minor": 5
}
