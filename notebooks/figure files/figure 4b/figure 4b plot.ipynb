{
 "cells": [
  {
   "cell_type": "code",
   "id": "initial_id",
   "metadata": {
    "collapsed": true,
    "ExecuteTime": {
     "end_time": "2024-09-03T15:52:35.662247Z",
     "start_time": "2024-09-03T15:52:35.100295Z"
    }
   },
   "source": [
    "import numpy as np\n",
    "import matplotlib.pyplot as plt\n",
    "%matplotlib qt"
   ],
   "execution_count": 1,
   "outputs": []
  },
  {
   "metadata": {
    "ExecuteTime": {
     "end_time": "2024-09-03T15:52:35.678194Z",
     "start_time": "2024-09-03T15:52:35.664240Z"
    }
   },
   "cell_type": "code",
   "source": [
    "exp_mean_dist = np.load('4b exp mean dist.npy')\n",
    "exp_std_dist = np.load('4b exp std dist.npy')\n",
    "rdm_mean_dist = np.load('4b rdm mean dist.npy')"
   ],
   "id": "adab7896b1a49824",
   "execution_count": 2,
   "outputs": []
  },
  {
   "metadata": {
    "ExecuteTime": {
     "end_time": "2024-09-03T15:52:53.192758Z",
     "start_time": "2024-09-03T15:52:52.389554Z"
    }
   },
   "cell_type": "code",
   "source": [
    "fig, ax = plt.subplots()\n",
    "ax.errorbar([1,2,3,4], exp_mean_dist, yerr=exp_std_dist, fmt='o', capsize=5,label= 'exp')\n",
    "ax.plot([1,2,3,4],rdm_mean_dist,'o-',color = 'orange',label = 'rdm')\n",
    "ax.legend().set_zorder(100)\n",
    "ax.legend().get_frame().set_alpha(0.0)\n",
    "ax.set_xticks([1,2,3,4])\n",
    "ax.set_xticklabels(['Ti','V','Mn','Co'])\n",
    "ax.set_ylim(1.2, 2.7)\n",
    "ax.set_xlabel('Dopant')\n",
    "ax.set_ylabel('Average distance of Vac-dopant pairs (nm)')\n",
    "ax.set_title('Average Distance of Vac-dopant pairs')\n",
    "plt.savefig('fig 4b New Average Distance.png',dpi = 700,transparent=True)"
   ],
   "id": "7ac476b7d1dbbe27",
   "execution_count": 4,
   "outputs": []
  },
  {
   "metadata": {},
   "cell_type": "code",
   "execution_count": null,
   "source": "",
   "id": "f913a8f6ebbf2d68",
   "outputs": []
  }
 ],
 "metadata": {
  "kernelspec": {
   "display_name": "Python 3",
   "language": "python",
   "name": "python3"
  },
  "language_info": {
   "codemirror_mode": {
    "name": "ipython",
    "version": 2
   },
   "file_extension": ".py",
   "mimetype": "text/x-python",
   "name": "python",
   "nbconvert_exporter": "python",
   "pygments_lexer": "ipython2",
   "version": "2.7.6"
  }
 },
 "nbformat": 4,
 "nbformat_minor": 5
}
