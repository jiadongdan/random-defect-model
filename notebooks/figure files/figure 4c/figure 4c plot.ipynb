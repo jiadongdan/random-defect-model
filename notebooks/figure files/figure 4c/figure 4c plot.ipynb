{
 "cells": [
  {
   "cell_type": "code",
   "id": "initial_id",
   "metadata": {
    "collapsed": true,
    "ExecuteTime": {
     "end_time": "2024-09-09T08:32:06.070909Z",
     "start_time": "2024-09-09T08:32:05.669463Z"
    }
   },
   "source": [
    "import numpy as np\n",
    "import matplotlib.pyplot as plt\n",
    "%matplotlib qt"
   ],
   "outputs": [],
   "execution_count": 1
  },
  {
   "metadata": {
    "ExecuteTime": {
     "end_time": "2024-09-09T08:32:06.087043Z",
     "start_time": "2024-09-09T08:32:06.071911Z"
    }
   },
   "cell_type": "code",
   "source": "R = np.load('position.npy')",
   "id": "1dfb4b3eb2e6462f",
   "outputs": [],
   "execution_count": 2
  },
  {
   "metadata": {},
   "cell_type": "markdown",
   "source": "### Plot Ti",
   "id": "72b147ab7e62b235"
  },
  {
   "metadata": {
    "ExecuteTime": {
     "end_time": "2024-09-09T12:02:44.743246Z",
     "start_time": "2024-09-09T12:02:44.728298Z"
    }
   },
   "cell_type": "code",
   "source": [
    "Ti_exp_mean = np.load('Ti mean cnts.npy')\n",
    "Ti_exp_std = np.load('Ti std cnts.npy')\n",
    "# Ti_rdm_mean = np.load('Ti rdm mean new size.npy')\n",
    "# Ti_rdm_std = np.load('Ti rdm std new size.npy')\n",
    "Ti_rdm_mean_200 = np.load('rdm Ti mean size 200.npy')\n",
    "Ti_rdm_std_200 = np.load('rdm Ti std size 200.npy')\n",
    "Ti_rdm_mean_500 = np.load('rdm Ti mean size 500.npy')\n",
    "Ti_rdm_std_500 = np.load('rdm Ti std size 500.npy')"
   ],
   "id": "adab7896b1a49824",
   "outputs": [],
   "execution_count": 13
  },
  {
   "metadata": {
    "ExecuteTime": {
     "end_time": "2024-09-09T12:03:02.757544Z",
     "start_time": "2024-09-09T12:03:02.058029Z"
    }
   },
   "cell_type": "code",
   "source": [
    "fig, ax = plt.subplots()\n",
    "bar_width = 0.32\n",
    "bars = ax.bar(R, Ti_exp_mean, yerr=Ti_exp_std,  width=bar_width,capsize=2, align='center', alpha=0.7, ecolor='black', error_kw=dict(elinewidth=1, capthick=1),label = 'exp')\n",
    "ax.errorbar(R, Ti_rdm_mean_500,c = 'orange', yerr=Ti_rdm_std_500, fmt='o-', capsize=2,ecolor= 'red',label = 'rdm')\n",
    "ax.set_xticks(np.arange(0, 3.6, 0.4))\n",
    "ax.legend().set_zorder(100)\n",
    "ax.legend().get_frame().set_alpha(0.0)\n",
    "ax.set_xlabel('Distance bewteen Vac to Ti (nm)')\n",
    "ax.set_ylabel('Average ratio')\n",
    "ax.set_title('Average ratio between Vac to Ti')\n",
    "plt.savefig('fig 4c Average_ratio_Ti 500 size.png',dpi=700,transparent=True)"
   ],
   "id": "7ac476b7d1dbbe27",
   "outputs": [],
   "execution_count": 15
  },
  {
   "metadata": {
    "ExecuteTime": {
     "end_time": "2024-09-09T12:03:14.973322Z",
     "start_time": "2024-09-09T12:03:14.334210Z"
    }
   },
   "cell_type": "code",
   "source": [
    "fig, ax = plt.subplots()\n",
    "bar_width = 0.32\n",
    "bars = ax.bar(R, Ti_exp_mean, yerr=Ti_exp_std,  width=bar_width,capsize=2, align='center', alpha=0.7, ecolor='black', error_kw=dict(elinewidth=1, capthick=1),label = 'exp')\n",
    "ax.errorbar(R, Ti_rdm_mean_200,c = 'orange', yerr=Ti_rdm_std_200, fmt='o-', capsize=2,ecolor= 'red',label = 'rdm')\n",
    "ax.set_xticks(np.arange(0, 3.6, 0.4))\n",
    "ax.legend().set_zorder(100)\n",
    "ax.legend().get_frame().set_alpha(0.0)\n",
    "ax.set_xlabel('Distance bewteen Vac to Ti (nm)')\n",
    "ax.set_ylabel('Average ratio')\n",
    "ax.set_title('Average ratio between Vac to Ti')\n",
    "plt.savefig('fig 4c Average_ratio_Ti 200 size.png',dpi=700,transparent=True)"
   ],
   "id": "bca03e7d2f65232d",
   "outputs": [],
   "execution_count": 16
  },
  {
   "metadata": {},
   "cell_type": "markdown",
   "source": "### Plot V",
   "id": "5207b95ba72f3dae"
  },
  {
   "metadata": {
    "ExecuteTime": {
     "end_time": "2024-09-09T12:03:40.795405Z",
     "start_time": "2024-09-09T12:03:40.781442Z"
    }
   },
   "cell_type": "code",
   "source": [
    "V_exp_mean = np.load('V mean cnts.npy')\n",
    "V_exp_std = np.load('V std cnts.npy')\n",
    "# V_rdm_mean = np.load('V rdm mean.npy')\n",
    "# V_rdm_std = np.load('V rdm std.npy')\n",
    "V_rdm_mean_200 = np.load('rdm V mean size 200.npy')\n",
    "V_rdm_std_200 = np.load('rdm V std size 200.npy')\n",
    "V_rdm_mean_500 = np.load('rdm V mean size 500.npy')\n",
    "V_rdm_std_500 = np.load('rdm V std size 500.npy')"
   ],
   "id": "27ea182302e32ecf",
   "outputs": [],
   "execution_count": 17
  },
  {
   "metadata": {
    "ExecuteTime": {
     "end_time": "2024-09-09T12:04:05.039846Z",
     "start_time": "2024-09-09T12:04:04.394980Z"
    }
   },
   "cell_type": "code",
   "source": [
    "fig, ax = plt.subplots()\n",
    "bar_width = 0.32\n",
    "bars = ax.bar(R, V_exp_mean, yerr=V_exp_std,  width=bar_width,capsize=2, align='center', alpha=0.7, ecolor='black', error_kw=dict(elinewidth=1, capthick=1),label = 'exp')\n",
    "ax.errorbar(R, V_rdm_mean_500,c = 'orange', yerr=V_rdm_std_500, fmt='o-', capsize=2,ecolor= 'red',label = 'rdm')\n",
    "ax.set_xticks(np.arange(0, 3.6, 0.4))\n",
    "ax.legend().set_zorder(100)\n",
    "ax.legend().get_frame().set_alpha(0.0)\n",
    "ax.set_xlabel('Distance bewteen Vac to V (nm)')\n",
    "ax.set_ylabel('Average ratio')\n",
    "ax.set_title('Average ratio between Vac to V')\n",
    "plt.savefig('fig 4c Average_ratio_V 500 size.png',dpi=700,transparent=True)"
   ],
   "id": "235edccb707010c1",
   "outputs": [],
   "execution_count": 18
  },
  {
   "metadata": {
    "ExecuteTime": {
     "end_time": "2024-09-09T12:04:43.265077Z",
     "start_time": "2024-09-09T12:04:42.594169Z"
    }
   },
   "cell_type": "code",
   "source": [
    "fig, ax = plt.subplots()\n",
    "bar_width = 0.32\n",
    "bars = ax.bar(R, V_exp_mean, yerr=V_exp_std,  width=bar_width,capsize=2, align='center', alpha=0.7, ecolor='black', error_kw=dict(elinewidth=1, capthick=1),label = 'exp')\n",
    "ax.errorbar(R, V_rdm_mean_200,c = 'orange', yerr=V_rdm_std_200, fmt='o-', capsize=2,ecolor= 'red',label = 'rdm')\n",
    "ax.set_xticks(np.arange(0, 3.6, 0.4))\n",
    "ax.legend().set_zorder(100)\n",
    "ax.legend().get_frame().set_alpha(0.0)\n",
    "ax.set_xlabel('Distance bewteen Vac to V (nm)')\n",
    "ax.set_ylabel('Average ratio')\n",
    "ax.set_title('Average ratio between Vac to V')\n",
    "plt.savefig('fig 4c Average_ratio_V 200 size.png',dpi=700,transparent=True)"
   ],
   "id": "5ab17a7fcb2cf0ac",
   "outputs": [],
   "execution_count": 19
  },
  {
   "metadata": {},
   "cell_type": "markdown",
   "source": "### Plot Mn",
   "id": "fd2de5f3c9329ccd"
  },
  {
   "metadata": {
    "ExecuteTime": {
     "end_time": "2024-09-09T12:05:05.319854Z",
     "start_time": "2024-09-09T12:05:05.298924Z"
    }
   },
   "cell_type": "code",
   "source": [
    "Mn_exp_mean = np.load('Mn mean cnts.npy')\n",
    "Mn_exp_std = np.load('Mn std cnts.npy')\n",
    "# Mn_rdm_mean = np.load('Mn rdm mean.npy')\n",
    "# Mn_rdm_std = np.load('Mn rdm std.npy')\n",
    "Mn_rdm_mean_200 = np.load('rdm Mn mean size 200.npy')\n",
    "Mn_rdm_std_200 = np.load('rdm Mn std size 200.npy')\n",
    "Mn_rdm_mean_500 = np.load('rdm Mn mean size 500.npy')\n",
    "Mn_rdm_std_500 = np.load('rdm Mn std size 500.npy')"
   ],
   "id": "357bbd803c8976dd",
   "outputs": [],
   "execution_count": 20
  },
  {
   "metadata": {
    "ExecuteTime": {
     "end_time": "2024-09-09T12:05:18.398490Z",
     "start_time": "2024-09-09T12:05:17.671311Z"
    }
   },
   "cell_type": "code",
   "source": [
    "fig, ax = plt.subplots()\n",
    "bar_width = 0.32\n",
    "bars = ax.bar(R, Mn_exp_mean, yerr=Mn_exp_std,  width=bar_width,capsize=2, align='center', alpha=0.7, ecolor='black', error_kw=dict(elinewidth=1, capthick=1),label = 'exp')\n",
    "ax.errorbar(R, Mn_rdm_mean_500,c = 'orange', yerr=Mn_rdm_std_500, fmt='o-', capsize=2,ecolor= 'red',label = 'rdm')\n",
    "ax.set_xticks(np.arange(0, 3.6, 0.4))\n",
    "ax.legend().set_zorder(100)\n",
    "ax.legend().get_frame().set_alpha(0.0)\n",
    "ax.set_xlabel('Distance bewteen Vac to Mn (nm)')\n",
    "ax.set_ylabel('Average ratio')\n",
    "ax.set_title('Average ratio between Vac to Mn')\n",
    "plt.savefig('fig 4c Average_ratio_Mn 500 size.png',dpi=700,transparent=True)"
   ],
   "id": "6777cdad6b5de485",
   "outputs": [],
   "execution_count": 21
  },
  {
   "metadata": {
    "ExecuteTime": {
     "end_time": "2024-09-09T12:06:38.420756Z",
     "start_time": "2024-09-09T12:06:37.714393Z"
    }
   },
   "cell_type": "code",
   "source": [
    "fig, ax = plt.subplots()\n",
    "bar_width = 0.32\n",
    "bars = ax.bar(R, Mn_exp_mean, yerr=Mn_exp_std,  width=bar_width,capsize=2, align='center', alpha=0.7, ecolor='black', error_kw=dict(elinewidth=1, capthick=1),label = 'exp')\n",
    "ax.errorbar(R, Mn_rdm_mean_200,c = 'orange', yerr=Mn_rdm_std_200, fmt='o-', capsize=2,ecolor= 'red',label = 'rdm')\n",
    "ax.set_xticks(np.arange(0, 3.6, 0.4))\n",
    "ax.legend().set_zorder(100)\n",
    "ax.legend().get_frame().set_alpha(0.0)\n",
    "ax.set_xlabel('Distance bewteen Vac to Mn (nm)')\n",
    "ax.set_ylabel('Average ratio')\n",
    "ax.set_title('Average ratio between Vac to Mn')\n",
    "plt.savefig('fig 4c Average_ratio_Mn 200 size.png',dpi=700,transparent=True)"
   ],
   "id": "a27ac3f3a2891fa2",
   "outputs": [],
   "execution_count": 22
  },
  {
   "metadata": {},
   "cell_type": "markdown",
   "source": "### Plot Co",
   "id": "b1f913ccb4168853"
  },
  {
   "metadata": {
    "ExecuteTime": {
     "end_time": "2024-09-09T12:07:16.640388Z",
     "start_time": "2024-09-09T12:07:16.621452Z"
    }
   },
   "cell_type": "code",
   "source": [
    "Co_exp_mean = np.load('Co mean cnts.npy')\n",
    "Co_exp_std = np.load('Co std cnts.npy')\n",
    "# Co_rdm_mean = np.load('Co rdm mean.npy')\n",
    "# Co_rdm_std = np.load('Co rdm std.npy')\n",
    "Co_rdm_mean_200 = np.load('rdm Co mean size 200.npy')\n",
    "Co_rdm_std_200 = np.load('rdm Co std size 200.npy')\n",
    "Co_rdm_mean_500 = np.load('rdm Co mean size 500.npy')\n",
    "Co_rdm_std_500 = np.load('rdm Co std size 500.npy')"
   ],
   "id": "3df3d2adb0c1f9f6",
   "outputs": [],
   "execution_count": 24
  },
  {
   "metadata": {
    "ExecuteTime": {
     "end_time": "2024-09-09T12:07:17.460217Z",
     "start_time": "2024-09-09T12:07:16.776614Z"
    }
   },
   "cell_type": "code",
   "source": [
    "fig, ax = plt.subplots()\n",
    "bar_width = 0.32\n",
    "bars = ax.bar(R, Co_exp_mean, yerr=Co_exp_std,  width=bar_width,capsize=2, align='center', alpha=0.7, ecolor='black', error_kw=dict(elinewidth=1, capthick=1),label = 'exp')\n",
    "ax.errorbar(R, Co_rdm_mean_500,c = 'orange', yerr=Co_rdm_std_500, fmt='o-', capsize=2,ecolor= 'red',label = 'rdm')\n",
    "ax.set_xticks(np.arange(0, 3.6, 0.4))\n",
    "ax.legend().set_zorder(100)\n",
    "ax.legend().get_frame().set_alpha(0.0)\n",
    "ax.set_xlabel('Distance bewteen Vac to Co (nm)')\n",
    "ax.set_ylabel('Average ratio')\n",
    "ax.set_title('Average ratio between Vac to Co')\n",
    "plt.savefig('fig 4c Average_ratio_Co 500 size.png',dpi=700,transparent=True)"
   ],
   "id": "86cb8284b46cb5ed",
   "outputs": [],
   "execution_count": 25
  },
  {
   "metadata": {
    "ExecuteTime": {
     "end_time": "2024-09-09T12:07:31.704120Z",
     "start_time": "2024-09-09T12:07:31.037541Z"
    }
   },
   "cell_type": "code",
   "source": [
    "fig, ax = plt.subplots()\n",
    "bar_width = 0.32\n",
    "bars = ax.bar(R, Co_exp_mean, yerr=Co_exp_std,  width=bar_width,capsize=2, align='center', alpha=0.7, ecolor='black', error_kw=dict(elinewidth=1, capthick=1),label = 'exp')\n",
    "ax.errorbar(R, Co_rdm_mean_200,c = 'orange', yerr=Co_rdm_std_200, fmt='o-', capsize=2,ecolor= 'red',label = 'rdm')\n",
    "ax.set_xticks(np.arange(0, 3.6, 0.4))\n",
    "ax.legend().set_zorder(100)\n",
    "ax.legend().get_frame().set_alpha(0.0)\n",
    "ax.set_xlabel('Distance bewteen Vac to Co (nm)')\n",
    "ax.set_ylabel('Average ratio')\n",
    "ax.set_title('Average ratio between Vac to Co')\n",
    "plt.savefig('fig 4c Average_ratio_Co 200 size.png',dpi=700,transparent=True)"
   ],
   "id": "e94fa3bf33c89dd5",
   "outputs": [],
   "execution_count": 26
  },
  {
   "metadata": {},
   "cell_type": "code",
   "outputs": [],
   "execution_count": null,
   "source": "",
   "id": "e443ad8ed3ae4f9e"
  }
 ],
 "metadata": {
  "kernelspec": {
   "display_name": "Python 3",
   "language": "python",
   "name": "python3"
  },
  "language_info": {
   "codemirror_mode": {
    "name": "ipython",
    "version": 2
   },
   "file_extension": ".py",
   "mimetype": "text/x-python",
   "name": "python",
   "nbconvert_exporter": "python",
   "pygments_lexer": "ipython2",
   "version": "2.7.6"
  }
 },
 "nbformat": 4,
 "nbformat_minor": 5
}
