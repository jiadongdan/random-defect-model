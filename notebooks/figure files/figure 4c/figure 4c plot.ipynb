{
 "cells": [
  {
   "cell_type": "code",
   "id": "initial_id",
   "metadata": {
    "collapsed": true,
    "ExecuteTime": {
     "end_time": "2024-09-18T07:52:39.012570Z",
     "start_time": "2024-09-18T07:52:38.657355Z"
    }
   },
   "source": [
    "import numpy as np\n",
    "import matplotlib.pyplot as plt\n",
    "%matplotlib qt"
   ],
   "execution_count": 1,
   "outputs": []
  },
  {
   "metadata": {
    "ExecuteTime": {
     "end_time": "2024-09-18T07:52:39.027037Z",
     "start_time": "2024-09-18T07:52:39.014097Z"
    }
   },
   "cell_type": "code",
   "source": "R = np.load('position.npy')",
   "id": "1dfb4b3eb2e6462f",
   "execution_count": 2,
   "outputs": []
  },
  {
   "metadata": {},
   "cell_type": "markdown",
   "source": "### Plot Ti",
   "id": "72b147ab7e62b235"
  },
  {
   "metadata": {
    "ExecuteTime": {
     "end_time": "2024-09-18T08:00:49.269695Z",
     "start_time": "2024-09-18T08:00:49.256739Z"
    }
   },
   "cell_type": "code",
   "source": [
    "Ti_cnts = np.load('Ti cnts.npy')\n",
    "Ti_exp_mean = np.mean(Ti_cnts,axis = 0)\n",
    "Ti_exp_std = np.std(Ti_cnts,axis = 0)\n",
    "Ti_rdm_500_cnts = np.load('rdm Ti size 500 cnts.npy')\n",
    "Ti_rdm_200_cnts = np.load('rdm Ti size 200 cnts.npy')\n",
    "Ti_rdm_mean_200 = np.mean(Ti_rdm_200_cnts,axis = 0)\n",
    "Ti_rdm_std_200 = np.std(Ti_rdm_200_cnts,axis = 0)\n",
    "Ti_rdm_mean_500 = np.mean(Ti_rdm_500_cnts,axis = 0)\n",
    "Ti_rdm_std_500 = np.std(Ti_rdm_500_cnts,axis = 0)"
   ],
   "id": "adab7896b1a49824",
   "execution_count": 8,
   "outputs": []
  },
  {
   "metadata": {
    "ExecuteTime": {
     "end_time": "2024-09-18T08:01:22.455785Z",
     "start_time": "2024-09-18T08:01:21.738396Z"
    }
   },
   "cell_type": "code",
   "source": [
    "fig, ax = plt.subplots()\n",
    "bar_width = 0.32\n",
    "bars = ax.bar(R, Ti_exp_mean, yerr=Ti_exp_std,  width=bar_width,capsize=2, align='center', alpha=0.7, ecolor='black', error_kw=dict(elinewidth=1, capthick=1),label = 'exp')\n",
    "ax.errorbar(R, Ti_rdm_mean_500,c = 'orange', yerr=Ti_rdm_std_500, fmt='o-', capsize=2,ecolor= 'red',label = 'rdm')\n",
    "ax.set_xticks(np.arange(0, 3.6, 0.4))\n",
    "ax.legend().set_zorder(100)\n",
    "ax.legend().get_frame().set_alpha(0.0)\n",
    "ax.set_xlabel('Distance bewteen Vac to Ti (nm)')\n",
    "ax.set_ylabel('Average ratio')\n",
    "ax.set_title('Average ratio between Vac to Ti')\n",
    "plt.savefig('fig 4c Average_ratio_Ti 500 size.png',dpi=700,transparent=True)"
   ],
   "id": "7ac476b7d1dbbe27",
   "execution_count": 10,
   "outputs": []
  },
  {
   "metadata": {
    "ExecuteTime": {
     "end_time": "2024-09-18T08:01:23.063009Z",
     "start_time": "2024-09-18T08:01:22.497332Z"
    }
   },
   "cell_type": "code",
   "source": [
    "fig, ax = plt.subplots()\n",
    "bar_width = 0.32\n",
    "bars = ax.bar(R, Ti_exp_mean, yerr=Ti_exp_std,  width=bar_width,capsize=2, align='center', alpha=0.7, ecolor='black', error_kw=dict(elinewidth=1, capthick=1),label = 'exp')\n",
    "ax.errorbar(R, Ti_rdm_mean_200,c = 'orange', yerr=Ti_rdm_std_200, fmt='o-', capsize=2,ecolor= 'red',label = 'rdm')\n",
    "ax.set_xticks(np.arange(0, 3.6, 0.4))\n",
    "ax.legend().set_zorder(100)\n",
    "ax.legend().get_frame().set_alpha(0.0)\n",
    "ax.set_xlabel('Distance bewteen Vac to Ti (nm)')\n",
    "ax.set_ylabel('Average ratio')\n",
    "ax.set_title('Average ratio between Vac to Ti')\n",
    "plt.savefig('fig 4c Average_ratio_Ti 200 size.png',dpi=700,transparent=True)"
   ],
   "id": "bca03e7d2f65232d",
   "execution_count": 11,
   "outputs": []
  },
  {
   "metadata": {},
   "cell_type": "markdown",
   "source": "### Plot V",
   "id": "5207b95ba72f3dae"
  },
  {
   "metadata": {
    "ExecuteTime": {
     "end_time": "2024-09-18T08:02:40.376689Z",
     "start_time": "2024-09-18T08:02:40.356954Z"
    }
   },
   "cell_type": "code",
   "source": [
    "V_cnts = np.load('V cnts.npy')\n",
    "V_exp_mean = np.mean(V_cnts,axis = 0)\n",
    "V_exp_std = np.std(V_cnts,axis = 0)\n",
    "V_rdm_500_cnts = np.load('rdm V size 500 cnts.npy')\n",
    "V_rdm_200_cnts = np.load('rdm V size 200 cnts.npy')\n",
    "V_rdm_mean_200 = np.mean(V_rdm_200_cnts,axis = 0)\n",
    "V_rdm_std_200 = np.std(V_rdm_200_cnts,axis = 0)\n",
    "V_rdm_mean_500 = np.mean(V_rdm_500_cnts,axis = 0)\n",
    "V_rdm_std_500 = np.std(V_rdm_500_cnts,axis = 0)"
   ],
   "id": "f0f79bed3055cb4d",
   "execution_count": 12,
   "outputs": []
  },
  {
   "metadata": {
    "ExecuteTime": {
     "end_time": "2024-09-18T08:02:43.984252Z",
     "start_time": "2024-09-18T08:02:43.328498Z"
    }
   },
   "cell_type": "code",
   "source": [
    "fig, ax = plt.subplots()\n",
    "bar_width = 0.32\n",
    "bars = ax.bar(R, V_exp_mean, yerr=V_exp_std,  width=bar_width,capsize=2, align='center', alpha=0.7, ecolor='black', error_kw=dict(elinewidth=1, capthick=1),label = 'exp')\n",
    "ax.errorbar(R, V_rdm_mean_500,c = 'orange', yerr=V_rdm_std_500, fmt='o-', capsize=2,ecolor= 'red',label = 'rdm')\n",
    "ax.set_xticks(np.arange(0, 3.6, 0.4))\n",
    "ax.legend().set_zorder(100)\n",
    "ax.legend().get_frame().set_alpha(0.0)\n",
    "ax.set_xlabel('Distance bewteen Vac to V (nm)')\n",
    "ax.set_ylabel('Average ratio')\n",
    "ax.set_title('Average ratio between Vac to V')\n",
    "plt.savefig('fig 4c Average_ratio_V 500 size.png',dpi=700,transparent=True)"
   ],
   "id": "235edccb707010c1",
   "execution_count": 13,
   "outputs": []
  },
  {
   "metadata": {
    "ExecuteTime": {
     "end_time": "2024-09-18T08:02:56.462827Z",
     "start_time": "2024-09-18T08:02:55.820541Z"
    }
   },
   "cell_type": "code",
   "source": [
    "fig, ax = plt.subplots()\n",
    "bar_width = 0.32\n",
    "bars = ax.bar(R, V_exp_mean, yerr=V_exp_std,  width=bar_width,capsize=2, align='center', alpha=0.7, ecolor='black', error_kw=dict(elinewidth=1, capthick=1),label = 'exp')\n",
    "ax.errorbar(R, V_rdm_mean_200,c = 'orange', yerr=V_rdm_std_200, fmt='o-', capsize=2,ecolor= 'red',label = 'rdm')\n",
    "ax.set_xticks(np.arange(0, 3.6, 0.4))\n",
    "ax.legend().set_zorder(100)\n",
    "ax.legend().get_frame().set_alpha(0.0)\n",
    "ax.set_xlabel('Distance bewteen Vac to V (nm)')\n",
    "ax.set_ylabel('Average ratio')\n",
    "ax.set_title('Average ratio between Vac to V')\n",
    "plt.savefig('fig 4c Average_ratio_V 200 size.png',dpi=700,transparent=True)"
   ],
   "id": "5ab17a7fcb2cf0ac",
   "execution_count": 14,
   "outputs": []
  },
  {
   "metadata": {},
   "cell_type": "markdown",
   "source": "### Plot Mn",
   "id": "fd2de5f3c9329ccd"
  },
  {
   "metadata": {
    "ExecuteTime": {
     "end_time": "2024-09-18T08:03:54.115804Z",
     "start_time": "2024-09-18T08:03:54.101850Z"
    }
   },
   "cell_type": "code",
   "source": [
    "Mn_cnts= np.load('Mn cnts.npy')\n",
    "Mn_exp_mean = np.mean(Mn_cnts,axis = 0)\n",
    "Mn_exp_std = np.std(Mn_cnts,axis = 0)\n",
    "Mn_rdm_500_cnts = np.load('rdm Mn size 500 cnts.npy')\n",
    "Mn_rdm_mean_500 = np.mean(Mn_rdm_500_cnts,axis = 0)\n",
    "Mn_rdm_std_500 = np.std(Mn_rdm_500_cnts,axis = 0)\n",
    "Mn_rdm_200_cnts = np.load('rdm Mn size 200 cnts.npy')\n",
    "Mn_rdm_mean_200 = np.mean(Mn_rdm_200_cnts,axis = 0)\n",
    "Mn_rdm_std_200 = np.std(Mn_rdm_200_cnts,axis = 0)"
   ],
   "id": "be9e93687b73810d",
   "execution_count": 15,
   "outputs": []
  },
  {
   "metadata": {
    "ExecuteTime": {
     "end_time": "2024-09-18T08:03:57.495196Z",
     "start_time": "2024-09-18T08:03:56.933880Z"
    }
   },
   "cell_type": "code",
   "source": [
    "fig, ax = plt.subplots()\n",
    "bar_width = 0.32\n",
    "bars = ax.bar(R, Mn_exp_mean, yerr=Mn_exp_std,  width=bar_width,capsize=2, align='center', alpha=0.7, ecolor='black', error_kw=dict(elinewidth=1, capthick=1),label = 'exp')\n",
    "ax.errorbar(R, Mn_rdm_mean_500,c = 'orange', yerr=Mn_rdm_std_500, fmt='o-', capsize=2,ecolor= 'red',label = 'rdm')\n",
    "ax.set_xticks(np.arange(0, 3.6, 0.4))\n",
    "ax.legend().set_zorder(100)\n",
    "ax.legend().get_frame().set_alpha(0.0)\n",
    "ax.set_xlabel('Distance bewteen Vac to Mn (nm)')\n",
    "ax.set_ylabel('Average ratio')\n",
    "ax.set_title('Average ratio between Vac to Mn')\n",
    "plt.savefig('fig 4c Average_ratio_Mn 500 size.png',dpi=700,transparent=True)"
   ],
   "id": "6777cdad6b5de485",
   "execution_count": 16,
   "outputs": []
  },
  {
   "metadata": {
    "ExecuteTime": {
     "end_time": "2024-09-18T08:04:10.404283Z",
     "start_time": "2024-09-18T08:04:09.797657Z"
    }
   },
   "cell_type": "code",
   "source": [
    "fig, ax = plt.subplots()\n",
    "bar_width = 0.32\n",
    "bars = ax.bar(R, Mn_exp_mean, yerr=Mn_exp_std,  width=bar_width,capsize=2, align='center', alpha=0.7, ecolor='black', error_kw=dict(elinewidth=1, capthick=1),label = 'exp')\n",
    "ax.errorbar(R, Mn_rdm_mean_200,c = 'orange', yerr=Mn_rdm_std_200, fmt='o-', capsize=2,ecolor= 'red',label = 'rdm')\n",
    "ax.set_xticks(np.arange(0, 3.6, 0.4))\n",
    "ax.legend().set_zorder(100)\n",
    "ax.legend().get_frame().set_alpha(0.0)\n",
    "ax.set_xlabel('Distance bewteen Vac to Mn (nm)')\n",
    "ax.set_ylabel('Average ratio')\n",
    "ax.set_title('Average ratio between Vac to Mn')\n",
    "plt.savefig('fig 4c Average_ratio_Mn 200 size.png',dpi=700,transparent=True)"
   ],
   "id": "a27ac3f3a2891fa2",
   "execution_count": 17,
   "outputs": []
  },
  {
   "metadata": {},
   "cell_type": "markdown",
   "source": "### Plot Co",
   "id": "b1f913ccb4168853"
  },
  {
   "metadata": {
    "ExecuteTime": {
     "end_time": "2024-09-18T08:04:58.281866Z",
     "start_time": "2024-09-18T08:04:58.267914Z"
    }
   },
   "cell_type": "code",
   "source": [
    "Co_cnts = np.load('Co cnts.npy')\n",
    "Co_exp_mean = np.mean(Co_cnts,axis = 0)\n",
    "Co_exp_std = np.std(Co_cnts,axis = 0)\n",
    "Co_rdm_500_cnts = np.load('rdm Co size 500 cnts.npy')\n",
    "Co_rdm_mean_500 = np.mean(Co_rdm_500_cnts,axis = 0)\n",
    "Co_rdm_std_500 = np.std(Co_rdm_500_cnts,axis = 0)\n",
    "Co_rdm_200_cnts = np.load('rdm Co size 200 cnts.npy')\n",
    "Co_rdm_mean_200 = np.mean(Co_rdm_200_cnts,axis = 0)\n",
    "Co_rdm_std_200 = np.std(Co_rdm_200_cnts,axis = 0)"
   ],
   "id": "790fd82918dc210e",
   "execution_count": 18,
   "outputs": []
  },
  {
   "metadata": {
    "ExecuteTime": {
     "end_time": "2024-09-18T08:05:00.898670Z",
     "start_time": "2024-09-18T08:05:00.244338Z"
    }
   },
   "cell_type": "code",
   "source": [
    "fig, ax = plt.subplots()\n",
    "bar_width = 0.32\n",
    "bars = ax.bar(R, Co_exp_mean, yerr=Co_exp_std,  width=bar_width,capsize=2, align='center', alpha=0.7, ecolor='black', error_kw=dict(elinewidth=1, capthick=1),label = 'exp')\n",
    "ax.errorbar(R, Co_rdm_mean_500,c = 'orange', yerr=Co_rdm_std_500, fmt='o-', capsize=2,ecolor= 'red',label = 'rdm')\n",
    "ax.set_xticks(np.arange(0, 3.6, 0.4))\n",
    "ax.legend().set_zorder(100)\n",
    "ax.legend().get_frame().set_alpha(0.0)\n",
    "ax.set_xlabel('Distance bewteen Vac to Co (nm)')\n",
    "ax.set_ylabel('Average ratio')\n",
    "ax.set_title('Average ratio between Vac to Co')\n",
    "plt.savefig('fig 4c Average_ratio_Co 500 size.png',dpi=700,transparent=True)"
   ],
   "id": "86cb8284b46cb5ed",
   "execution_count": 19,
   "outputs": []
  },
  {
   "metadata": {
    "ExecuteTime": {
     "end_time": "2024-09-18T08:05:04.147105Z",
     "start_time": "2024-09-18T08:05:03.472486Z"
    }
   },
   "cell_type": "code",
   "source": [
    "fig, ax = plt.subplots()\n",
    "bar_width = 0.32\n",
    "bars = ax.bar(R, Co_exp_mean, yerr=Co_exp_std,  width=bar_width,capsize=2, align='center', alpha=0.7, ecolor='black', error_kw=dict(elinewidth=1, capthick=1),label = 'exp')\n",
    "ax.errorbar(R, Co_rdm_mean_200,c = 'orange', yerr=Co_rdm_std_200, fmt='o-', capsize=2,ecolor= 'red',label = 'rdm')\n",
    "ax.set_xticks(np.arange(0, 3.6, 0.4))\n",
    "ax.legend().set_zorder(100)\n",
    "ax.legend().get_frame().set_alpha(0.0)\n",
    "ax.set_xlabel('Distance bewteen Vac to Co (nm)')\n",
    "ax.set_ylabel('Average ratio')\n",
    "ax.set_title('Average ratio between Vac to Co')\n",
    "plt.savefig('fig 4c Average_ratio_Co 200 size.png',dpi=700,transparent=True)"
   ],
   "id": "e94fa3bf33c89dd5",
   "execution_count": 20,
   "outputs": []
  },
  {
   "metadata": {},
   "cell_type": "code",
   "execution_count": null,
   "source": "",
   "id": "e443ad8ed3ae4f9e",
   "outputs": []
  }
 ],
 "metadata": {
  "kernelspec": {
   "display_name": "Python 3",
   "language": "python",
   "name": "python3"
  },
  "language_info": {
   "codemirror_mode": {
    "name": "ipython",
    "version": 2
   },
   "file_extension": ".py",
   "mimetype": "text/x-python",
   "name": "python",
   "nbconvert_exporter": "python",
   "pygments_lexer": "ipython2",
   "version": "2.7.6"
  }
 },
 "nbformat": 4,
 "nbformat_minor": 5
}
