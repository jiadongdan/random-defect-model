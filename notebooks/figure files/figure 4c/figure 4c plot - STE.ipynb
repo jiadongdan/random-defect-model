{
 "cells": [
  {
   "cell_type": "code",
   "id": "initial_id",
   "metadata": {
    "collapsed": true,
    "ExecuteTime": {
     "end_time": "2024-10-19T07:31:29.012594Z",
     "start_time": "2024-10-19T07:31:28.626984Z"
    }
   },
   "source": [
    "import numpy as np\n",
    "import matplotlib.pyplot as plt\n",
    "%matplotlib qt"
   ],
   "outputs": [],
   "execution_count": 1
  },
  {
   "metadata": {
    "ExecuteTime": {
     "end_time": "2024-10-19T07:31:29.043925Z",
     "start_time": "2024-10-19T07:31:29.014008Z"
    }
   },
   "cell_type": "code",
   "source": "R = np.load('position.npy')",
   "id": "1dfb4b3eb2e6462f",
   "outputs": [],
   "execution_count": 2
  },
  {
   "metadata": {},
   "cell_type": "markdown",
   "source": "### Plot Ti",
   "id": "72b147ab7e62b235"
  },
  {
   "metadata": {
    "ExecuteTime": {
     "end_time": "2024-10-19T07:31:59.398391Z",
     "start_time": "2024-10-19T07:31:59.374168Z"
    }
   },
   "cell_type": "code",
   "source": [
    "Ti_cnts = np.load('Ti cnts.npy')\n",
    "Ti_exp_mean = np.mean(Ti_cnts,axis = 0)\n",
    "Ti_exp_std = np.std(Ti_cnts,axis = 0)\n",
    "Ti_rdm_500_cnts = np.load('rdm Ti size 500 cnts.npy')\n",
    "Ti_rdm_200_cnts = np.load('rdm Ti size 200 cnts.npy')\n",
    "Ti_rdm_mean_200 = np.mean(Ti_rdm_200_cnts,axis = 0)\n",
    "Ti_rdm_std_200 = np.std(Ti_rdm_200_cnts,axis = 0)\n",
    "Ti_rdm_mean_500 = np.mean(Ti_rdm_500_cnts,axis = 0)\n",
    "Ti_rdm_std_500 = np.std(Ti_rdm_500_cnts,axis = 0)"
   ],
   "id": "adab7896b1a49824",
   "outputs": [],
   "execution_count": 3
  },
  {
   "metadata": {
    "ExecuteTime": {
     "end_time": "2024-10-19T07:32:41.778860Z",
     "start_time": "2024-10-19T07:32:41.774865Z"
    }
   },
   "cell_type": "code",
   "source": "Ti_cnts.shape",
   "id": "9dfea6cbaf510019",
   "outputs": [
    {
     "data": {
      "text/plain": [
       "(8, 8)"
      ]
     },
     "execution_count": 6,
     "metadata": {},
     "output_type": "execute_result"
    }
   ],
   "execution_count": 6
  },
  {
   "metadata": {
    "ExecuteTime": {
     "end_time": "2024-10-19T07:37:04.730804Z",
     "start_time": "2024-10-19T07:37:04.717841Z"
    }
   },
   "cell_type": "code",
   "source": [
    "Ti_exp_ste = np.std(Ti_cnts,axis = 0)/np.sqrt(Ti_cnts.shape[0])\n",
    "\n",
    "Ti_rdm_ste_200 = np.std(Ti_rdm_200_cnts,axis = 0)/np.sqrt(Ti_rdm_200_cnts.shape[0])\n",
    "\n",
    "Ti_rdm_ste_500 = np.std(Ti_rdm_500_cnts,axis = 0)/np.sqrt(Ti_rdm_500_cnts.shape[0])"
   ],
   "id": "2a0c9be542b3a63f",
   "outputs": [],
   "execution_count": 16
  },
  {
   "metadata": {
    "ExecuteTime": {
     "end_time": "2024-10-19T07:37:05.840218Z",
     "start_time": "2024-10-19T07:37:05.211579Z"
    }
   },
   "cell_type": "code",
   "source": [
    "fig, ax = plt.subplots()\n",
    "bar_width = 0.32\n",
    "bars = ax.bar(R, Ti_exp_mean, yerr=Ti_exp_ste,  width=bar_width,capsize=2, align='center', alpha=0.7, ecolor='black', error_kw=dict(elinewidth=1, capthick=1),label = 'exp')\n",
    "ax.errorbar(R, Ti_rdm_mean_500,c = 'orange', yerr=Ti_rdm_ste_500, fmt='o-', capsize=2,ecolor= 'red',label = 'rdm')\n",
    "ax.set_xticks(np.arange(0, 3.6, 0.4))\n",
    "ax.legend().set_zorder(100)\n",
    "ax.legend().get_frame().set_alpha(0.0)\n",
    "ax.set_xlabel('Distance bewteen Vac to Ti (nm)')\n",
    "ax.set_ylabel('Average ratio')\n",
    "ax.set_title('Average ratio between Vac to Ti')\n",
    "plt.savefig('fig 4c Average_ratio_Ti 500 size with ste.png',dpi=700,transparent=True)"
   ],
   "id": "7ac476b7d1dbbe27",
   "outputs": [],
   "execution_count": 17
  },
  {
   "metadata": {
    "ExecuteTime": {
     "end_time": "2024-10-19T07:37:09.215226Z",
     "start_time": "2024-10-19T07:37:08.527177Z"
    }
   },
   "cell_type": "code",
   "source": [
    "fig, ax = plt.subplots()\n",
    "bar_width = 0.32\n",
    "bars = ax.bar(R, Ti_exp_mean, yerr=Ti_exp_ste,  width=bar_width,capsize=2, align='center', alpha=0.7, ecolor='black', error_kw=dict(elinewidth=1, capthick=1),label = 'exp')\n",
    "ax.errorbar(R, Ti_rdm_mean_200,c = 'orange', yerr=Ti_rdm_ste_200, fmt='o-', capsize=2,ecolor= 'red',label = 'rdm')\n",
    "ax.set_xticks(np.arange(0, 3.6, 0.4))\n",
    "ax.legend().set_zorder(100)\n",
    "ax.legend().get_frame().set_alpha(0.0)\n",
    "ax.set_xlabel('Distance bewteen Vac to Ti (nm)')\n",
    "ax.set_ylabel('Average ratio')\n",
    "ax.set_title('Average ratio between Vac to Ti')\n",
    "plt.savefig('fig 4c Average_ratio_Ti 200 size with ste.png',dpi=700,transparent=True)"
   ],
   "id": "bca03e7d2f65232d",
   "outputs": [],
   "execution_count": 18
  },
  {
   "metadata": {},
   "cell_type": "markdown",
   "source": "### Plot V",
   "id": "5207b95ba72f3dae"
  },
  {
   "metadata": {
    "ExecuteTime": {
     "end_time": "2024-10-19T07:37:12.257912Z",
     "start_time": "2024-10-19T07:37:12.248942Z"
    }
   },
   "cell_type": "code",
   "source": [
    "V_cnts = np.load('V cnts.npy')\n",
    "V_exp_mean = np.mean(V_cnts,axis = 0)\n",
    "V_exp_std = np.std(V_cnts,axis = 0)\n",
    "V_rdm_500_cnts = np.load('rdm V size 500 cnts.npy')\n",
    "V_rdm_200_cnts = np.load('rdm V size 200 cnts.npy')\n",
    "V_rdm_mean_200 = np.mean(V_rdm_200_cnts,axis = 0)\n",
    "V_rdm_std_200 = np.std(V_rdm_200_cnts,axis = 0)\n",
    "V_rdm_mean_500 = np.mean(V_rdm_500_cnts,axis = 0)\n",
    "V_rdm_std_500 = np.std(V_rdm_500_cnts,axis = 0)"
   ],
   "id": "f0f79bed3055cb4d",
   "outputs": [],
   "execution_count": 19
  },
  {
   "metadata": {
    "ExecuteTime": {
     "end_time": "2024-10-19T07:37:28.043780Z",
     "start_time": "2024-10-19T07:37:28.029825Z"
    }
   },
   "cell_type": "code",
   "source": [
    "V_exp_ste = np.std(V_cnts,axis = 0)/np.sqrt(V_cnts.shape[0])\n",
    "\n",
    "V_rdm_ste_200 = np.std(V_rdm_200_cnts,axis = 0)/np.sqrt(V_rdm_200_cnts.shape[0])\n",
    "\n",
    "V_rdm_ste_500 = np.std(V_rdm_500_cnts,axis = 0)/np.sqrt(V_rdm_500_cnts.shape[0])"
   ],
   "id": "688cee8848196e8f",
   "outputs": [],
   "execution_count": 20
  },
  {
   "metadata": {
    "ExecuteTime": {
     "end_time": "2024-10-19T07:37:29.136111Z",
     "start_time": "2024-10-19T07:37:28.493993Z"
    }
   },
   "cell_type": "code",
   "source": [
    "fig, ax = plt.subplots()\n",
    "bar_width = 0.32\n",
    "bars = ax.bar(R, V_exp_mean, yerr=V_exp_ste,  width=bar_width,capsize=2, align='center', alpha=0.7, ecolor='black', error_kw=dict(elinewidth=1, capthick=1),label = 'exp')\n",
    "ax.errorbar(R, V_rdm_mean_500,c = 'orange', yerr=V_rdm_ste_500, fmt='o-', capsize=2,ecolor= 'red',label = 'rdm')\n",
    "ax.set_xticks(np.arange(0, 3.6, 0.4))\n",
    "ax.legend().set_zorder(100)\n",
    "ax.legend().get_frame().set_alpha(0.0)\n",
    "ax.set_xlabel('Distance bewteen Vac to V (nm)')\n",
    "ax.set_ylabel('Average ratio')\n",
    "ax.set_title('Average ratio between Vac to V')\n",
    "plt.savefig('fig 4c Average_ratio_V 500 size with ste.png',dpi=700,transparent=True)"
   ],
   "id": "235edccb707010c1",
   "outputs": [],
   "execution_count": 21
  },
  {
   "metadata": {
    "ExecuteTime": {
     "end_time": "2024-10-19T07:38:08.116511Z",
     "start_time": "2024-10-19T07:38:07.464566Z"
    }
   },
   "cell_type": "code",
   "source": [
    "fig, ax = plt.subplots()\n",
    "bar_width = 0.32\n",
    "bars = ax.bar(R, V_exp_mean, yerr=V_exp_ste,  width=bar_width,capsize=2, align='center', alpha=0.7, ecolor='black', error_kw=dict(elinewidth=1, capthick=1),label = 'exp')\n",
    "ax.errorbar(R, V_rdm_mean_200,c = 'orange', yerr=V_rdm_ste_200, fmt='o-', capsize=2,ecolor= 'red',label = 'rdm')\n",
    "ax.set_xticks(np.arange(0, 3.6, 0.4))\n",
    "ax.legend().set_zorder(100)\n",
    "ax.legend().get_frame().set_alpha(0.0)\n",
    "ax.set_xlabel('Distance bewteen Vac to V (nm)')\n",
    "ax.set_ylabel('Average ratio')\n",
    "ax.set_title('Average ratio between Vac to V')\n",
    "plt.savefig('fig 4c Average_ratio_V 200 size with ste.png',dpi=700,transparent=True)"
   ],
   "id": "5ab17a7fcb2cf0ac",
   "outputs": [],
   "execution_count": 23
  },
  {
   "metadata": {},
   "cell_type": "markdown",
   "source": "### Plot Mn",
   "id": "fd2de5f3c9329ccd"
  },
  {
   "metadata": {
    "ExecuteTime": {
     "end_time": "2024-10-19T07:38:11.312338Z",
     "start_time": "2024-10-19T07:38:11.299382Z"
    }
   },
   "cell_type": "code",
   "source": [
    "Mn_cnts= np.load('Mn cnts.npy')\n",
    "Mn_exp_mean = np.mean(Mn_cnts,axis = 0)\n",
    "Mn_exp_std = np.std(Mn_cnts,axis = 0)\n",
    "Mn_rdm_500_cnts = np.load('rdm Mn size 500 cnts.npy')\n",
    "Mn_rdm_mean_500 = np.mean(Mn_rdm_500_cnts,axis = 0)\n",
    "Mn_rdm_std_500 = np.std(Mn_rdm_500_cnts,axis = 0)\n",
    "Mn_rdm_200_cnts = np.load('rdm Mn size 200 cnts.npy')\n",
    "Mn_rdm_mean_200 = np.mean(Mn_rdm_200_cnts,axis = 0)\n",
    "Mn_rdm_std_200 = np.std(Mn_rdm_200_cnts,axis = 0)"
   ],
   "id": "be9e93687b73810d",
   "outputs": [],
   "execution_count": 24
  },
  {
   "metadata": {
    "ExecuteTime": {
     "end_time": "2024-10-19T07:39:15.544680Z",
     "start_time": "2024-10-19T07:39:15.534604Z"
    }
   },
   "cell_type": "code",
   "source": [
    "Mn_exp_ste = np.std(Mn_cnts,axis = 0)/np.sqrt(Mn_cnts.shape[0])\n",
    "\n",
    "Mn_rdm_ste_200 = np.std(Mn_rdm_200_cnts,axis = 0)/np.sqrt(Mn_rdm_200_cnts.shape[0])\n",
    "\n",
    "Mn_rdm_ste_500 = np.std(Mn_rdm_500_cnts,axis = 0)/np.sqrt(Mn_rdm_500_cnts.shape[0])"
   ],
   "id": "3700cac65076db6a",
   "outputs": [],
   "execution_count": 26
  },
  {
   "metadata": {
    "ExecuteTime": {
     "end_time": "2024-10-19T07:39:27.771116Z",
     "start_time": "2024-10-19T07:39:27.168769Z"
    }
   },
   "cell_type": "code",
   "source": [
    "fig, ax = plt.subplots()\n",
    "bar_width = 0.32\n",
    "bars = ax.bar(R, Mn_exp_mean, yerr=Mn_exp_ste,  width=bar_width,capsize=2, align='center', alpha=0.7, ecolor='black', error_kw=dict(elinewidth=1, capthick=1),label = 'exp')\n",
    "ax.errorbar(R, Mn_rdm_mean_500,c = 'orange', yerr=Mn_rdm_ste_500, fmt='o-', capsize=2,ecolor= 'red',label = 'rdm')\n",
    "ax.set_xticks(np.arange(0, 3.6, 0.4))\n",
    "ax.legend().set_zorder(100)\n",
    "ax.legend().get_frame().set_alpha(0.0)\n",
    "ax.set_xlabel('Distance bewteen Vac to Mn (nm)')\n",
    "ax.set_ylabel('Average ratio')\n",
    "ax.set_title('Average ratio between Vac to Mn')\n",
    "plt.savefig('fig 4c Average_ratio_Mn 500 size with ste.png',dpi=700,transparent=True)"
   ],
   "id": "6777cdad6b5de485",
   "outputs": [],
   "execution_count": 27
  },
  {
   "metadata": {
    "ExecuteTime": {
     "end_time": "2024-10-19T07:39:57.942599Z",
     "start_time": "2024-10-19T07:39:57.316377Z"
    }
   },
   "cell_type": "code",
   "source": [
    "fig, ax = plt.subplots()\n",
    "bar_width = 0.32\n",
    "bars = ax.bar(R, Mn_exp_mean, yerr=Mn_exp_ste,  width=bar_width,capsize=2, align='center', alpha=0.7, ecolor='black', error_kw=dict(elinewidth=1, capthick=1),label = 'exp')\n",
    "ax.errorbar(R, Mn_rdm_mean_200,c = 'orange', yerr=Mn_rdm_ste_200, fmt='o-', capsize=2,ecolor= 'red',label = 'rdm')\n",
    "ax.set_xticks(np.arange(0, 3.6, 0.4))\n",
    "ax.legend().set_zorder(100)\n",
    "ax.legend().get_frame().set_alpha(0.0)\n",
    "ax.set_xlabel('Distance bewteen Vac to Mn (nm)')\n",
    "ax.set_ylabel('Average ratio')\n",
    "ax.set_title('Average ratio between Vac to Mn')\n",
    "plt.savefig('fig 4c Average_ratio_Mn 200 size with ste.png',dpi=700,transparent=True)"
   ],
   "id": "a27ac3f3a2891fa2",
   "outputs": [],
   "execution_count": 29
  },
  {
   "metadata": {},
   "cell_type": "markdown",
   "source": "### Plot Co",
   "id": "b1f913ccb4168853"
  },
  {
   "metadata": {
    "ExecuteTime": {
     "end_time": "2024-10-19T07:40:02.105597Z",
     "start_time": "2024-10-19T07:40:02.071564Z"
    }
   },
   "cell_type": "code",
   "source": [
    "Co_cnts = np.load('Co cnts.npy')\n",
    "Co_exp_mean = np.mean(Co_cnts,axis = 0)\n",
    "Co_exp_std = np.std(Co_cnts,axis = 0)\n",
    "Co_rdm_500_cnts = np.load('rdm Co size 500 cnts.npy')\n",
    "Co_rdm_mean_500 = np.mean(Co_rdm_500_cnts,axis = 0)\n",
    "Co_rdm_std_500 = np.std(Co_rdm_500_cnts,axis = 0)\n",
    "Co_rdm_200_cnts = np.load('rdm Co size 200 cnts.npy')\n",
    "Co_rdm_mean_200 = np.mean(Co_rdm_200_cnts,axis = 0)\n",
    "Co_rdm_std_200 = np.std(Co_rdm_200_cnts,axis = 0)"
   ],
   "id": "790fd82918dc210e",
   "outputs": [],
   "execution_count": 30
  },
  {
   "metadata": {
    "ExecuteTime": {
     "end_time": "2024-10-19T07:40:40.520364Z",
     "start_time": "2024-10-19T07:40:40.507329Z"
    }
   },
   "cell_type": "code",
   "source": [
    "Co_exp_ste = np.std(Co_cnts,axis = 0)/np.sqrt(Co_cnts.shape[0])\n",
    "\n",
    "Co_rdm_ste_200 = np.std(Co_rdm_200_cnts,axis = 0)/np.sqrt(Co_cnts.shape[0])\n",
    "\n",
    "Co_rdm_ste_500 = np.std(Co_rdm_500_cnts,axis = 0)/np.sqrt(Co_cnts.shape[0])"
   ],
   "id": "b186757c42093fe9",
   "outputs": [],
   "execution_count": 31
  },
  {
   "metadata": {
    "ExecuteTime": {
     "end_time": "2024-10-19T07:40:55.262363Z",
     "start_time": "2024-10-19T07:40:54.629829Z"
    }
   },
   "cell_type": "code",
   "source": [
    "fig, ax = plt.subplots()\n",
    "bar_width = 0.32\n",
    "bars = ax.bar(R, Co_exp_mean, yerr=Co_exp_ste,  width=bar_width,capsize=2, align='center', alpha=0.7, ecolor='black', error_kw=dict(elinewidth=1, capthick=1),label = 'exp')\n",
    "ax.errorbar(R, Co_rdm_mean_500,c = 'orange', yerr=Co_rdm_ste_500, fmt='o-', capsize=2,ecolor= 'red',label = 'rdm')\n",
    "ax.set_xticks(np.arange(0, 3.6, 0.4))\n",
    "ax.legend().set_zorder(100)\n",
    "ax.legend().get_frame().set_alpha(0.0)\n",
    "ax.set_xlabel('Distance bewteen Vac to Co (nm)')\n",
    "ax.set_ylabel('Average ratio')\n",
    "ax.set_title('Average ratio between Vac to Co')\n",
    "plt.savefig('fig 4c Average_ratio_Co 500 size with ste.png',dpi=700,transparent=True)"
   ],
   "id": "86cb8284b46cb5ed",
   "outputs": [],
   "execution_count": 32
  },
  {
   "metadata": {
    "ExecuteTime": {
     "end_time": "2024-10-19T07:41:15.135168Z",
     "start_time": "2024-10-19T07:41:14.480664Z"
    }
   },
   "cell_type": "code",
   "source": [
    "fig, ax = plt.subplots()\n",
    "bar_width = 0.32\n",
    "bars = ax.bar(R, Co_exp_mean, yerr=Co_exp_ste,  width=bar_width,capsize=2, align='center', alpha=0.7, ecolor='black', error_kw=dict(elinewidth=1, capthick=1),label = 'exp')\n",
    "ax.errorbar(R, Co_rdm_mean_200,c = 'orange', yerr=Co_rdm_ste_200, fmt='o-', capsize=2,ecolor= 'red',label = 'rdm')\n",
    "ax.set_xticks(np.arange(0, 3.6, 0.4))\n",
    "ax.legend().set_zorder(100)\n",
    "ax.legend().get_frame().set_alpha(0.0)\n",
    "ax.set_xlabel('Distance bewteen Vac to Co (nm)')\n",
    "ax.set_ylabel('Average ratio')\n",
    "ax.set_title('Average ratio between Vac to Co')\n",
    "plt.savefig('fig 4c Average_ratio_Co 200 size with ste.png',dpi=700,transparent=True)"
   ],
   "id": "e94fa3bf33c89dd5",
   "outputs": [],
   "execution_count": 33
  },
  {
   "metadata": {},
   "cell_type": "code",
   "execution_count": null,
   "source": "",
   "id": "e443ad8ed3ae4f9e",
   "outputs": []
  }
 ],
 "metadata": {
  "kernelspec": {
   "display_name": "Python 3",
   "language": "python",
   "name": "python3"
  },
  "language_info": {
   "codemirror_mode": {
    "name": "ipython",
    "version": 2
   },
   "file_extension": ".py",
   "mimetype": "text/x-python",
   "name": "python",
   "nbconvert_exporter": "python",
   "pygments_lexer": "ipython2",
   "version": "2.7.6"
  }
 },
 "nbformat": 4,
 "nbformat_minor": 5
}
