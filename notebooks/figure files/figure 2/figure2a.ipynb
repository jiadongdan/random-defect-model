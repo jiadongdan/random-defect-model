{
 "cells": [
  {
   "cell_type": "code",
   "id": "initial_id",
   "metadata": {
    "collapsed": true,
    "ExecuteTime": {
     "end_time": "2024-09-02T15:36:44.640782Z",
     "start_time": "2024-09-02T15:36:44.100808Z"
    }
   },
   "source": [
    "%matplotlib qt\n",
    "import numpy as np\n",
    "import matplotlib.pyplot as plt "
   ],
   "execution_count": 1,
   "outputs": []
  },
  {
   "metadata": {
    "ExecuteTime": {
     "end_time": "2024-09-02T15:36:46.419645Z",
     "start_time": "2024-09-02T15:36:44.643237Z"
    }
   },
   "cell_type": "code",
   "source": [
    "from mtflearn.io import load_image\n",
    "from stemplot import imshow, colors_from_lbs\n",
    "from mtflearn.features import ZPs, get_characteristic_length, local_max, KeyPoints, pca\n",
    "from mtflearn.features import ZPs, get_characteristic_length, local_max, KeyPoints\n",
    "from mtflearn.utils import normalize_image, remove_bg\n",
    "from mtflearn.manifold import ForceGraph8\n",
    "from mtflearn.denoise import denoise_svd\n",
    "\n",
    "import re\n",
    "from skimage.transform import resize\n",
    "from stemplot.utils import plot_pca\n",
    "from stemplot.interactive import interactive_clusters\n",
    "from stemplot.colors import generate_colors_from_lbs,color_palette"
   ],
   "id": "e95fe333e1df62e5",
   "execution_count": 2,
   "outputs": []
  },
  {
   "metadata": {
    "ExecuteTime": {
     "end_time": "2024-09-02T15:36:46.790473Z",
     "start_time": "2024-09-02T15:36:46.450534Z"
    }
   },
   "cell_type": "code",
   "source": [
    "img = load_image('0106_ADF2_12.dm4')\n",
    "img = normalize_image(img)\n",
    "lbs = np.load('Ti 2 lbs.npy').astype(int)\n",
    "pts = np.load('Ti 2 pts.npy')"
   ],
   "id": "920fdcb48969c622",
   "execution_count": 4,
   "outputs": []
  },
  {
   "metadata": {
    "ExecuteTime": {
     "end_time": "2024-09-02T15:36:46.947557Z",
     "start_time": "2024-09-02T15:36:46.808553Z"
    }
   },
   "cell_type": "code",
   "source": [
    "mask1 = np.logical_or(lbs==0, lbs==1)\n",
    "mask2 = np.logical_or(lbs==2, lbs==3)\n",
    "img = resize(img, (1024, 1024), order=0)\n",
    "size = 36"
   ],
   "id": "d12e86bd842d4f2f",
   "execution_count": 5,
   "outputs": []
  },
  {
   "metadata": {
    "ExecuteTime": {
     "end_time": "2024-09-02T15:36:47.196185Z",
     "start_time": "2024-09-02T15:36:47.156648Z"
    }
   },
   "cell_type": "code",
   "source": [
    "kp = KeyPoints(pts, img, size)\n",
    "ps = kp.extract_patches(size)"
   ],
   "id": "8a7a7d613354400c",
   "execution_count": 6,
   "outputs": []
  },
  {
   "metadata": {
    "ExecuteTime": {
     "end_time": "2024-09-02T15:36:53.710876Z",
     "start_time": "2024-09-02T15:36:53.666443Z"
    }
   },
   "cell_type": "code",
   "source": [
    "zps = ZPs(n_max=12, size=ps.shape[1])\n",
    "moments = zps.fit_transform(ps)\n",
    "X = moments.select([0]).data\n",
    "#X1 = X[mask1]\n",
    "X1 = X[mask1][:, 1:]\n",
    "X2 = X[mask2][:, 1:]\n",
    "lbs1 = lbs[mask1].astype(int)\n",
    "lbs2 = lbs[mask2].astype(int)"
   ],
   "id": "b878ef24bf74ba4b",
   "execution_count": 7,
   "outputs": []
  },
  {
   "metadata": {
    "ExecuteTime": {
     "end_time": "2024-09-02T15:36:56.400491Z",
     "start_time": "2024-09-02T15:36:54.497440Z"
    }
   },
   "cell_type": "code",
   "source": [
    "fg = ForceGraph8(X = X1,\n",
    "                 n_neighbors=5,\n",
    "                 init_mode = 'pca',\n",
    "                 num_iterations = 100,\n",
    "                 num_negative_samples=5,\n",
    "                 force_params1=(0, 2, 1, 1),\n",
    "                 force_params2=(2, 5, 5, 1),\n",
    "                 divide=0.5)\n",
    "\n",
    "from time import time\n",
    "t0 = time()\n",
    "xy1 = fg.fit_transform(X1)\n",
    "\n",
    "#app1 = interactive_clusters(pca(X1), img2, pts[mask1], ps[mask1], lbs=lbs1, s=1, max_samples=10000) \n",
    "app1 = interactive_clusters(xy1, img, pts[mask1], ps[mask1], lbs=lbs1, s=1, max_samples=10000)"
   ],
   "id": "c85c1dba21699a38",
   "execution_count": 8,
   "outputs": []
  },
  {
   "metadata": {
    "ExecuteTime": {
     "end_time": "2024-09-02T15:39:39.184048Z",
     "start_time": "2024-09-02T15:39:37.994109Z"
    }
   },
   "cell_type": "code",
   "source": [
    "fig,ax = plt.subplots(figsize = (8,8))\n",
    "colors = generate_colors_from_lbs(lbs1)\n",
    "ax.scatter(xy1[:,0],xy1[:,1],s = 5, c=colors)\n",
    "ax.set_xlabel('FR Component 1')\n",
    "ax.set_ylabel('FR Component 2')\n",
    "plt.savefig('Se center layout.png',dpi = 700,transparent=True)"
   ],
   "id": "7680477fb42035e2",
   "execution_count": 18,
   "outputs": []
  },
  {
   "metadata": {
    "ExecuteTime": {
     "end_time": "2024-09-02T15:38:46.744472Z",
     "start_time": "2024-09-02T15:38:46.728107Z"
    }
   },
   "cell_type": "code",
   "source": [
    "Se_ps = ps[lbs==0]\n",
    "V_ps = ps[lbs==1]"
   ],
   "id": "76c3ed0ddef4e152",
   "execution_count": 12,
   "outputs": []
  },
  {
   "metadata": {
    "ExecuteTime": {
     "end_time": "2024-09-02T15:39:07.140502Z",
     "start_time": "2024-09-02T15:39:05.741879Z"
    }
   },
   "cell_type": "code",
   "source": [
    "fig,ax = plt.subplots(figsize = (8,8))\n",
    "ax.imshow(np.mean(Se_ps,axis=0),cmap = color_palette('C0'))\n",
    "plt.axis('off')\n",
    "plt.savefig('Se2 center mean',dpi = 700,transparent=True)"
   ],
   "id": "cc146a35b71b047e",
   "execution_count": 13,
   "outputs": []
  },
  {
   "metadata": {
    "ExecuteTime": {
     "end_time": "2024-09-02T15:39:14.738860Z",
     "start_time": "2024-09-02T15:39:13.324863Z"
    }
   },
   "cell_type": "code",
   "source": [
    "fig,ax = plt.subplots(figsize = (8,8))\n",
    "ax.imshow(np.mean(V_ps,axis=0),cmap = color_palette('C1'))\n",
    "plt.axis('off')\n",
    "plt.savefig('V center mean',dpi = 700,transparent=True)"
   ],
   "id": "44b15cc1ca12e8cb",
   "execution_count": 14,
   "outputs": []
  },
  {
   "metadata": {},
   "cell_type": "markdown",
   "source": "### Metal part",
   "id": "94c1571002b39343"
  },
  {
   "metadata": {
    "ExecuteTime": {
     "end_time": "2024-09-02T15:39:19.319649Z",
     "start_time": "2024-09-02T15:39:19.172333Z"
    }
   },
   "cell_type": "code",
   "source": [
    "xy2 = pca(X2)\n",
    "app2 = interactive_clusters(pca(X2), img, pts[mask2], ps[mask2], lbs=lbs2, s=1)"
   ],
   "id": "c1501aa1c37eb5b6",
   "execution_count": 15,
   "outputs": []
  },
  {
   "metadata": {
    "ExecuteTime": {
     "end_time": "2024-09-02T15:39:19.598597Z",
     "start_time": "2024-09-02T15:39:19.580658Z"
    }
   },
   "cell_type": "code",
   "source": "X2.max(),X2.min()",
   "id": "9efae3f8d2b4e883",
   "execution_count": 16,
   "outputs": []
  },
  {
   "metadata": {
    "ExecuteTime": {
     "end_time": "2024-09-02T15:40:15.792587Z",
     "start_time": "2024-09-02T15:40:14.709266Z"
    }
   },
   "cell_type": "code",
   "source": [
    "fig,ax = plt.subplots(figsize = (8,8))\n",
    "colors = generate_colors_from_lbs(lbs2)\n",
    "ax.scatter(xy2[:,0],xy2[:,1],s = 5, c=colors)\n",
    "ax.set_xlabel('Principal Component 1')\n",
    "ax.set_ylabel('Principal Component 2')\n",
    "plt.savefig('W dope Ti center layout.png',dpi = 700,transparent=True)"
   ],
   "id": "480e2b4fb6ab7dc4",
   "execution_count": 19,
   "outputs": []
  },
  {
   "metadata": {
    "ExecuteTime": {
     "end_time": "2024-09-02T15:40:23.130675Z",
     "start_time": "2024-09-02T15:40:23.117211Z"
    }
   },
   "cell_type": "code",
   "source": [
    "W_ps = ps[lbs==2]\n",
    "D_ps = ps[lbs==3]"
   ],
   "id": "aa77f7309e954377",
   "execution_count": 20,
   "outputs": []
  },
  {
   "metadata": {
    "ExecuteTime": {
     "end_time": "2024-09-02T15:40:32.181473Z",
     "start_time": "2024-09-02T15:40:30.824818Z"
    }
   },
   "cell_type": "code",
   "source": [
    "fig,ax = plt.subplots(figsize = (8,8))\n",
    "ax.imshow(np.mean(W_ps,axis=0),cmap = color_palette('C2'))\n",
    "plt.axis('off')\n",
    "plt.savefig('W center mean',dpi = 700,transparent=True)"
   ],
   "id": "9b555fdefeadbcba",
   "execution_count": 21,
   "outputs": []
  },
  {
   "metadata": {
    "ExecuteTime": {
     "end_time": "2024-09-02T15:40:42.693671Z",
     "start_time": "2024-09-02T15:40:41.338314Z"
    }
   },
   "cell_type": "code",
   "source": [
    "fig,ax = plt.subplots(figsize = (8,8))\n",
    "ax.imshow(np.mean(D_ps,axis=0),cmap = color_palette('C3'))\n",
    "plt.axis('off')\n",
    "plt.savefig('Ti center mean',dpi = 700,transparent=True)"
   ],
   "id": "5e833367f54357b2",
   "execution_count": 22,
   "outputs": []
  },
  {
   "metadata": {},
   "cell_type": "code",
   "execution_count": null,
   "source": "",
   "id": "4cd9cb3c042f975b",
   "outputs": []
  },
  {
   "metadata": {
    "ExecuteTime": {
     "end_time": "2024-09-02T12:00:58.473657Z",
     "start_time": "2024-09-02T12:00:58.405883Z"
    }
   },
   "cell_type": "code",
   "source": [
    "select_pts = np.vstack([pts[lbs==1],pts[lbs==3]])\n",
    "select_lbs = np.hstack([lbs[lbs==1],lbs[lbs==3]])\n",
    "fig, ax = plt.subplots(1, 1, figsize=(7.2, 7.2))\n",
    "ax.imshow(img, cmap='gray')\n",
    "ax.scatter(select_pts[:, 0], select_pts[:, 1], color=colors_from_lbs(select_lbs), s=10)\n",
    "ax.axis('off')\n",
    "# plt.savefig('points on image.png',dpi = 700,transparent=True)"
   ],
   "id": "aa40c82bc2ca1e3a",
   "execution_count": 104,
   "outputs": []
  },
  {
   "metadata": {},
   "cell_type": "code",
   "execution_count": null,
   "source": "",
   "id": "20b3f37706e21e9e",
   "outputs": []
  }
 ],
 "metadata": {
  "kernelspec": {
   "display_name": "Python 3",
   "language": "python",
   "name": "python3"
  },
  "language_info": {
   "codemirror_mode": {
    "name": "ipython",
    "version": 2
   },
   "file_extension": ".py",
   "mimetype": "text/x-python",
   "name": "python",
   "nbconvert_exporter": "python",
   "pygments_lexer": "ipython2",
   "version": "2.7.6"
  }
 },
 "nbformat": 4,
 "nbformat_minor": 5
}
