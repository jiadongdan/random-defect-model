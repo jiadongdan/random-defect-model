{
 "cells": [
  {
   "cell_type": "code",
   "id": "initial_id",
   "metadata": {
    "collapsed": true,
    "ExecuteTime": {
     "end_time": "2024-10-19T06:51:21.348888Z",
     "start_time": "2024-10-19T06:51:21.288098Z"
    }
   },
   "source": [
    "import numpy as np\n",
    "import matplotlib.pyplot as plt\n",
    "import seaborn as sns\n",
    "%matplotlib qt"
   ],
   "outputs": [],
   "execution_count": 1
  },
  {
   "metadata": {
    "ExecuteTime": {
     "end_time": "2024-10-19T06:53:38.568070Z",
     "start_time": "2024-10-19T06:53:38.549358Z"
    }
   },
   "cell_type": "code",
   "source": "sns.set_theme(style=None)",
   "id": "4d1b29694e308217",
   "outputs": [],
   "execution_count": 9
  },
  {
   "metadata": {
    "ExecuteTime": {
     "end_time": "2024-10-19T06:51:21.380782Z",
     "start_time": "2024-10-19T06:51:21.366829Z"
    }
   },
   "cell_type": "code",
   "source": [
    "Ti_pair_dop_ratio = np.array([2,2,2,1,2,2,1,5,2,1])\n",
    "V_pair_dop_ratio = np.array([1,1,2,1,1,1,1,1,1,3,3,1,2,2,1,2])\n",
    "Mn_pair_dop_ratio = np.array([1,1,2,1])\n",
    "Co_pair_dop_ratio = np.array([2,2,1,1,1,1,1,2,1,1])"
   ],
   "id": "ec529e6b88839385",
   "outputs": [],
   "execution_count": 3
  },
  {
   "metadata": {
    "ExecuteTime": {
     "end_time": "2024-10-19T06:51:23.046954Z",
     "start_time": "2024-10-19T06:51:23.033998Z"
    }
   },
   "cell_type": "code",
   "source": [
    "exp_ratio_mean = np.array([np.mean(Ti_pair_dop_ratio),np.mean(V_pair_dop_ratio),np.mean(V_pair_dop_ratio),np.mean(Co_pair_dop_ratio)])\n",
    "exp_ratio_std = np.array([np.std(Ti_pair_dop_ratio),np.std(V_pair_dop_ratio),np.std(Mn_pair_dop_ratio),np.std(Co_pair_dop_ratio)])"
   ],
   "id": "cf430fa89af4f226",
   "outputs": [],
   "execution_count": 4
  },
  {
   "metadata": {
    "ExecuteTime": {
     "end_time": "2024-10-19T06:52:36.792288Z",
     "start_time": "2024-10-19T06:52:36.779201Z"
    }
   },
   "cell_type": "code",
   "source": [
    "exp_ratio_ste = np.array([\n",
    "    np.std(Ti_pair_dop_ratio)/np.sqrt(Ti_pair_dop_ratio.shape[0]),\n",
    "    np.std(V_pair_dop_ratio)/np.sqrt(V_pair_dop_ratio.shape[0]),\n",
    "    np.std(Mn_pair_dop_ratio)/np.sqrt(Mn_pair_dop_ratio.shape[0]),\n",
    "    np.std(Co_pair_dop_ratio)/np.sqrt(Co_pair_dop_ratio.shape[0])\n",
    "])"
   ],
   "id": "655cf8f23755b3c",
   "outputs": [],
   "execution_count": 6
  },
  {
   "metadata": {
    "ExecuteTime": {
     "end_time": "2024-10-19T06:52:40.715530Z",
     "start_time": "2024-10-19T06:52:40.698365Z"
    }
   },
   "cell_type": "code",
   "source": [
    "rdm_ratio = np.load('3b rdm ratio.npy')\n",
    "X_positions = [1,1.5,2,2.5]"
   ],
   "id": "d6df3712978d9ce9",
   "outputs": [],
   "execution_count": 7
  },
  {
   "metadata": {
    "ExecuteTime": {
     "end_time": "2024-09-19T10:01:01.673072Z",
     "start_time": "2024-09-19T10:01:00.986116Z"
    }
   },
   "cell_type": "code",
   "source": [
    "Ti_pair_dop_ratio = np.array([2,2,2,1,2,2,1,5,2,1])\n",
    "V_pair_dop_ratio = np.array([1,1,2,1,1,1,1,1,1,3,3,1,2,2,1,2])\n",
    "Mn_pair_dop_ratio = np.array([1,1,2,1])\n",
    "Co_pair_dop_ratio = np.array([2,2,1,1,1,1,1,2,1,1])\n",
    "fig, ax = plt.subplots()\n",
    "sns.violinplot([Ti_pair_dop_ratio,V_pair_dop_ratio,Mn_pair_dop_ratio,Co_pair_dop_ratio],inner = None)\n",
    "sns.stripplot(data=[Ti_pair_dop_ratio,V_pair_dop_ratio,Mn_pair_dop_ratio,Co_pair_dop_ratio],palette='dark:black',jitter=0.1, linewidth=0.5)\n",
    "ax.plot([np.mean(Ti_pair_dop_ratio),np.mean(V_pair_dop_ratio),np.mean(Mn_pair_dop_ratio),np.mean(Co_pair_dop_ratio)],'_',ms = 30,color = 'white',zorder=5)\n",
    "ax.plot(rdm_ratio,'--',color = 'gray',label = 'rdm')\n",
    "ax.legend().get_frame().set_alpha(0.0)\n",
    "ax.set_xticklabels(['Ti','V','Mn','Co'])\n",
    "ax.set_xlabel('Dopant',fontsize=10)\n",
    "ax.set_ylabel('Number of Missing Se Atoms Adjacent to Dopant',fontsize=10)\n",
    "ax.set_xlim(-0.5, 3.5)\n",
    "ax.set_ylim(-1, 7.5)\n",
    "plt.savefig('fig 3b Multi-pair dopants ratio violin version.png',dpi = 700,transparent=True)"
   ],
   "id": "fa82b9b9fa220f33",
   "execution_count": 74,
   "outputs": []
  },
  {
   "metadata": {
    "ExecuteTime": {
     "end_time": "2024-09-19T08:55:01.498946Z",
     "start_time": "2024-09-19T08:55:01.391142Z"
    }
   },
   "cell_type": "code",
   "source": [
    "fig, ax = plt.subplots()\n",
    "ax.violinplot([Ti_pair_dop_ratio,V_pair_dop_ratio,Mn_pair_dop_ratio,Co_pair_dop_ratio])\n",
    "\n",
    "ax.plot(rdm_ratio,'o-',color = 'orange',label = 'rdm')\n",
    "ax.legend().get_frame().set_alpha(0.0)"
   ],
   "id": "faa0930c4e45bb5f",
   "execution_count": 18,
   "outputs": []
  },
  {
   "metadata": {
    "ExecuteTime": {
     "end_time": "2024-10-19T06:53:52.543712Z",
     "start_time": "2024-10-19T06:53:52.529751Z"
    }
   },
   "cell_type": "code",
   "source": "plt.style.use('default')",
   "id": "11b54dcbefe47a79",
   "outputs": [],
   "execution_count": 10
  },
  {
   "metadata": {
    "ExecuteTime": {
     "end_time": "2024-10-19T06:54:18.712100Z",
     "start_time": "2024-10-19T06:54:18.164922Z"
    }
   },
   "cell_type": "code",
   "source": [
    "fig, ax = plt.subplots()\n",
    "bar_width = 0.25\n",
    "bars = ax.bar(X_positions,exp_ratio_mean,yerr=exp_ratio_ste, capsize=2.5,width=bar_width,label = 'exp')\n",
    "ax.plot(X_positions,rdm_ratio,'o-',color = 'orange',label = 'rdm')\n",
    "plt.legend()\n",
    "\n",
    "ax.legend().set_zorder(100)\n",
    "ax.legend().get_frame().set_alpha(0.0)\n",
    "\n",
    "text_y_position = 1.05 \n",
    "text_x_position = 2.91  \n",
    "\n",
    "ax.set_xticks(X_positions)\n",
    "ax.set_xticklabels(['Ti','V','Mn','Co'])\n",
    "ax.set_ylim(0.5, 2.5)\n",
    "ax.set_xlabel('Dopant')\n",
    "ax.set_ylabel('Multi-pair to pair dopants ratio')\n",
    "ax.set_title('The Ratio of Multi Pair Vac-Dopant to Paired Dopants Counts')\n",
    "\n",
    "plt.savefig('fig 3b Multi-pair dopants ratio with STE.png',dpi = 700,transparent=True)"
   ],
   "id": "195369998a7034a8",
   "outputs": [],
   "execution_count": 15
  },
  {
   "metadata": {},
   "cell_type": "code",
   "execution_count": null,
   "source": "",
   "id": "f913a8f6ebbf2d68",
   "outputs": []
  }
 ],
 "metadata": {
  "kernelspec": {
   "display_name": "Python 3",
   "language": "python",
   "name": "python3"
  },
  "language_info": {
   "codemirror_mode": {
    "name": "ipython",
    "version": 2
   },
   "file_extension": ".py",
   "mimetype": "text/x-python",
   "name": "python",
   "nbconvert_exporter": "python",
   "pygments_lexer": "ipython2",
   "version": "2.7.6"
  }
 },
 "nbformat": 4,
 "nbformat_minor": 5
}
