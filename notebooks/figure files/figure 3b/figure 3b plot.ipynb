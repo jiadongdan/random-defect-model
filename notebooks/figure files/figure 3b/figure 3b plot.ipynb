{
 "cells": [
  {
   "cell_type": "code",
   "id": "initial_id",
   "metadata": {
    "collapsed": true,
    "ExecuteTime": {
     "end_time": "2024-09-19T08:44:11.660473Z",
     "start_time": "2024-09-19T08:44:10.490456Z"
    }
   },
   "source": [
    "import numpy as np\n",
    "import matplotlib.pyplot as plt\n",
    "import seaborn as sns\n",
    "%matplotlib qt"
   ],
   "execution_count": 3,
   "outputs": []
  },
  {
   "metadata": {
    "ExecuteTime": {
     "end_time": "2024-09-19T08:44:32.537010Z",
     "start_time": "2024-09-19T08:44:32.521551Z"
    }
   },
   "cell_type": "code",
   "source": "sns.set_theme(style=None)",
   "id": "4d1b29694e308217",
   "execution_count": 4,
   "outputs": []
  },
  {
   "metadata": {
    "ExecuteTime": {
     "end_time": "2024-09-19T09:25:05.101837Z",
     "start_time": "2024-09-19T09:25:05.089876Z"
    }
   },
   "cell_type": "code",
   "source": [
    "Ti_pair_dop_ratio = np.array([2,2,2,1,2,2,1,5,2,1])\n",
    "V_pair_dop_ratio = np.array([1,1,2,1,1,1,1,1,1,3,3,1,2,2,1,2])\n",
    "Mn_pair_dop_ratio = np.array([1,1,2,1])\n",
    "Co_pair_dop_ratio = np.array([2,2,1,1,1,1,1,2,1,1])"
   ],
   "id": "ec529e6b88839385",
   "execution_count": 24,
   "outputs": []
  },
  {
   "metadata": {
    "ExecuteTime": {
     "end_time": "2024-09-18T07:20:10.031481Z",
     "start_time": "2024-09-18T07:20:10.016522Z"
    }
   },
   "cell_type": "code",
   "source": [
    "exp_ratio_mean = np.array([np.mean(Ti_pair_dop_ratio),np.mean(V_pair_dop_ratio),np.mean(V_pair_dop_ratio),np.mean(Co_pair_dop_ratio)])\n",
    "exp_ratio_std = np.array([np.std(Ti_pair_dop_ratio),np.std(V_pair_dop_ratio),np.std(Mn_pair_dop_ratio),np.std(Co_pair_dop_ratio)])"
   ],
   "id": "cf430fa89af4f226",
   "execution_count": 3,
   "outputs": []
  },
  {
   "metadata": {
    "ExecuteTime": {
     "end_time": "2024-09-19T08:50:34.768021Z",
     "start_time": "2024-09-19T08:50:34.762048Z"
    }
   },
   "cell_type": "code",
   "source": [
    "rdm_ratio = np.load('3b rdm ratio.npy')\n",
    "X_positions = [1,1.5,2,2.5]"
   ],
   "id": "d6df3712978d9ce9",
   "execution_count": 12,
   "outputs": []
  },
  {
   "metadata": {
    "ExecuteTime": {
     "end_time": "2024-09-19T10:01:01.673072Z",
     "start_time": "2024-09-19T10:01:00.986116Z"
    }
   },
   "cell_type": "code",
   "source": [
    "Ti_pair_dop_ratio = np.array([2,2,2,1,2,2,1,5,2,1])\n",
    "V_pair_dop_ratio = np.array([1,1,2,1,1,1,1,1,1,3,3,1,2,2,1,2])\n",
    "Mn_pair_dop_ratio = np.array([1,1,2,1])\n",
    "Co_pair_dop_ratio = np.array([2,2,1,1,1,1,1,2,1,1])\n",
    "fig, ax = plt.subplots()\n",
    "sns.violinplot([Ti_pair_dop_ratio,V_pair_dop_ratio,Mn_pair_dop_ratio,Co_pair_dop_ratio],inner = None)\n",
    "sns.stripplot(data=[Ti_pair_dop_ratio,V_pair_dop_ratio,Mn_pair_dop_ratio,Co_pair_dop_ratio],palette='dark:black',jitter=0.1, linewidth=0.5)\n",
    "ax.plot([np.mean(Ti_pair_dop_ratio),np.mean(V_pair_dop_ratio),np.mean(Mn_pair_dop_ratio),np.mean(Co_pair_dop_ratio)],'_',ms = 30,color = 'white',zorder=5)\n",
    "ax.plot(rdm_ratio,'--',color = 'gray',label = 'rdm')\n",
    "ax.legend().get_frame().set_alpha(0.0)\n",
    "ax.set_xticklabels(['Ti','V','Mn','Co'])\n",
    "ax.set_xlabel('Dopant',fontsize=10)\n",
    "ax.set_ylabel('Number of Missing Se Atoms Adjacent to Dopant',fontsize=10)\n",
    "ax.set_xlim(-0.5, 3.5)\n",
    "ax.set_ylim(-1, 7.5)\n",
    "plt.savefig('fig 3b Multi-pair dopants ratio violin version.png',dpi = 700,transparent=True)"
   ],
   "id": "fa82b9b9fa220f33",
   "execution_count": 74,
   "outputs": []
  },
  {
   "metadata": {
    "ExecuteTime": {
     "end_time": "2024-09-19T08:55:01.498946Z",
     "start_time": "2024-09-19T08:55:01.391142Z"
    }
   },
   "cell_type": "code",
   "source": [
    "fig, ax = plt.subplots()\n",
    "ax.violinplot([Ti_pair_dop_ratio,V_pair_dop_ratio,Mn_pair_dop_ratio,Co_pair_dop_ratio])\n",
    "\n",
    "ax.plot(rdm_ratio,'o-',color = 'orange',label = 'rdm')\n",
    "ax.legend().get_frame().set_alpha(0.0)"
   ],
   "id": "faa0930c4e45bb5f",
   "execution_count": 18,
   "outputs": []
  },
  {
   "metadata": {
    "ExecuteTime": {
     "end_time": "2024-09-18T07:20:16.091797Z",
     "start_time": "2024-09-18T07:20:15.912391Z"
    }
   },
   "cell_type": "code",
   "source": [
    "fig, ax = plt.subplots()\n",
    "bar_width = 0.25\n",
    "bars = ax.bar(X_positions,exp_ratio_mean,yerr=exp_ratio_std, capsize=2.5,width=bar_width,label = 'exp')\n",
    "ax.plot(X_positions,rdm_ratio,'o-',color = 'orange',label = 'rdm')\n",
    "plt.legend()\n",
    "\n",
    "ax.legend().set_zorder(100)\n",
    "ax.legend().get_frame().set_alpha(0.0)\n",
    "\n",
    "text_y_position = 1.05 \n",
    "text_x_position = 2.91  \n",
    "\n",
    "ax.set_xticks(X_positions)\n",
    "ax.set_xticklabels(['Ti','V','Mn','Co'])\n",
    "ax.set_ylim(0.5, 3.5)\n",
    "ax.set_xlabel('Dopant')\n",
    "ax.set_ylabel('Multi-pair to pair dopants ratio')\n",
    "ax.set_title('The Ratio of Multi Pair Vac-Dopant to Paired Dopants Counts')\n",
    "\n",
    "plt.savefig('fig 3b Multi-pair dopants ratio.png',dpi = 700,transparent=True)"
   ],
   "id": "195369998a7034a8",
   "execution_count": 5,
   "outputs": []
  },
  {
   "metadata": {},
   "cell_type": "code",
   "execution_count": null,
   "source": "",
   "id": "f913a8f6ebbf2d68",
   "outputs": []
  }
 ],
 "metadata": {
  "kernelspec": {
   "display_name": "Python 3",
   "language": "python",
   "name": "python3"
  },
  "language_info": {
   "codemirror_mode": {
    "name": "ipython",
    "version": 2
   },
   "file_extension": ".py",
   "mimetype": "text/x-python",
   "name": "python",
   "nbconvert_exporter": "python",
   "pygments_lexer": "ipython2",
   "version": "2.7.6"
  }
 },
 "nbformat": 4,
 "nbformat_minor": 5
}
