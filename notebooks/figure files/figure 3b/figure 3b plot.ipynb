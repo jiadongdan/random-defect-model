{
 "cells": [
  {
   "cell_type": "code",
   "id": "initial_id",
   "metadata": {
    "collapsed": true,
    "ExecuteTime": {
     "end_time": "2024-09-09T13:29:23.035898Z",
     "start_time": "2024-09-09T13:29:23.021941Z"
    }
   },
   "source": [
    "import numpy as np\n",
    "import matplotlib.pyplot as plt\n",
    "%matplotlib qt"
   ],
   "outputs": [],
   "execution_count": 10
  },
  {
   "metadata": {
    "ExecuteTime": {
     "end_time": "2024-09-09T13:29:34.255689Z",
     "start_time": "2024-09-09T13:29:34.242681Z"
    }
   },
   "cell_type": "code",
   "source": [
    "exp_ratio_mean = np.load('fig 3b exp mean.npy')\n",
    "exp_ratio_std = np.load('fig 3b exp std.npy')\n",
    "rdm_ratio = np.load('3b rdm ratio.npy')\n",
    "X_positions = [1,1.5,2,2.5]"
   ],
   "id": "d6df3712978d9ce9",
   "outputs": [],
   "execution_count": 12
  },
  {
   "metadata": {
    "ExecuteTime": {
     "end_time": "2024-09-09T13:32:25.165023Z",
     "start_time": "2024-09-09T13:32:24.522087Z"
    }
   },
   "cell_type": "code",
   "source": [
    "fig, ax = plt.subplots()\n",
    "bar_width = 0.25\n",
    "bars = ax.bar(X_positions,exp_ratio_mean,yerr=exp_ratio_std, capsize=2.5,width=bar_width,label = 'exp')\n",
    "ax.plot(X_positions,rdm_ratio,'o-',color = 'orange',label = 'rdm')\n",
    "plt.legend()\n",
    "\n",
    "ax.legend().set_zorder(100)\n",
    "ax.legend().get_frame().set_alpha(0.0)\n",
    "\n",
    "text_y_position = 1.05 \n",
    "text_x_position = 2.91  \n",
    "\n",
    "ax.set_xticks(X_positions)\n",
    "ax.set_xticklabels(['Ti','V','Mn','Co'])\n",
    "ax.set_ylim(0.5, 3.5)\n",
    "ax.set_xlabel('Dopant')\n",
    "ax.set_ylabel('Multi-pair to pair dopants ratio')\n",
    "ax.set_title('The Ratio of Multi Pair Vac-Dopant to Paired Dopants Counts')\n",
    "\n",
    "plt.savefig('fig 3b Multi-pair dopants ratio.png',dpi = 700,transparent=True)"
   ],
   "id": "195369998a7034a8",
   "outputs": [],
   "execution_count": 15
  },
  {
   "metadata": {},
   "cell_type": "code",
   "execution_count": null,
   "source": "",
   "id": "f913a8f6ebbf2d68",
   "outputs": []
  }
 ],
 "metadata": {
  "kernelspec": {
   "display_name": "Python 3",
   "language": "python",
   "name": "python3"
  },
  "language_info": {
   "codemirror_mode": {
    "name": "ipython",
    "version": 2
   },
   "file_extension": ".py",
   "mimetype": "text/x-python",
   "name": "python",
   "nbconvert_exporter": "python",
   "pygments_lexer": "ipython2",
   "version": "2.7.6"
  }
 },
 "nbformat": 4,
 "nbformat_minor": 5
}
