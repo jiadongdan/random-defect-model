{
 "cells": [
  {
   "cell_type": "code",
   "id": "initial_id",
   "metadata": {
    "collapsed": true,
    "ExecuteTime": {
     "end_time": "2024-09-03T15:28:57.680994Z",
     "start_time": "2024-09-03T15:28:57.662848Z"
    }
   },
   "source": [
    "import numpy as np\n",
    "import matplotlib.pyplot as plt\n",
    "%matplotlib qt"
   ],
   "execution_count": 2,
   "outputs": []
  },
  {
   "metadata": {
    "ExecuteTime": {
     "end_time": "2024-09-03T15:37:33.768459Z",
     "start_time": "2024-09-03T15:37:33.755371Z"
    }
   },
   "cell_type": "code",
   "source": "X_positions = np.array([1,2,3,4])",
   "id": "61bce0be650548f1",
   "execution_count": 7,
   "outputs": []
  },
  {
   "metadata": {
    "ExecuteTime": {
     "end_time": "2024-09-03T15:29:46.369048Z",
     "start_time": "2024-09-03T15:29:46.356090Z"
    }
   },
   "cell_type": "code",
   "source": [
    "Ti_ratio_ary = np.load('Ti_ratio_ary.npy')\n",
    "V_ratio_ary = np.load('V_ratio_ary.npy')\n",
    "Mn_ratio_ary = np.load('Mn_ratio_ary.npy')\n",
    "Co_ratio_ary = np.load('Co_ratio_ary.npy')\n",
    "\n",
    "Ti_rdm_ary = np.load('Ti_rdm_ratio.npy')\n",
    "V_rdm_ary = np.load('V_rdm_ratio.npy')\n",
    "Mn_rdm_ary = np.load('Mn_rdm_ratio.npy')\n",
    "Co_rdm_ary = np.load('Co_rdm_ratio.npy')"
   ],
   "id": "dfb055b4844dc5a4",
   "execution_count": 3,
   "outputs": []
  },
  {
   "metadata": {
    "ExecuteTime": {
     "end_time": "2024-09-03T15:36:45.260598Z",
     "start_time": "2024-09-03T15:36:45.240659Z"
    }
   },
   "cell_type": "code",
   "source": [
    "exp_ratio = np.array([np.mean(Ti_ratio_ary),np.mean(V_ratio_ary),np.mean(Mn_ratio_ary),np.mean(Co_ratio_ary)])\n",
    "exp_std = np.array([np.std(Ti_ratio_ary),np.std(V_ratio_ary),np.std(Mn_ratio_ary),np.std(Co_ratio_ary)])\n",
    "\n",
    "rdm_ratio = np.array([np.mean(Ti_rdm_ary),np.mean(V_rdm_ary),np.mean(Mn_rdm_ary),np.mean(Co_rdm_ary)])\n",
    "rdm_std = np.array([np.std(Ti_rdm_ary),np.std(V_rdm_ary),np.std(Mn_rdm_ary),np.std(Co_rdm_ary)])"
   ],
   "id": "f42a1e1e204d8d2c",
   "execution_count": 5,
   "outputs": []
  },
  {
   "metadata": {
    "ExecuteTime": {
     "end_time": "2024-09-03T15:44:53.618936Z",
     "start_time": "2024-09-03T15:44:52.897491Z"
    }
   },
   "cell_type": "code",
   "source": [
    "fig, ax = plt.subplots()\n",
    "bar_width = 0.25\n",
    "bars_exp = ax.bar(X_positions-0.125, exp_ratio, yerr=exp_std, capsize=3,width=bar_width, label='exp', ecolor='black')\n",
    "bars_rdm = ax.bar(X_positions+0.125, rdm_ratio, yerr=rdm_std, capsize=3,width=bar_width, label='rdm', ecolor='red')\n",
    "\n",
    "ax.set_xticks(X_positions)\n",
    "\n",
    "ax.legend().set_zorder(100) \n",
    "ax.legend().get_frame().set_alpha(0.0)\n",
    "\n",
    "def add_labels(bars, values):\n",
    "    for bar, value in zip(bars, values):\n",
    "        height = bar.get_height()\n",
    "        formatted_value = '{:.2f}'.format(value)\n",
    "        ax.annotate(formatted_value,\n",
    "                    xy=(bar.get_x() + bar.get_width() / 2, height),\n",
    "                    xytext=(0, 3),\n",
    "                    textcoords=\"offset points\",\n",
    "                    ha='center', va='bottom')\n",
    "\n",
    "add_labels(bars_exp, exp_ratio)\n",
    "add_labels(bars_rdm, rdm_ratio)\n",
    "ax.set_xticklabels(['Ti','V','Mn','Co'])\n",
    "ax.set_ylim(0, 1.3)\n",
    "ax.set_xlabel('Dopant')\n",
    "ax.set_ylabel('Vac-Dopant pairs to total dopants ratio')\n",
    "ax.set_title('The Ratio of Vac-Dopant pairs to Total Dopants')\n",
    "plt.savefig('figure 2d Ratio of Vac-Dopant pairs to Total Dopants.png',dpi = 700,transparent=True)"
   ],
   "id": "dc2f22cf479c9f67",
   "execution_count": 16,
   "outputs": []
  },
  {
   "metadata": {},
   "cell_type": "code",
   "execution_count": null,
   "source": "",
   "id": "f913a8f6ebbf2d68",
   "outputs": []
  }
 ],
 "metadata": {
  "kernelspec": {
   "display_name": "Python 3",
   "language": "python",
   "name": "python3"
  },
  "language_info": {
   "codemirror_mode": {
    "name": "ipython",
    "version": 2
   },
   "file_extension": ".py",
   "mimetype": "text/x-python",
   "name": "python",
   "nbconvert_exporter": "python",
   "pygments_lexer": "ipython2",
   "version": "2.7.6"
  }
 },
 "nbformat": 4,
 "nbformat_minor": 5
}
