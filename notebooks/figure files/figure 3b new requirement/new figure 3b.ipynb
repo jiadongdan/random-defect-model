{
 "cells": [
  {
   "cell_type": "code",
   "id": "initial_id",
   "metadata": {
    "collapsed": true,
    "ExecuteTime": {
     "end_time": "2024-10-24T08:52:41.869664Z",
     "start_time": "2024-10-24T08:52:41.359499Z"
    }
   },
   "source": [
    "import numpy as np\n",
    "import matplotlib.pyplot as plt\n",
    "import matplotlib.colors as mc\n",
    "%matplotlib qt"
   ],
   "execution_count": 1,
   "outputs": []
  },
  {
   "metadata": {
    "ExecuteTime": {
     "end_time": "2024-10-24T08:52:41.885654Z",
     "start_time": "2024-10-24T08:52:41.870654Z"
    }
   },
   "cell_type": "code",
   "source": "categories = ['Ti', 'V', 'Mn', 'Co']",
   "id": "24cd889db7501e68",
   "execution_count": 2,
   "outputs": []
  },
  {
   "metadata": {
    "ExecuteTime": {
     "end_time": "2024-10-24T08:52:41.901238Z",
     "start_time": "2024-10-24T08:52:41.887239Z"
    }
   },
   "cell_type": "code",
   "source": "plt.style.use('default')",
   "id": "f50c53e46340ff19",
   "execution_count": 3,
   "outputs": []
  },
  {
   "metadata": {
    "ExecuteTime": {
     "end_time": "2024-10-24T08:52:41.916241Z",
     "start_time": "2024-10-24T08:52:41.903240Z"
    }
   },
   "cell_type": "code",
   "source": "mc.to_rgb('C0')",
   "id": "24d34bf21bf1f211",
   "execution_count": 4,
   "outputs": []
  },
  {
   "metadata": {
    "ExecuteTime": {
     "end_time": "2024-10-24T09:00:55.801012Z",
     "start_time": "2024-10-24T09:00:55.331668Z"
    }
   },
   "cell_type": "code",
   "source": [
    "# Sample data\n",
    "#C0: un-paried\n",
    "#c1:V1,C2:V2,C3:V1+V1,C4:V2+v1,C5:v1+v1+v1,C6:V2+V2+V1\n",
    "values1 = [3, 5, 1, 1]#C1,C2,C3,C6\n",
    "colors1 = [mc.to_rgb('C1'),mc.to_rgb('C2'),mc.to_rgb('C3'),mc.to_rgb('C6')]\n",
    "values2 = [6,10, 4, 1, 1,1]#C0,C1,C2,C3,C4,C5\n",
    "colors2 = [mc.to_rgb('C0'),mc.to_rgb('C1'),mc.to_rgb('C2'),mc.to_rgb('C3'),mc.to_rgb('C4'),mc.to_rgb('C5')]\n",
    "values3 = [1,4,1]#c0,C1,C3\n",
    "colors3 = [mc.to_rgb('C0'),mc.to_rgb('C1'),mc.to_rgb('C3')]\n",
    "values4 = [3,7,2,1]#C0,C1,C2,C3\n",
    "colors4 = [mc.to_rgb('C0'),mc.to_rgb('C1'),mc.to_rgb('C2'),mc.to_rgb('C3')]\n",
    "\n",
    "# Number of categories\n",
    "n_categories = len(categories)\n",
    "\n",
    "# The position of the bars on the x-axis\n",
    "x = np.arange(n_categories)\n",
    "\n",
    "# Width of the bars\n",
    "bar_width = 0.1\n",
    "\n",
    "# Creating the figure and the axes\n",
    "fig, ax = plt.subplots(figsize=(10,7))\n",
    "\n",
    "# Plotting each set of bars\n",
    "ax.bar([-0.21,-0.07,0.07,0.21],values1,bar_width,color=colors1)\n",
    "ax.bar([0.65,0.79,0.93,1.07,1.21,1.35],values2,bar_width,color=colors2)\n",
    "ax.bar([1.93-0.07,2,2.14],values3,bar_width,color=colors3)\n",
    "ax.bar([2.79,2.93,3.07,3.21],values4,bar_width,color=colors4)\n",
    "\n",
    "# Adding labels and title\n",
    "# ax.set_xlabel('Categories')\n",
    "ax.set_ylabel('Counts')\n",
    "# ax.set_title('Multibar Plot Example with Four Sets')\n",
    "ax.set_xticks(x)\n",
    "ax.set_xticklabels(categories)\n",
    "\n",
    "# Adding legend\n",
    "# ax.legend()\n",
    "\n",
    "# Display the plot\n",
    "plt.savefig('new figure 3b.png',dpi = 500)"
   ],
   "id": "8f5304d85d84fad9",
   "execution_count": 10,
   "outputs": []
  },
  {
   "metadata": {
    "ExecuteTime": {
     "end_time": "2024-10-24T09:00:49.792971Z",
     "start_time": "2024-10-24T09:00:49.246465Z"
    }
   },
   "cell_type": "code",
   "source": [
    "values5 = [1, 2, 3, 4,5,6,7]\n",
    "bar_width = 0.1\n",
    "colors5 = [mc.to_rgb('C0'),mc.to_rgb('C1'),mc.to_rgb('C2'),mc.to_rgb('C3'),mc.to_rgb('C4'),mc.to_rgb('C5'),mc.to_rgb('C6')]\n",
    "labels = [r\"D-$Se_2$\",r\"D-V$_{Se}$\",r\"D-V$_{Se_2}$\",r\"D-V$_{Se}$-V$_{Se}$\",r\"D-V$_{Se_2}$-V$_{Se}$\",r\"D-V$_{Se}$-V$_{Se}$-V$_{Se}$\",r\"D-V$_{Se_2}$-V$_{Se_2}$-V$_{Se}$\"]\n",
    "fig, ax = plt.subplots(figsize=(10,7))\n",
    "for i in range(len(values5)):\n",
    "    ax.bar(i,values5[i],bar_width,color = colors5[i],label = labels[i])\n",
    "ax.legend().get_frame().set_alpha(0.0)\n",
    "plt.savefig('legend.png',dpi = 500,transparent = True)"
   ],
   "id": "d629f4b36db5670e",
   "execution_count": 9,
   "outputs": []
  },
  {
   "metadata": {},
   "cell_type": "code",
   "execution_count": null,
   "source": "",
   "id": "334a921941f007b6",
   "outputs": []
  }
 ],
 "metadata": {
  "kernelspec": {
   "display_name": "Python 3",
   "language": "python",
   "name": "python3"
  },
  "language_info": {
   "codemirror_mode": {
    "name": "ipython",
    "version": 2
   },
   "file_extension": ".py",
   "mimetype": "text/x-python",
   "name": "python",
   "nbconvert_exporter": "python",
   "pygments_lexer": "ipython2",
   "version": "2.7.6"
  }
 },
 "nbformat": 4,
 "nbformat_minor": 5
}
