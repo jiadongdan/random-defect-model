{
 "cells": [
  {
   "cell_type": "code",
   "id": "initial_id",
   "metadata": {
    "collapsed": true,
    "ExecuteTime": {
     "end_time": "2024-09-21T08:49:46.882085Z",
     "start_time": "2024-09-21T08:49:46.870052Z"
    }
   },
   "source": [
    "import numpy as np\n",
    "import matplotlib.pyplot as plt\n",
    "import matplotlib.colors as mc\n",
    "%matplotlib qt"
   ],
   "execution_count": 7,
   "outputs": []
  },
  {
   "metadata": {
    "ExecuteTime": {
     "end_time": "2024-09-21T08:49:56.091158Z",
     "start_time": "2024-09-21T08:49:56.076209Z"
    }
   },
   "cell_type": "code",
   "source": "categories = ['Ti', 'V', 'Mn', 'Co']",
   "id": "24cd889db7501e68",
   "execution_count": 8,
   "outputs": []
  },
  {
   "metadata": {
    "ExecuteTime": {
     "end_time": "2024-09-21T08:50:02.514162Z",
     "start_time": "2024-09-21T08:50:02.507186Z"
    }
   },
   "cell_type": "code",
   "source": "plt.style.use('default')",
   "id": "f50c53e46340ff19",
   "execution_count": 9,
   "outputs": []
  },
  {
   "metadata": {
    "ExecuteTime": {
     "end_time": "2024-09-21T08:50:14.701622Z",
     "start_time": "2024-09-21T08:50:14.692652Z"
    }
   },
   "cell_type": "code",
   "source": "mc.to_rgb('C0')",
   "id": "24d34bf21bf1f211",
   "execution_count": 11,
   "outputs": []
  },
  {
   "metadata": {},
   "cell_type": "code",
   "execution_count": null,
   "source": "0",
   "id": "555395659890323a",
   "outputs": []
  },
  {
   "metadata": {
    "ExecuteTime": {
     "end_time": "2024-09-21T09:21:59.586497Z",
     "start_time": "2024-09-21T09:21:59.063868Z"
    }
   },
   "cell_type": "code",
   "source": [
    "# Sample data\n",
    "#c0:V1,C1:V2,C2:V1+V1,C3:V2+v1,C4:v1+v1+v1,C5:V2+V2+V1\n",
    "values1 = [3, 5, 1, 1]#C0,C1,C2,C5\n",
    "colors1 = [mc.to_rgb('C0'),mc.to_rgb('C1'),mc.to_rgb('C2'),mc.to_rgb('C5')]\n",
    "values2 = [10, 4, 1, 1,1]#C0,C1,C2,C3,C4\n",
    "colors2 = [mc.to_rgb('C0'),mc.to_rgb('C1'),mc.to_rgb('C2'),mc.to_rgb('C3'),mc.to_rgb('C4')]\n",
    "values3 = [4,1]#C0,C2\n",
    "colors3 = [mc.to_rgb('C0'),mc.to_rgb('C2')]\n",
    "values4 = [7,2,1]#C0,C1,C2\n",
    "colors4 = [mc.to_rgb('C0'),mc.to_rgb('C1'),mc.to_rgb('C2')]\n",
    "\n",
    "# Number of categories\n",
    "n_categories = len(categories)\n",
    "\n",
    "# The position of the bars on the x-axis\n",
    "x = np.arange(n_categories)\n",
    "\n",
    "# Width of the bars\n",
    "bar_width = 0.1\n",
    "\n",
    "# Creating the figure and the axes\n",
    "fig, ax = plt.subplots(figsize=(10,7))\n",
    "\n",
    "# Plotting each set of bars\n",
    "ax.bar([-0.21,-0.07,0.07,0.21],values1,bar_width,color=colors1)\n",
    "ax.bar([0.72,0.86,1,1.14,1.28],values2,bar_width,color=colors2)\n",
    "ax.bar([1.93,2.07],values3,bar_width,color=colors3)\n",
    "ax.bar([2.86,3,3.14],values4,bar_width,color=colors4)\n",
    "\n",
    "# Adding labels and title\n",
    "# ax.set_xlabel('Categories')\n",
    "ax.set_ylabel('Counts')\n",
    "# ax.set_title('Multibar Plot Example with Four Sets')\n",
    "ax.set_xticks(x)\n",
    "ax.set_xticklabels(categories)\n",
    "\n",
    "# Adding legend\n",
    "# ax.legend()\n",
    "\n",
    "# Display the plot\n",
    "plt.savefig('new figure 3b.png',dpi = 500)"
   ],
   "id": "8f5304d85d84fad9",
   "execution_count": 34,
   "outputs": []
  },
  {
   "metadata": {
    "ExecuteTime": {
     "end_time": "2024-09-21T09:24:27.346415Z",
     "start_time": "2024-09-21T09:24:26.772331Z"
    }
   },
   "cell_type": "code",
   "source": [
    "values5 = [1, 2, 3, 4,5,6]\n",
    "bar_width = 0.1\n",
    "colors5 = [mc.to_rgb('C0'),mc.to_rgb('C1'),mc.to_rgb('C2'),mc.to_rgb('C3'),mc.to_rgb('C4'),mc.to_rgb('C5'),mc.to_rgb('C6')]\n",
    "labels = [r\"D-V$_{Se}$\",r\"D-V$_{Se_2}$\",r\"D-V$_{Se}$-V$_{Se}$\",r\"D-V$_{Se_2}$-V$_{Se}$\",r\"D-V$_{Se}$-V$_{Se}$-V$_{Se}$\",r\"D-V$_{Se_2}$-V$_{Se_2}$-V$_{Se}$\"]\n",
    "fig, ax = plt.subplots(figsize=(10,7))\n",
    "for i in range(len(values5)):\n",
    "    ax.bar(i,values5[i],bar_width,color = colors5[i],label = labels[i])\n",
    "ax.legend().get_frame().set_alpha(0.0)\n",
    "plt.savefig('legend.png',dpi = 500,transparent = True)"
   ],
   "id": "d629f4b36db5670e",
   "execution_count": 36,
   "outputs": []
  },
  {
   "metadata": {},
   "cell_type": "code",
   "execution_count": null,
   "source": "",
   "id": "334a921941f007b6",
   "outputs": []
  }
 ],
 "metadata": {
  "kernelspec": {
   "display_name": "Python 3",
   "language": "python",
   "name": "python3"
  },
  "language_info": {
   "codemirror_mode": {
    "name": "ipython",
    "version": 2
   },
   "file_extension": ".py",
   "mimetype": "text/x-python",
   "name": "python",
   "nbconvert_exporter": "python",
   "pygments_lexer": "ipython2",
   "version": "2.7.6"
  }
 },
 "nbformat": 4,
 "nbformat_minor": 5
}
