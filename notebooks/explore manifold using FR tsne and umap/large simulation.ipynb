{
 "cells": [
  {
   "metadata": {
    "ExecuteTime": {
     "end_time": "2024-09-28T12:47:16.882321Z",
     "start_time": "2024-09-28T12:47:16.870361Z"
    }
   },
   "cell_type": "code",
   "source": [
    "import numpy as np\n",
    "from ase import Atoms\n",
    "from stemplot.interactive import imshow\n",
    "from mtflearn.io import load_image\n",
    "from skimage.transform import rotate\n",
    "%matplotlib qt"
   ],
   "id": "69b43e0d792810cf",
   "outputs": [],
   "execution_count": 81
  },
  {
   "cell_type": "code",
   "id": "initial_id",
   "metadata": {
    "collapsed": true,
    "ExecuteTime": {
     "end_time": "2024-09-28T11:56:54.003334Z",
     "start_time": "2024-09-28T11:56:51.327241Z"
    }
   },
   "source": [
    "def get_a_thickness(formula):\n",
    "    a_thickness_dict = {\n",
    "        'TiS2': (3.35, 3.011),\n",
    "        'VS2': (3.19, 2.962),\n",
    "        'NbS2': (3.37, 3.397),\n",
    "        'NbSe2': (3.5, 3.343),\n",
    "        'MoS2': (3.19, 3.128),\n",
    "        'MoSe2': (3.32, 3.31),\n",
    "        'MoTe2': (3.57, 3.579),\n",
    "        'TaS2': (3.34, 3.099),\n",
    "        'TaSe2': (3.47, 3.331),\n",
    "        'WS2': (3.18, 3.12),\n",
    "        'WSe2': (3.32, 3.324),\n",
    "        'WTe2': (3.56, 3.578),\n",
    "        'ReSe2': (3.47, 3.1)\n",
    "    }\n",
    "    try:\n",
    "        a, t = a_thickness_dict[formula]\n",
    "    except:\n",
    "        a, t = 3.19, 3.128\n",
    "    return a, t\n",
    "\n",
    "\n",
    "def mx2_unit(formula='MoS2', size=(1, 1, 1), vacuum=2):\n",
    "    # get a and thickness according to formula\n",
    "    a, thickness = get_a_thickness(formula)\n",
    "\n",
    "    basis = [(0, 0, 0),\n",
    "             (2 / 3, 1 / 3, 0.5 * thickness),\n",
    "             (2 / 3, 1 / 3, -0.5 * thickness)]\n",
    "    cell = [[a, 0, 0], [-a / 2, a * 3 ** 0.5 / 2, 0], [0, 0, 0]]\n",
    "\n",
    "    atoms = Atoms(formula, cell=cell, pbc=(1, 1, 0))\n",
    "    atoms.set_scaled_positions(basis)\n",
    "    if vacuum is not None:\n",
    "        atoms.center(vacuum, axis=2)\n",
    "    atoms = atoms.repeat(size)\n",
    "    return atoms\n",
    "\n",
    "\n",
    "def make_it_orhto(atoms):\n",
    "    cell_ = atoms.cell.copy()\n",
    "    a, b, c = atoms.cell\n",
    "    cell_[1] = [0., b[1], 0.]\n",
    "\n",
    "    atoms.set_cell(cell_)\n",
    "    atoms.wrap()\n",
    "    atoms.center()\n",
    "    return atoms"
   ],
   "outputs": [],
   "execution_count": 1
  },
  {
   "metadata": {
    "ExecuteTime": {
     "end_time": "2024-09-28T11:57:54.064140Z",
     "start_time": "2024-09-28T11:57:54.047195Z"
    }
   },
   "cell_type": "code",
   "source": [
    "import abtem\n",
    "\n",
    "def run_adf(atoms, energy=80, semiangle_cutoff=30, inner=70, outer=200,\n",
    "            sampling=0.05, sampling_scan = None,focal_spread = False,nyquist_sampling_ratio = 0.5,\n",
    "            laadf = True,laadf_inner = 50,laadf_outer = 120):\n",
    "    # potential\n",
    "    potential = abtem.Potential(atoms, sampling=sampling)\n",
    "    energy = energy*1000\n",
    "    if focal_spread:\n",
    "        defocus_distribution = abtem.distributions.gaussian(\n",
    "            center=0.0,\n",
    "            standard_deviation=20,\n",
    "            num_samples=11,\n",
    "            sampling_limit=2,\n",
    "            ensemble_mean=False,\n",
    "        )\n",
    "        probe = abtem.Probe(energy=energy, semiangle_cutoff=semiangle_cutoff,defocus=defocus_distribution)\n",
    "    else:\n",
    "        probe = abtem.Probe(energy=energy, semiangle_cutoff=semiangle_cutoff)\n",
    "\n",
    "    # probe\n",
    "    #     probe = abtem.Probe(energy=energy, semiangle_cutoff=semiangle_cutoff,defocus=defocus_distribution)\n",
    "    probe.grid.match(potential)\n",
    "    cutoff_angle = min(probe.cutoff_angles)\n",
    "    assert cutoff_angle > outer, 'probe cutoff angle is {}, and is smaller than detector outer angle {}.'.format(cutoff_angle, outer)\n",
    "\n",
    "    # detector\n",
    "    detector_haadf = abtem.AnnularDetector(inner=inner, outer=outer)\n",
    "    detector_laadf = abtem.AnnularDetector(inner=laadf_inner,outer=laadf_outer)\n",
    "    #     scan: interaction bwtween probe and potential\n",
    "    if sampling_scan is None:\n",
    "        sampling_scan = probe.aperture.nyquist_sampling * nyquist_sampling_ratio\n",
    "\n",
    "    if laadf:\n",
    "        all_detectors = [detector_laadf,detector_haadf]\n",
    "    else:\n",
    "        all_detectors = [detector_haadf]\n",
    "    print(sampling_scan)\n",
    "    grid_scan = abtem.GridScan(\n",
    "        start=[0, 0],\n",
    "        end=[1, 1],\n",
    "        sampling=[sampling_scan, sampling_scan],\n",
    "        fractional=True,\n",
    "        potential=potential,)\n",
    "    measurements = probe.scan(potential, detectors=all_detectors, scan=grid_scan).compute()\n",
    "    return measurements"
   ],
   "id": "22a040b9ab47484b",
   "outputs": [],
   "execution_count": 3
  },
  {
   "metadata": {
    "ExecuteTime": {
     "end_time": "2024-09-28T12:38:51.986661Z",
     "start_time": "2024-09-28T12:38:51.973705Z"
    }
   },
   "cell_type": "code",
   "source": [
    "def concatenate_images(images, n, m):\n",
    "    num_images, height, width = images.shape\n",
    "    if n * m > num_images:\n",
    "        raise ValueError(\"The product of n and m is larger than the number of images.\")\n",
    "\n",
    "    large_image = np.zeros((height * m, width * n), dtype=images.dtype)\n",
    "\n",
    "    for i in range(m):\n",
    "        for j in range(n):\n",
    "            index = i * n + j\n",
    "            if index < num_images:\n",
    "                row_start = i * height\n",
    "                row_end = row_start + height\n",
    "                col_start = j * width\n",
    "                col_end = col_start + width\n",
    "\n",
    "                large_image[row_start:row_end, col_start:col_end] = images[index]\n",
    "\n",
    "    return large_image"
   ],
   "id": "f5a434e46adb466a",
   "outputs": [],
   "execution_count": 25
  },
  {
   "metadata": {
    "ExecuteTime": {
     "end_time": "2024-09-28T12:58:42.864898Z",
     "start_time": "2024-09-28T12:58:42.851933Z"
    }
   },
   "cell_type": "code",
   "source": [
    "def crop_image(image, size):\n",
    "    height, width = image.shape\n",
    "\n",
    "    start_y = (height - size) // 2\n",
    "    start_x = (width - size) // 2\n",
    "\n",
    "    cropped_image = image[start_y:start_y + size, start_x:start_x + size]\n",
    "\n",
    "    return cropped_image"
   ],
   "id": "b37935119061227d",
   "outputs": [],
   "execution_count": 88
  },
  {
   "metadata": {
    "ExecuteTime": {
     "end_time": "2024-09-28T11:57:35.568091Z",
     "start_time": "2024-09-28T11:57:35.526231Z"
    }
   },
   "cell_type": "code",
   "source": [
    "formula = 'WSe2'\n",
    "energy = 80\n",
    "structure = mx2_unit(formula,size = (1,2,1))\n",
    "structure = make_it_orhto(structure)"
   ],
   "id": "44c6fab8c73003e9",
   "outputs": [],
   "execution_count": 2
  },
  {
   "metadata": {
    "ExecuteTime": {
     "end_time": "2024-09-28T12:15:20.306925Z",
     "start_time": "2024-09-28T12:15:20.300946Z"
    }
   },
   "cell_type": "code",
   "source": "sampling = 0.194966 #Angstrom/pixel",
   "id": "765421857287bb38",
   "outputs": [],
   "execution_count": 5
  },
  {
   "metadata": {
    "ExecuteTime": {
     "end_time": "2024-09-28T12:43:37.122730Z",
     "start_time": "2024-09-28T12:43:34.358978Z"
    }
   },
   "cell_type": "code",
   "source": "haadf = run_adf(atoms = structure, energy = energy,laadf = False, sampling_scan = sampling)",
   "id": "111bad9371b545c0",
   "outputs": [
    {
     "name": "stdout",
     "output_type": "stream",
     "text": [
      "0.194966\n",
      "[########################################] | 100% Completed | 2.73 sms\n"
     ]
    }
   ],
   "execution_count": 65
  },
  {
   "metadata": {
    "ExecuteTime": {
     "end_time": "2024-09-28T12:55:29.861541Z",
     "start_time": "2024-09-28T12:55:29.422735Z"
    }
   },
   "cell_type": "code",
   "source": [
    "g_haadf = haadf.gaussian_filter(0.45)\n",
    "p_haadf = g_haadf.poisson_noise(dose_per_area=1e4,samples = 5000)"
   ],
   "id": "fdedaa1e7c10a0",
   "outputs": [],
   "execution_count": 84
  },
  {
   "metadata": {
    "ExecuteTime": {
     "end_time": "2024-09-28T12:55:30.449899Z",
     "start_time": "2024-09-28T12:55:30.444908Z"
    }
   },
   "cell_type": "code",
   "source": "p_haadf_img = p_haadf.array",
   "id": "a6f7e999b87854a4",
   "outputs": [],
   "execution_count": 85
  },
  {
   "metadata": {
    "ExecuteTime": {
     "end_time": "2024-09-28T12:55:31.210008Z",
     "start_time": "2024-09-28T12:55:31.122306Z"
    }
   },
   "cell_type": "code",
   "source": [
    "l_img = concatenate_images(p_haadf_img, 60,75)\n",
    "imshow(l_img)"
   ],
   "id": "be9bb0a8fe02ad8d",
   "outputs": [
    {
     "data": {
      "text/plain": [
       "<matplotlib.image.AxesImage at 0x173d756b550>"
      ]
     },
     "execution_count": 86,
     "metadata": {},
     "output_type": "execute_result"
    }
   ],
   "execution_count": 86
  },
  {
   "metadata": {
    "ExecuteTime": {
     "end_time": "2024-09-28T12:59:47.063662Z",
     "start_time": "2024-09-28T12:59:46.974671Z"
    }
   },
   "cell_type": "code",
   "source": [
    "r_img = rotate(l_img,angle = -12)\n",
    "# imshow(r_img)"
   ],
   "id": "21fe964690de0b87",
   "outputs": [],
   "execution_count": 94
  },
  {
   "metadata": {
    "ExecuteTime": {
     "end_time": "2024-09-28T12:59:48.019050Z",
     "start_time": "2024-09-28T12:59:47.957249Z"
    }
   },
   "cell_type": "code",
   "source": [
    "c_img = crop_image(r_img,1024)\n",
    "imshow(c_img)"
   ],
   "id": "faacc20cf1b18c05",
   "outputs": [
    {
     "data": {
      "text/plain": [
       "<matplotlib.image.AxesImage at 0x173d73affa0>"
      ]
     },
     "execution_count": 95,
     "metadata": {},
     "output_type": "execute_result"
    }
   ],
   "execution_count": 95
  },
  {
   "metadata": {
    "ExecuteTime": {
     "end_time": "2024-09-28T13:00:49.797263Z",
     "start_time": "2024-09-28T13:00:49.745436Z"
    }
   },
   "cell_type": "code",
   "source": "np.save('croped simu image.npy',c_img)",
   "id": "5edbb2d40850331b",
   "outputs": [],
   "execution_count": 97
  },
  {
   "metadata": {
    "ExecuteTime": {
     "end_time": "2024-09-28T12:45:55.872900Z",
     "start_time": "2024-09-28T12:45:55.753301Z"
    }
   },
   "cell_type": "code",
   "source": "exp_img = load_image('ADF2_27.dm4')",
   "id": "fb4b09adf16fe180",
   "outputs": [],
   "execution_count": 79
  },
  {
   "metadata": {
    "ExecuteTime": {
     "end_time": "2024-09-28T12:59:54.154629Z",
     "start_time": "2024-09-28T12:59:54.096770Z"
    }
   },
   "cell_type": "code",
   "source": "imshow(exp_img)",
   "id": "65ac8aa559fe883c",
   "outputs": [
    {
     "data": {
      "text/plain": [
       "<matplotlib.image.AxesImage at 0x173d742dae0>"
      ]
     },
     "execution_count": 96,
     "metadata": {},
     "output_type": "execute_result"
    }
   ],
   "execution_count": 96
  },
  {
   "metadata": {
    "ExecuteTime": {
     "end_time": "2024-09-28T13:03:05.358810Z",
     "start_time": "2024-09-28T13:03:03.642303Z"
    }
   },
   "cell_type": "code",
   "source": [
    "import matplotlib.pyplot as plt\n",
    "fig,ax = plt.subplots(1,2,figsize = (50,20))\n",
    "ax[0].imshow(c_img)\n",
    "ax[1].imshow(exp_img)\n",
    "ax[0].axis('off')\n",
    "ax[1].axis('off')\n",
    "plt.savefig('simu and exp.jpg',dpi = 500,transparent=True)"
   ],
   "id": "813b20d86b298195",
   "outputs": [],
   "execution_count": 103
  },
  {
   "metadata": {},
   "cell_type": "code",
   "outputs": [],
   "execution_count": null,
   "source": "",
   "id": "bed0b0c7dedc3a27"
  }
 ],
 "metadata": {
  "kernelspec": {
   "display_name": "Python 3",
   "language": "python",
   "name": "python3"
  },
  "language_info": {
   "codemirror_mode": {
    "name": "ipython",
    "version": 2
   },
   "file_extension": ".py",
   "mimetype": "text/x-python",
   "name": "python",
   "nbconvert_exporter": "python",
   "pygments_lexer": "ipython2",
   "version": "2.7.6"
  }
 },
 "nbformat": 4,
 "nbformat_minor": 5
}
