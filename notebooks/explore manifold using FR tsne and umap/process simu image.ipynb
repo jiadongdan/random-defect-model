{
 "cells": [
  {
   "cell_type": "code",
   "id": "initial_id",
   "metadata": {
    "collapsed": true,
    "ExecuteTime": {
     "end_time": "2024-09-28T13:13:41.380623Z",
     "start_time": "2024-09-28T13:13:41.367660Z"
    }
   },
   "source": [
    "import numpy as np\n",
    "%matplotlib qt\n",
    "import matplotlib.pyplot as plt"
   ],
   "outputs": [],
   "execution_count": 6
  },
  {
   "metadata": {
    "ExecuteTime": {
     "end_time": "2024-09-28T13:38:18.279695Z",
     "start_time": "2024-09-28T13:38:18.266144Z"
    }
   },
   "cell_type": "code",
   "source": [
    "from mtflearn.io import load_image\n",
    "from mtflearn.utils import normalize_image\n",
    "from mtflearn.features import ZPs, get_characteristic_length, local_max, KeyPoints\n",
    "from mtflearn.denoise import denoise_svd\n",
    "from mtflearn.clustering import gmm_lbs\n",
    "\n",
    "\n",
    "from stemplot.utils import  plot_pca\n",
    "from stemplot import imshow, colors_from_lbs\n",
    "\n",
    "from sklearn.manifold import TSNE as tsne\n",
    "from sklearn.neighbors import NearestNeighbors"
   ],
   "id": "31bdfa1caa0512f7",
   "outputs": [],
   "execution_count": 72
  },
  {
   "metadata": {
    "ExecuteTime": {
     "end_time": "2024-09-28T13:34:03.840727Z",
     "start_time": "2024-09-28T13:34:03.820793Z"
    }
   },
   "cell_type": "code",
   "source": [
    "simu_img = np.load('croped simu image.npy')\n",
    "img1 = normalize_image(simu_img, 0, 1)"
   ],
   "id": "74356da0f23a6e7e",
   "outputs": [],
   "execution_count": 43
  },
  {
   "metadata": {
    "ExecuteTime": {
     "end_time": "2024-09-28T13:34:04.367270Z",
     "start_time": "2024-09-28T13:34:04.168594Z"
    }
   },
   "cell_type": "code",
   "source": "get_characteristic_length(img1)",
   "id": "1ae772c3584d3752",
   "outputs": [
    {
     "data": {
      "text/plain": [
       "18"
      ]
     },
     "execution_count": 44,
     "metadata": {},
     "output_type": "execute_result"
    }
   ],
   "execution_count": 44
  },
  {
   "metadata": {
    "ExecuteTime": {
     "end_time": "2024-09-28T13:34:07.787105Z",
     "start_time": "2024-09-28T13:34:04.543625Z"
    }
   },
   "cell_type": "code",
   "source": [
    "n_components = 64\n",
    "patch_size = 64\n",
    "extraction_step = 4\n",
    "imgf = denoise_svd(img1, n_components, patch_size, extraction_step)"
   ],
   "id": "769a745d00526d18",
   "outputs": [
    {
     "name": "stdout",
     "output_type": "stream",
     "text": [
      "Extracting reference patches...\n",
      "done in 0.23s.\n",
      "Singular value decomposition...\n",
      "done in 1.82s.\n",
      "Reconstructing...\n",
      "done in 1.02s.\n"
     ]
    }
   ],
   "execution_count": 45
  },
  {
   "metadata": {
    "ExecuteTime": {
     "end_time": "2024-09-28T13:34:07.892292Z",
     "start_time": "2024-09-28T13:34:07.789098Z"
    }
   },
   "cell_type": "code",
   "source": [
    "threshold = 0.05\n",
    "pts = local_max(imgf, min_distance=2, threshold=threshold)"
   ],
   "id": "ce1b2fc13728be68",
   "outputs": [],
   "execution_count": 46
  },
  {
   "metadata": {
    "ExecuteTime": {
     "end_time": "2024-09-28T13:34:07.967042Z",
     "start_time": "2024-09-28T13:34:07.957082Z"
    }
   },
   "cell_type": "code",
   "source": "size = int(18*np.sqrt(3))",
   "id": "847b811e9dfecf93",
   "outputs": [],
   "execution_count": 47
  },
  {
   "metadata": {
    "ExecuteTime": {
     "end_time": "2024-09-28T13:34:07.996892Z",
     "start_time": "2024-09-28T13:34:07.968031Z"
    }
   },
   "cell_type": "code",
   "source": [
    "kp1 = KeyPoints(pts, img1, size)\n",
    "ps1 = kp1.extract_patches(size)"
   ],
   "id": "6ca546b687e1ec96",
   "outputs": [],
   "execution_count": 48
  },
  {
   "metadata": {
    "ExecuteTime": {
     "end_time": "2024-09-28T13:34:08.042160Z",
     "start_time": "2024-09-28T13:34:08.000896Z"
    }
   },
   "cell_type": "code",
   "source": [
    "zps = ZPs(n_max=10, size=ps1.shape[1])\n",
    "zm1 = zps.fit_transform(ps1)\n",
    "X1 = zm1.data\n",
    "X = np.hstack([X1])"
   ],
   "id": "c09528ffcadeec17",
   "outputs": [],
   "execution_count": 49
  },
  {
   "metadata": {
    "ExecuteTime": {
     "end_time": "2024-09-28T13:34:08.132812Z",
     "start_time": "2024-09-28T13:34:08.043112Z"
    }
   },
   "cell_type": "code",
   "source": "plot_pca(X, 2)",
   "id": "8cdbc5cd9a801eb9",
   "outputs": [],
   "execution_count": 50
  },
  {
   "metadata": {
    "ExecuteTime": {
     "end_time": "2024-09-28T13:34:08.268692Z",
     "start_time": "2024-09-28T13:34:08.168693Z"
    }
   },
   "cell_type": "code",
   "source": "lbs = gmm_lbs(X1, 2)",
   "id": "a2a7b196df1ebc12",
   "outputs": [],
   "execution_count": 51
  },
  {
   "metadata": {
    "ExecuteTime": {
     "end_time": "2024-09-28T13:34:08.390292Z",
     "start_time": "2024-09-28T13:34:08.270693Z"
    }
   },
   "cell_type": "code",
   "source": "plot_pca(X, 2, lbs=lbs)",
   "id": "589f41f1ddb9a911",
   "outputs": [],
   "execution_count": 52
  },
  {
   "metadata": {
    "ExecuteTime": {
     "end_time": "2024-09-28T13:34:08.539874Z",
     "start_time": "2024-09-28T13:34:08.475009Z"
    }
   },
   "cell_type": "code",
   "source": [
    "fig, ax = plt.subplots(1, 1, figsize=(7.2, 7.2))\n",
    "ax.imshow(img1, cmap='gray')\n",
    "ax.scatter(kp1.pts[:, 0], kp1.pts[:, 1], color=colors_from_lbs(lbs), s=10)"
   ],
   "id": "9d1e197fdb81f937",
   "outputs": [
    {
     "data": {
      "text/plain": [
       "<matplotlib.collections.PathCollection at 0x191ca046d40>"
      ]
     },
     "execution_count": 53,
     "metadata": {},
     "output_type": "execute_result"
    }
   ],
   "execution_count": 53
  },
  {
   "metadata": {
    "ExecuteTime": {
     "end_time": "2024-09-28T13:34:08.827397Z",
     "start_time": "2024-09-28T13:34:08.784173Z"
    }
   },
   "cell_type": "code",
   "source": [
    "pts1 = kp1.pts[lbs != 2]\n",
    "kp1 = KeyPoints(pts1, img1, size)\n",
    "ps1 = kp1.extract_patches(size)\n",
    "\n",
    "zps = ZPs(n_max=10, size=ps1.shape[1])\n",
    "zm1 = zps.fit_transform(ps1)\n",
    "X1 = zm1.data\n",
    "\n",
    "X = np.hstack([X1])"
   ],
   "id": "b5b127d5eaa24f7d",
   "outputs": [],
   "execution_count": 54
  },
  {
   "metadata": {
    "ExecuteTime": {
     "end_time": "2024-09-28T13:34:09.219878Z",
     "start_time": "2024-09-28T13:34:09.199947Z"
    }
   },
   "cell_type": "code",
   "source": [
    "X11 = X[lbs==0]\n",
    "X22 = X[lbs==1]"
   ],
   "id": "d7ffcfdb1f30cf91",
   "outputs": [],
   "execution_count": 55
  },
  {
   "metadata": {
    "ExecuteTime": {
     "end_time": "2024-09-28T13:34:09.673751Z",
     "start_time": "2024-09-28T13:34:09.608973Z"
    }
   },
   "cell_type": "code",
   "source": "plot_pca(X22, 2, s=3)",
   "id": "f74eee6fb0a1f8a4",
   "outputs": [],
   "execution_count": 56
  },
  {
   "metadata": {
    "ExecuteTime": {
     "end_time": "2024-09-28T13:34:10.036070Z",
     "start_time": "2024-09-28T13:34:10.013105Z"
    }
   },
   "cell_type": "code",
   "source": [
    "if ps1[lbs==0].mean(axis=0)[size//2, size//2] > ps1[lbs==1].mean(axis=0)[size//2, size//2]:\n",
    "    lbs_selected = 1\n",
    "else:\n",
    "    lbs_selected = 0\n",
    "\n",
    "print(lbs_selected)"
   ],
   "id": "9123f5b13d618c6d",
   "outputs": [
    {
     "name": "stdout",
     "output_type": "stream",
     "text": [
      "0\n"
     ]
    }
   ],
   "execution_count": 57
  },
  {
   "metadata": {
    "ExecuteTime": {
     "end_time": "2024-09-28T13:34:10.463097Z",
     "start_time": "2024-09-28T13:34:10.445150Z"
    }
   },
   "cell_type": "code",
   "source": [
    "group1_pts = kp1.pts[lbs==lbs_selected]\n",
    "group1_lbs= np.zeros(X11.shape[0])\n",
    "\n",
    "group2_pts = kp1.pts[lbs!=lbs_selected]\n",
    "group2_lbs= np.zeros(X22.shape[0])\n",
    "group2_lbs+=2"
   ],
   "id": "9d1163b02e5e6c1",
   "outputs": [],
   "execution_count": 58
  },
  {
   "metadata": {
    "ExecuteTime": {
     "end_time": "2024-09-28T13:34:12.675712Z",
     "start_time": "2024-09-28T13:34:12.663750Z"
    }
   },
   "cell_type": "code",
   "source": [
    "all_pts = np.vstack([group1_pts,group2_pts])\n",
    "all_lbs = np.hstack([group1_lbs,group2_lbs])"
   ],
   "id": "8b025ec4a8d9ee6a",
   "outputs": [],
   "execution_count": 59
  },
  {
   "metadata": {
    "ExecuteTime": {
     "end_time": "2024-09-28T13:34:13.067244Z",
     "start_time": "2024-09-28T13:34:13.048566Z"
    }
   },
   "cell_type": "code",
   "source": "all_pts.shape,all_lbs.shape",
   "id": "4bf2133d58cf408a",
   "outputs": [
    {
     "data": {
      "text/plain": [
       "((7276, 2), (7276,))"
      ]
     },
     "execution_count": 60,
     "metadata": {},
     "output_type": "execute_result"
    }
   ],
   "execution_count": 60
  },
  {
   "metadata": {
    "ExecuteTime": {
     "end_time": "2024-09-28T13:34:16.418846Z",
     "start_time": "2024-09-28T13:34:16.407879Z"
    }
   },
   "cell_type": "code",
   "source": [
    "np.save('simu pts.npy',all_pts)\n",
    "np.save('simu lbs.npy',all_lbs)"
   ],
   "id": "bfa08e9e91de418c",
   "outputs": [],
   "execution_count": 61
  },
  {
   "metadata": {
    "ExecuteTime": {
     "end_time": "2024-09-28T13:34:16.844008Z",
     "start_time": "2024-09-28T13:34:16.838022Z"
    }
   },
   "cell_type": "code",
   "source": "",
   "id": "633a45364a5d89b9",
   "outputs": [],
   "execution_count": 61
  },
  {
   "metadata": {},
   "cell_type": "markdown",
   "source": "### process part",
   "id": "37c025a1cd28dc87"
  },
  {
   "metadata": {
    "ExecuteTime": {
     "end_time": "2024-09-28T13:38:42.202117Z",
     "start_time": "2024-09-28T13:38:42.197132Z"
    }
   },
   "cell_type": "code",
   "source": [
    "def sort_pts(pts,p):\n",
    "    vectors = pts - p\n",
    "    angles = np.arctan2(vectors[:, 1], vectors[:, 0])\n",
    "    sorted_indices = np.argsort(angles)\n",
    "    return sorted_indices"
   ],
   "id": "1fe3a69d92b62640",
   "outputs": [],
   "execution_count": 74
  },
  {
   "metadata": {
    "ExecuteTime": {
     "end_time": "2024-09-28T13:34:19.055872Z",
     "start_time": "2024-09-28T13:34:19.043904Z"
    }
   },
   "cell_type": "code",
   "source": [
    "original_pts = np.load('simu pts.npy')\n",
    "original_lbs = np.load('simu lbs.npy')\n",
    "img = np.load('croped simu image.npy')"
   ],
   "id": "6fd736a7461ae15e",
   "outputs": [],
   "execution_count": 62
  },
  {
   "metadata": {
    "ExecuteTime": {
     "end_time": "2024-09-28T13:34:19.691071Z",
     "start_time": "2024-09-28T13:34:19.598304Z"
    }
   },
   "cell_type": "code",
   "source": [
    "kp = KeyPoints(original_pts, img, size)\n",
    "original_ps = kp.extract_patches(size)\n",
    "zps = ZPs(n_max=12, size=original_ps.shape[1])\n",
    "moments = zps.fit_transform(original_ps)"
   ],
   "id": "b6b34c735cc8a722",
   "outputs": [],
   "execution_count": 63
  },
  {
   "metadata": {
    "ExecuteTime": {
     "end_time": "2024-09-28T13:34:20.313185Z",
     "start_time": "2024-09-28T13:34:20.295247Z"
    }
   },
   "cell_type": "code",
   "source": "mask1 = original_lbs==0",
   "id": "cceb030fc8a37b3c",
   "outputs": [],
   "execution_count": 64
  },
  {
   "metadata": {
    "ExecuteTime": {
     "end_time": "2024-09-28T13:34:21.403697Z",
     "start_time": "2024-09-28T13:34:21.390741Z"
    }
   },
   "cell_type": "code",
   "source": "mask1.shape,original_pts.shape,original_lbs.shape",
   "id": "d2f99a6c3bd1bebb",
   "outputs": [
    {
     "data": {
      "text/plain": [
       "((7276,), (7276, 2), (7276,))"
      ]
     },
     "execution_count": 65,
     "metadata": {},
     "output_type": "execute_result"
    }
   ],
   "execution_count": 65
  },
  {
   "metadata": {
    "ExecuteTime": {
     "end_time": "2024-09-28T13:34:26.286719Z",
     "start_time": "2024-09-28T13:34:26.275757Z"
    }
   },
   "cell_type": "code",
   "source": [
    "pts = original_pts[mask1]\n",
    "ps = original_ps[mask1]\n",
    "Se2_lbs = original_lbs[mask1]"
   ],
   "id": "eade94852f4e5a68",
   "outputs": [],
   "execution_count": 66
  },
  {
   "metadata": {
    "ExecuteTime": {
     "end_time": "2024-09-28T13:37:00.850801Z",
     "start_time": "2024-09-28T13:36:48.356607Z"
    }
   },
   "cell_type": "code",
   "source": [
    "pts1 = pts[Se2_lbs == 0]#Se2 positions\n",
    "X11 = tsne_X1[Se2_lbs == 0]\n",
    "tsne_res = tsne(n_components=2).fit_transform(X11)"
   ],
   "id": "937f41a6d55e089d",
   "outputs": [],
   "execution_count": 70
  },
  {
   "metadata": {
    "ExecuteTime": {
     "end_time": "2024-09-28T13:37:03.208540Z",
     "start_time": "2024-09-28T13:37:03.203546Z"
    }
   },
   "cell_type": "code",
   "source": "tsne_res.shape,pts1.shape",
   "id": "37543b4d33100dc0",
   "outputs": [
    {
     "data": {
      "text/plain": [
       "((3640, 2), (3640, 2))"
      ]
     },
     "execution_count": 71,
     "metadata": {},
     "output_type": "execute_result"
    }
   ],
   "execution_count": 71
  },
  {
   "metadata": {
    "ExecuteTime": {
     "end_time": "2024-09-28T13:38:26.033110Z",
     "start_time": "2024-09-28T13:38:26.003209Z"
    }
   },
   "cell_type": "code",
   "source": [
    "nn = NearestNeighbors(n_neighbors=2)\n",
    "nn.fit(pts1)\n",
    "\n",
    "distances, indices = nn.kneighbors(pts1)\n",
    "nearest_distances = distances[:, 1]\n",
    "average_distance = np.mean(nearest_distances)\n",
    "radius = int(average_distance*1.3)\n",
    "print(\"Radius of further points nearest neighbor:\", radius)"
   ],
   "id": "2b7ca93699de3514",
   "outputs": [
    {
     "name": "stdout",
     "output_type": "stream",
     "text": [
      "Radius of further points nearest neighbor: 22\n"
     ]
    }
   ],
   "execution_count": 73
  },
  {
   "metadata": {
    "ExecuteTime": {
     "end_time": "2024-09-28T13:39:00.709038Z",
     "start_time": "2024-09-28T13:38:59.244979Z"
    }
   },
   "cell_type": "code",
   "source": [
    "select_pts1 = []\n",
    "select_theta1 = []\n",
    "angles = np.arctan2(tsne_res[:, 1], tsne_res[:, 0])\n",
    "nn = NearestNeighbors(radius=radius)\n",
    "nn.fit(pts1)\n",
    "neighbor_limit = 7\n",
    "for i, p in enumerate(pts1):\n",
    "    distances, indices = nn.radius_neighbors([p])\n",
    "\n",
    "    if i in indices[0]:\n",
    "        indices = indices[0][indices[0] != i]\n",
    "        distances = distances[0][distances[0] != i]\n",
    "\n",
    "    if len(indices) >= neighbor_limit - 1:\n",
    "        select_pts = pts1[indices]\n",
    "        select_angles = angles[indices]\n",
    "        sort_idx = sort_pts(select_pts, p)\n",
    "        sort_angles = select_angles[sort_idx]\n",
    "        diffs = np.diff(sort_angles)\n",
    "        result = np.append(diffs, sort_angles[-1] - sort_angles[0])\n",
    "        select_pts1.append(p)\n",
    "        select_theta1.append(result)\n",
    "select_pts1 = np.array(select_pts1)\n",
    "select_theta1 = np.array(select_theta1)"
   ],
   "id": "222acd0cb034f95a",
   "outputs": [],
   "execution_count": 75
  },
  {
   "metadata": {
    "ExecuteTime": {
     "end_time": "2024-09-28T13:39:18.123323Z",
     "start_time": "2024-09-28T13:39:18.106378Z"
    }
   },
   "cell_type": "code",
   "source": "mean_theta1 = np.mean(select_theta1,axis = 1)",
   "id": "39e0d8c946bd1f6d",
   "outputs": [],
   "execution_count": 76
  },
  {
   "metadata": {
    "ExecuteTime": {
     "end_time": "2024-09-28T13:39:37.860988Z",
     "start_time": "2024-09-28T13:39:37.848031Z"
    }
   },
   "cell_type": "code",
   "source": [
    "mean_theta = mean_theta1\n",
    "all_pts = select_pts1"
   ],
   "id": "193f74dd1f6eba2a",
   "outputs": [],
   "execution_count": 77
  },
  {
   "metadata": {
    "ExecuteTime": {
     "end_time": "2024-09-28T13:39:44.498881Z",
     "start_time": "2024-09-28T13:39:44.485925Z"
    }
   },
   "cell_type": "code",
   "source": [
    "norm_theta = mean_theta-mean_theta.min()\n",
    "norm_theta = norm_theta/norm_theta.max()"
   ],
   "id": "eede3f094af85033",
   "outputs": [],
   "execution_count": 78
  },
  {
   "metadata": {
    "ExecuteTime": {
     "end_time": "2024-09-28T13:47:06.426097Z",
     "start_time": "2024-09-28T13:47:06.419123Z"
    }
   },
   "cell_type": "code",
   "source": [
    "new_cmap = plt.get_cmap('coolwarm')(norm_theta)\n",
    "plt.style.use('default')"
   ],
   "id": "354ee535baf365fc",
   "outputs": [],
   "execution_count": 83
  },
  {
   "metadata": {
    "ExecuteTime": {
     "end_time": "2024-09-28T13:47:20.666636Z",
     "start_time": "2024-09-28T13:47:18.938615Z"
    }
   },
   "cell_type": "code",
   "source": [
    "from matplotlib.cm import ScalarMappable\n",
    "from matplotlib.colors import Normalize\n",
    "from mpl_toolkits.axes_grid1 import make_axes_locatable\n",
    "cmap = plt.get_cmap('coolwarm')\n",
    "# norm = Normalize(vmin=norm_theta.min(), vmax=norm_theta.max())\n",
    "norm = Normalize(vmin=-np.pi, vmax=np.pi)\n",
    "fig,ax = plt.subplots(1,1,figsize=(7.2,7.2))\n",
    "ax.imshow(img,cmap = 'gray')\n",
    "ax.scatter(all_pts[:,0],all_pts[:,1],c = new_cmap,s = 7)\n",
    "ax.axis('off')\n",
    "sm = ScalarMappable(cmap=cmap, norm=norm)\n",
    "sm.set_array([])\n",
    "\n",
    "# 使用 make_axes_locatable 创建一个与当前轴相关的分区\n",
    "divider = make_axes_locatable(ax)\n",
    "# 在右侧添加一个新的轴，用于放置 colorbar\n",
    "cax = divider.append_axes(\"right\", size=\"5%\", pad=0.05)\n",
    "\n",
    "# 添加颜色条到新的轴上，并且设置其高度与原图相同\n",
    "cbar = fig.colorbar(sm, cax=cax, orientation='vertical')\n",
    "ticks = [-np.pi,-2,-1, 0,1,2, np.pi]  # 定义ticks的位置\n",
    "tick_labels = [r'$-\\pi$',r'$-2$' ,r'$-1$' ,r'$0$',r'$1$' ,r'$2$' , r'$\\pi$']  # 定义ticks的标签，这里使用 LaTeX 格式\n",
    "\n",
    "cbar.set_ticks(ticks)\n",
    "cbar.set_ticklabels(tick_labels)\n",
    "\n",
    "# 如果你想要更加精确地控制colorbar的大小，可以调整size参数\n",
    "# cax = divider.append_axes(\"right\", size=\"100%\", pad=0.05) # 这会使得colorbar宽度等于主图宽度\n",
    "plt.savefig('simu delta theta coolwarm cmap.png',dpi = 700,transparent = True)"
   ],
   "id": "c8dcdb1a0586c603",
   "outputs": [],
   "execution_count": 84
  },
  {
   "metadata": {},
   "cell_type": "code",
   "outputs": [],
   "execution_count": null,
   "source": "",
   "id": "c837c9e304bbc7c7"
  }
 ],
 "metadata": {
  "kernelspec": {
   "display_name": "Python 3",
   "language": "python",
   "name": "python3"
  },
  "language_info": {
   "codemirror_mode": {
    "name": "ipython",
    "version": 2
   },
   "file_extension": ".py",
   "mimetype": "text/x-python",
   "name": "python",
   "nbconvert_exporter": "python",
   "pygments_lexer": "ipython2",
   "version": "2.7.6"
  }
 },
 "nbformat": 4,
 "nbformat_minor": 5
}
