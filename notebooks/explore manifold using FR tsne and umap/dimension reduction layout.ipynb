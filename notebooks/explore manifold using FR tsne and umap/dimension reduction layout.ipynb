{
 "cells": [
  {
   "cell_type": "code",
   "id": "initial_id",
   "metadata": {
    "collapsed": true,
    "ExecuteTime": {
     "end_time": "2024-09-17T12:20:49.592064Z",
     "start_time": "2024-09-17T12:20:44.258224Z"
    }
   },
   "source": [
    "%matplotlib qt\n",
    "import numpy as np\n",
    "import matplotlib.pyplot as plt\n",
    "from matplotlib.colors import hsv_to_rgb\n",
    "from mtflearn.clustering import gmm_lbs\n",
    "from mtflearn.io import load_image\n",
    "from stemplot import imshow, colors_from_lbs\n",
    "from mtflearn.features import ZPs, get_characteristic_length, local_max, KeyPoints\n",
    "from mtflearn.utils import normalize_image, remove_bg\n",
    "from mtflearn.manifold import ForceGraph8\n",
    "from sklearn.manifold import TSNE as tsne\n",
    "from stemplot.colors import color_palette,xy2colors\n",
    "from skimage.transform import resize\n",
    "from stemplot.interactive import interactive_clusters\n",
    "import umap"
   ],
   "outputs": [],
   "execution_count": 1
  },
  {
   "metadata": {
    "ExecuteTime": {
     "end_time": "2024-09-17T12:23:24.814887Z",
     "start_time": "2024-09-17T12:23:24.726184Z"
    }
   },
   "cell_type": "code",
   "source": [
    "img = load_image('ADF2_27.dm4')\n",
    "original_pts = np.load('Co 3 pts.npy')\n",
    "lbs = np.load('Co 3 lbs.npy').astype(int)"
   ],
   "id": "f77c352da5f537d",
   "outputs": [],
   "execution_count": 9
  },
  {
   "metadata": {
    "ExecuteTime": {
     "end_time": "2024-09-17T12:30:22.390758Z",
     "start_time": "2024-09-17T12:30:22.361846Z"
    }
   },
   "cell_type": "code",
   "source": [
    "if img.shape[0] == 2048:\n",
    "    img = resize(img, (1024, 1024), order=0)\n",
    "img = normalize_image(img)\n",
    "# mask1 = np.logical_or(lbs==0, lbs==1)\n",
    "# mask1 = lbs==0\n",
    "mask2 = np.logical_or(lbs==2, lbs==3)\n",
    "mask1 = np.logical_or(lbs==0, lbs==1)\n",
    "size = 29"
   ],
   "id": "53d2587904fd2095",
   "outputs": [],
   "execution_count": 18
  },
  {
   "metadata": {
    "ExecuteTime": {
     "end_time": "2024-09-17T12:30:26.015662Z",
     "start_time": "2024-09-17T12:30:25.956270Z"
    }
   },
   "cell_type": "code",
   "source": [
    "kp = KeyPoints(original_pts, img, size)\n",
    "original_ps = kp.extract_patches(size)\n",
    "zps = ZPs(n_max=12, size=original_ps.shape[1])\n",
    "moments = zps.fit_transform(original_ps)"
   ],
   "id": "807622f8d3fc2347",
   "outputs": [],
   "execution_count": 19
  },
  {
   "metadata": {
    "ExecuteTime": {
     "end_time": "2024-09-17T12:33:12.537401Z",
     "start_time": "2024-09-17T12:33:12.510498Z"
    }
   },
   "cell_type": "code",
   "source": [
    "pts = original_pts[mask1]\n",
    "ps = original_ps[mask1]"
   ],
   "id": "29fb8dc1150df2c7",
   "outputs": [],
   "execution_count": 26
  },
  {
   "metadata": {
    "ExecuteTime": {
     "end_time": "2024-09-17T12:31:13.770568Z",
     "start_time": "2024-09-17T12:31:13.756615Z"
    }
   },
   "cell_type": "code",
   "source": "Se2_lbs = lbs[mask1]",
   "id": "85b5060eba0d8f0d",
   "outputs": [],
   "execution_count": 20
  },
  {
   "metadata": {},
   "cell_type": "markdown",
   "source": "### TSNE",
   "id": "edc0b22ff72cdc42"
  },
  {
   "metadata": {
    "ExecuteTime": {
     "end_time": "2024-09-17T12:31:15.786620Z",
     "start_time": "2024-09-17T12:31:15.773663Z"
    }
   },
   "cell_type": "code",
   "source": "tsne_X1 = X1 = (moments.data)[mask1][:, 1:]",
   "id": "e2830f245e199c2a",
   "outputs": [],
   "execution_count": 21
  },
  {
   "metadata": {
    "ExecuteTime": {
     "end_time": "2024-09-17T12:31:24.158875Z",
     "start_time": "2024-09-17T12:31:16.543862Z"
    }
   },
   "cell_type": "code",
   "source": "tsne_res = tsne(n_components=2).fit_transform(tsne_X1)",
   "id": "7a7682a08f891603",
   "outputs": [],
   "execution_count": 22
  },
  {
   "metadata": {
    "ExecuteTime": {
     "end_time": "2024-09-11T14:00:13.177386Z",
     "start_time": "2024-09-11T14:00:13.102921Z"
    }
   },
   "cell_type": "code",
   "source": "tsne_lbs = gmm_lbs(tsne_res,10)",
   "id": "ef25551dcb5e7fb3",
   "outputs": [],
   "execution_count": 7
  },
  {
   "metadata": {
    "ExecuteTime": {
     "end_time": "2024-09-11T14:00:14.612769Z",
     "start_time": "2024-09-11T14:00:13.930325Z"
    }
   },
   "cell_type": "code",
   "source": [
    "app = interactive_clusters(tsne_res, img, pts[mask1], ps[mask1], lbs=tsne_lbs, s=1)\n",
    "plt.savefig('tsne.png',transparent=True)"
   ],
   "id": "b566eac5b1d12d8c",
   "outputs": [],
   "execution_count": 8
  },
  {
   "metadata": {
    "ExecuteTime": {
     "end_time": "2024-09-11T14:44:07.240929Z",
     "start_time": "2024-09-11T14:44:05.339836Z"
    }
   },
   "cell_type": "code",
   "source": [
    "fig,ax = plt.subplots(figsize=(7.2,7.2))\n",
    "ax.imshow(img,cmap = 'gray')\n",
    "ax.scatter(pts[mask1][:,0],pts[mask1][:,1],c = tsne_lbs,cmap = 'tab10',s=7)\n",
    "ax.axis('off')\n",
    "plt.savefig('img with tsne color.png',dpi = 700,transparent=True)"
   ],
   "id": "91c85347c2c1dd03",
   "outputs": [],
   "execution_count": 18
  },
  {
   "metadata": {
    "ExecuteTime": {
     "end_time": "2024-09-11T05:38:05.657244Z",
     "start_time": "2024-09-11T05:38:03.635820Z"
    }
   },
   "cell_type": "code",
   "source": [
    "fig,ax = plt.subplots(2,5, figsize=(15,5.5))\n",
    "for i in range(10):\n",
    "    select_ps = np.mean(ps[mask1][tsne_lbs == i],axis = 0)\n",
    "    ax[i//5,i%5].imshow(select_ps,cmap= color_palette('C{}'.format(i)))\n",
    "    ax[i//5,i%5].axis('off')\n",
    "plt.savefig('tsne ps.png',dpi = 700,transparent=True)"
   ],
   "id": "1d68af49bbc52a84",
   "outputs": [],
   "execution_count": 18
  },
  {
   "metadata": {
    "ExecuteTime": {
     "end_time": "2024-09-11T03:26:26.695063Z",
     "start_time": "2024-09-11T03:26:26.619614Z"
    }
   },
   "cell_type": "code",
   "source": "imshow(select_ps,cmap= color_palette('C0'))",
   "id": "88955a1f8fc8ff7c",
   "outputs": [
    {
     "data": {
      "text/plain": [
       "<matplotlib.image.AxesImage at 0x23251091360>"
      ]
     },
     "execution_count": 19,
     "metadata": {},
     "output_type": "execute_result"
    }
   ],
   "execution_count": 19
  },
  {
   "metadata": {},
   "cell_type": "markdown",
   "source": "### FR",
   "id": "993904d4e91cb527"
  },
  {
   "metadata": {
    "ExecuteTime": {
     "end_time": "2024-09-11T05:38:12.633426Z",
     "start_time": "2024-09-11T05:38:12.624450Z"
    }
   },
   "cell_type": "code",
   "source": [
    "X = moments.select([0]).data\n",
    "FR_X1 = X[mask1][:, 1:]"
   ],
   "id": "c5ab96e3999f37ae",
   "outputs": [],
   "execution_count": 19
  },
  {
   "metadata": {
    "ExecuteTime": {
     "end_time": "2024-09-11T05:38:15.006571Z",
     "start_time": "2024-09-11T05:38:13.109008Z"
    }
   },
   "cell_type": "code",
   "source": [
    "fg = ForceGraph8(X = FR_X1,\n",
    "                 n_neighbors=5,\n",
    "                 init_mode = 'pca',\n",
    "                 num_iterations = 100,\n",
    "                 num_negative_samples=5,\n",
    "                 force_params1=(0, 2, 1, 1),\n",
    "                 force_params2=(2, 5, 5, 1),\n",
    "                 divide=0.5)\n",
    "\n",
    "from time import time\n",
    "t0 = time()\n",
    "FR_res = fg.fit_transform(FR_X1)"
   ],
   "id": "602f47536a261681",
   "outputs": [
    {
     "name": "stdout",
     "output_type": "stream",
     "text": [
      "Construct graph from data...\n",
      "Initialize 2-d embedding using PCA layout...\n"
     ]
    }
   ],
   "execution_count": 20
  },
  {
   "metadata": {
    "ExecuteTime": {
     "end_time": "2024-09-11T05:38:15.922799Z",
     "start_time": "2024-09-11T05:38:15.829834Z"
    }
   },
   "cell_type": "code",
   "source": "FR_lbs = gmm_lbs(FR_res,10)",
   "id": "c03f1a9719161429",
   "outputs": [],
   "execution_count": 21
  },
  {
   "metadata": {
    "ExecuteTime": {
     "end_time": "2024-09-11T03:37:44.320230Z",
     "start_time": "2024-09-11T03:37:44.043430Z"
    }
   },
   "cell_type": "code",
   "source": [
    "app = interactive_clusters(FR_res, img, pts[mask1], ps[mask1], lbs=FR_lbs, s=1)\n",
    "plt.savefig('fr.png',transparent=True)"
   ],
   "id": "964415497ae832af",
   "outputs": [],
   "execution_count": 44
  },
  {
   "metadata": {
    "ExecuteTime": {
     "end_time": "2024-09-11T03:38:18.487990Z",
     "start_time": "2024-09-11T03:38:16.736762Z"
    }
   },
   "cell_type": "code",
   "source": [
    "fig,ax = plt.subplots(figsize=(7.2,7.2))\n",
    "ax.imshow(img,cmap = 'gray')\n",
    "ax.scatter(pts[mask1][:,0],pts[mask1][:,1],c = FR_lbs,cmap = 'tab10',s=7)\n",
    "ax.axis('off')\n",
    "plt.savefig('img with FR color.png',dpi = 700,transparent=True)"
   ],
   "id": "a7098ac73b70f58f",
   "outputs": [],
   "execution_count": 45
  },
  {
   "metadata": {
    "ExecuteTime": {
     "end_time": "2024-09-11T05:38:34.320663Z",
     "start_time": "2024-09-11T05:38:32.358808Z"
    }
   },
   "cell_type": "code",
   "source": [
    "fig,ax = plt.subplots(2,5, figsize=(15,5.5))\n",
    "for i in range(10):\n",
    "    select_ps = np.mean(ps[mask1][FR_lbs == i],axis = 0)\n",
    "    ax[i//5,i%5].imshow(select_ps,cmap= color_palette('C{}'.format(i)))\n",
    "    ax[i//5,i%5].axis('off')\n",
    "plt.savefig('FR ps.png',dpi = 700,transparent=True)"
   ],
   "id": "bd664f8fa15df",
   "outputs": [],
   "execution_count": 22
  },
  {
   "metadata": {},
   "cell_type": "code",
   "outputs": [],
   "execution_count": null,
   "source": "",
   "id": "c3bea7ac1ad68795"
  },
  {
   "metadata": {},
   "cell_type": "markdown",
   "source": "### umap",
   "id": "eeffdf5d84bd9a9b"
  },
  {
   "metadata": {
    "ExecuteTime": {
     "end_time": "2024-09-11T05:32:59.745938Z",
     "start_time": "2024-09-11T05:32:40.746206Z"
    }
   },
   "cell_type": "code",
   "source": [
    "umap_X1 = X1 = (moments.data)[mask1][:, 1:]\n",
    "umap_res = umap.UMAP(n_components=2).fit_transform(umap_X1)"
   ],
   "id": "7bc562634e43b288",
   "outputs": [],
   "execution_count": 6
  },
  {
   "metadata": {
    "ExecuteTime": {
     "end_time": "2024-09-11T05:33:21.954655Z",
     "start_time": "2024-09-11T05:33:21.841482Z"
    }
   },
   "cell_type": "code",
   "source": "umap_lbs = gmm_lbs(umap_res,10)",
   "id": "3ea9693b12d78175",
   "outputs": [],
   "execution_count": 7
  },
  {
   "metadata": {
    "ExecuteTime": {
     "end_time": "2024-09-11T05:33:40.125222Z",
     "start_time": "2024-09-11T05:33:39.487542Z"
    }
   },
   "cell_type": "code",
   "source": [
    "app = interactive_clusters(umap_res, img, pts[mask1], ps[mask1], lbs=umap_lbs, s=1)\n",
    "plt.savefig('umap.png',transparent=True)"
   ],
   "id": "32b61475e9afc34f",
   "outputs": [],
   "execution_count": 8
  },
  {
   "metadata": {
    "ExecuteTime": {
     "end_time": "2024-09-11T05:34:12.283070Z",
     "start_time": "2024-09-11T05:34:10.195604Z"
    }
   },
   "cell_type": "code",
   "source": [
    "fig,ax = plt.subplots(figsize=(7.2,7.2))\n",
    "ax.imshow(img,cmap = 'gray')\n",
    "ax.scatter(pts[mask1][:,0],pts[mask1][:,1],c = umap_lbs,cmap = 'tab10',s=7)\n",
    "ax.axis('off')\n",
    "plt.savefig('img with umap color.png',dpi = 700,transparent=True)"
   ],
   "id": "c4bc1cf00a11ce98",
   "outputs": [],
   "execution_count": 9
  },
  {
   "metadata": {
    "ExecuteTime": {
     "end_time": "2024-09-11T05:36:52.540522Z",
     "start_time": "2024-09-11T05:36:50.563278Z"
    }
   },
   "cell_type": "code",
   "source": [
    "fig,ax = plt.subplots(2,5, figsize=(15,5.5))\n",
    "for i in range(10):\n",
    "    select_ps = np.mean(ps[mask1][umap_lbs == i],axis = 0)\n",
    "    ax[i//5,i%5].imshow(select_ps,cmap= color_palette('C{}'.format(i)))\n",
    "    ax[i//5,i%5].axis('off')\n",
    "plt.savefig('umap ps.png',dpi = 700,transparent=True)"
   ],
   "id": "95be2fdc3d2f7352",
   "outputs": [],
   "execution_count": 13
  },
  {
   "metadata": {},
   "cell_type": "code",
   "outputs": [],
   "execution_count": null,
   "source": "",
   "id": "9be47565fa85c0ab"
  },
  {
   "metadata": {},
   "cell_type": "code",
   "outputs": [],
   "execution_count": null,
   "source": "",
   "id": "3acb52bc70b07934"
  },
  {
   "metadata": {},
   "cell_type": "markdown",
   "source": "### ",
   "id": "7cade5f652ab26b1"
  },
  {
   "metadata": {
    "ExecuteTime": {
     "end_time": "2024-09-11T15:11:05.989691Z",
     "start_time": "2024-09-11T15:11:05.976735Z"
    }
   },
   "cell_type": "code",
   "source": [
    "def xy2colors_fix_raduis(xy, v=0.9, return_rgb=True):\n",
    "    # Calculate the angles from xy coordinates\n",
    "    angles = (np.arctan2(xy[:, 1], xy[:, 0]) + np.pi) / (2 * np.pi)\n",
    "\n",
    "    # Since we want colors to vary only with angle, we create a constant saturation\n",
    "    # and use the same value for brightness.\n",
    "    # The saturation here is set to 1 for maximum color intensity.\n",
    "    saturation = np.ones_like(angles)  # S = 1 for all points\n",
    "    value = np.ones_like(angles) * v   # V = v for all points\n",
    "\n",
    "    # Construct the HSV color representation\n",
    "    hsv_colors = np.vstack([angles, saturation, value]).T\n",
    "\n",
    "    # Convert to RGB if required\n",
    "    if return_rgb:\n",
    "        return hsv_to_rgb(hsv_colors)\n",
    "    else:\n",
    "        return hsv_colors\n",
    "\n",
    "def xy2colors_fix_angle(xy, v=0.9, return_rgb=True):\n",
    "    # Compute the radius and normalize it\n",
    "    radius = np.hypot(xy[:, 0], xy[:, 1])\n",
    "    max_radius = np.max(radius)\n",
    "    if max_radius > 0:\n",
    "        radius = radius / max_radius\n",
    "\n",
    "    # Since we want colors to vary only with radius, we create a constant hue\n",
    "    # and use the same value for brightness.\n",
    "    # The hue here is set based on the normalized radius.\n",
    "    hue = radius  # H = radius for all points\n",
    "    saturation = np.ones_like(radius)  # S = 1 for all points\n",
    "    value = np.ones_like(radius) * v   # V = v for all points\n",
    "\n",
    "    # Construct the HSV color representation\n",
    "    hsv_colors = np.vstack([hue, saturation, value]).T\n",
    "\n",
    "    # Convert to RGB if required\n",
    "    if return_rgb:\n",
    "        return hsv_to_rgb(hsv_colors)\n",
    "    else:\n",
    "        return hsv_colors"
   ],
   "id": "2bd2fefbfaa1633f",
   "outputs": [],
   "execution_count": 29
  },
  {
   "metadata": {},
   "cell_type": "code",
   "outputs": [],
   "execution_count": null,
   "source": "",
   "id": "710c4d9d952ae97a"
  },
  {
   "metadata": {
    "ExecuteTime": {
     "end_time": "2024-09-11T14:40:38.946852Z",
     "start_time": "2024-09-11T14:40:38.932898Z"
    }
   },
   "cell_type": "code",
   "source": "polar = xy2colors(tsne_res, v=0.9, return_rgb=True)",
   "id": "63e36ec0684b6e07",
   "outputs": [],
   "execution_count": 10
  },
  {
   "metadata": {
    "ExecuteTime": {
     "end_time": "2024-09-11T14:44:30.966539Z",
     "start_time": "2024-09-11T14:44:30.753042Z"
    }
   },
   "cell_type": "code",
   "source": [
    "fig,ax = plt.subplots(figsize=(7.2,7.2))\n",
    "ax.scatter(tsne_res[:,0],tsne_res[:,1],c=polar,s=5)\n",
    "plt.savefig('tsne polar.png',transparent=True)"
   ],
   "id": "c5489a7559bb7d05",
   "outputs": [],
   "execution_count": 20
  },
  {
   "metadata": {
    "ExecuteTime": {
     "end_time": "2024-09-11T14:44:16.456130Z",
     "start_time": "2024-09-11T14:44:14.546440Z"
    }
   },
   "cell_type": "code",
   "source": [
    "fig,ax = plt.subplots(figsize=(7.2,7.2))\n",
    "ax.imshow(img,cmap = 'gray')\n",
    "ax.scatter(pts[mask1][:,0],pts[mask1][:,1],c = polar,s=7)\n",
    "ax.axis('off')\n",
    "plt.savefig('img with tsne polar color.png',dpi = 700,transparent=True)"
   ],
   "id": "370dc853c6364a9f",
   "outputs": [],
   "execution_count": 19
  },
  {
   "metadata": {
    "ExecuteTime": {
     "end_time": "2024-09-11T15:05:55.082548Z",
     "start_time": "2024-09-11T15:05:55.066405Z"
    }
   },
   "cell_type": "code",
   "source": "r_polar = xy2colors_fix_raduis(tsne_res,v = 0.9,return_rgb=True)",
   "id": "7cbe6c2f1ed6db80",
   "outputs": [],
   "execution_count": 24
  },
  {
   "metadata": {
    "ExecuteTime": {
     "end_time": "2024-09-11T15:06:39.926876Z",
     "start_time": "2024-09-11T15:06:39.712253Z"
    }
   },
   "cell_type": "code",
   "source": [
    "fig,ax = plt.subplots(figsize=(7.2,7.2))\n",
    "ax.scatter(tsne_res[:,0],tsne_res[:,1],c=r_polar,s=5)\n",
    "plt.savefig('tsne polar fix raduis.png',transparent=True)"
   ],
   "id": "aa6a0e3ee01b80f5",
   "outputs": [],
   "execution_count": 26
  },
  {
   "metadata": {
    "ExecuteTime": {
     "end_time": "2024-09-11T15:07:03.084886Z",
     "start_time": "2024-09-11T15:07:01.099864Z"
    }
   },
   "cell_type": "code",
   "source": [
    "fig,ax = plt.subplots(figsize=(7.2,7.2))\n",
    "ax.imshow(img,cmap = 'gray')\n",
    "ax.scatter(pts[mask1][:,0],pts[mask1][:,1],c = r_polar,s=7)\n",
    "ax.axis('off')\n",
    "plt.savefig('img with tsne polar color fix radius.png',dpi = 700,transparent=True)"
   ],
   "id": "e30f676289a12d1d",
   "outputs": [],
   "execution_count": 27
  },
  {
   "metadata": {
    "ExecuteTime": {
     "end_time": "2024-09-11T15:11:08.355433Z",
     "start_time": "2024-09-11T15:11:08.342476Z"
    }
   },
   "cell_type": "code",
   "source": "a_polar = xy2colors_fix_angle(tsne_res,v = 0.9,return_rgb=True)",
   "id": "cf6cf3e5d1e2c351",
   "outputs": [],
   "execution_count": 30
  },
  {
   "metadata": {
    "ExecuteTime": {
     "end_time": "2024-09-11T15:11:44.967812Z",
     "start_time": "2024-09-11T15:11:44.775920Z"
    }
   },
   "cell_type": "code",
   "source": [
    "fig,ax = plt.subplots(figsize=(7.2,7.2))\n",
    "ax.scatter(tsne_res[:,0],tsne_res[:,1],c=a_polar,s=5)\n",
    "plt.savefig('tsne polar fix angle.png',transparent=True)"
   ],
   "id": "b9538d073fdac44e",
   "outputs": [],
   "execution_count": 32
  },
  {
   "metadata": {
    "ExecuteTime": {
     "end_time": "2024-09-11T15:11:57.828063Z",
     "start_time": "2024-09-11T15:11:55.863001Z"
    }
   },
   "cell_type": "code",
   "source": [
    "fig,ax = plt.subplots(figsize=(7.2,7.2))\n",
    "ax.imshow(img,cmap = 'gray')\n",
    "ax.scatter(pts[mask1][:,0],pts[mask1][:,1],c = a_polar,s=7)\n",
    "ax.axis('off')\n",
    "plt.savefig('img with tsne polar color fix angle.png',dpi = 700,transparent=True)"
   ],
   "id": "53d6fe20b0b7c113",
   "outputs": [],
   "execution_count": 33
  },
  {
   "metadata": {},
   "cell_type": "code",
   "outputs": [],
   "execution_count": null,
   "source": "",
   "id": "1388a67096e28302"
  },
  {
   "metadata": {},
   "cell_type": "code",
   "outputs": [],
   "execution_count": null,
   "source": "",
   "id": "3d37f29b3a8d9809"
  },
  {
   "metadata": {
    "ExecuteTime": {
     "end_time": "2024-09-17T12:21:19.879852Z",
     "start_time": "2024-09-17T12:21:19.866887Z"
    }
   },
   "cell_type": "code",
   "source": [
    "def sector_indices(xy,sector_number = 11):\n",
    "    angles = np.arctan2(xy[:, 1], xy[:, 0])\n",
    "    sector_boundaries = np.linspace(-np.pi, np.pi, sector_number)\n",
    "    grouped_indices = []\n",
    "    for i in range(len(sector_boundaries)-1):\n",
    "        start = sector_boundaries[i]\n",
    "        end = sector_boundaries[i+1]\n",
    "        indices = np.where((angles >= start) & (angles < end))\n",
    "        grouped_indices.append(indices)\n",
    "        # grouped_points.append(xy[indices])\n",
    "    return grouped_indices\n",
    "\n",
    "def radial_indices(xy,radial_number = 6):\n",
    "    radius = np.hypot(xy[:, 0], xy[:, 1])\n",
    "    max_radius = np.max(radius)\n",
    "    radial_boundaries = np.linspace(0, max_radius, radial_number)\n",
    "    grouped_indices = []\n",
    "    for i in range(len(radial_boundaries)-1):\n",
    "        start = radial_boundaries[i]\n",
    "        end = radial_boundaries[i+1]\n",
    "        indices = np.where((radius >= start) & (radius < end))\n",
    "        grouped_indices.append(indices)\n",
    "    return grouped_indices\n",
    "\n",
    "def sector_features(xy,grouped_indices):\n",
    "    grouped_features = []\n",
    "    for indices in grouped_indices:\n",
    "        grouped_features.append(xy[indices])\n",
    "    return grouped_features\n",
    "\n",
    "def sector_pts(pts,grouped_indices):\n",
    "    grouped_pts = []\n",
    "    for indices in grouped_indices:\n",
    "        grouped_pts.append(pts[indices])\n",
    "    return grouped_pts\n",
    "\n",
    "def sector_ps(ps,grouped_indices,mean = True):\n",
    "    grouped_ps = []\n",
    "    for indices in grouped_indices:\n",
    "        grouped_ps.append(ps[indices])\n",
    "    new_ps = []\n",
    "    if mean:\n",
    "        for g in grouped_ps:\n",
    "            new_ps.append(np.mean(g,axis = 0))\n",
    "        return new_ps\n",
    "    else:\n",
    "        return grouped_ps\n"
   ],
   "id": "a64c2542c139e0da",
   "outputs": [],
   "execution_count": 7
  },
  {
   "metadata": {
    "ExecuteTime": {
     "end_time": "2024-09-16T09:25:50.709397Z",
     "start_time": "2024-09-16T09:25:50.682484Z"
    }
   },
   "cell_type": "code",
   "source": [
    "grouped_indices = sector_indices(tsne_res)\n",
    "grouped_features = sector_pts(tsne_res,grouped_indices)\n",
    "grouped_pts = sector_pts(pts,grouped_indices)\n",
    "grouped_ps = sector_ps(ps,grouped_indices)"
   ],
   "id": "4f1036fe6accdf83",
   "outputs": [],
   "execution_count": 88
  },
  {
   "metadata": {
    "ExecuteTime": {
     "end_time": "2024-09-16T09:22:47.874614Z",
     "start_time": "2024-09-16T09:22:47.861657Z"
    }
   },
   "cell_type": "code",
   "source": "tsne_res.shape,pts.shape,ps.shape",
   "id": "cd64c7ec0f25b9dc",
   "outputs": [
    {
     "data": {
      "text/plain": [
       "((4114, 2), (4114, 2), (4114, 29, 29))"
      ]
     },
     "execution_count": 80,
     "metadata": {},
     "output_type": "execute_result"
    }
   ],
   "execution_count": 80
  },
  {
   "metadata": {
    "ExecuteTime": {
     "end_time": "2024-09-16T15:15:36.219049Z",
     "start_time": "2024-09-16T15:15:36.207089Z"
    }
   },
   "cell_type": "code",
   "source": "colors = plt.get_cmap('tab10')",
   "id": "969e06bc4dc3584f",
   "outputs": [],
   "execution_count": 12
  },
  {
   "metadata": {
    "ExecuteTime": {
     "end_time": "2024-09-16T09:28:03.123838Z",
     "start_time": "2024-09-16T09:28:03.059594Z"
    }
   },
   "cell_type": "code",
   "source": [
    "for idx,[select_pts,select_features,select_ps] in enumerate(zip(grouped_pts,grouped_features,grouped_ps)):\n",
    "    fig,ax = plt.subplots(1,3,figsize=(15,5))\n",
    "    ax[0].imshow(img,cmap = 'gray')\n",
    "    ax[0].axis('off')\n",
    "    ax[0].scatter(select_pts[:,0],select_pts[:,1],color = colors(idx),s = 7)\n",
    "    ax[1].scatter(tsne_res[:,0],tsne_res[:,1],color='black',s = 3)\n",
    "    ax[1].scatter(select_features[:,0],select_features[:,1],color = colors(idx),s=3)\n",
    "    ax[2].imshow(select_ps,cmap = 'gray',vmin = select_ps.min(),vmax = select_ps.max()+0.1)\n",
    "    ax[2].axis('off')\n",
    "    plt.savefig('sector {}.png'.format(idx),dpi = 700)\n",
    "    plt.close(fig)"
   ],
   "id": "59c6aa8b73bf0ee1",
   "outputs": [],
   "execution_count": 94
  },
  {
   "metadata": {},
   "cell_type": "code",
   "outputs": [],
   "execution_count": null,
   "source": "",
   "id": "93e4cf3b89fff78e"
  },
  {
   "metadata": {
    "ExecuteTime": {
     "end_time": "2024-09-16T15:25:23.099542Z",
     "start_time": "2024-09-16T15:25:23.059645Z"
    }
   },
   "cell_type": "code",
   "source": [
    "grouped_indices = radial_indices(tsne_res,radial_number = 8)\n",
    "grouped_features = sector_pts(tsne_res,grouped_indices)\n",
    "grouped_pts = sector_pts(pts,grouped_indices)\n",
    "grouped_ps = sector_ps(ps,grouped_indices)"
   ],
   "id": "e20a62c0e34d7fe9",
   "outputs": [],
   "execution_count": 18
  },
  {
   "metadata": {
    "ExecuteTime": {
     "end_time": "2024-09-16T15:18:18.580091Z",
     "start_time": "2024-09-16T15:17:56.232766Z"
    }
   },
   "cell_type": "code",
   "source": [
    "for idx,[select_pts,select_features,select_ps] in enumerate(zip(grouped_pts,grouped_features,grouped_ps)):\n",
    "    fig,ax = plt.subplots(1,3,figsize=(15,5))\n",
    "    ax[0].imshow(img,cmap = 'gray')\n",
    "    ax[0].axis('off')\n",
    "    ax[0].scatter(select_pts[:,0],select_pts[:,1],color = colors(idx),s = 7)\n",
    "    ax[1].scatter(tsne_res[:,0],tsne_res[:,1],color='black',s = 3)\n",
    "    ax[1].scatter(select_features[:,0],select_features[:,1],color = colors(idx),s=3)\n",
    "    ax[2].imshow(select_ps,cmap = 'gray',vmin = select_ps.min(),vmax = select_ps.max()+0.1)\n",
    "    ax[2].axis('off')\n",
    "    plt.savefig('radial {}.png'.format(idx),dpi = 700)\n",
    "    plt.close(fig)"
   ],
   "id": "96593abd96727725",
   "outputs": [],
   "execution_count": 16
  },
  {
   "metadata": {
    "ExecuteTime": {
     "end_time": "2024-09-16T15:25:14.755763Z",
     "start_time": "2024-09-16T15:25:14.742806Z"
    }
   },
   "cell_type": "code",
   "source": "len(grouped_ps)",
   "id": "4ca82fabab9f9d2d",
   "outputs": [
    {
     "data": {
      "text/plain": [
       "7"
      ]
     },
     "execution_count": 17,
     "metadata": {},
     "output_type": "execute_result"
    }
   ],
   "execution_count": 17
  },
  {
   "metadata": {},
   "cell_type": "code",
   "outputs": [],
   "execution_count": null,
   "source": "",
   "id": "bff46be4459cce85"
  },
  {
   "metadata": {
    "ExecuteTime": {
     "end_time": "2024-09-17T12:36:10.077904Z",
     "start_time": "2024-09-17T12:36:10.070927Z"
    }
   },
   "cell_type": "code",
   "source": "from sklearn.neighbors import NearestNeighbors",
   "id": "8fd3ddfa869cd85a",
   "outputs": [],
   "execution_count": 28
  },
  {
   "metadata": {
    "ExecuteTime": {
     "end_time": "2024-09-17T12:32:38.109487Z",
     "start_time": "2024-09-17T12:32:38.104505Z"
    }
   },
   "cell_type": "code",
   "source": "Se2_lbs.shape,tsne_res.shape",
   "id": "8b2e602393957a2e",
   "outputs": [
    {
     "data": {
      "text/plain": [
       "((4200,), (4200, 2))"
      ]
     },
     "execution_count": 23,
     "metadata": {},
     "output_type": "execute_result"
    }
   ],
   "execution_count": 23
  },
  {
   "metadata": {
    "ExecuteTime": {
     "end_time": "2024-09-17T12:43:40.689616Z",
     "start_time": "2024-09-17T12:43:31.266277Z"
    }
   },
   "cell_type": "code",
   "source": [
    "pts1 = pts[Se2_lbs == 0]#Se2 positions\n",
    "pts2 = pts[Se2_lbs == 1]#Vacancy positions\n",
    "\n",
    "X11 = tsne_X1[Se2_lbs == 0]\n",
    "X12 = tsne_X1[Se2_lbs == 1]\n",
    "\n",
    "tsne_res = tsne(n_components=2).fit_transform(X11)"
   ],
   "id": "8458951619dfff18",
   "outputs": [],
   "execution_count": 31
  },
  {
   "metadata": {
    "ExecuteTime": {
     "end_time": "2024-09-17T12:43:43.407105Z",
     "start_time": "2024-09-17T12:43:43.401126Z"
    }
   },
   "cell_type": "code",
   "source": "tsne_res.shape,pts1.shape,pts2.shape",
   "id": "e0cb6d60db7f384a",
   "outputs": [
    {
     "data": {
      "text/plain": [
       "((4114, 2), (4114, 2), (86, 2))"
      ]
     },
     "execution_count": 32,
     "metadata": {},
     "output_type": "execute_result"
    }
   ],
   "execution_count": 32
  },
  {
   "metadata": {
    "ExecuteTime": {
     "end_time": "2024-09-17T12:45:26.911206Z",
     "start_time": "2024-09-17T12:45:26.883307Z"
    }
   },
   "cell_type": "code",
   "source": [
    "nn = NearestNeighbors(n_neighbors=2)\n",
    "nn.fit(pts1)\n",
    "\n",
    "distances, indices = nn.kneighbors(pts1)\n",
    "nearest_distances = distances[:, 1]\n",
    "average_distance = np.mean(nearest_distances)\n",
    "radius = int(average_distance*1.3)\n",
    "print(\"Radius of further points nearest neighbor:\", radius)"
   ],
   "id": "2c521e91982abbea",
   "outputs": [
    {
     "name": "stdout",
     "output_type": "stream",
     "text": [
      "Radius of further points nearest neighbor: 19\n"
     ]
    }
   ],
   "execution_count": 33
  },
  {
   "metadata": {
    "ExecuteTime": {
     "end_time": "2024-09-17T13:30:43.670435Z",
     "start_time": "2024-09-17T13:30:43.660469Z"
    }
   },
   "cell_type": "code",
   "source": [
    "def sort_pts(pts,p):\n",
    "    vectors = pts - p\n",
    "    angles = np.arctan2(vectors[:, 1], vectors[:, 0])\n",
    "    sorted_indices = np.argsort(angles)\n",
    "    return sorted_indices"
   ],
   "id": "12ad7d65f8ab29b9",
   "outputs": [],
   "execution_count": 56
  },
  {
   "metadata": {
    "ExecuteTime": {
     "end_time": "2024-09-17T13:45:10.034700Z",
     "start_time": "2024-09-17T13:45:08.980820Z"
    }
   },
   "cell_type": "code",
   "source": [
    "select_pts1 = []\n",
    "select_theta1 = []\n",
    "angles = np.arctan2(tsne_res[:, 1], tsne_res[:, 0])\n",
    "nn = NearestNeighbors(radius=radius)\n",
    "nn.fit(pts1)\n",
    "neighbor_limit = 7\n",
    "for i,p in enumerate(pts1):\n",
    "    distances, indices = nn.radius_neighbors([p])\n",
    "\n",
    "    if i in indices[0]:\n",
    "        indices = indices[0][indices[0] != i]\n",
    "        distances = distances[0][distances[0] != i]\n",
    "\n",
    "    if len(indices) >= neighbor_limit - 1:\n",
    "        select_pts = pts1[indices]\n",
    "        select_angles = angles[indices]\n",
    "        sort_idx = sort_pts(select_pts,p)\n",
    "        sort_angles = select_angles[sort_idx]\n",
    "        diffs = np.diff(sort_angles)\n",
    "        result = np.append(diffs,  sort_angles[-1] - sort_angles[0])\n",
    "        select_pts1.append(p)\n",
    "        select_theta1.append(result)\n",
    "select_pts1 = np.array(select_pts1)\n",
    "select_theta1 = np.array(select_theta1)"
   ],
   "id": "5c48076b17f6b4fa",
   "outputs": [],
   "execution_count": 87
  },
  {
   "metadata": {
    "ExecuteTime": {
     "end_time": "2024-09-17T13:45:35.231753Z",
     "start_time": "2024-09-17T13:45:35.173647Z"
    }
   },
   "cell_type": "code",
   "source": [
    "select_pts2 = []\n",
    "select_theta2 = []\n",
    "neighbor_limit = 6\n",
    "for i,p in enumerate(pts2):\n",
    "    distances, indices = nn.radius_neighbors([p])\n",
    "    \n",
    "    indices = indices[0]\n",
    "    distances = distances[0]\n",
    "\n",
    "    if len(indices) >= neighbor_limit:\n",
    "        select_pts = pts1[indices]\n",
    "        select_angles = angles[indices]\n",
    "        sort_idx = sort_pts(select_pts,p)\n",
    "        sort_angles = select_angles[sort_idx]\n",
    "        diffs = np.diff(sort_angles)\n",
    "        result = np.append(diffs,  sort_angles[-1] - sort_angles[0])\n",
    "        select_pts2.append(p)\n",
    "        select_theta2.append(result)\n",
    "select_pts2 = np.array(select_pts2)\n",
    "select_theta2 = np.array(select_theta2)"
   ],
   "id": "42180bcf5faa1747",
   "outputs": [],
   "execution_count": 89
  },
  {
   "metadata": {
    "ExecuteTime": {
     "end_time": "2024-09-17T13:59:54.193064Z",
     "start_time": "2024-09-17T13:59:54.188077Z"
    }
   },
   "cell_type": "code",
   "source": [
    "mean_theta1 = np.mean(select_theta1,axis = 1)\n",
    "mean_theta2 = np.mean(select_theta2,axis = 1)"
   ],
   "id": "758fbf2d778e55bd",
   "outputs": [],
   "execution_count": 104
  },
  {
   "metadata": {
    "ExecuteTime": {
     "end_time": "2024-09-17T14:03:08.406968Z",
     "start_time": "2024-09-17T14:03:08.394008Z"
    }
   },
   "cell_type": "code",
   "source": [
    "mean_theta = np.hstack([mean_theta1,mean_theta2])\n",
    "all_pts = np.vstack([select_pts1,select_pts2])"
   ],
   "id": "230d313304f2c183",
   "outputs": [],
   "execution_count": 108
  },
  {
   "metadata": {
    "ExecuteTime": {
     "end_time": "2024-09-17T14:06:57.036326Z",
     "start_time": "2024-09-17T14:06:57.024359Z"
    }
   },
   "cell_type": "code",
   "source": [
    "norm_theta = mean_theta-mean_theta.min()\n",
    "norm_theta = norm_theta/norm_theta.max()"
   ],
   "id": "ed09ec37b0b92f56",
   "outputs": [],
   "execution_count": 113
  },
  {
   "metadata": {
    "ExecuteTime": {
     "end_time": "2024-09-17T14:13:06.271774Z",
     "start_time": "2024-09-17T14:13:06.257820Z"
    }
   },
   "cell_type": "code",
   "source": "new_cmap = plt.get_cmap('coolwarm')(norm_theta)",
   "id": "65ebf6dd36fc189a",
   "outputs": [],
   "execution_count": 122
  },
  {
   "metadata": {
    "ExecuteTime": {
     "end_time": "2024-09-17T14:13:16.259362Z",
     "start_time": "2024-09-17T14:13:14.368364Z"
    }
   },
   "cell_type": "code",
   "source": [
    "fig,ax = plt.subplots(1,1,figsize=(7.2,7.2))\n",
    "ax.imshow(img,cmap = 'gray')\n",
    "ax.scatter(all_pts[:,0],all_pts[:,1],c = new_cmap,s = 7)\n",
    "ax.axis('off')\n",
    "plt.savefig('delta theta coolwarm cmap.png',dpi = 700,transparent = True)"
   ],
   "id": "96a555e2651e5f23",
   "outputs": [],
   "execution_count": 123
  },
  {
   "metadata": {
    "ExecuteTime": {
     "end_time": "2024-09-17T14:05:45.327322Z",
     "start_time": "2024-09-17T14:05:45.243756Z"
    }
   },
   "cell_type": "code",
   "source": [
    "fig,ax = plt.subplots(1,1)\n",
    "ax.hist(norm_theta,bins=100,color = 'blue')"
   ],
   "id": "c3aa364eba50068c",
   "outputs": [
    {
     "data": {
      "text/plain": [
       "(array([ 3.,  5., 11.,  8.,  9., 10.,  8., 11., 10.,  9., 20., 12., 20.,\n",
       "        16., 16., 21., 24., 13., 22., 21., 16., 21., 28., 29., 34., 28.,\n",
       "        30., 26., 30., 35., 49., 37., 40., 44., 43., 46., 49., 55., 61.,\n",
       "        49., 59., 49., 76., 54., 68., 65., 75., 79., 92., 90., 85., 95.,\n",
       "        65., 85., 64., 73., 52., 59., 72., 68., 63., 54., 54., 67., 57.,\n",
       "        50., 49., 39., 33., 44., 44., 36., 37., 25., 27., 15., 21., 21.,\n",
       "        19., 24., 20., 24., 20., 11., 14., 16., 14., 12., 16., 14.,  9.,\n",
       "        17.,  8., 12.,  8.,  8., 10.,  7.,  4.,  2.]),\n",
       " array([0.        , 0.01993667, 0.03987333, 0.05981   , 0.07974666,\n",
       "        0.09968333, 0.11962   , 0.13955666, 0.15949333, 0.17942999,\n",
       "        0.19936666, 0.21930332, 0.23923999, 0.25917667, 0.27911332,\n",
       "        0.29905   , 0.31898665, 0.33892334, 0.35885999, 0.37879667,\n",
       "        0.39873332, 0.41867   , 0.43860665, 0.45854333, 0.47847998,\n",
       "        0.49841666, 0.51835334, 0.53829002, 0.55822664, 0.57816333,\n",
       "        0.59810001, 0.61803669, 0.63797331, 0.65790999, 0.67784667,\n",
       "        0.69778335, 0.71771997, 0.73765665, 0.75759333, 0.77753001,\n",
       "        0.79746664, 0.81740332, 0.83734   , 0.85727668, 0.8772133 ,\n",
       "        0.89714998, 0.91708666, 0.93702334, 0.95695996, 0.97689664,\n",
       "        0.99683332, 1.01677001, 1.03670669, 1.05664337, 1.07658005,\n",
       "        1.09651661, 1.11645329, 1.13638997, 1.15632665, 1.17626333,\n",
       "        1.19620001, 1.21613669, 1.23607337, 1.25600994, 1.27594662,\n",
       "        1.2958833 , 1.31581998, 1.33575666, 1.35569334, 1.37563002,\n",
       "        1.3955667 , 1.41550326, 1.43543994, 1.45537663, 1.47531331,\n",
       "        1.49524999, 1.51518667, 1.53512335, 1.55506003, 1.57499671,\n",
       "        1.59493327, 1.61486995, 1.63480663, 1.65474331, 1.67467999,\n",
       "        1.69461668, 1.71455336, 1.73449004, 1.7544266 , 1.77436328,\n",
       "        1.79429996, 1.81423664, 1.83417332, 1.85411   , 1.87404668,\n",
       "        1.89398336, 1.91391993, 1.93385661, 1.95379329, 1.97372997,\n",
       "        1.99366665]),\n",
       " <BarContainer object of 100 artists>)"
      ]
     },
     "execution_count": 112,
     "metadata": {},
     "output_type": "execute_result"
    }
   ],
   "execution_count": 112
  },
  {
   "metadata": {
    "ExecuteTime": {
     "end_time": "2024-09-17T13:49:28.349384Z",
     "start_time": "2024-09-17T13:49:28.295564Z"
    }
   },
   "cell_type": "code",
   "source": [
    "fig,ax = plt.subplots(1,1)\n",
    "ax.hist(np.mean(select_theta2,axis = 1),bins = 20)"
   ],
   "id": "472aa0e8586fcf0",
   "outputs": [
    {
     "data": {
      "text/plain": [
       "(array([ 2.,  3.,  1.,  3.,  1.,  4.,  4.,  5.,  5., 12., 12.,  4.,  7.,\n",
       "         5.,  2.,  0.,  1.,  2.,  1.,  2.]),\n",
       " array([-1.85589659, -1.66556358, -1.47523069, -1.28489769, -1.09456468,\n",
       "        -0.90423179, -0.71389878, -0.52356583, -0.33323285, -0.14289989,\n",
       "         0.04743308,  0.23776604,  0.42809901,  0.61843199,  0.80876493,\n",
       "         0.99909794,  1.18943083,  1.37976384,  1.57009685,  1.76042974,\n",
       "         1.95076275]),\n",
       " <BarContainer object of 20 artists>)"
      ]
     },
     "execution_count": 100,
     "metadata": {},
     "output_type": "execute_result"
    }
   ],
   "execution_count": 100
  },
  {
   "metadata": {
    "ExecuteTime": {
     "end_time": "2024-09-17T13:45:46.553740Z",
     "start_time": "2024-09-17T13:45:46.474015Z"
    }
   },
   "cell_type": "code",
   "source": [
    "fig, ax = plt.subplots(1,1)\n",
    "ax.imshow(img,cmap = 'gray')\n",
    "for p1 in pts1[indices]:\n",
    "    ax.scatter(p1[0],p1[1],color = 'red',s = 7)\n",
    "ax.scatter(p[0],p[1],color = 'b',s = 7)"
   ],
   "id": "3f46997170cf094a",
   "outputs": [
    {
     "data": {
      "text/plain": [
       "<matplotlib.collections.PathCollection at 0x1792b38dd50>"
      ]
     },
     "execution_count": 91,
     "metadata": {},
     "output_type": "execute_result"
    }
   ],
   "execution_count": 91
  },
  {
   "metadata": {
    "ExecuteTime": {
     "end_time": "2024-09-17T13:42:02.775392Z",
     "start_time": "2024-09-17T13:42:02.768416Z"
    }
   },
   "cell_type": "code",
   "source": "pts1.shape",
   "id": "c91834a67cbe0659",
   "outputs": [
    {
     "data": {
      "text/plain": [
       "(4114, 2)"
      ]
     },
     "execution_count": 76,
     "metadata": {},
     "output_type": "execute_result"
    }
   ],
   "execution_count": 76
  }
 ],
 "metadata": {
  "kernelspec": {
   "display_name": "Python 3",
   "language": "python",
   "name": "python3"
  },
  "language_info": {
   "codemirror_mode": {
    "name": "ipython",
    "version": 2
   },
   "file_extension": ".py",
   "mimetype": "text/x-python",
   "name": "python",
   "nbconvert_exporter": "python",
   "pygments_lexer": "ipython2",
   "version": "2.7.6"
  }
 },
 "nbformat": 4,
 "nbformat_minor": 5
}
