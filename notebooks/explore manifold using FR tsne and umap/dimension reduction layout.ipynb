{
 "cells": [
  {
   "cell_type": "code",
   "id": "initial_id",
   "metadata": {
    "collapsed": true,
    "ExecuteTime": {
     "end_time": "2024-09-11T15:05:47.569265Z",
     "start_time": "2024-09-11T15:05:47.550333Z"
    }
   },
   "source": [
    "%matplotlib qt\n",
    "import numpy as np\n",
    "import matplotlib.pyplot as plt\n",
    "from matplotlib.colors import hsv_to_rgb\n",
    "from mtflearn.clustering import gmm_lbs\n",
    "from mtflearn.io import load_image\n",
    "from stemplot import imshow, colors_from_lbs\n",
    "from mtflearn.features import ZPs, get_characteristic_length, local_max, KeyPoints\n",
    "from mtflearn.utils import normalize_image, remove_bg\n",
    "from mtflearn.manifold import ForceGraph8\n",
    "from sklearn.manifold import TSNE as tsne\n",
    "from stemplot.colors import color_palette,xy2colors\n",
    "from skimage.transform import resize\n",
    "from stemplot.interactive import interactive_clusters\n",
    "import umap"
   ],
   "outputs": [],
   "execution_count": 23
  },
  {
   "metadata": {
    "ExecuteTime": {
     "end_time": "2024-09-11T14:00:00.779614Z",
     "start_time": "2024-09-11T14:00:00.676314Z"
    }
   },
   "cell_type": "code",
   "source": [
    "img = load_image('ADF2_27.dm4')\n",
    "pts = np.load('Co 3 pts.npy')\n",
    "lbs = np.load('Co 3 lbs.npy').astype(int)"
   ],
   "id": "f77c352da5f537d",
   "outputs": [],
   "execution_count": 2
  },
  {
   "metadata": {
    "ExecuteTime": {
     "end_time": "2024-09-11T14:00:00.795555Z",
     "start_time": "2024-09-11T14:00:00.780604Z"
    }
   },
   "cell_type": "code",
   "source": [
    "if img.shape[0] == 2048:\n",
    "    img = resize(img, (1024, 1024), order=0)\n",
    "img = normalize_image(img)\n",
    "mask1 = np.logical_or(lbs==0, lbs==1)\n",
    "mask2 = np.logical_or(lbs==2, lbs==3)\n",
    "size = 29"
   ],
   "id": "53d2587904fd2095",
   "outputs": [],
   "execution_count": 3
  },
  {
   "metadata": {
    "ExecuteTime": {
     "end_time": "2024-09-11T14:00:00.858980Z",
     "start_time": "2024-09-11T14:00:00.796552Z"
    }
   },
   "cell_type": "code",
   "source": [
    "kp = KeyPoints(pts, img, size)\n",
    "ps = kp.extract_patches(size)\n",
    "zps = ZPs(n_max=12, size=ps.shape[1])\n",
    "moments = zps.fit_transform(ps)"
   ],
   "id": "807622f8d3fc2347",
   "outputs": [],
   "execution_count": 4
  },
  {
   "metadata": {},
   "cell_type": "markdown",
   "source": "### TSNE",
   "id": "edc0b22ff72cdc42"
  },
  {
   "metadata": {
    "ExecuteTime": {
     "end_time": "2024-09-11T14:00:01.727245Z",
     "start_time": "2024-09-11T14:00:01.715284Z"
    }
   },
   "cell_type": "code",
   "source": "tsne_X1 = X1 = (moments.data)[mask1][:, 1:]",
   "id": "e2830f245e199c2a",
   "outputs": [],
   "execution_count": 5
  },
  {
   "metadata": {
    "ExecuteTime": {
     "end_time": "2024-09-11T14:00:13.101420Z",
     "start_time": "2024-09-11T14:00:02.258708Z"
    }
   },
   "cell_type": "code",
   "source": "tsne_res = tsne(n_components=2).fit_transform(tsne_X1)",
   "id": "7a7682a08f891603",
   "outputs": [],
   "execution_count": 6
  },
  {
   "metadata": {
    "ExecuteTime": {
     "end_time": "2024-09-11T14:00:13.177386Z",
     "start_time": "2024-09-11T14:00:13.102921Z"
    }
   },
   "cell_type": "code",
   "source": "tsne_lbs = gmm_lbs(tsne_res,10)",
   "id": "ef25551dcb5e7fb3",
   "outputs": [],
   "execution_count": 7
  },
  {
   "metadata": {
    "ExecuteTime": {
     "end_time": "2024-09-11T14:00:14.612769Z",
     "start_time": "2024-09-11T14:00:13.930325Z"
    }
   },
   "cell_type": "code",
   "source": [
    "app = interactive_clusters(tsne_res, img, pts[mask1], ps[mask1], lbs=tsne_lbs, s=1)\n",
    "plt.savefig('tsne.png',transparent=True)"
   ],
   "id": "b566eac5b1d12d8c",
   "outputs": [],
   "execution_count": 8
  },
  {
   "metadata": {
    "ExecuteTime": {
     "end_time": "2024-09-11T14:44:07.240929Z",
     "start_time": "2024-09-11T14:44:05.339836Z"
    }
   },
   "cell_type": "code",
   "source": [
    "fig,ax = plt.subplots(figsize=(7.2,7.2))\n",
    "ax.imshow(img,cmap = 'gray')\n",
    "ax.scatter(pts[mask1][:,0],pts[mask1][:,1],c = tsne_lbs,cmap = 'tab10',s=7)\n",
    "ax.axis('off')\n",
    "plt.savefig('img with tsne color.png',dpi = 700,transparent=True)"
   ],
   "id": "91c85347c2c1dd03",
   "outputs": [],
   "execution_count": 18
  },
  {
   "metadata": {
    "ExecuteTime": {
     "end_time": "2024-09-11T05:38:05.657244Z",
     "start_time": "2024-09-11T05:38:03.635820Z"
    }
   },
   "cell_type": "code",
   "source": [
    "fig,ax = plt.subplots(2,5, figsize=(15,5.5))\n",
    "for i in range(10):\n",
    "    select_ps = np.mean(ps[mask1][tsne_lbs == i],axis = 0)\n",
    "    ax[i//5,i%5].imshow(select_ps,cmap= color_palette('C{}'.format(i)))\n",
    "    ax[i//5,i%5].axis('off')\n",
    "plt.savefig('tsne ps.png',dpi = 700,transparent=True)"
   ],
   "id": "1d68af49bbc52a84",
   "outputs": [],
   "execution_count": 18
  },
  {
   "metadata": {
    "ExecuteTime": {
     "end_time": "2024-09-11T03:26:26.695063Z",
     "start_time": "2024-09-11T03:26:26.619614Z"
    }
   },
   "cell_type": "code",
   "source": "imshow(select_ps,cmap= color_palette('C0'))",
   "id": "88955a1f8fc8ff7c",
   "outputs": [
    {
     "data": {
      "text/plain": [
       "<matplotlib.image.AxesImage at 0x23251091360>"
      ]
     },
     "execution_count": 19,
     "metadata": {},
     "output_type": "execute_result"
    }
   ],
   "execution_count": 19
  },
  {
   "metadata": {},
   "cell_type": "markdown",
   "source": "### FR",
   "id": "993904d4e91cb527"
  },
  {
   "metadata": {
    "ExecuteTime": {
     "end_time": "2024-09-11T05:38:12.633426Z",
     "start_time": "2024-09-11T05:38:12.624450Z"
    }
   },
   "cell_type": "code",
   "source": [
    "X = moments.select([0]).data\n",
    "FR_X1 = X[mask1][:, 1:]"
   ],
   "id": "c5ab96e3999f37ae",
   "outputs": [],
   "execution_count": 19
  },
  {
   "metadata": {
    "ExecuteTime": {
     "end_time": "2024-09-11T05:38:15.006571Z",
     "start_time": "2024-09-11T05:38:13.109008Z"
    }
   },
   "cell_type": "code",
   "source": [
    "fg = ForceGraph8(X = FR_X1,\n",
    "                 n_neighbors=5,\n",
    "                 init_mode = 'pca',\n",
    "                 num_iterations = 100,\n",
    "                 num_negative_samples=5,\n",
    "                 force_params1=(0, 2, 1, 1),\n",
    "                 force_params2=(2, 5, 5, 1),\n",
    "                 divide=0.5)\n",
    "\n",
    "from time import time\n",
    "t0 = time()\n",
    "FR_res = fg.fit_transform(FR_X1)"
   ],
   "id": "602f47536a261681",
   "outputs": [
    {
     "name": "stdout",
     "output_type": "stream",
     "text": [
      "Construct graph from data...\n",
      "Initialize 2-d embedding using PCA layout...\n"
     ]
    }
   ],
   "execution_count": 20
  },
  {
   "metadata": {
    "ExecuteTime": {
     "end_time": "2024-09-11T05:38:15.922799Z",
     "start_time": "2024-09-11T05:38:15.829834Z"
    }
   },
   "cell_type": "code",
   "source": "FR_lbs = gmm_lbs(FR_res,10)",
   "id": "c03f1a9719161429",
   "outputs": [],
   "execution_count": 21
  },
  {
   "metadata": {
    "ExecuteTime": {
     "end_time": "2024-09-11T03:37:44.320230Z",
     "start_time": "2024-09-11T03:37:44.043430Z"
    }
   },
   "cell_type": "code",
   "source": [
    "app = interactive_clusters(FR_res, img, pts[mask1], ps[mask1], lbs=FR_lbs, s=1)\n",
    "plt.savefig('fr.png',transparent=True)"
   ],
   "id": "964415497ae832af",
   "outputs": [],
   "execution_count": 44
  },
  {
   "metadata": {
    "ExecuteTime": {
     "end_time": "2024-09-11T03:38:18.487990Z",
     "start_time": "2024-09-11T03:38:16.736762Z"
    }
   },
   "cell_type": "code",
   "source": [
    "fig,ax = plt.subplots(figsize=(7.2,7.2))\n",
    "ax.imshow(img,cmap = 'gray')\n",
    "ax.scatter(pts[mask1][:,0],pts[mask1][:,1],c = FR_lbs,cmap = 'tab10',s=7)\n",
    "ax.axis('off')\n",
    "plt.savefig('img with FR color.png',dpi = 700,transparent=True)"
   ],
   "id": "a7098ac73b70f58f",
   "outputs": [],
   "execution_count": 45
  },
  {
   "metadata": {
    "ExecuteTime": {
     "end_time": "2024-09-11T05:38:34.320663Z",
     "start_time": "2024-09-11T05:38:32.358808Z"
    }
   },
   "cell_type": "code",
   "source": [
    "fig,ax = plt.subplots(2,5, figsize=(15,5.5))\n",
    "for i in range(10):\n",
    "    select_ps = np.mean(ps[mask1][FR_lbs == i],axis = 0)\n",
    "    ax[i//5,i%5].imshow(select_ps,cmap= color_palette('C{}'.format(i)))\n",
    "    ax[i//5,i%5].axis('off')\n",
    "plt.savefig('FR ps.png',dpi = 700,transparent=True)"
   ],
   "id": "bd664f8fa15df",
   "outputs": [],
   "execution_count": 22
  },
  {
   "metadata": {},
   "cell_type": "code",
   "outputs": [],
   "execution_count": null,
   "source": "",
   "id": "c3bea7ac1ad68795"
  },
  {
   "metadata": {},
   "cell_type": "markdown",
   "source": "### umap",
   "id": "eeffdf5d84bd9a9b"
  },
  {
   "metadata": {
    "ExecuteTime": {
     "end_time": "2024-09-11T05:32:59.745938Z",
     "start_time": "2024-09-11T05:32:40.746206Z"
    }
   },
   "cell_type": "code",
   "source": [
    "umap_X1 = X1 = (moments.data)[mask1][:, 1:]\n",
    "umap_res = umap.UMAP(n_components=2).fit_transform(umap_X1)"
   ],
   "id": "7bc562634e43b288",
   "outputs": [],
   "execution_count": 6
  },
  {
   "metadata": {
    "ExecuteTime": {
     "end_time": "2024-09-11T05:33:21.954655Z",
     "start_time": "2024-09-11T05:33:21.841482Z"
    }
   },
   "cell_type": "code",
   "source": "umap_lbs = gmm_lbs(umap_res,10)",
   "id": "3ea9693b12d78175",
   "outputs": [],
   "execution_count": 7
  },
  {
   "metadata": {
    "ExecuteTime": {
     "end_time": "2024-09-11T05:33:40.125222Z",
     "start_time": "2024-09-11T05:33:39.487542Z"
    }
   },
   "cell_type": "code",
   "source": [
    "app = interactive_clusters(umap_res, img, pts[mask1], ps[mask1], lbs=umap_lbs, s=1)\n",
    "plt.savefig('umap.png',transparent=True)"
   ],
   "id": "32b61475e9afc34f",
   "outputs": [],
   "execution_count": 8
  },
  {
   "metadata": {
    "ExecuteTime": {
     "end_time": "2024-09-11T05:34:12.283070Z",
     "start_time": "2024-09-11T05:34:10.195604Z"
    }
   },
   "cell_type": "code",
   "source": [
    "fig,ax = plt.subplots(figsize=(7.2,7.2))\n",
    "ax.imshow(img,cmap = 'gray')\n",
    "ax.scatter(pts[mask1][:,0],pts[mask1][:,1],c = umap_lbs,cmap = 'tab10',s=7)\n",
    "ax.axis('off')\n",
    "plt.savefig('img with umap color.png',dpi = 700,transparent=True)"
   ],
   "id": "c4bc1cf00a11ce98",
   "outputs": [],
   "execution_count": 9
  },
  {
   "metadata": {
    "ExecuteTime": {
     "end_time": "2024-09-11T05:36:52.540522Z",
     "start_time": "2024-09-11T05:36:50.563278Z"
    }
   },
   "cell_type": "code",
   "source": [
    "fig,ax = plt.subplots(2,5, figsize=(15,5.5))\n",
    "for i in range(10):\n",
    "    select_ps = np.mean(ps[mask1][umap_lbs == i],axis = 0)\n",
    "    ax[i//5,i%5].imshow(select_ps,cmap= color_palette('C{}'.format(i)))\n",
    "    ax[i//5,i%5].axis('off')\n",
    "plt.savefig('umap ps.png',dpi = 700,transparent=True)"
   ],
   "id": "95be2fdc3d2f7352",
   "outputs": [],
   "execution_count": 13
  },
  {
   "metadata": {},
   "cell_type": "code",
   "outputs": [],
   "execution_count": null,
   "source": "",
   "id": "9be47565fa85c0ab"
  },
  {
   "metadata": {},
   "cell_type": "code",
   "outputs": [],
   "execution_count": null,
   "source": "",
   "id": "3acb52bc70b07934"
  },
  {
   "metadata": {},
   "cell_type": "markdown",
   "source": "### ",
   "id": "7cade5f652ab26b1"
  },
  {
   "metadata": {
    "ExecuteTime": {
     "end_time": "2024-09-11T15:11:05.989691Z",
     "start_time": "2024-09-11T15:11:05.976735Z"
    }
   },
   "cell_type": "code",
   "source": [
    "def xy2colors_fix_raduis(xy, v=0.9, return_rgb=True):\n",
    "    # Calculate the angles from xy coordinates\n",
    "    angles = (np.arctan2(xy[:, 1], xy[:, 0]) + np.pi) / (2 * np.pi)\n",
    "\n",
    "    # Since we want colors to vary only with angle, we create a constant saturation\n",
    "    # and use the same value for brightness.\n",
    "    # The saturation here is set to 1 for maximum color intensity.\n",
    "    saturation = np.ones_like(angles)  # S = 1 for all points\n",
    "    value = np.ones_like(angles) * v   # V = v for all points\n",
    "\n",
    "    # Construct the HSV color representation\n",
    "    hsv_colors = np.vstack([angles, saturation, value]).T\n",
    "\n",
    "    # Convert to RGB if required\n",
    "    if return_rgb:\n",
    "        return hsv_to_rgb(hsv_colors)\n",
    "    else:\n",
    "        return hsv_colors\n",
    "\n",
    "def xy2colors_fix_angle(xy, v=0.9, return_rgb=True):\n",
    "    # Compute the radius and normalize it\n",
    "    radius = np.hypot(xy[:, 0], xy[:, 1])\n",
    "    max_radius = np.max(radius)\n",
    "    if max_radius > 0:\n",
    "        radius = radius / max_radius\n",
    "\n",
    "    # Since we want colors to vary only with radius, we create a constant hue\n",
    "    # and use the same value for brightness.\n",
    "    # The hue here is set based on the normalized radius.\n",
    "    hue = radius  # H = radius for all points\n",
    "    saturation = np.ones_like(radius)  # S = 1 for all points\n",
    "    value = np.ones_like(radius) * v   # V = v for all points\n",
    "\n",
    "    # Construct the HSV color representation\n",
    "    hsv_colors = np.vstack([hue, saturation, value]).T\n",
    "\n",
    "    # Convert to RGB if required\n",
    "    if return_rgb:\n",
    "        return hsv_to_rgb(hsv_colors)\n",
    "    else:\n",
    "        return hsv_colors"
   ],
   "id": "2bd2fefbfaa1633f",
   "outputs": [],
   "execution_count": 29
  },
  {
   "metadata": {},
   "cell_type": "code",
   "outputs": [],
   "execution_count": null,
   "source": "",
   "id": "710c4d9d952ae97a"
  },
  {
   "metadata": {
    "ExecuteTime": {
     "end_time": "2024-09-11T14:40:38.946852Z",
     "start_time": "2024-09-11T14:40:38.932898Z"
    }
   },
   "cell_type": "code",
   "source": "polar = xy2colors(tsne_res, v=0.9, return_rgb=True)",
   "id": "63e36ec0684b6e07",
   "outputs": [],
   "execution_count": 10
  },
  {
   "metadata": {
    "ExecuteTime": {
     "end_time": "2024-09-11T14:44:30.966539Z",
     "start_time": "2024-09-11T14:44:30.753042Z"
    }
   },
   "cell_type": "code",
   "source": [
    "fig,ax = plt.subplots(figsize=(7.2,7.2))\n",
    "ax.scatter(tsne_res[:,0],tsne_res[:,1],c=polar,s=5)\n",
    "plt.savefig('tsne polar.png',transparent=True)"
   ],
   "id": "c5489a7559bb7d05",
   "outputs": [],
   "execution_count": 20
  },
  {
   "metadata": {
    "ExecuteTime": {
     "end_time": "2024-09-11T14:44:16.456130Z",
     "start_time": "2024-09-11T14:44:14.546440Z"
    }
   },
   "cell_type": "code",
   "source": [
    "fig,ax = plt.subplots(figsize=(7.2,7.2))\n",
    "ax.imshow(img,cmap = 'gray')\n",
    "ax.scatter(pts[mask1][:,0],pts[mask1][:,1],c = polar,s=7)\n",
    "ax.axis('off')\n",
    "plt.savefig('img with tsne polar color.png',dpi = 700,transparent=True)"
   ],
   "id": "370dc853c6364a9f",
   "outputs": [],
   "execution_count": 19
  },
  {
   "metadata": {
    "ExecuteTime": {
     "end_time": "2024-09-11T15:05:55.082548Z",
     "start_time": "2024-09-11T15:05:55.066405Z"
    }
   },
   "cell_type": "code",
   "source": "r_polar = xy2colors_fix_raduis(tsne_res,v = 0.9,return_rgb=True)",
   "id": "7cbe6c2f1ed6db80",
   "outputs": [],
   "execution_count": 24
  },
  {
   "metadata": {
    "ExecuteTime": {
     "end_time": "2024-09-11T15:06:39.926876Z",
     "start_time": "2024-09-11T15:06:39.712253Z"
    }
   },
   "cell_type": "code",
   "source": [
    "fig,ax = plt.subplots(figsize=(7.2,7.2))\n",
    "ax.scatter(tsne_res[:,0],tsne_res[:,1],c=r_polar,s=5)\n",
    "plt.savefig('tsne polar fix raduis.png',transparent=True)"
   ],
   "id": "aa6a0e3ee01b80f5",
   "outputs": [],
   "execution_count": 26
  },
  {
   "metadata": {
    "ExecuteTime": {
     "end_time": "2024-09-11T15:07:03.084886Z",
     "start_time": "2024-09-11T15:07:01.099864Z"
    }
   },
   "cell_type": "code",
   "source": [
    "fig,ax = plt.subplots(figsize=(7.2,7.2))\n",
    "ax.imshow(img,cmap = 'gray')\n",
    "ax.scatter(pts[mask1][:,0],pts[mask1][:,1],c = r_polar,s=7)\n",
    "ax.axis('off')\n",
    "plt.savefig('img with tsne polar color fix radius.png',dpi = 700,transparent=True)"
   ],
   "id": "e30f676289a12d1d",
   "outputs": [],
   "execution_count": 27
  },
  {
   "metadata": {
    "ExecuteTime": {
     "end_time": "2024-09-11T15:11:08.355433Z",
     "start_time": "2024-09-11T15:11:08.342476Z"
    }
   },
   "cell_type": "code",
   "source": "a_polar = xy2colors_fix_angle(tsne_res,v = 0.9,return_rgb=True)",
   "id": "cf6cf3e5d1e2c351",
   "outputs": [],
   "execution_count": 30
  },
  {
   "metadata": {
    "ExecuteTime": {
     "end_time": "2024-09-11T15:11:44.967812Z",
     "start_time": "2024-09-11T15:11:44.775920Z"
    }
   },
   "cell_type": "code",
   "source": [
    "fig,ax = plt.subplots(figsize=(7.2,7.2))\n",
    "ax.scatter(tsne_res[:,0],tsne_res[:,1],c=a_polar,s=5)\n",
    "plt.savefig('tsne polar fix angle.png',transparent=True)"
   ],
   "id": "b9538d073fdac44e",
   "outputs": [],
   "execution_count": 32
  },
  {
   "metadata": {
    "ExecuteTime": {
     "end_time": "2024-09-11T15:11:57.828063Z",
     "start_time": "2024-09-11T15:11:55.863001Z"
    }
   },
   "cell_type": "code",
   "source": [
    "fig,ax = plt.subplots(figsize=(7.2,7.2))\n",
    "ax.imshow(img,cmap = 'gray')\n",
    "ax.scatter(pts[mask1][:,0],pts[mask1][:,1],c = a_polar,s=7)\n",
    "ax.axis('off')\n",
    "plt.savefig('img with tsne polar color fix angle.png',dpi = 700,transparent=True)"
   ],
   "id": "53d6fe20b0b7c113",
   "outputs": [],
   "execution_count": 33
  }
 ],
 "metadata": {
  "kernelspec": {
   "display_name": "Python 3",
   "language": "python",
   "name": "python3"
  },
  "language_info": {
   "codemirror_mode": {
    "name": "ipython",
    "version": 2
   },
   "file_extension": ".py",
   "mimetype": "text/x-python",
   "name": "python",
   "nbconvert_exporter": "python",
   "pygments_lexer": "ipython2",
   "version": "2.7.6"
  }
 },
 "nbformat": 4,
 "nbformat_minor": 5
}
