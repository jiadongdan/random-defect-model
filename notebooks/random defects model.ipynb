{
 "cells": [
  {
   "cell_type": "code",
   "id": "initial_id",
   "metadata": {
    "collapsed": true,
    "ExecuteTime": {
     "end_time": "2024-07-19T07:03:19.852740Z",
     "start_time": "2024-07-19T07:03:16.344335Z"
    }
   },
   "source": [
    "%matplotlib qt\n",
    "import numpy as np\n",
    "import matplotlib.pyplot as plt "
   ],
   "outputs": [],
   "execution_count": 1
  },
  {
   "metadata": {
    "ExecuteTime": {
     "end_time": "2024-07-19T07:03:29.170381Z",
     "start_time": "2024-07-19T07:03:22.362424Z"
    }
   },
   "cell_type": "code",
   "source": "from randmx2.random import VacRandomModel",
   "id": "da5590ef5a043d8a",
   "outputs": [],
   "execution_count": 2
  },
  {
   "metadata": {
    "ExecuteTime": {
     "end_time": "2024-07-19T07:03:32.826474Z",
     "start_time": "2024-07-19T07:03:30.883205Z"
    }
   },
   "cell_type": "code",
   "source": [
    "fig, ax = plt.subplots(1, 1, figsize=(7.2, 7.2))\n",
    "\n",
    "density = 4.5*1e13\n",
    "dopant_scale = 2\n",
    "a = 3.157\n",
    "size = 300\n",
    "model = VacRandomModel(a=a, size=size, density=density, crop=True)\n",
    "model.plot(ax)\n",
    "model.count_dopant_vac_pairs()"
   ],
   "id": "a57a24b3e87e6323",
   "outputs": [
    {
     "data": {
      "text/plain": [
       "(105, 476)"
      ]
     },
     "execution_count": 3,
     "metadata": {},
     "output_type": "execute_result"
    }
   ],
   "execution_count": 3
  },
  {
   "metadata": {},
   "cell_type": "code",
   "outputs": [],
   "execution_count": null,
   "source": "",
   "id": "870557eccb729ef8"
  }
 ],
 "metadata": {
  "kernelspec": {
   "display_name": "Python 3",
   "language": "python",
   "name": "python3"
  },
  "language_info": {
   "codemirror_mode": {
    "name": "ipython",
    "version": 2
   },
   "file_extension": ".py",
   "mimetype": "text/x-python",
   "name": "python",
   "nbconvert_exporter": "python",
   "pygments_lexer": "ipython2",
   "version": "2.7.6"
  }
 },
 "nbformat": 4,
 "nbformat_minor": 5
}
