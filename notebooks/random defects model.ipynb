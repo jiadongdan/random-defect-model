{
 "cells": [
  {
   "cell_type": "code",
   "id": "initial_id",
   "metadata": {
    "collapsed": true,
    "ExecuteTime": {
     "end_time": "2024-07-19T07:06:50.440156Z",
     "start_time": "2024-07-19T07:06:50.419136Z"
    }
   },
   "source": [
    "%matplotlib qt\n",
    "import numpy as np\n",
    "import matplotlib.pyplot as plt "
   ],
   "outputs": [],
   "execution_count": 2
  },
  {
   "metadata": {
    "ExecuteTime": {
     "end_time": "2024-07-19T07:06:53.329274Z",
     "start_time": "2024-07-19T07:06:51.596128Z"
    }
   },
   "cell_type": "code",
   "source": [
    "from randmx2.random import VacRandomModel\n",
    "from randmx2 import get_rdf_ij"
   ],
   "id": "da5590ef5a043d8a",
   "outputs": [],
   "execution_count": 3
  },
  {
   "metadata": {
    "ExecuteTime": {
     "end_time": "2024-07-19T07:14:04.856079Z",
     "start_time": "2024-07-19T07:14:03.630671Z"
    }
   },
   "cell_type": "code",
   "source": [
    "fig, ax = plt.subplots(1, 1, figsize=(7.2, 7.2))\n",
    "\n",
    "density = 2*1e13\n",
    "dopant_scale = 2\n",
    "a = 3.157\n",
    "size = 300\n",
    "model = VacRandomModel(a=a, size=size, density=density, crop=True)\n",
    "model.plot(ax)\n",
    "model.count_dopant_vac_pairs()"
   ],
   "id": "a57a24b3e87e6323",
   "outputs": [
    {
     "data": {
      "text/plain": [
       "(20, 212)"
      ]
     },
     "execution_count": 9,
     "metadata": {},
     "output_type": "execute_result"
    }
   ],
   "execution_count": 9
  },
  {
   "metadata": {
    "ExecuteTime": {
     "end_time": "2024-07-19T07:13:04.130403Z",
     "start_time": "2024-07-19T07:13:04.099909Z"
    }
   },
   "cell_type": "code",
   "source": [
    "pts_vac = model.vac[:, 0:2]\n",
    "pts_dopant = model.dopant[:, 0:2]\n",
    "\n",
    "pts_vac.shape, pts_dopant.shape"
   ],
   "id": "870557eccb729ef8",
   "outputs": [
    {
     "data": {
      "text/plain": [
       "((448, 2), (212, 2))"
      ]
     },
     "execution_count": 8,
     "metadata": {},
     "output_type": "execute_result"
    }
   ],
   "execution_count": 8
  },
  {
   "metadata": {
    "ExecuteTime": {
     "end_time": "2024-07-19T07:18:00.519804Z",
     "start_time": "2024-07-19T07:18:00.488804Z"
    }
   },
   "cell_type": "code",
   "source": [
    "import numpy as np\n",
    "from sklearn.neighbors import NearestNeighbors\n",
    "\n",
    "\n",
    "def get_pts_selected(pts, rmax=30):\n",
    "    xmin = pts[:, 0].min() + rmax\n",
    "    xmax = pts[:, 0].max() - rmax\n",
    "\n",
    "    ymin = pts[:, 1].min() + rmax\n",
    "    ymax = pts[:, 1].max() - rmax\n",
    "\n",
    "    mask1 = np.logical_and(pts[:, 0] > xmin, pts[:, 0] < xmax)\n",
    "    mask2 = np.logical_and(pts[:, 1] > ymin, pts[:, 1] < ymax)\n",
    "    mask = np.logical_and(mask1, mask2)\n",
    "    area = (xmax - xmin) * (ymax - ymin)\n",
    "    return pts[mask], area\n",
    "\n",
    "\n",
    "def get_rdf(pts, rmax=30, bins=150, fixed_bins=False, alpha=0.1):\n",
    "    pts_, area = get_pts_selected(pts, rmax=rmax)\n",
    "    nbrs = NearestNeighbors(radius=rmax, algorithm='ball_tree').fit(pts_)\n",
    "    d, inds = nbrs.radius_neighbors(pts)\n",
    "    d = np.hstack(d)\n",
    "    # d = d[d>0]\n",
    "    N = len(pts_)\n",
    "\n",
    "    if fixed_bins:\n",
    "        bins = np.linspace(0, rmax, bins)\n",
    "\n",
    "    cnts, bin_edges = np.histogram(d, bins=bins)\n",
    "    R = 0.5 * (bin_edges[1:] + bin_edges[0:-1])\n",
    "    dr = np.diff(bin_edges)[0]\n",
    "    rho = area / N\n",
    "    y = cnts / (2 * np.pi * R * dr) * rho / N\n",
    "    y[0] = 0\n",
    "    return R, y\n",
    "\n",
    "def get_rdf_ij(pts1, pts2, rmax=30, bins=150, fixed_bins=False):\n",
    "    pts_, area = get_pts_selected(pts1, rmax=rmax)\n",
    "    nbrs = NearestNeighbors(radius=rmax, algorithm='ball_tree').fit(pts_)\n",
    "    d, inds = nbrs.radius_neighbors(pts2)\n",
    "    d = np.hstack(d)\n",
    "    # d = d[d>0]\n",
    "    N = len(pts_)\n",
    "\n",
    "    if fixed_bins:\n",
    "        bins = np.linspace(0, rmax, bins)\n",
    "\n",
    "    cnts, bin_edges = np.histogram(d, bins=bins)\n",
    "    R = 0.5 * (bin_edges[1:] + bin_edges[0:-1])\n",
    "    dr = np.diff(bin_edges)[0]\n",
    "    rho = area / N\n",
    "    y = cnts / (2 * np.pi * R * dr) * rho / N\n",
    "    y[0] = 0\n",
    "    return R, cnts\n"
   ],
   "id": "943140be7e317b70",
   "outputs": [],
   "execution_count": 23
  },
  {
   "metadata": {
    "ExecuteTime": {
     "end_time": "2024-07-19T07:18:08.522939Z",
     "start_time": "2024-07-19T07:18:08.504938Z"
    }
   },
   "cell_type": "code",
   "source": "R, y = get_rdf_ij(pts_vac, pts_dopant, rmax=50, bins=30, fixed_bins=False)",
   "id": "f643fe7ce2ed6e71",
   "outputs": [],
   "execution_count": 26
  },
  {
   "metadata": {
    "ExecuteTime": {
     "end_time": "2024-07-19T07:18:09.203466Z",
     "start_time": "2024-07-19T07:18:09.076468Z"
    }
   },
   "cell_type": "code",
   "source": "plt.bar(R, y)",
   "id": "18325b6635243406",
   "outputs": [
    {
     "data": {
      "text/plain": [
       "<BarContainer object of 30 artists>"
      ]
     },
     "execution_count": 27,
     "metadata": {},
     "output_type": "execute_result"
    }
   ],
   "execution_count": 27
  },
  {
   "metadata": {},
   "cell_type": "code",
   "outputs": [],
   "execution_count": null,
   "source": "",
   "id": "dc4efd42847095de"
  }
 ],
 "metadata": {
  "kernelspec": {
   "display_name": "Python 3",
   "language": "python",
   "name": "python3"
  },
  "language_info": {
   "codemirror_mode": {
    "name": "ipython",
    "version": 2
   },
   "file_extension": ".py",
   "mimetype": "text/x-python",
   "name": "python",
   "nbconvert_exporter": "python",
   "pygments_lexer": "ipython2",
   "version": "2.7.6"
  }
 },
 "nbformat": 4,
 "nbformat_minor": 5
}
