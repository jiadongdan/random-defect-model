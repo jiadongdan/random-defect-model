{
 "cells": [
  {
   "cell_type": "code",
   "id": "initial_id",
   "metadata": {
    "collapsed": true,
    "ExecuteTime": {
     "end_time": "2024-07-19T07:47:09.337769Z",
     "start_time": "2024-07-19T07:47:06.059296Z"
    }
   },
   "source": [
    "%matplotlib qt\n",
    "import numpy as np\n",
    "import matplotlib.pyplot as plt "
   ],
   "outputs": [],
   "execution_count": 1
  },
  {
   "metadata": {
    "ExecuteTime": {
     "end_time": "2024-07-19T07:48:35.618484Z",
     "start_time": "2024-07-19T07:48:28.841129Z"
    }
   },
   "cell_type": "code",
   "source": [
    "from randmx2.random import VacRandomModel\n",
    "from randmx2 import get_rdf_cnts"
   ],
   "id": "da5590ef5a043d8a",
   "outputs": [],
   "execution_count": 2
  },
  {
   "metadata": {
    "ExecuteTime": {
     "end_time": "2024-07-19T07:53:03.631392Z",
     "start_time": "2024-07-19T07:53:02.306443Z"
    }
   },
   "cell_type": "code",
   "source": [
    "fig, ax = plt.subplots(1, 1, figsize=(7.2, 7.2))\n",
    "\n",
    "density = 2*1e13\n",
    "dopant_scale = 3\n",
    "a = 3.157\n",
    "size = 300\n",
    "model = VacRandomModel(a=a, size=size, density=density, crop=True)\n",
    "model.plot(ax)\n",
    "model.count_dopant_vac_pairs()"
   ],
   "id": "a57a24b3e87e6323",
   "outputs": [
    {
     "data": {
      "text/plain": [
       "(25, 212)"
      ]
     },
     "execution_count": 20,
     "metadata": {},
     "output_type": "execute_result"
    }
   ],
   "execution_count": 20
  },
  {
   "metadata": {
    "ExecuteTime": {
     "end_time": "2024-07-19T07:53:39.648641Z",
     "start_time": "2024-07-19T07:53:39.630641Z"
    }
   },
   "cell_type": "code",
   "source": [
    "pts_vac = model.vac[:, 0:2]\n",
    "pts_dopant = model.dopant[:, 0:2]\n",
    "\n",
    "pts_vac.shape, pts_dopant.shape"
   ],
   "id": "870557eccb729ef8",
   "outputs": [
    {
     "data": {
      "text/plain": [
       "((448, 2), (212, 2))"
      ]
     },
     "execution_count": 24,
     "metadata": {},
     "output_type": "execute_result"
    }
   ],
   "execution_count": 24
  },
  {
   "metadata": {
    "ExecuteTime": {
     "end_time": "2024-07-19T09:17:16.299853Z",
     "start_time": "2024-07-19T09:17:16.125095Z"
    }
   },
   "cell_type": "code",
   "source": [
    "R, y = get_rdf_cnts(pts_vac, pts_dopant, rmax=32, bins=15, fixed_bins=False)\n",
    "plt.bar(R, y)"
   ],
   "id": "33ace8ceda62243a",
   "outputs": [
    {
     "data": {
      "text/plain": [
       "<BarContainer object of 15 artists>"
      ]
     },
     "execution_count": 27,
     "metadata": {},
     "output_type": "execute_result"
    }
   ],
   "execution_count": 27
  },
  {
   "metadata": {
    "ExecuteTime": {
     "end_time": "2024-07-19T09:52:49.955972Z",
     "start_time": "2024-07-19T09:52:49.944952Z"
    }
   },
   "cell_type": "code",
   "source": "",
   "id": "943140be7e317b70",
   "outputs": [],
   "execution_count": 27
  },
  {
   "metadata": {
    "ExecuteTime": {
     "end_time": "2024-07-19T09:52:50.146532Z",
     "start_time": "2024-07-19T09:52:50.127514Z"
    }
   },
   "cell_type": "code",
   "source": "",
   "id": "f643fe7ce2ed6e71",
   "outputs": [],
   "execution_count": 27
  },
  {
   "metadata": {
    "ExecuteTime": {
     "end_time": "2024-07-19T09:52:50.368679Z",
     "start_time": "2024-07-19T09:52:50.358678Z"
    }
   },
   "cell_type": "code",
   "source": "",
   "id": "18325b6635243406",
   "outputs": [],
   "execution_count": 27
  },
  {
   "metadata": {
    "ExecuteTime": {
     "end_time": "2024-07-19T09:52:50.480676Z",
     "start_time": "2024-07-19T09:52:50.469675Z"
    }
   },
   "cell_type": "code",
   "source": "",
   "id": "dc4efd42847095de",
   "outputs": [],
   "execution_count": 27
  },
  {
   "metadata": {},
   "cell_type": "code",
   "outputs": [],
   "execution_count": null,
   "source": "",
   "id": "30d9305e923b2e20"
  }
 ],
 "metadata": {
  "kernelspec": {
   "display_name": "Python 3",
   "language": "python",
   "name": "python3"
  },
  "language_info": {
   "codemirror_mode": {
    "name": "ipython",
    "version": 2
   },
   "file_extension": ".py",
   "mimetype": "text/x-python",
   "name": "python",
   "nbconvert_exporter": "python",
   "pygments_lexer": "ipython2",
   "version": "2.7.6"
  }
 },
 "nbformat": 4,
 "nbformat_minor": 5
}
